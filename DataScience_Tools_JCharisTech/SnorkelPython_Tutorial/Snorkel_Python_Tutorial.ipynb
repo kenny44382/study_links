{
  "nbformat": 4,
  "nbformat_minor": 0,
  "metadata": {
    "colab": {
      "name": "Snorkel Python Tutorial.ipynb",
      "provenance": [],
      "collapsed_sections": [
        "5XPGoFowvQzW",
        "lxYgUXu_raF6"
      ]
    },
    "kernelspec": {
      "name": "python3",
      "display_name": "Python 3"
    },
    "language_info": {
      "name": "python"
    }
  },
  "cells": [
    {
      "cell_type": "markdown",
      "metadata": {
        "id": "a_obZ3bocQ0J"
      },
      "source": [
        "### Snorkel Python Tutorial\n",
        "+ Labeling Function : for labeling unlabelled data\n",
        "+ Transformation Function: for data augmentation\n",
        "+ Slicing Function: for data subset selection for important dataset\n",
        "\n",
        "\n",
        "##### Main Fxns\n",
        "+ Labeling Function\n",
        "  -a labeling function is a function that outputs a label for some subset of the training dataset. \n",
        "+ Transformation Functions\n",
        "  - For data augmentation: which is the strategy of artificially augmenting existing labeled training datasets by creating transformed copies of the data points\n",
        "+ Slicing Function\n",
        "  - slicing functions (SFs), handles the reality that many datasets have certain subsets or slices that are more important than others. In Snorkel, we can write SFs to (a) monitor specific slices and (b) improve model performance over them by adding representational capacity targeted on a per-slice basis.\n",
        "\n",
        "\n",
        "#### Installation\n",
        "```bash\n",
        "pip install snorkel\n",
        "```\n",
        "#### Main Features\n",
        "+ labeling functions (LFs) in Snorkel: noisy, programmatic rules and heuristics that assign labels to unlabeled training data"
      ]
    },
    {
      "cell_type": "code",
      "metadata": {
        "id": "3iEpqJIDflad"
      },
      "source": [
        "data = [\"What would you name your boat if you had one? \",\n",
        "\"What's the closest thing to real magic? \",\n",
        "\"Who is the messiest person you know? \",\n",
        "\"What will finally break the internet? \",\n",
        "\"What's the most useless talent you have? \",\n",
        "\"What would be on the gag reel of your life? \",\n",
        "\"Where is the worst smelling place you've been?\",\n",
        "\"What Secret Do You Have That No One Else Knows Except Your Sibling/S?\"\n",
        "\"What Did You Think Was Cool Then, When You Were Young But Isn’t Cool Now?\"\n",
        "\"When Was The Last Time You Did Something And Regret Doing It?\"\n",
        "\"What Guilty Pleasure Makes You Feel Alive?\"\n",
        "\"Any fool can write code that a computer can understand. Good programmers write code that humans can understand.\",\n",
        "\"First, solve the problem. Then, write the code.\",\n",
        "\"Experience is the name everyone gives to their mistakes.\",\n",
        "\" In order to be irreplaceable, one must always be different\",\n",
        "\"Java is to JavaScript what car is to Carpet.\",\n",
        "\"Knowledge is power.\",\n",
        "\"Sometimes it pays to stay in bed on Monday, rather than spending the rest of the week debugging Monday’s code.\",\n",
        "\"Perfection is achieved not when there is nothing more to add, but rather when there is nothing more to take away.\", \n",
        "\"Ruby is rubbish! PHP is phpantastic!\",\n",
        "\" Code is like humor. When you have to explain it, it’s bad.\",\n",
        "\"Fix the cause, not the symptom.\",\n",
        "\"Optimism is an occupational hazard of programming: feedback is the treatment. \" ,\n",
        "\"When to use iterative development? You should use iterative development only on projects that you want to succeed.\",\n",
        "\"Simplicity is the soul of efficiency.\",\n",
        "\"Before software can be reusable it first has to be usable.\",\n",
        "\"Make it work, make it right, make it fast.\",\n",
        "\"Programmer: A machine that turns coffee into code.\",\n",
        "\"Computers are fast; programmers keep it slow.\",\n",
        "\"When I wrote this code, only God and I understood what I did. Now only God knows.\",\n",
        "\"A son asked his father (a programmer) why the sun rises in the east, and sets in the west. His response? It works, don’t touch!\",\n",
        "\"How many programmers does it take to change a light bulb? None, that’s a hardware problem.\",\n",
        "\"Programming is like sex: One mistake and you have to support it for the rest of your life.\",\n",
        "\"Programming can be fun, and so can cryptography; however, they should not be combined.\",\n",
        "\"Programming today is a race between software engineers striving to build bigger and better idiot-proof programs, and the Universe trying to produce bigger and better idiots. So far, the Universe is winning.\",\n",
        "\"Copy-and-Paste was programmed by programmers for programmers actually.\",\n",
        "\"Always code as if the person who ends up maintaining your code will be a violent psychopath who knows where you live.\",\n",
        "\"Debugging is twice as hard as writing the code in the first place. Therefore, if you write the code as cleverly as possible, you are, by definition, not smart enough to debug it.\",\n",
        "\"Algorithm: Word used by programmers when they don’t want to explain what they did.\",\n",
        "\"Software and cathedrals are much the same — first we build them, then we pray.\",\n",
        "\"There are two ways to write error-free programs; only the third works.\",\n",
        "\"If debugging is the process of removing bugs, then programming must be the process of putting them in.\",\n",
        "\"99 little bugs in the code. 99 little bugs in the code. Take one down, patch it around. 127 little bugs in the code …\",\n",
        "\"Remember that there is no code faster than no code.\",\n",
        "\"One man’s crappy software is another man’s full-time job.\",\n",
        "\"No code has zero defects.\",\n",
        "\"A good programmer is someone who always looks both ways before crossing a one-way street.\",\n",
        "\"Deleted code is debugged code.\",\n",
        "\"Don’t worry if it doesn’t work right. If everything did, you’d be out of a job.\",\n",
        "\"It’s not a bug — it’s an undocumented feature.\",\n",
        "\"It works on my machine.\",\n",
        "\"It compiles; ship it.\",\n",
        "\"There is no Ctrl-Z in life.\",\n",
        "\"Whitespace is never white.\",\n",
        "\"What’s your favorite way to spend a day off?\",\n",
        "\"What type of music are you into?\",\n",
        "\"What was the best vacation you ever took and why?\",\n",
        "\"Where’s the next place on your travel bucket list and why?\",\n",
        "\"What are your hobbies, and how did you get into them?\",\n",
        "\"What was your favorite age growing up?\",\n",
        "\"Was the last thing you read?\",\n",
        "\"Would you say you’re more of an extrovert or an introvert?\",\n",
        "\"What's your favorite ice cream topping?\",\n",
        "\"What was the last TV show you binge-watched?\",\n",
        "\"Are you into podcasts or do you only listen to music?\",\n",
        "\"Do you have a favorite holiday? Why or why not?\",\n",
        "\"If you could only eat one food for the rest of your life, what would it be?\",\n",
        "\"Do you like going to the movies or prefer watching at home?\",\n",
        "\"What’s your favorite sleeping position?\",\n",
        "\"What’s your go-to guilty pleasure?\",\n",
        "\"In the summer, would you rather go to the beach or go camping?\",\n",
        "\"What’s your favorite quote from a TV show/movie/book?\",\n",
        "\"How old were you when you had your first celebrity crush, and who was it?\",\n",
        "\"What's one thing that can instantly make your day better?\",\n",
        "\"Do you have any pet peeves\",\n",
        "\"What’s your favorite thing about your current job?\",\n",
        "\"What annoys you most?\",\n",
        "\"What’s the career highlight you’re most proud of?\",\n",
        "\"Do you think you’ll stay in your current gig awhile? Why or why not?\",\n",
        "\"What type of role do you want to take on after this one?\",\n",
        "\"Are you more of a work to live or a live to work type of person?\",\n",
        "\"Does your job make you feel happy and fulfilled? Why or why not?\",\n",
        "\"How would your 10-year-old self react to what you do now?\",\n",
        "\"What do you remember most about your first job?\",\n",
        "\"How old were you when you started working?\",\n",
        "\"What’s the worst job you’ve ever had?\",\n",
        "\"What originally got you interested in your current field of work?\",\n",
        "\"Have you ever had a side hustle or considered having one?\",\n",
        "\"What’s your favorite part of the workday?\",\n",
        "\"What’s the best career decision you’ve ever made?\",\n",
        "\"What’s the worst career decision you’ve ever made?\",\n",
        "\"Do you consider yourself good at networking?\"]"
      ],
      "execution_count": null,
      "outputs": []
    },
    {
      "cell_type": "code",
      "metadata": {
        "id": "9eleiHFqcDzQ"
      },
      "source": [
        "# Load EDA Pkgs\n",
        "import pandas as pd\n",
        "import numpy as np"
      ],
      "execution_count": null,
      "outputs": []
    },
    {
      "cell_type": "code",
      "metadata": {
        "colab": {
          "base_uri": "https://localhost:8080/"
        },
        "id": "mfrNU7IOfmcj",
        "outputId": "8020f24e-9b43-4481-9837-56ed3fb28652"
      },
      "source": [
        "# Len of Data\n",
        "len(data)"
      ],
      "execution_count": null,
      "outputs": [
        {
          "output_type": "execute_result",
          "data": {
            "text/plain": [
              "88"
            ]
          },
          "metadata": {},
          "execution_count": 3
        }
      ]
    },
    {
      "cell_type": "code",
      "metadata": {
        "id": "jQjIRFJPkP9e"
      },
      "source": [
        "# Shuffle data\n",
        "import random\n"
      ],
      "execution_count": null,
      "outputs": []
    },
    {
      "cell_type": "code",
      "metadata": {
        "id": "GSRl9wwHkzbc"
      },
      "source": [
        "random.shuffle(data)"
      ],
      "execution_count": null,
      "outputs": []
    },
    {
      "cell_type": "code",
      "metadata": {
        "colab": {
          "base_uri": "https://localhost:8080/"
        },
        "id": "XG4y8rZSk18H",
        "outputId": "d6983a06-4e8b-4b42-f028-2afe9626f191"
      },
      "source": [
        "data"
      ],
      "execution_count": null,
      "outputs": [
        {
          "output_type": "execute_result",
          "data": {
            "text/plain": [
              "['When I wrote this code, only God and I understood what I did. Now only God knows.',\n",
              " 'A good programmer is someone who always looks both ways before crossing a one-way street.',\n",
              " 'If you could only eat one food for the rest of your life, what would it be?',\n",
              " 'Programming today is a race between software engineers striving to build bigger and better idiot-proof programs, and the Universe trying to produce bigger and better idiots. So far, the Universe is winning.',\n",
              " 'What would you name your boat if you had one? ',\n",
              " 'Fix the cause, not the symptom.',\n",
              " 'Whitespace is never white.',\n",
              " 'Knowledge is power.',\n",
              " 'What do you remember most about your first job?',\n",
              " 'Algorithm: Word used by programmers when they don’t want to explain what they did.',\n",
              " 'Deleted code is debugged code.',\n",
              " 'Don’t worry if it doesn’t work right. If everything did, you’d be out of a job.',\n",
              " 'It’s not a bug — it’s an undocumented feature.',\n",
              " \"Where is the worst smelling place you've been?\",\n",
              " 'What Secret Do You Have That No One Else Knows Except Your Sibling/S?What Did You Think Was Cool Then, When You Were Young But Isn’t Cool Now?When Was The Last Time You Did Something And Regret Doing It?What Guilty Pleasure Makes You Feel Alive?Any fool can write code that a computer can understand. Good programmers write code that humans can understand.',\n",
              " 'What’s your favorite way to spend a day off?',\n",
              " 'When to use iterative development? You should use iterative development only on projects that you want to succeed.',\n",
              " 'No code has zero defects.',\n",
              " 'What’s the best career decision you’ve ever made?',\n",
              " 'There is no Ctrl-Z in life.',\n",
              " 'A son asked his father (a programmer) why the sun rises in the east, and sets in the west. His response? It works, don’t touch!',\n",
              " 'How would your 10-year-old self react to what you do now?',\n",
              " 'Sometimes it pays to stay in bed on Monday, rather than spending the rest of the week debugging Monday’s code.',\n",
              " 'Before software can be reusable it first has to be usable.',\n",
              " 'Does your job make you feel happy and fulfilled? Why or why not?',\n",
              " '99 little bugs in the code. 99 little bugs in the code. Take one down, patch it around. 127 little bugs in the code …',\n",
              " 'Simplicity is the soul of efficiency.',\n",
              " 'Optimism is an occupational hazard of programming: feedback is the treatment. ',\n",
              " 'What’s your favorite thing about your current job?',\n",
              " 'What’s your go-to guilty pleasure?',\n",
              " 'How many programmers does it take to change a light bulb? None, that’s a hardware problem.',\n",
              " \"What's the closest thing to real magic? \",\n",
              " 'Have you ever had a side hustle or considered having one?',\n",
              " 'Would you say you’re more of an extrovert or an introvert?',\n",
              " 'Perfection is achieved not when there is nothing more to add, but rather when there is nothing more to take away.',\n",
              " 'What was the last TV show you binge-watched?',\n",
              " 'What would be on the gag reel of your life? ',\n",
              " 'What’s your favorite sleeping position?',\n",
              " 'It compiles; ship it.',\n",
              " 'What’s the worst career decision you’ve ever made?',\n",
              " 'Are you into podcasts or do you only listen to music?',\n",
              " 'What originally got you interested in your current field of work?',\n",
              " 'What annoys you most?',\n",
              " 'Software and cathedrals are much the same — first we build them, then we pray.',\n",
              " 'What’s your favorite part of the workday?',\n",
              " 'Make it work, make it right, make it fast.',\n",
              " \"What's one thing that can instantly make your day better?\",\n",
              " 'What was your favorite age growing up?',\n",
              " 'Do you like going to the movies or prefer watching at home?',\n",
              " ' In order to be irreplaceable, one must always be different',\n",
              " 'What type of role do you want to take on after this one?',\n",
              " 'What’s the worst job you’ve ever had?',\n",
              " \"What's your favorite ice cream topping?\",\n",
              " 'Do you have any pet peeves',\n",
              " 'How old were you when you started working?',\n",
              " \"What's the most useless talent you have? \",\n",
              " 'There are two ways to write error-free programs; only the third works.',\n",
              " 'Do you consider yourself good at networking?',\n",
              " 'How old were you when you had your first celebrity crush, and who was it?',\n",
              " 'Do you think you’ll stay in your current gig awhile? Why or why not?',\n",
              " 'What’s the career highlight you’re most proud of?',\n",
              " 'Debugging is twice as hard as writing the code in the first place. Therefore, if you write the code as cleverly as possible, you are, by definition, not smart enough to debug it.',\n",
              " 'Programmer: A machine that turns coffee into code.',\n",
              " 'Ruby is rubbish! PHP is phpantastic!',\n",
              " 'Computers are fast; programmers keep it slow.',\n",
              " 'Copy-and-Paste was programmed by programmers for programmers actually.',\n",
              " 'Remember that there is no code faster than no code.',\n",
              " 'What will finally break the internet? ',\n",
              " 'First, solve the problem. Then, write the code.',\n",
              " 'What are your hobbies, and how did you get into them?',\n",
              " 'Programming can be fun, and so can cryptography; however, they should not be combined.',\n",
              " 'Are you more of a work to live or a live to work type of person?',\n",
              " 'Programming is like sex: One mistake and you have to support it for the rest of your life.',\n",
              " 'Who is the messiest person you know? ',\n",
              " 'One man’s crappy software is another man’s full-time job.',\n",
              " 'If debugging is the process of removing bugs, then programming must be the process of putting them in.',\n",
              " 'Was the last thing you read?',\n",
              " 'What was the best vacation you ever took and why?',\n",
              " ' Code is like humor. When you have to explain it, it’s bad.',\n",
              " 'Java is to JavaScript what car is to Carpet.',\n",
              " 'Do you have a favorite holiday? Why or why not?',\n",
              " 'Always code as if the person who ends up maintaining your code will be a violent psychopath who knows where you live.',\n",
              " 'Where’s the next place on your travel bucket list and why?',\n",
              " 'What’s your favorite quote from a TV show/movie/book?',\n",
              " 'Experience is the name everyone gives to their mistakes.',\n",
              " 'What type of music are you into?',\n",
              " 'In the summer, would you rather go to the beach or go camping?',\n",
              " 'It works on my machine.']"
            ]
          },
          "metadata": {},
          "execution_count": 6
        }
      ]
    },
    {
      "cell_type": "code",
      "metadata": {
        "id": "uF70GUJ9k3cg"
      },
      "source": [
        "# Convert to DF\n",
        "df = pd.DataFrame({'sentences':data})"
      ],
      "execution_count": null,
      "outputs": []
    },
    {
      "cell_type": "code",
      "metadata": {
        "colab": {
          "base_uri": "https://localhost:8080/",
          "height": 198
        },
        "id": "LbsgGyQOlB1z",
        "outputId": "82f86622-7677-4efa-e937-dcecd4acd12c"
      },
      "source": [
        "df.head()"
      ],
      "execution_count": null,
      "outputs": [
        {
          "output_type": "execute_result",
          "data": {
            "text/html": [
              "<div>\n",
              "<style scoped>\n",
              "    .dataframe tbody tr th:only-of-type {\n",
              "        vertical-align: middle;\n",
              "    }\n",
              "\n",
              "    .dataframe tbody tr th {\n",
              "        vertical-align: top;\n",
              "    }\n",
              "\n",
              "    .dataframe thead th {\n",
              "        text-align: right;\n",
              "    }\n",
              "</style>\n",
              "<table border=\"1\" class=\"dataframe\">\n",
              "  <thead>\n",
              "    <tr style=\"text-align: right;\">\n",
              "      <th></th>\n",
              "      <th>sentences</th>\n",
              "    </tr>\n",
              "  </thead>\n",
              "  <tbody>\n",
              "    <tr>\n",
              "      <th>0</th>\n",
              "      <td>Debugging is twice as hard as writing the code...</td>\n",
              "    </tr>\n",
              "    <tr>\n",
              "      <th>1</th>\n",
              "      <td>What's the closest thing to real magic?</td>\n",
              "    </tr>\n",
              "    <tr>\n",
              "      <th>2</th>\n",
              "      <td>What was your favorite age growing up?</td>\n",
              "    </tr>\n",
              "    <tr>\n",
              "      <th>3</th>\n",
              "      <td>How old were you when you started working?</td>\n",
              "    </tr>\n",
              "    <tr>\n",
              "      <th>4</th>\n",
              "      <td>Does your job make you feel happy and fulfille...</td>\n",
              "    </tr>\n",
              "  </tbody>\n",
              "</table>\n",
              "</div>"
            ],
            "text/plain": [
              "                                           sentences\n",
              "0  Debugging is twice as hard as writing the code...\n",
              "1           What's the closest thing to real magic? \n",
              "2             What was your favorite age growing up?\n",
              "3         How old were you when you started working?\n",
              "4  Does your job make you feel happy and fulfille..."
            ]
          },
          "metadata": {},
          "execution_count": 7
        }
      ]
    },
    {
      "cell_type": "code",
      "metadata": {
        "id": "rU2AoJ11lDB8"
      },
      "source": [
        "df.to_csv(\"unlabelled_sentences.csv\",index=False)"
      ],
      "execution_count": null,
      "outputs": []
    },
    {
      "cell_type": "code",
      "metadata": {
        "id": "IwURk-7Kp25x"
      },
      "source": [
        "# Split dataset\n",
        "from sklearn.model_selection import train_test_split\n",
        "df_train, df_test = train_test_split(df, train_size = 0.5)"
      ],
      "execution_count": null,
      "outputs": []
    },
    {
      "cell_type": "markdown",
      "metadata": {
        "id": "hr7kKCRLlUej"
      },
      "source": [
        "#### Using Snorkel to Label our Dataset\n",
        "+ Labeling functions (LFs) in Snorkel: noisy, programmatic rules and heuristics that assign labels to unlabeled training data\n",
        "\n",
        "#### Requirements\n",
        "+ Keyword searches: looking for specific words in a sentence\n",
        "+ Pattern matching: looking for specific syntactical patterns\n",
        "+ Third-party models: using an pre-trained model (usually a model for a different task than the one at hand)\n",
        "+ Distant supervision: using external knowledge base\n",
        "+ Crowdworker labels: treating each crowdworker as a black-box function that assigns labels to subsets of the data"
      ]
    },
    {
      "cell_type": "code",
      "metadata": {
        "colab": {
          "base_uri": "https://localhost:8080/"
        },
        "id": "3TqF__fplNqV",
        "outputId": "c2c0da30-2aa2-475e-835a-1a447daa423d"
      },
      "source": [
        "df.shape"
      ],
      "execution_count": null,
      "outputs": [
        {
          "output_type": "execute_result",
          "data": {
            "text/plain": [
              "(88, 1)"
            ]
          },
          "metadata": {},
          "execution_count": 9
        }
      ]
    },
    {
      "cell_type": "code",
      "metadata": {
        "colab": {
          "base_uri": "https://localhost:8080/"
        },
        "id": "iHUPm3wRm3Rw",
        "outputId": "5dfcb5b2-44f4-40f6-fb50-c5fba93931fe"
      },
      "source": [
        "!pip install snorkel"
      ],
      "execution_count": null,
      "outputs": [
        {
          "output_type": "stream",
          "name": "stdout",
          "text": [
            "Collecting snorkel\n",
            "  Downloading snorkel-0.9.7-py3-none-any.whl (145 kB)\n",
            "\u001b[K     |████████████████████████████████| 145 kB 5.3 MB/s \n",
            "\u001b[?25hRequirement already satisfied: torch<2.0.0,>=1.2.0 in /usr/local/lib/python3.7/dist-packages (from snorkel) (1.9.0+cu102)\n",
            "Requirement already satisfied: tqdm<5.0.0,>=4.33.0 in /usr/local/lib/python3.7/dist-packages (from snorkel) (4.62.0)\n",
            "Requirement already satisfied: pandas<2.0.0,>=1.0.0 in /usr/local/lib/python3.7/dist-packages (from snorkel) (1.1.5)\n",
            "Collecting munkres>=1.0.6\n",
            "  Downloading munkres-1.1.4-py2.py3-none-any.whl (7.0 kB)\n",
            "Requirement already satisfied: numpy<1.20.0,>=1.16.5 in /usr/local/lib/python3.7/dist-packages (from snorkel) (1.19.5)\n",
            "Requirement already satisfied: scipy<2.0.0,>=1.2.0 in /usr/local/lib/python3.7/dist-packages (from snorkel) (1.4.1)\n",
            "Collecting networkx<2.4,>=2.2\n",
            "  Downloading networkx-2.3.zip (1.7 MB)\n",
            "\u001b[K     |████████████████████████████████| 1.7 MB 32.6 MB/s \n",
            "\u001b[?25hRequirement already satisfied: scikit-learn<0.25.0,>=0.20.2 in /usr/local/lib/python3.7/dist-packages (from snorkel) (0.22.2.post1)\n",
            "Collecting tensorboard<2.0.0,>=1.14.0\n",
            "  Downloading tensorboard-1.15.0-py3-none-any.whl (3.8 MB)\n",
            "\u001b[K     |████████████████████████████████| 3.8 MB 27.7 MB/s \n",
            "\u001b[?25hRequirement already satisfied: decorator>=4.3.0 in /usr/local/lib/python3.7/dist-packages (from networkx<2.4,>=2.2->snorkel) (4.4.2)\n",
            "Requirement already satisfied: python-dateutil>=2.7.3 in /usr/local/lib/python3.7/dist-packages (from pandas<2.0.0,>=1.0.0->snorkel) (2.8.2)\n",
            "Requirement already satisfied: pytz>=2017.2 in /usr/local/lib/python3.7/dist-packages (from pandas<2.0.0,>=1.0.0->snorkel) (2018.9)\n",
            "Requirement already satisfied: six>=1.5 in /usr/local/lib/python3.7/dist-packages (from python-dateutil>=2.7.3->pandas<2.0.0,>=1.0.0->snorkel) (1.15.0)\n",
            "Requirement already satisfied: joblib>=0.11 in /usr/local/lib/python3.7/dist-packages (from scikit-learn<0.25.0,>=0.20.2->snorkel) (1.0.1)\n",
            "Requirement already satisfied: wheel>=0.26 in /usr/local/lib/python3.7/dist-packages (from tensorboard<2.0.0,>=1.14.0->snorkel) (0.37.0)\n",
            "Requirement already satisfied: absl-py>=0.4 in /usr/local/lib/python3.7/dist-packages (from tensorboard<2.0.0,>=1.14.0->snorkel) (0.12.0)\n",
            "Requirement already satisfied: werkzeug>=0.11.15 in /usr/local/lib/python3.7/dist-packages (from tensorboard<2.0.0,>=1.14.0->snorkel) (1.0.1)\n",
            "Requirement already satisfied: setuptools>=41.0.0 in /usr/local/lib/python3.7/dist-packages (from tensorboard<2.0.0,>=1.14.0->snorkel) (57.4.0)\n",
            "Requirement already satisfied: protobuf>=3.6.0 in /usr/local/lib/python3.7/dist-packages (from tensorboard<2.0.0,>=1.14.0->snorkel) (3.17.3)\n",
            "Requirement already satisfied: markdown>=2.6.8 in /usr/local/lib/python3.7/dist-packages (from tensorboard<2.0.0,>=1.14.0->snorkel) (3.3.4)\n",
            "Requirement already satisfied: grpcio>=1.6.3 in /usr/local/lib/python3.7/dist-packages (from tensorboard<2.0.0,>=1.14.0->snorkel) (1.39.0)\n",
            "Requirement already satisfied: importlib-metadata in /usr/local/lib/python3.7/dist-packages (from markdown>=2.6.8->tensorboard<2.0.0,>=1.14.0->snorkel) (4.6.4)\n",
            "Requirement already satisfied: typing-extensions in /usr/local/lib/python3.7/dist-packages (from torch<2.0.0,>=1.2.0->snorkel) (3.7.4.3)\n",
            "Requirement already satisfied: zipp>=0.5 in /usr/local/lib/python3.7/dist-packages (from importlib-metadata->markdown>=2.6.8->tensorboard<2.0.0,>=1.14.0->snorkel) (3.5.0)\n",
            "Building wheels for collected packages: networkx\n",
            "  Building wheel for networkx (setup.py) ... \u001b[?25l\u001b[?25hdone\n",
            "  Created wheel for networkx: filename=networkx-2.3-py2.py3-none-any.whl size=1556009 sha256=73022dcd880fd81db8cdb997cc858bb1f58b4b49e20a89ccec6215e8b2b8b3e8\n",
            "  Stored in directory: /root/.cache/pip/wheels/44/e6/b8/4efaab31158e9e9ca9ed80b11f6b11130bac9a9672b3cbbeaf\n",
            "Successfully built networkx\n",
            "Installing collected packages: tensorboard, networkx, munkres, snorkel\n",
            "  Attempting uninstall: tensorboard\n",
            "    Found existing installation: tensorboard 2.6.0\n",
            "    Uninstalling tensorboard-2.6.0:\n",
            "      Successfully uninstalled tensorboard-2.6.0\n",
            "  Attempting uninstall: networkx\n",
            "    Found existing installation: networkx 2.6.2\n",
            "    Uninstalling networkx-2.6.2:\n",
            "      Successfully uninstalled networkx-2.6.2\n",
            "\u001b[31mERROR: pip's dependency resolver does not currently take into account all the packages that are installed. This behaviour is the source of the following dependency conflicts.\n",
            "tensorflow 2.6.0 requires tensorboard~=2.6, but you have tensorboard 1.15.0 which is incompatible.\n",
            "albumentations 0.1.12 requires imgaug<0.2.7,>=0.2.5, but you have imgaug 0.2.9 which is incompatible.\u001b[0m\n",
            "Successfully installed munkres-1.1.4 networkx-2.3 snorkel-0.9.7 tensorboard-1.15.0\n"
          ]
        }
      ]
    },
    {
      "cell_type": "code",
      "metadata": {
        "id": "YPhuRyp7lg2n"
      },
      "source": [
        "# Create our labeling fxn\n",
        "from snorkel.labeling import labeling_function\n",
        "from snorkel.labeling import PandasLFApplier\n",
        "from snorkel.labeling import LFAnalysis"
      ],
      "execution_count": null,
      "outputs": []
    },
    {
      "cell_type": "code",
      "metadata": {
        "id": "o5Fhr4w9qwMr"
      },
      "source": [
        "# Define Constants\n",
        "ABSTAIN = -1\n",
        "QUOTE = 0\n",
        "QUESTION = 1"
      ],
      "execution_count": null,
      "outputs": []
    },
    {
      "cell_type": "code",
      "metadata": {
        "id": "fSgh3Hdioewm"
      },
      "source": [
        "@labeling_function()\n",
        "def lf_contains_5Ws(x):\n",
        "    # Return a label of QUESTION if \"what|why|when|how|where|which|who|whose\" in sentence text, otherwise QUOTE\n",
        "    return QUESTION if any(word in x['sentences'].lower() for word in \"what|why|when|where|who|which\".split(\"|\") ) else QUOTE\n",
        "   "
      ],
      "execution_count": null,
      "outputs": []
    },
    {
      "cell_type": "code",
      "metadata": {
        "id": "RCXzpI45tm3d"
      },
      "source": [
        "# Using Keyword Lookup: Method 1\n",
        "@labeling_function()\n",
        "def lf_keyword_lookup(x):\n",
        "  keywords =  \"what|why|when|how|where|which|who|whose\".split(\"|\")\n",
        "  return QUESTION if any(word in x.sentences.lower() for word in keywords) else ABSTAIN\n",
        "    "
      ],
      "execution_count": null,
      "outputs": []
    },
    {
      "cell_type": "code",
      "metadata": {
        "id": "xuDOgu_Dm1cn"
      },
      "source": [
        "# Keyword lookup : Method 2\n",
        "@labeling_function()\n",
        "def lf_contains_questions(x):\n",
        "    # Return a label of QUESTION if \"what|why|when|how|where|which|who|whose\" in sentence text, otherwise QUOTE\n",
        "    for word in \"what|why|when|how|where|which|who|whose\".split(\"|\"):\n",
        "      if word in x.sentences.lower():\n",
        "        return QUESTION\n",
        "      else:\n",
        "        return ABSTAIN"
      ],
      "execution_count": null,
      "outputs": []
    },
    {
      "cell_type": "code",
      "metadata": {
        "id": "ci1noWd-0qS3"
      },
      "source": [
        "# Regex Lookup/Pattern Lookup\n",
        "import re\n",
        "\n",
        "@labeling_function()\n",
        "def regex_check_out(x):\n",
        "    return QUESTIONS if re.search(r\"what.*?\", x.sentences, flags=re.I) else ABSTAIN"
      ],
      "execution_count": null,
      "outputs": []
    },
    {
      "cell_type": "code",
      "metadata": {
        "colab": {
          "base_uri": "https://localhost:8080/"
        },
        "id": "tSO0D8c-m1mw",
        "outputId": "86c576f6-9408-4539-c878-8d51611e3a10"
      },
      "source": [
        "### Apply on Pandas\n",
        "lfs = [lf_contains_questions,lf_keyword_lookup,lf_contains_5Ws]\n",
        "\n",
        "applier = PandasLFApplier(lfs=lfs)\n",
        "L_train = applier.apply(df=df_train)"
      ],
      "execution_count": null,
      "outputs": [
        {
          "output_type": "stream",
          "name": "stderr",
          "text": [
            "100%|██████████| 44/44 [00:00<00:00, 4570.77it/s]\n"
          ]
        }
      ]
    },
    {
      "cell_type": "markdown",
      "metadata": {
        "id": "5XPGoFowvQzW"
      },
      "source": [
        "#### Narrative\n",
        "+ PandasLFApplier.apply() function produces a Label Matrix\n",
        "+ The Label matrix, a fundamental concept in Snorkel. It’s a NumPy array \n",
        "+ The matrix consist of one column for each LF and one row for each data point,"
      ]
    },
    {
      "cell_type": "markdown",
      "metadata": {
        "id": "Pcut1H0yxH1Y"
      },
      "source": [
        "#### Evaluate performance on training set\n",
        "+ Calculate the coverage of these LFs (i.e., the percentage of the dataset that they label) "
      ]
    },
    {
      "cell_type": "code",
      "metadata": {
        "colab": {
          "base_uri": "https://localhost:8080/"
        },
        "id": "yD_l5Q0-wjTt",
        "outputId": "b3bc4b03-ebf2-40ab-a2a6-d409005262c4"
      },
      "source": [
        "# Find percentage of dataset that was labels [Coverage]\n",
        "coverage_questions, coverage_keyword,coverage_5w = (L_train != ABSTAIN).mean(axis=0)\n",
        "print(f\"questions coverage: {coverage_questions * 100:.1f}%\")\n",
        "print(f\"keyword coverage: {coverage_keyword * 100:.1f}%\")\n",
        "print(f\"5w coverage: {coverage_5w * 100:.1f}%\")"
      ],
      "execution_count": 58,
      "outputs": [
        {
          "output_type": "stream",
          "name": "stdout",
          "text": [
            "questions coverage: 36.4%\n",
            "keyword coverage: 56.8%\n",
            "5w coverage: 100.0%\n"
          ]
        }
      ]
    },
    {
      "cell_type": "code",
      "metadata": {
        "colab": {
          "base_uri": "https://localhost:8080/"
        },
        "id": "wYy6u6fVqH0F",
        "outputId": "0ef0d205-b056-4786-b1ff-75109c0e99af"
      },
      "source": [
        "L_train"
      ],
      "execution_count": 59,
      "outputs": [
        {
          "output_type": "execute_result",
          "data": {
            "text/plain": [
              "array([[-1, -1,  0],\n",
              "       [ 1,  1,  1],\n",
              "       [-1, -1,  0],\n",
              "       [-1, -1,  0],\n",
              "       [ 1,  1,  1],\n",
              "       [-1,  1,  1],\n",
              "       [-1, -1,  0],\n",
              "       [ 1,  1,  1],\n",
              "       [ 1,  1,  1],\n",
              "       [-1,  1,  0],\n",
              "       [-1,  1,  1],\n",
              "       [-1, -1,  0],\n",
              "       [ 1,  1,  1],\n",
              "       [-1, -1,  0],\n",
              "       [ 1,  1,  1],\n",
              "       [-1,  1,  1],\n",
              "       [ 1,  1,  1],\n",
              "       [-1, -1,  0],\n",
              "       [ 1,  1,  1],\n",
              "       [-1,  1,  1],\n",
              "       [-1, -1,  0],\n",
              "       [-1, -1,  0],\n",
              "       [ 1,  1,  1],\n",
              "       [-1, -1,  0],\n",
              "       [-1, -1,  0],\n",
              "       [ 1,  1,  1],\n",
              "       [ 1,  1,  1],\n",
              "       [-1, -1,  0],\n",
              "       [ 1,  1,  1],\n",
              "       [-1,  1,  1],\n",
              "       [-1, -1,  0],\n",
              "       [-1, -1,  0],\n",
              "       [ 1,  1,  1],\n",
              "       [-1,  1,  1],\n",
              "       [-1, -1,  0],\n",
              "       [-1, -1,  0],\n",
              "       [ 1,  1,  1],\n",
              "       [ 1,  1,  1],\n",
              "       [-1, -1,  0],\n",
              "       [-1, -1,  0],\n",
              "       [-1, -1,  0],\n",
              "       [-1,  1,  0],\n",
              "       [ 1,  1,  1],\n",
              "       [-1,  1,  1]])"
            ]
          },
          "metadata": {},
          "execution_count": 59
        }
      ]
    },
    {
      "cell_type": "markdown",
      "metadata": {
        "id": "lxYgUXu_raF6"
      },
      "source": [
        "#### Evaluation of Labeling\n",
        "+ Polarity: The set of unique labels this LF outputs (excluding abstains)\n",
        "+ Coverage: The fraction of the dataset the LF labelled\n",
        "+ Overlaps: The fraction of the dataset where this LF and at least one other LF label\n",
        "+ Conflicts: The fraction of the dataset where this LF and at least one other LF label and disagree\n",
        "+ Correct: The number of data points this LF labels correctly (if gold labels are provided)\n",
        "+ Incorrect: The number of data points this LF labels incorrectly (if gold labels are provided)\n",
        "+ Empirical Accuracy: The empirical accuracy of this LF (if gold labels are provided)"
      ]
    },
    {
      "cell_type": "code",
      "metadata": {
        "colab": {
          "base_uri": "https://localhost:8080/",
          "height": 138
        },
        "id": "HAjMmjsBrGnj",
        "outputId": "def5b81c-23db-4146-a51d-5c802c44bacd"
      },
      "source": [
        "from snorkel.labeling import LFAnalysis\n",
        "LFAnalysis(L=L_train, lfs=lfs).lf_summary()"
      ],
      "execution_count": null,
      "outputs": [
        {
          "output_type": "execute_result",
          "data": {
            "text/html": [
              "<div>\n",
              "<style scoped>\n",
              "    .dataframe tbody tr th:only-of-type {\n",
              "        vertical-align: middle;\n",
              "    }\n",
              "\n",
              "    .dataframe tbody tr th {\n",
              "        vertical-align: top;\n",
              "    }\n",
              "\n",
              "    .dataframe thead th {\n",
              "        text-align: right;\n",
              "    }\n",
              "</style>\n",
              "<table border=\"1\" class=\"dataframe\">\n",
              "  <thead>\n",
              "    <tr style=\"text-align: right;\">\n",
              "      <th></th>\n",
              "      <th>j</th>\n",
              "      <th>Polarity</th>\n",
              "      <th>Coverage</th>\n",
              "      <th>Overlaps</th>\n",
              "      <th>Conflicts</th>\n",
              "    </tr>\n",
              "  </thead>\n",
              "  <tbody>\n",
              "    <tr>\n",
              "      <th>lf_contains_questions</th>\n",
              "      <td>0</td>\n",
              "      <td>[1]</td>\n",
              "      <td>0.363636</td>\n",
              "      <td>0.363636</td>\n",
              "      <td>0.000000</td>\n",
              "    </tr>\n",
              "    <tr>\n",
              "      <th>lf_keyword_lookup</th>\n",
              "      <td>1</td>\n",
              "      <td>[1]</td>\n",
              "      <td>0.568182</td>\n",
              "      <td>0.568182</td>\n",
              "      <td>0.045455</td>\n",
              "    </tr>\n",
              "    <tr>\n",
              "      <th>lf_contains_5Ws</th>\n",
              "      <td>2</td>\n",
              "      <td>[0, 1]</td>\n",
              "      <td>1.000000</td>\n",
              "      <td>0.568182</td>\n",
              "      <td>0.045455</td>\n",
              "    </tr>\n",
              "  </tbody>\n",
              "</table>\n",
              "</div>"
            ],
            "text/plain": [
              "                       j Polarity  Coverage  Overlaps  Conflicts\n",
              "lf_contains_questions  0      [1]  0.363636  0.363636   0.000000\n",
              "lf_keyword_lookup      1      [1]  0.568182  0.568182   0.045455\n",
              "lf_contains_5Ws        2   [0, 1]  1.000000  0.568182   0.045455"
            ]
          },
          "metadata": {},
          "execution_count": 21
        }
      ]
    },
    {
      "cell_type": "markdown",
      "metadata": {
        "id": "t_HRgwwwyHCK"
      },
      "source": [
        "### Narrative\n",
        "+ We choose the labeling fxn with the higher coverage since it does well\n"
      ]
    },
    {
      "cell_type": "code",
      "metadata": {
        "colab": {
          "base_uri": "https://localhost:8080/",
          "height": 798
        },
        "id": "YBeP0GY8rkC-",
        "outputId": "f6664a68-f1b8-4325-8482-456c51485712"
      },
      "source": [
        "# Find where in the dataset it was labeled as Questions such\n",
        "df_train.iloc[L_train[:, 1] == QUESTION]"
      ],
      "execution_count": null,
      "outputs": [
        {
          "output_type": "execute_result",
          "data": {
            "text/html": [
              "<div>\n",
              "<style scoped>\n",
              "    .dataframe tbody tr th:only-of-type {\n",
              "        vertical-align: middle;\n",
              "    }\n",
              "\n",
              "    .dataframe tbody tr th {\n",
              "        vertical-align: top;\n",
              "    }\n",
              "\n",
              "    .dataframe thead th {\n",
              "        text-align: right;\n",
              "    }\n",
              "</style>\n",
              "<table border=\"1\" class=\"dataframe\">\n",
              "  <thead>\n",
              "    <tr style=\"text-align: right;\">\n",
              "      <th></th>\n",
              "      <th>sentences</th>\n",
              "    </tr>\n",
              "  </thead>\n",
              "  <tbody>\n",
              "    <tr>\n",
              "      <th>51</th>\n",
              "      <td>What was the last TV show you binge-watched?</td>\n",
              "    </tr>\n",
              "    <tr>\n",
              "      <th>27</th>\n",
              "      <td>How would your 10-year-old self react to what ...</td>\n",
              "    </tr>\n",
              "    <tr>\n",
              "      <th>19</th>\n",
              "      <td>Code is like humor. When you have to explain ...</td>\n",
              "    </tr>\n",
              "    <tr>\n",
              "      <th>28</th>\n",
              "      <td>What type of music are you into?</td>\n",
              "    </tr>\n",
              "    <tr>\n",
              "      <th>67</th>\n",
              "      <td>What’s the worst job you’ve ever had?</td>\n",
              "    </tr>\n",
              "    <tr>\n",
              "      <th>71</th>\n",
              "      <td>Programming can be fun, and so can cryptograph...</td>\n",
              "    </tr>\n",
              "    <tr>\n",
              "      <th>76</th>\n",
              "      <td>A good programmer is someone who always looks ...</td>\n",
              "    </tr>\n",
              "    <tr>\n",
              "      <th>21</th>\n",
              "      <td>What’s your favorite way to spend a day off?</td>\n",
              "    </tr>\n",
              "    <tr>\n",
              "      <th>63</th>\n",
              "      <td>What will finally break the internet?</td>\n",
              "    </tr>\n",
              "    <tr>\n",
              "      <th>17</th>\n",
              "      <td>Where is the worst smelling place you've been?</td>\n",
              "    </tr>\n",
              "    <tr>\n",
              "      <th>53</th>\n",
              "      <td>What's the most useless talent you have?</td>\n",
              "    </tr>\n",
              "    <tr>\n",
              "      <th>31</th>\n",
              "      <td>What would you name your boat if you had one?</td>\n",
              "    </tr>\n",
              "    <tr>\n",
              "      <th>47</th>\n",
              "      <td>A son asked his father (a programmer) why the ...</td>\n",
              "    </tr>\n",
              "    <tr>\n",
              "      <th>55</th>\n",
              "      <td>What are your hobbies, and how did you get int...</td>\n",
              "    </tr>\n",
              "    <tr>\n",
              "      <th>70</th>\n",
              "      <td>What originally got you interested in your cur...</td>\n",
              "    </tr>\n",
              "    <tr>\n",
              "      <th>2</th>\n",
              "      <td>What was your favorite age growing up?</td>\n",
              "    </tr>\n",
              "    <tr>\n",
              "      <th>60</th>\n",
              "      <td>What was the best vacation you ever took and why?</td>\n",
              "    </tr>\n",
              "    <tr>\n",
              "      <th>5</th>\n",
              "      <td>Do you have a favorite holiday? Why or why not?</td>\n",
              "    </tr>\n",
              "    <tr>\n",
              "      <th>32</th>\n",
              "      <td>If you could only eat one food for the rest of...</td>\n",
              "    </tr>\n",
              "    <tr>\n",
              "      <th>72</th>\n",
              "      <td>Where’s the next place on your travel bucket l...</td>\n",
              "    </tr>\n",
              "    <tr>\n",
              "      <th>1</th>\n",
              "      <td>What's the closest thing to real magic?</td>\n",
              "    </tr>\n",
              "    <tr>\n",
              "      <th>56</th>\n",
              "      <td>What do you remember most about your first job?</td>\n",
              "    </tr>\n",
              "    <tr>\n",
              "      <th>80</th>\n",
              "      <td>How many programmers does it take to change a ...</td>\n",
              "    </tr>\n",
              "    <tr>\n",
              "      <th>22</th>\n",
              "      <td>What Secret Do You Have That No One Else Knows...</td>\n",
              "    </tr>\n",
              "    <tr>\n",
              "      <th>39</th>\n",
              "      <td>How old were you when you had your first celeb...</td>\n",
              "    </tr>\n",
              "  </tbody>\n",
              "</table>\n",
              "</div>"
            ],
            "text/plain": [
              "                                            sentences\n",
              "51       What was the last TV show you binge-watched?\n",
              "27  How would your 10-year-old self react to what ...\n",
              "19   Code is like humor. When you have to explain ...\n",
              "28                   What type of music are you into?\n",
              "67              What’s the worst job you’ve ever had?\n",
              "71  Programming can be fun, and so can cryptograph...\n",
              "76  A good programmer is someone who always looks ...\n",
              "21       What’s your favorite way to spend a day off?\n",
              "63             What will finally break the internet? \n",
              "17     Where is the worst smelling place you've been?\n",
              "53          What's the most useless talent you have? \n",
              "31     What would you name your boat if you had one? \n",
              "47  A son asked his father (a programmer) why the ...\n",
              "55  What are your hobbies, and how did you get int...\n",
              "70  What originally got you interested in your cur...\n",
              "2              What was your favorite age growing up?\n",
              "60  What was the best vacation you ever took and why?\n",
              "5     Do you have a favorite holiday? Why or why not?\n",
              "32  If you could only eat one food for the rest of...\n",
              "72  Where’s the next place on your travel bucket l...\n",
              "1            What's the closest thing to real magic? \n",
              "56    What do you remember most about your first job?\n",
              "80  How many programmers does it take to change a ...\n",
              "22  What Secret Do You Have That No One Else Knows...\n",
              "39  How old were you when you had your first celeb..."
            ]
          },
          "metadata": {},
          "execution_count": 23
        }
      ]
    },
    {
      "cell_type": "code",
      "metadata": {
        "id": "nAVsaXtv3AiX"
      },
      "source": [
        "# Assign Labels\n",
        "df_train2 = df_train.copy()"
      ],
      "execution_count": null,
      "outputs": []
    },
    {
      "cell_type": "code",
      "metadata": {
        "id": "_xpVw8eU3Fyq"
      },
      "source": [
        "# Find where in the dataset it was labeled as Questions and assign it the new label\n",
        "df_train2['Labels'] = df_train.iloc[L_train[:, 1] == QUESTION]"
      ],
      "execution_count": null,
      "outputs": []
    },
    {
      "cell_type": "code",
      "metadata": {
        "colab": {
          "base_uri": "https://localhost:8080/",
          "height": 1000
        },
        "id": "5Uuu12Js3VnS",
        "outputId": "03b25c4e-7912-4340-af3f-09968b533f60"
      },
      "source": [
        "df_train2"
      ],
      "execution_count": null,
      "outputs": [
        {
          "output_type": "execute_result",
          "data": {
            "text/html": [
              "<div>\n",
              "<style scoped>\n",
              "    .dataframe tbody tr th:only-of-type {\n",
              "        vertical-align: middle;\n",
              "    }\n",
              "\n",
              "    .dataframe tbody tr th {\n",
              "        vertical-align: top;\n",
              "    }\n",
              "\n",
              "    .dataframe thead th {\n",
              "        text-align: right;\n",
              "    }\n",
              "</style>\n",
              "<table border=\"1\" class=\"dataframe\">\n",
              "  <thead>\n",
              "    <tr style=\"text-align: right;\">\n",
              "      <th></th>\n",
              "      <th>sentences</th>\n",
              "      <th>Labels</th>\n",
              "    </tr>\n",
              "  </thead>\n",
              "  <tbody>\n",
              "    <tr>\n",
              "      <th>87</th>\n",
              "      <td>Optimism is an occupational hazard of programm...</td>\n",
              "      <td>NaN</td>\n",
              "    </tr>\n",
              "    <tr>\n",
              "      <th>51</th>\n",
              "      <td>What was the last TV show you binge-watched?</td>\n",
              "      <td>What was the last TV show you binge-watched?</td>\n",
              "    </tr>\n",
              "    <tr>\n",
              "      <th>50</th>\n",
              "      <td>In order to be irreplaceable, one must always...</td>\n",
              "      <td>NaN</td>\n",
              "    </tr>\n",
              "    <tr>\n",
              "      <th>29</th>\n",
              "      <td>Deleted code is debugged code.</td>\n",
              "      <td>NaN</td>\n",
              "    </tr>\n",
              "    <tr>\n",
              "      <th>27</th>\n",
              "      <td>How would your 10-year-old self react to what ...</td>\n",
              "      <td>How would your 10-year-old self react to what ...</td>\n",
              "    </tr>\n",
              "    <tr>\n",
              "      <th>19</th>\n",
              "      <td>Code is like humor. When you have to explain ...</td>\n",
              "      <td>Code is like humor. When you have to explain ...</td>\n",
              "    </tr>\n",
              "    <tr>\n",
              "      <th>11</th>\n",
              "      <td>Make it work, make it right, make it fast.</td>\n",
              "      <td>NaN</td>\n",
              "    </tr>\n",
              "    <tr>\n",
              "      <th>28</th>\n",
              "      <td>What type of music are you into?</td>\n",
              "      <td>What type of music are you into?</td>\n",
              "    </tr>\n",
              "    <tr>\n",
              "      <th>67</th>\n",
              "      <td>What’s the worst job you’ve ever had?</td>\n",
              "      <td>What’s the worst job you’ve ever had?</td>\n",
              "    </tr>\n",
              "    <tr>\n",
              "      <th>71</th>\n",
              "      <td>Programming can be fun, and so can cryptograph...</td>\n",
              "      <td>Programming can be fun, and so can cryptograph...</td>\n",
              "    </tr>\n",
              "    <tr>\n",
              "      <th>76</th>\n",
              "      <td>A good programmer is someone who always looks ...</td>\n",
              "      <td>A good programmer is someone who always looks ...</td>\n",
              "    </tr>\n",
              "    <tr>\n",
              "      <th>82</th>\n",
              "      <td>Fix the cause, not the symptom.</td>\n",
              "      <td>NaN</td>\n",
              "    </tr>\n",
              "    <tr>\n",
              "      <th>21</th>\n",
              "      <td>What’s your favorite way to spend a day off?</td>\n",
              "      <td>What’s your favorite way to spend a day off?</td>\n",
              "    </tr>\n",
              "    <tr>\n",
              "      <th>6</th>\n",
              "      <td>Do you consider yourself good at networking?</td>\n",
              "      <td>NaN</td>\n",
              "    </tr>\n",
              "    <tr>\n",
              "      <th>63</th>\n",
              "      <td>What will finally break the internet?</td>\n",
              "      <td>What will finally break the internet?</td>\n",
              "    </tr>\n",
              "    <tr>\n",
              "      <th>17</th>\n",
              "      <td>Where is the worst smelling place you've been?</td>\n",
              "      <td>Where is the worst smelling place you've been?</td>\n",
              "    </tr>\n",
              "    <tr>\n",
              "      <th>53</th>\n",
              "      <td>What's the most useless talent you have?</td>\n",
              "      <td>What's the most useless talent you have?</td>\n",
              "    </tr>\n",
              "    <tr>\n",
              "      <th>23</th>\n",
              "      <td>No code has zero defects.</td>\n",
              "      <td>NaN</td>\n",
              "    </tr>\n",
              "    <tr>\n",
              "      <th>31</th>\n",
              "      <td>What would you name your boat if you had one?</td>\n",
              "      <td>What would you name your boat if you had one?</td>\n",
              "    </tr>\n",
              "    <tr>\n",
              "      <th>47</th>\n",
              "      <td>A son asked his father (a programmer) why the ...</td>\n",
              "      <td>A son asked his father (a programmer) why the ...</td>\n",
              "    </tr>\n",
              "    <tr>\n",
              "      <th>34</th>\n",
              "      <td>Sometimes it pays to stay in bed on Monday, ra...</td>\n",
              "      <td>NaN</td>\n",
              "    </tr>\n",
              "    <tr>\n",
              "      <th>84</th>\n",
              "      <td>Was the last thing you read?</td>\n",
              "      <td>NaN</td>\n",
              "    </tr>\n",
              "    <tr>\n",
              "      <th>55</th>\n",
              "      <td>What are your hobbies, and how did you get int...</td>\n",
              "      <td>What are your hobbies, and how did you get int...</td>\n",
              "    </tr>\n",
              "    <tr>\n",
              "      <th>15</th>\n",
              "      <td>Ruby is rubbish! PHP is phpantastic!</td>\n",
              "      <td>NaN</td>\n",
              "    </tr>\n",
              "    <tr>\n",
              "      <th>37</th>\n",
              "      <td>If debugging is the process of removing bugs, ...</td>\n",
              "      <td>NaN</td>\n",
              "    </tr>\n",
              "    <tr>\n",
              "      <th>70</th>\n",
              "      <td>What originally got you interested in your cur...</td>\n",
              "      <td>What originally got you interested in your cur...</td>\n",
              "    </tr>\n",
              "    <tr>\n",
              "      <th>2</th>\n",
              "      <td>What was your favorite age growing up?</td>\n",
              "      <td>What was your favorite age growing up?</td>\n",
              "    </tr>\n",
              "    <tr>\n",
              "      <th>7</th>\n",
              "      <td>First, solve the problem. Then, write the code.</td>\n",
              "      <td>NaN</td>\n",
              "    </tr>\n",
              "    <tr>\n",
              "      <th>60</th>\n",
              "      <td>What was the best vacation you ever took and why?</td>\n",
              "      <td>What was the best vacation you ever took and why?</td>\n",
              "    </tr>\n",
              "    <tr>\n",
              "      <th>5</th>\n",
              "      <td>Do you have a favorite holiday? Why or why not?</td>\n",
              "      <td>Do you have a favorite holiday? Why or why not?</td>\n",
              "    </tr>\n",
              "    <tr>\n",
              "      <th>13</th>\n",
              "      <td>Knowledge is power.</td>\n",
              "      <td>NaN</td>\n",
              "    </tr>\n",
              "    <tr>\n",
              "      <th>58</th>\n",
              "      <td>There are two ways to write error-free program...</td>\n",
              "      <td>NaN</td>\n",
              "    </tr>\n",
              "    <tr>\n",
              "      <th>32</th>\n",
              "      <td>If you could only eat one food for the rest of...</td>\n",
              "      <td>If you could only eat one food for the rest of...</td>\n",
              "    </tr>\n",
              "    <tr>\n",
              "      <th>72</th>\n",
              "      <td>Where’s the next place on your travel bucket l...</td>\n",
              "      <td>Where’s the next place on your travel bucket l...</td>\n",
              "    </tr>\n",
              "    <tr>\n",
              "      <th>52</th>\n",
              "      <td>Programming today is a race between software e...</td>\n",
              "      <td>NaN</td>\n",
              "    </tr>\n",
              "    <tr>\n",
              "      <th>0</th>\n",
              "      <td>Debugging is twice as hard as writing the code...</td>\n",
              "      <td>NaN</td>\n",
              "    </tr>\n",
              "    <tr>\n",
              "      <th>1</th>\n",
              "      <td>What's the closest thing to real magic?</td>\n",
              "      <td>What's the closest thing to real magic?</td>\n",
              "    </tr>\n",
              "    <tr>\n",
              "      <th>56</th>\n",
              "      <td>What do you remember most about your first job?</td>\n",
              "      <td>What do you remember most about your first job?</td>\n",
              "    </tr>\n",
              "    <tr>\n",
              "      <th>20</th>\n",
              "      <td>Do you like going to the movies or prefer watc...</td>\n",
              "      <td>NaN</td>\n",
              "    </tr>\n",
              "    <tr>\n",
              "      <th>77</th>\n",
              "      <td>Copy-and-Paste was programmed by programmers f...</td>\n",
              "      <td>NaN</td>\n",
              "    </tr>\n",
              "    <tr>\n",
              "      <th>45</th>\n",
              "      <td>Have you ever had a side hustle or considered ...</td>\n",
              "      <td>NaN</td>\n",
              "    </tr>\n",
              "    <tr>\n",
              "      <th>80</th>\n",
              "      <td>How many programmers does it take to change a ...</td>\n",
              "      <td>How many programmers does it take to change a ...</td>\n",
              "    </tr>\n",
              "    <tr>\n",
              "      <th>22</th>\n",
              "      <td>What Secret Do You Have That No One Else Knows...</td>\n",
              "      <td>What Secret Do You Have That No One Else Knows...</td>\n",
              "    </tr>\n",
              "    <tr>\n",
              "      <th>39</th>\n",
              "      <td>How old were you when you had your first celeb...</td>\n",
              "      <td>How old were you when you had your first celeb...</td>\n",
              "    </tr>\n",
              "  </tbody>\n",
              "</table>\n",
              "</div>"
            ],
            "text/plain": [
              "                                            sentences                                             Labels\n",
              "87  Optimism is an occupational hazard of programm...                                                NaN\n",
              "51       What was the last TV show you binge-watched?       What was the last TV show you binge-watched?\n",
              "50   In order to be irreplaceable, one must always...                                                NaN\n",
              "29                     Deleted code is debugged code.                                                NaN\n",
              "27  How would your 10-year-old self react to what ...  How would your 10-year-old self react to what ...\n",
              "19   Code is like humor. When you have to explain ...   Code is like humor. When you have to explain ...\n",
              "11         Make it work, make it right, make it fast.                                                NaN\n",
              "28                   What type of music are you into?                   What type of music are you into?\n",
              "67              What’s the worst job you’ve ever had?              What’s the worst job you’ve ever had?\n",
              "71  Programming can be fun, and so can cryptograph...  Programming can be fun, and so can cryptograph...\n",
              "76  A good programmer is someone who always looks ...  A good programmer is someone who always looks ...\n",
              "82                    Fix the cause, not the symptom.                                                NaN\n",
              "21       What’s your favorite way to spend a day off?       What’s your favorite way to spend a day off?\n",
              "6        Do you consider yourself good at networking?                                                NaN\n",
              "63             What will finally break the internet?              What will finally break the internet? \n",
              "17     Where is the worst smelling place you've been?     Where is the worst smelling place you've been?\n",
              "53          What's the most useless talent you have?           What's the most useless talent you have? \n",
              "23                          No code has zero defects.                                                NaN\n",
              "31     What would you name your boat if you had one?      What would you name your boat if you had one? \n",
              "47  A son asked his father (a programmer) why the ...  A son asked his father (a programmer) why the ...\n",
              "34  Sometimes it pays to stay in bed on Monday, ra...                                                NaN\n",
              "84                       Was the last thing you read?                                                NaN\n",
              "55  What are your hobbies, and how did you get int...  What are your hobbies, and how did you get int...\n",
              "15               Ruby is rubbish! PHP is phpantastic!                                                NaN\n",
              "37  If debugging is the process of removing bugs, ...                                                NaN\n",
              "70  What originally got you interested in your cur...  What originally got you interested in your cur...\n",
              "2              What was your favorite age growing up?             What was your favorite age growing up?\n",
              "7     First, solve the problem. Then, write the code.                                                NaN\n",
              "60  What was the best vacation you ever took and why?  What was the best vacation you ever took and why?\n",
              "5     Do you have a favorite holiday? Why or why not?    Do you have a favorite holiday? Why or why not?\n",
              "13                                Knowledge is power.                                                NaN\n",
              "58  There are two ways to write error-free program...                                                NaN\n",
              "32  If you could only eat one food for the rest of...  If you could only eat one food for the rest of...\n",
              "72  Where’s the next place on your travel bucket l...  Where’s the next place on your travel bucket l...\n",
              "52  Programming today is a race between software e...                                                NaN\n",
              "0   Debugging is twice as hard as writing the code...                                                NaN\n",
              "1            What's the closest thing to real magic?            What's the closest thing to real magic? \n",
              "56    What do you remember most about your first job?    What do you remember most about your first job?\n",
              "20  Do you like going to the movies or prefer watc...                                                NaN\n",
              "77  Copy-and-Paste was programmed by programmers f...                                                NaN\n",
              "45  Have you ever had a side hustle or considered ...                                                NaN\n",
              "80  How many programmers does it take to change a ...  How many programmers does it take to change a ...\n",
              "22  What Secret Do You Have That No One Else Knows...  What Secret Do You Have That No One Else Knows...\n",
              "39  How old were you when you had your first celeb...  How old were you when you had your first celeb..."
            ]
          },
          "metadata": {},
          "execution_count": 27
        }
      ]
    },
    {
      "cell_type": "code",
      "metadata": {
        "id": "Bp99zuLi3qi_"
      },
      "source": [
        "# Find where in the dataset it was  not labeled as Questions and assign it the new label\n",
        "# df_train2['Labels'] = df_train.iloc[L_train[:, 1] == ABSTAIN]"
      ],
      "execution_count": null,
      "outputs": []
    },
    {
      "cell_type": "code",
      "metadata": {
        "id": "OK5WDsGLyomB"
      },
      "source": [
        "### Group Datapoints by their predicted labels\n",
        "### get_label_buckets(...) to group data points by their predicted label and/or true labels.\n",
        "\n",
        "from snorkel.analysis import get_label_buckets"
      ],
      "execution_count": null,
      "outputs": []
    },
    {
      "cell_type": "code",
      "metadata": {
        "id": "y-gFeA-ay5xq"
      },
      "source": [
        "buckets = get_label_buckets(L_train[:, 0], L_train[:, 1])\n"
      ],
      "execution_count": null,
      "outputs": []
    },
    {
      "cell_type": "code",
      "metadata": {
        "colab": {
          "base_uri": "https://localhost:8080/"
        },
        "id": "T1MmjU3D0M7u",
        "outputId": "2e228aaa-ffe5-49cf-db42-f814904616cb"
      },
      "source": [
        "buckets"
      ],
      "execution_count": null,
      "outputs": [
        {
          "output_type": "execute_result",
          "data": {
            "text/plain": [
              "{(-1,\n",
              "  -1): array([ 1,  2,  3,  5,  8,  9, 11, 12, 13, 17, 20, 27, 28, 30, 32, 33, 35,\n",
              "        37, 38, 39]),\n",
              " (-1, 1): array([ 6,  7, 16, 18, 19, 26, 29, 40, 42]),\n",
              " (1, 1): array([ 0,  4, 10, 14, 15, 21, 22, 23, 24, 25, 31, 34, 36, 41, 43])}"
            ]
          },
          "metadata": {},
          "execution_count": 65
        }
      ]
    },
    {
      "cell_type": "markdown",
      "metadata": {
        "id": "nrR_f63E2rB2"
      },
      "source": [
        ""
      ]
    },
    {
      "cell_type": "code",
      "metadata": {
        "colab": {
          "base_uri": "https://localhost:8080/",
          "height": 318
        },
        "id": "I3tL9wcv0LhI",
        "outputId": "44c3f784-f193-43f5-ab14-daab10b09fc8"
      },
      "source": [
        "df_train.iloc[buckets[(ABSTAIN, QUESTION)]]"
      ],
      "execution_count": null,
      "outputs": [
        {
          "output_type": "execute_result",
          "data": {
            "text/html": [
              "<div>\n",
              "<style scoped>\n",
              "    .dataframe tbody tr th:only-of-type {\n",
              "        vertical-align: middle;\n",
              "    }\n",
              "\n",
              "    .dataframe tbody tr th {\n",
              "        vertical-align: top;\n",
              "    }\n",
              "\n",
              "    .dataframe thead th {\n",
              "        text-align: right;\n",
              "    }\n",
              "</style>\n",
              "<table border=\"1\" class=\"dataframe\">\n",
              "  <thead>\n",
              "    <tr style=\"text-align: right;\">\n",
              "      <th></th>\n",
              "      <th>sentences</th>\n",
              "    </tr>\n",
              "  </thead>\n",
              "  <tbody>\n",
              "    <tr>\n",
              "      <th>19</th>\n",
              "      <td>Code is like humor. When you have to explain ...</td>\n",
              "    </tr>\n",
              "    <tr>\n",
              "      <th>71</th>\n",
              "      <td>Programming can be fun, and so can cryptograph...</td>\n",
              "    </tr>\n",
              "    <tr>\n",
              "      <th>76</th>\n",
              "      <td>A good programmer is someone who always looks ...</td>\n",
              "    </tr>\n",
              "    <tr>\n",
              "      <th>17</th>\n",
              "      <td>Where is the worst smelling place you've been?</td>\n",
              "    </tr>\n",
              "    <tr>\n",
              "      <th>47</th>\n",
              "      <td>A son asked his father (a programmer) why the ...</td>\n",
              "    </tr>\n",
              "    <tr>\n",
              "      <th>5</th>\n",
              "      <td>Do you have a favorite holiday? Why or why not?</td>\n",
              "    </tr>\n",
              "    <tr>\n",
              "      <th>72</th>\n",
              "      <td>Where’s the next place on your travel bucket l...</td>\n",
              "    </tr>\n",
              "    <tr>\n",
              "      <th>80</th>\n",
              "      <td>How many programmers does it take to change a ...</td>\n",
              "    </tr>\n",
              "    <tr>\n",
              "      <th>39</th>\n",
              "      <td>How old were you when you had your first celeb...</td>\n",
              "    </tr>\n",
              "  </tbody>\n",
              "</table>\n",
              "</div>"
            ],
            "text/plain": [
              "                                            sentences\n",
              "19   Code is like humor. When you have to explain ...\n",
              "71  Programming can be fun, and so can cryptograph...\n",
              "76  A good programmer is someone who always looks ...\n",
              "17     Where is the worst smelling place you've been?\n",
              "47  A son asked his father (a programmer) why the ...\n",
              "5     Do you have a favorite holiday? Why or why not?\n",
              "72  Where’s the next place on your travel bucket l...\n",
              "80  How many programmers does it take to change a ...\n",
              "39  How old were you when you had your first celeb..."
            ]
          },
          "metadata": {},
          "execution_count": 31
        }
      ]
    },
    {
      "cell_type": "markdown",
      "metadata": {
        "id": "fs_-N2vXSZag"
      },
      "source": [
        "### Writing an LF that uses a third-party model"
      ]
    },
    {
      "cell_type": "code",
      "metadata": {
        "id": "FCQh3M9e0Pyx"
      },
      "source": [
        "from snorkel.preprocess.nlp import SpacyPreprocessor\n",
        "\n",
        "# The SpacyPreprocessor parses the text in text_field and\n",
        "# stores the new enriched representation in doc_field\n",
        "spacy = SpacyPreprocessor(text_field=\"sentences\", doc_field=\"doc\", memoize=True)"
      ],
      "execution_count": null,
      "outputs": []
    },
    {
      "cell_type": "code",
      "metadata": {
        "id": "T3YIMVx5S2wr"
      },
      "source": [
        "# @labeling_function(pre=[spacy])\n",
        "# def has_person(x):\n",
        "#     \"\"\"Ham comments mention specific people and are short.\"\"\"\n",
        "#     if len(x.doc) < 20 and any([ent.label_ == \"PERSON\" for ent in x.doc.ents]):\n",
        "#         return HAM\n",
        "#     else:\n",
        "#         return ABSTAIN"
      ],
      "execution_count": null,
      "outputs": []
    },
    {
      "cell_type": "code",
      "metadata": {
        "id": "Lhe9m9-GS25y"
      },
      "source": [
        "@labeling_function(pre=[spacy])\n",
        "def lf_is_question(x):\n",
        "    \"\"\"Questions usually have a .\"\"\"\n",
        "    if x.doc.text.endswith('?') or any([token.pos_ == \"ADV\" for token in x.doc]):\n",
        "        return QUESTION\n",
        "    else:\n",
        "        return ABSTAIN"
      ],
      "execution_count": null,
      "outputs": []
    },
    {
      "cell_type": "code",
      "metadata": {
        "id": "1d7JKXgmS3CY"
      },
      "source": [
        "### Simplified\n",
        "from snorkel.labeling.lf.nlp import nlp_labeling_function\n",
        "\n",
        "\n",
        "# @nlp_labeling_function()\n",
        "# def has_person_nlp(x):\n",
        "#     \"\"\"Ham comments mention specific people and are short.\"\"\"\n",
        "#     if len(x.doc) < 20 and any([ent.label_ == \"PERSON\" for ent in x.doc.ents]):\n",
        "#         return HAM\n",
        "#     else:\n",
        "#         return ABSTAIN"
      ],
      "execution_count": null,
      "outputs": []
    },
    {
      "cell_type": "code",
      "metadata": {
        "colab": {
          "base_uri": "https://localhost:8080/"
        },
        "id": "WCrH2rwYUklq",
        "outputId": "138e9a8a-3251-45c9-c80b-fdae12a9fa40"
      },
      "source": [
        "### Apply on Pandas\n",
        "lfs2 = [lf_contains_questions,lf_keyword_lookup,lf_contains_5Ws,lf_is_question]\n",
        "\n",
        "applier2 = PandasLFApplier(lfs=lfs2)\n",
        "L_train2 = applier2.apply(df=df_train)"
      ],
      "execution_count": null,
      "outputs": [
        {
          "output_type": "stream",
          "name": "stderr",
          "text": [
            "100%|██████████| 44/44 [00:00<00:00, 3847.26it/s]\n"
          ]
        }
      ]
    },
    {
      "cell_type": "code",
      "metadata": {
        "colab": {
          "base_uri": "https://localhost:8080/",
          "height": 168
        },
        "id": "0j3typYrUkw3",
        "outputId": "820833e4-eafd-459d-ef76-330e6876c753"
      },
      "source": [
        "LFAnalysis(L=L_train2, lfs=lfs2).lf_summary()"
      ],
      "execution_count": null,
      "outputs": [
        {
          "output_type": "execute_result",
          "data": {
            "text/html": [
              "<div>\n",
              "<style scoped>\n",
              "    .dataframe tbody tr th:only-of-type {\n",
              "        vertical-align: middle;\n",
              "    }\n",
              "\n",
              "    .dataframe tbody tr th {\n",
              "        vertical-align: top;\n",
              "    }\n",
              "\n",
              "    .dataframe thead th {\n",
              "        text-align: right;\n",
              "    }\n",
              "</style>\n",
              "<table border=\"1\" class=\"dataframe\">\n",
              "  <thead>\n",
              "    <tr style=\"text-align: right;\">\n",
              "      <th></th>\n",
              "      <th>j</th>\n",
              "      <th>Polarity</th>\n",
              "      <th>Coverage</th>\n",
              "      <th>Overlaps</th>\n",
              "      <th>Conflicts</th>\n",
              "    </tr>\n",
              "  </thead>\n",
              "  <tbody>\n",
              "    <tr>\n",
              "      <th>lf_contains_questions</th>\n",
              "      <td>0</td>\n",
              "      <td>[1]</td>\n",
              "      <td>0.363636</td>\n",
              "      <td>0.363636</td>\n",
              "      <td>0.000000</td>\n",
              "    </tr>\n",
              "    <tr>\n",
              "      <th>lf_keyword_lookup</th>\n",
              "      <td>1</td>\n",
              "      <td>[1]</td>\n",
              "      <td>0.568182</td>\n",
              "      <td>0.568182</td>\n",
              "      <td>0.045455</td>\n",
              "    </tr>\n",
              "    <tr>\n",
              "      <th>lf_contains_5Ws</th>\n",
              "      <td>2</td>\n",
              "      <td>[0, 1]</td>\n",
              "      <td>1.000000</td>\n",
              "      <td>0.840909</td>\n",
              "      <td>0.318182</td>\n",
              "    </tr>\n",
              "    <tr>\n",
              "      <th>lf_is_question</th>\n",
              "      <td>3</td>\n",
              "      <td>[1]</td>\n",
              "      <td>0.795455</td>\n",
              "      <td>0.795455</td>\n",
              "      <td>0.318182</td>\n",
              "    </tr>\n",
              "  </tbody>\n",
              "</table>\n",
              "</div>"
            ],
            "text/plain": [
              "                       j Polarity  Coverage  Overlaps  Conflicts\n",
              "lf_contains_questions  0      [1]  0.363636  0.363636   0.000000\n",
              "lf_keyword_lookup      1      [1]  0.568182  0.568182   0.045455\n",
              "lf_contains_5Ws        2   [0, 1]  1.000000  0.840909   0.318182\n",
              "lf_is_question         3      [1]  0.795455  0.795455   0.318182"
            ]
          },
          "metadata": {},
          "execution_count": 39
        }
      ]
    },
    {
      "cell_type": "markdown",
      "metadata": {
        "id": "GgEORSOvVdQw"
      },
      "source": [
        "#### Converting labels into One single label using\n",
        "+ MajorityLabelVote:\n",
        "  - A simple baseline for doing this is to take the majority vote on a per-data point basis: if more LFs voted SPAM than HAM, label it SPAM (and vice versa). \n",
        "\n",
        "  - Issues\n",
        "    + varied accuracies and coverages, \n",
        "    + LFs may be correlated, resulting in certain signals being overrepresented in a majority-vote-based model\n",
        "+ LabelModel"
      ]
    },
    {
      "cell_type": "code",
      "metadata": {
        "id": "4EYoO1RbUk6X"
      },
      "source": [
        "from snorkel.labeling.model import MajorityLabelVoter\n",
        "\n",
        "majority_model = MajorityLabelVoter()\n",
        "preds_train = majority_model.predict(L=L_train)"
      ],
      "execution_count": 45,
      "outputs": []
    },
    {
      "cell_type": "code",
      "metadata": {
        "colab": {
          "base_uri": "https://localhost:8080/"
        },
        "id": "0pRRQE0aV2O6",
        "outputId": "a29f70d5-3534-495c-e95d-941af1b06cc9"
      },
      "source": [
        "preds_train"
      ],
      "execution_count": 46,
      "outputs": [
        {
          "output_type": "execute_result",
          "data": {
            "text/plain": [
              "array([ 0,  1,  0,  0,  1,  1,  0,  1,  1, -1,  1,  0,  1,  0,  1,  1,  1,\n",
              "        0,  1,  1,  0,  0,  1,  0,  0,  1,  1,  0,  1,  1,  0,  0,  1,  1,\n",
              "        0,  0,  1,  1,  0,  0,  0, -1,  1,  1])"
            ]
          },
          "metadata": {},
          "execution_count": 46
        }
      ]
    },
    {
      "cell_type": "markdown",
      "metadata": {
        "id": "sl8TSWRRWIX_"
      },
      "source": [
        "#### Using LabelModel to Pick the Best"
      ]
    },
    {
      "cell_type": "code",
      "metadata": {
        "id": "--4-fZ8lWCuT"
      },
      "source": [
        "from snorkel.labeling.model import LabelModel"
      ],
      "execution_count": null,
      "outputs": []
    },
    {
      "cell_type": "code",
      "metadata": {
        "id": "DNGcRG02WR12"
      },
      "source": [
        "label_model = LabelModel(cardinality=2, verbose=True)\n",
        "label_model.fit(L_train=L_train, n_epochs=500, log_freq=100, seed=123)"
      ],
      "execution_count": null,
      "outputs": []
    },
    {
      "cell_type": "code",
      "metadata": {
        "id": "Uh5Ad98AbP4J"
      },
      "source": [
        "res = label_model.predict(L_train)"
      ],
      "execution_count": 47,
      "outputs": []
    },
    {
      "cell_type": "code",
      "metadata": {
        "id": "v-MeUP1ye_uw"
      },
      "source": [
        "# Remove Abstain from label during prediction\n",
        "df_train2[\"new_label\"] = label_model.predict(L=L_train, tie_break_policy=\"abstain\")"
      ],
      "execution_count": 56,
      "outputs": []
    },
    {
      "cell_type": "code",
      "metadata": {
        "colab": {
          "base_uri": "https://localhost:8080/"
        },
        "id": "3OyyOuNxbeYV",
        "outputId": "11d85813-a170-4308-ec8d-d9c15aed0eb0"
      },
      "source": [
        "L_train"
      ],
      "execution_count": 49,
      "outputs": [
        {
          "output_type": "execute_result",
          "data": {
            "text/plain": [
              "array([[-1, -1,  0],\n",
              "       [ 1,  1,  1],\n",
              "       [-1, -1,  0],\n",
              "       [-1, -1,  0],\n",
              "       [ 1,  1,  1],\n",
              "       [-1,  1,  1],\n",
              "       [-1, -1,  0],\n",
              "       [ 1,  1,  1],\n",
              "       [ 1,  1,  1],\n",
              "       [-1,  1,  0],\n",
              "       [-1,  1,  1],\n",
              "       [-1, -1,  0],\n",
              "       [ 1,  1,  1],\n",
              "       [-1, -1,  0],\n",
              "       [ 1,  1,  1],\n",
              "       [-1,  1,  1],\n",
              "       [ 1,  1,  1],\n",
              "       [-1, -1,  0],\n",
              "       [ 1,  1,  1],\n",
              "       [-1,  1,  1],\n",
              "       [-1, -1,  0],\n",
              "       [-1, -1,  0],\n",
              "       [ 1,  1,  1],\n",
              "       [-1, -1,  0],\n",
              "       [-1, -1,  0],\n",
              "       [ 1,  1,  1],\n",
              "       [ 1,  1,  1],\n",
              "       [-1, -1,  0],\n",
              "       [ 1,  1,  1],\n",
              "       [-1,  1,  1],\n",
              "       [-1, -1,  0],\n",
              "       [-1, -1,  0],\n",
              "       [ 1,  1,  1],\n",
              "       [-1,  1,  1],\n",
              "       [-1, -1,  0],\n",
              "       [-1, -1,  0],\n",
              "       [ 1,  1,  1],\n",
              "       [ 1,  1,  1],\n",
              "       [-1, -1,  0],\n",
              "       [-1, -1,  0],\n",
              "       [-1, -1,  0],\n",
              "       [-1,  1,  0],\n",
              "       [ 1,  1,  1],\n",
              "       [-1,  1,  1]])"
            ]
          },
          "metadata": {},
          "execution_count": 49
        }
      ]
    },
    {
      "cell_type": "code",
      "metadata": {
        "colab": {
          "base_uri": "https://localhost:8080/"
        },
        "id": "D96BJH4IbcLQ",
        "outputId": "085f89c6-fdd3-40c1-9666-9adde018f17c"
      },
      "source": [
        "res"
      ],
      "execution_count": 48,
      "outputs": [
        {
          "output_type": "execute_result",
          "data": {
            "text/plain": [
              "array([0, 1, 0, 0, 1, 1, 0, 1, 1, 0, 1, 0, 1, 0, 1, 1, 1, 0, 1, 1, 0, 0,\n",
              "       1, 0, 0, 1, 1, 0, 1, 1, 0, 0, 1, 1, 0, 0, 1, 1, 0, 0, 0, 0, 1, 1])"
            ]
          },
          "metadata": {},
          "execution_count": 48
        }
      ]
    },
    {
      "cell_type": "code",
      "metadata": {
        "id": "cnZBloD6biYJ"
      },
      "source": [
        "df_train2['final_label'] = res"
      ],
      "execution_count": 51,
      "outputs": []
    },
    {
      "cell_type": "code",
      "metadata": {
        "colab": {
          "base_uri": "https://localhost:8080/",
          "height": 1000
        },
        "id": "-uRUxpToby51",
        "outputId": "6c6ba3e3-5e86-43a2-a890-964962854320"
      },
      "source": [
        "df_train2"
      ],
      "execution_count": 57,
      "outputs": [
        {
          "output_type": "execute_result",
          "data": {
            "text/html": [
              "<div>\n",
              "<style scoped>\n",
              "    .dataframe tbody tr th:only-of-type {\n",
              "        vertical-align: middle;\n",
              "    }\n",
              "\n",
              "    .dataframe tbody tr th {\n",
              "        vertical-align: top;\n",
              "    }\n",
              "\n",
              "    .dataframe thead th {\n",
              "        text-align: right;\n",
              "    }\n",
              "</style>\n",
              "<table border=\"1\" class=\"dataframe\">\n",
              "  <thead>\n",
              "    <tr style=\"text-align: right;\">\n",
              "      <th></th>\n",
              "      <th>sentences</th>\n",
              "      <th>Labels</th>\n",
              "      <th>final_label</th>\n",
              "      <th>new_label</th>\n",
              "    </tr>\n",
              "  </thead>\n",
              "  <tbody>\n",
              "    <tr>\n",
              "      <th>87</th>\n",
              "      <td>Optimism is an occupational hazard of programm...</td>\n",
              "      <td>NaN</td>\n",
              "      <td>0</td>\n",
              "      <td>0</td>\n",
              "    </tr>\n",
              "    <tr>\n",
              "      <th>51</th>\n",
              "      <td>What was the last TV show you binge-watched?</td>\n",
              "      <td>What was the last TV show you binge-watched?</td>\n",
              "      <td>1</td>\n",
              "      <td>1</td>\n",
              "    </tr>\n",
              "    <tr>\n",
              "      <th>50</th>\n",
              "      <td>In order to be irreplaceable, one must always...</td>\n",
              "      <td>NaN</td>\n",
              "      <td>0</td>\n",
              "      <td>0</td>\n",
              "    </tr>\n",
              "    <tr>\n",
              "      <th>29</th>\n",
              "      <td>Deleted code is debugged code.</td>\n",
              "      <td>NaN</td>\n",
              "      <td>0</td>\n",
              "      <td>0</td>\n",
              "    </tr>\n",
              "    <tr>\n",
              "      <th>27</th>\n",
              "      <td>How would your 10-year-old self react to what ...</td>\n",
              "      <td>How would your 10-year-old self react to what ...</td>\n",
              "      <td>1</td>\n",
              "      <td>1</td>\n",
              "    </tr>\n",
              "    <tr>\n",
              "      <th>19</th>\n",
              "      <td>Code is like humor. When you have to explain ...</td>\n",
              "      <td>Code is like humor. When you have to explain ...</td>\n",
              "      <td>1</td>\n",
              "      <td>1</td>\n",
              "    </tr>\n",
              "    <tr>\n",
              "      <th>11</th>\n",
              "      <td>Make it work, make it right, make it fast.</td>\n",
              "      <td>NaN</td>\n",
              "      <td>0</td>\n",
              "      <td>0</td>\n",
              "    </tr>\n",
              "    <tr>\n",
              "      <th>28</th>\n",
              "      <td>What type of music are you into?</td>\n",
              "      <td>What type of music are you into?</td>\n",
              "      <td>1</td>\n",
              "      <td>1</td>\n",
              "    </tr>\n",
              "    <tr>\n",
              "      <th>67</th>\n",
              "      <td>What’s the worst job you’ve ever had?</td>\n",
              "      <td>What’s the worst job you’ve ever had?</td>\n",
              "      <td>1</td>\n",
              "      <td>1</td>\n",
              "    </tr>\n",
              "    <tr>\n",
              "      <th>71</th>\n",
              "      <td>Programming can be fun, and so can cryptograph...</td>\n",
              "      <td>Programming can be fun, and so can cryptograph...</td>\n",
              "      <td>0</td>\n",
              "      <td>0</td>\n",
              "    </tr>\n",
              "    <tr>\n",
              "      <th>76</th>\n",
              "      <td>A good programmer is someone who always looks ...</td>\n",
              "      <td>A good programmer is someone who always looks ...</td>\n",
              "      <td>1</td>\n",
              "      <td>1</td>\n",
              "    </tr>\n",
              "    <tr>\n",
              "      <th>82</th>\n",
              "      <td>Fix the cause, not the symptom.</td>\n",
              "      <td>NaN</td>\n",
              "      <td>0</td>\n",
              "      <td>0</td>\n",
              "    </tr>\n",
              "    <tr>\n",
              "      <th>21</th>\n",
              "      <td>What’s your favorite way to spend a day off?</td>\n",
              "      <td>What’s your favorite way to spend a day off?</td>\n",
              "      <td>1</td>\n",
              "      <td>1</td>\n",
              "    </tr>\n",
              "    <tr>\n",
              "      <th>6</th>\n",
              "      <td>Do you consider yourself good at networking?</td>\n",
              "      <td>NaN</td>\n",
              "      <td>0</td>\n",
              "      <td>0</td>\n",
              "    </tr>\n",
              "    <tr>\n",
              "      <th>63</th>\n",
              "      <td>What will finally break the internet?</td>\n",
              "      <td>What will finally break the internet?</td>\n",
              "      <td>1</td>\n",
              "      <td>1</td>\n",
              "    </tr>\n",
              "    <tr>\n",
              "      <th>17</th>\n",
              "      <td>Where is the worst smelling place you've been?</td>\n",
              "      <td>Where is the worst smelling place you've been?</td>\n",
              "      <td>1</td>\n",
              "      <td>1</td>\n",
              "    </tr>\n",
              "    <tr>\n",
              "      <th>53</th>\n",
              "      <td>What's the most useless talent you have?</td>\n",
              "      <td>What's the most useless talent you have?</td>\n",
              "      <td>1</td>\n",
              "      <td>1</td>\n",
              "    </tr>\n",
              "    <tr>\n",
              "      <th>23</th>\n",
              "      <td>No code has zero defects.</td>\n",
              "      <td>NaN</td>\n",
              "      <td>0</td>\n",
              "      <td>0</td>\n",
              "    </tr>\n",
              "    <tr>\n",
              "      <th>31</th>\n",
              "      <td>What would you name your boat if you had one?</td>\n",
              "      <td>What would you name your boat if you had one?</td>\n",
              "      <td>1</td>\n",
              "      <td>1</td>\n",
              "    </tr>\n",
              "    <tr>\n",
              "      <th>47</th>\n",
              "      <td>A son asked his father (a programmer) why the ...</td>\n",
              "      <td>A son asked his father (a programmer) why the ...</td>\n",
              "      <td>1</td>\n",
              "      <td>1</td>\n",
              "    </tr>\n",
              "    <tr>\n",
              "      <th>34</th>\n",
              "      <td>Sometimes it pays to stay in bed on Monday, ra...</td>\n",
              "      <td>NaN</td>\n",
              "      <td>0</td>\n",
              "      <td>0</td>\n",
              "    </tr>\n",
              "    <tr>\n",
              "      <th>84</th>\n",
              "      <td>Was the last thing you read?</td>\n",
              "      <td>NaN</td>\n",
              "      <td>0</td>\n",
              "      <td>0</td>\n",
              "    </tr>\n",
              "    <tr>\n",
              "      <th>55</th>\n",
              "      <td>What are your hobbies, and how did you get int...</td>\n",
              "      <td>What are your hobbies, and how did you get int...</td>\n",
              "      <td>1</td>\n",
              "      <td>1</td>\n",
              "    </tr>\n",
              "    <tr>\n",
              "      <th>15</th>\n",
              "      <td>Ruby is rubbish! PHP is phpantastic!</td>\n",
              "      <td>NaN</td>\n",
              "      <td>0</td>\n",
              "      <td>0</td>\n",
              "    </tr>\n",
              "    <tr>\n",
              "      <th>37</th>\n",
              "      <td>If debugging is the process of removing bugs, ...</td>\n",
              "      <td>NaN</td>\n",
              "      <td>0</td>\n",
              "      <td>0</td>\n",
              "    </tr>\n",
              "    <tr>\n",
              "      <th>70</th>\n",
              "      <td>What originally got you interested in your cur...</td>\n",
              "      <td>What originally got you interested in your cur...</td>\n",
              "      <td>1</td>\n",
              "      <td>1</td>\n",
              "    </tr>\n",
              "    <tr>\n",
              "      <th>2</th>\n",
              "      <td>What was your favorite age growing up?</td>\n",
              "      <td>What was your favorite age growing up?</td>\n",
              "      <td>1</td>\n",
              "      <td>1</td>\n",
              "    </tr>\n",
              "    <tr>\n",
              "      <th>7</th>\n",
              "      <td>First, solve the problem. Then, write the code.</td>\n",
              "      <td>NaN</td>\n",
              "      <td>0</td>\n",
              "      <td>0</td>\n",
              "    </tr>\n",
              "    <tr>\n",
              "      <th>60</th>\n",
              "      <td>What was the best vacation you ever took and why?</td>\n",
              "      <td>What was the best vacation you ever took and why?</td>\n",
              "      <td>1</td>\n",
              "      <td>1</td>\n",
              "    </tr>\n",
              "    <tr>\n",
              "      <th>5</th>\n",
              "      <td>Do you have a favorite holiday? Why or why not?</td>\n",
              "      <td>Do you have a favorite holiday? Why or why not?</td>\n",
              "      <td>1</td>\n",
              "      <td>1</td>\n",
              "    </tr>\n",
              "    <tr>\n",
              "      <th>13</th>\n",
              "      <td>Knowledge is power.</td>\n",
              "      <td>NaN</td>\n",
              "      <td>0</td>\n",
              "      <td>0</td>\n",
              "    </tr>\n",
              "    <tr>\n",
              "      <th>58</th>\n",
              "      <td>There are two ways to write error-free program...</td>\n",
              "      <td>NaN</td>\n",
              "      <td>0</td>\n",
              "      <td>0</td>\n",
              "    </tr>\n",
              "    <tr>\n",
              "      <th>32</th>\n",
              "      <td>If you could only eat one food for the rest of...</td>\n",
              "      <td>If you could only eat one food for the rest of...</td>\n",
              "      <td>1</td>\n",
              "      <td>1</td>\n",
              "    </tr>\n",
              "    <tr>\n",
              "      <th>72</th>\n",
              "      <td>Where’s the next place on your travel bucket l...</td>\n",
              "      <td>Where’s the next place on your travel bucket l...</td>\n",
              "      <td>1</td>\n",
              "      <td>1</td>\n",
              "    </tr>\n",
              "    <tr>\n",
              "      <th>52</th>\n",
              "      <td>Programming today is a race between software e...</td>\n",
              "      <td>NaN</td>\n",
              "      <td>0</td>\n",
              "      <td>0</td>\n",
              "    </tr>\n",
              "    <tr>\n",
              "      <th>0</th>\n",
              "      <td>Debugging is twice as hard as writing the code...</td>\n",
              "      <td>NaN</td>\n",
              "      <td>0</td>\n",
              "      <td>0</td>\n",
              "    </tr>\n",
              "    <tr>\n",
              "      <th>1</th>\n",
              "      <td>What's the closest thing to real magic?</td>\n",
              "      <td>What's the closest thing to real magic?</td>\n",
              "      <td>1</td>\n",
              "      <td>1</td>\n",
              "    </tr>\n",
              "    <tr>\n",
              "      <th>56</th>\n",
              "      <td>What do you remember most about your first job?</td>\n",
              "      <td>What do you remember most about your first job?</td>\n",
              "      <td>1</td>\n",
              "      <td>1</td>\n",
              "    </tr>\n",
              "    <tr>\n",
              "      <th>20</th>\n",
              "      <td>Do you like going to the movies or prefer watc...</td>\n",
              "      <td>NaN</td>\n",
              "      <td>0</td>\n",
              "      <td>0</td>\n",
              "    </tr>\n",
              "    <tr>\n",
              "      <th>77</th>\n",
              "      <td>Copy-and-Paste was programmed by programmers f...</td>\n",
              "      <td>NaN</td>\n",
              "      <td>0</td>\n",
              "      <td>0</td>\n",
              "    </tr>\n",
              "    <tr>\n",
              "      <th>45</th>\n",
              "      <td>Have you ever had a side hustle or considered ...</td>\n",
              "      <td>NaN</td>\n",
              "      <td>0</td>\n",
              "      <td>0</td>\n",
              "    </tr>\n",
              "    <tr>\n",
              "      <th>80</th>\n",
              "      <td>How many programmers does it take to change a ...</td>\n",
              "      <td>How many programmers does it take to change a ...</td>\n",
              "      <td>0</td>\n",
              "      <td>0</td>\n",
              "    </tr>\n",
              "    <tr>\n",
              "      <th>22</th>\n",
              "      <td>What Secret Do You Have That No One Else Knows...</td>\n",
              "      <td>What Secret Do You Have That No One Else Knows...</td>\n",
              "      <td>1</td>\n",
              "      <td>1</td>\n",
              "    </tr>\n",
              "    <tr>\n",
              "      <th>39</th>\n",
              "      <td>How old were you when you had your first celeb...</td>\n",
              "      <td>How old were you when you had your first celeb...</td>\n",
              "      <td>1</td>\n",
              "      <td>1</td>\n",
              "    </tr>\n",
              "  </tbody>\n",
              "</table>\n",
              "</div>"
            ],
            "text/plain": [
              "                                            sentences  ... new_label\n",
              "87  Optimism is an occupational hazard of programm...  ...         0\n",
              "51       What was the last TV show you binge-watched?  ...         1\n",
              "50   In order to be irreplaceable, one must always...  ...         0\n",
              "29                     Deleted code is debugged code.  ...         0\n",
              "27  How would your 10-year-old self react to what ...  ...         1\n",
              "19   Code is like humor. When you have to explain ...  ...         1\n",
              "11         Make it work, make it right, make it fast.  ...         0\n",
              "28                   What type of music are you into?  ...         1\n",
              "67              What’s the worst job you’ve ever had?  ...         1\n",
              "71  Programming can be fun, and so can cryptograph...  ...         0\n",
              "76  A good programmer is someone who always looks ...  ...         1\n",
              "82                    Fix the cause, not the symptom.  ...         0\n",
              "21       What’s your favorite way to spend a day off?  ...         1\n",
              "6        Do you consider yourself good at networking?  ...         0\n",
              "63             What will finally break the internet?   ...         1\n",
              "17     Where is the worst smelling place you've been?  ...         1\n",
              "53          What's the most useless talent you have?   ...         1\n",
              "23                          No code has zero defects.  ...         0\n",
              "31     What would you name your boat if you had one?   ...         1\n",
              "47  A son asked his father (a programmer) why the ...  ...         1\n",
              "34  Sometimes it pays to stay in bed on Monday, ra...  ...         0\n",
              "84                       Was the last thing you read?  ...         0\n",
              "55  What are your hobbies, and how did you get int...  ...         1\n",
              "15               Ruby is rubbish! PHP is phpantastic!  ...         0\n",
              "37  If debugging is the process of removing bugs, ...  ...         0\n",
              "70  What originally got you interested in your cur...  ...         1\n",
              "2              What was your favorite age growing up?  ...         1\n",
              "7     First, solve the problem. Then, write the code.  ...         0\n",
              "60  What was the best vacation you ever took and why?  ...         1\n",
              "5     Do you have a favorite holiday? Why or why not?  ...         1\n",
              "13                                Knowledge is power.  ...         0\n",
              "58  There are two ways to write error-free program...  ...         0\n",
              "32  If you could only eat one food for the rest of...  ...         1\n",
              "72  Where’s the next place on your travel bucket l...  ...         1\n",
              "52  Programming today is a race between software e...  ...         0\n",
              "0   Debugging is twice as hard as writing the code...  ...         0\n",
              "1            What's the closest thing to real magic?   ...         1\n",
              "56    What do you remember most about your first job?  ...         1\n",
              "20  Do you like going to the movies or prefer watc...  ...         0\n",
              "77  Copy-and-Paste was programmed by programmers f...  ...         0\n",
              "45  Have you ever had a side hustle or considered ...  ...         0\n",
              "80  How many programmers does it take to change a ...  ...         0\n",
              "22  What Secret Do You Have That No One Else Knows...  ...         1\n",
              "39  How old were you when you had your first celeb...  ...         1\n",
              "\n",
              "[44 rows x 4 columns]"
            ]
          },
          "metadata": {},
          "execution_count": 57
        }
      ]
    },
    {
      "cell_type": "markdown",
      "metadata": {
        "id": "5z7Rp_T5bOYP"
      },
      "source": [
        "#### Narrative\n",
        "+ Our LabelModel was able to predict very well"
      ]
    },
    {
      "cell_type": "code",
      "metadata": {
        "id": "lxT0Pyx8WRr5"
      },
      "source": [
        "# Check Accuracy\n",
        "# majority_acc = majority_model.score(L=L_test, Y=Y_test, tie_break_policy=\"random\")[\n",
        "#     \"accuracy\"\n",
        "# ]\n",
        "# print(f\"{'Majority Vote Accuracy:':<25} {majority_acc * 100:.1f}%\")\n",
        "\n",
        "# label_model_acc = label_model.score(L=L_test, Y=Y_test, tie_break_policy=\"random\")[\n",
        "#     \"accuracy\"\n",
        "# ]\n",
        "# print(f\"{'Label Model Accuracy:':<25} {label_model_acc * 100:.1f}%\")"
      ],
      "execution_count": 53,
      "outputs": []
    },
    {
      "cell_type": "code",
      "metadata": {
        "id": "31Z4EgO7WRiT"
      },
      "source": [
        "#### Summary Code\n",
        "\n",
        "# Import Pkgs\n",
        "from snorkel.labeling import labeling_function,PandasLFApplier,LFAnalysis\n",
        "from snorkel.labeling.model import MajorityLabelVoter,LabelModel\n",
        "\n",
        "## Define Constants\n",
        "ABSTAIN = -1\n",
        "QUOTE = 0\n",
        "QUESTION = 1\n",
        "\n",
        "## Create Labeling Functions\n",
        "# Using Keyword Lookup: Method 1\n",
        "@labeling_function()\n",
        "def lf_keyword_lookup(x):\n",
        "  keywords =  \"what|why|when|how|where|which|who|whose\".split(\"|\")\n",
        "  return QUESTION if any(word in x.sentences.lower() for word in keywords) else ABSTAIN\n",
        "\n",
        "\n",
        "@labeling_function()\n",
        "def lf_regex_contains_what(x):\n",
        "    return QUESTIONS if re.search(r\"what.*?\", x.sentences, flags=re.I) else ABSTAIN\n",
        "\n",
        "\n",
        "## Apply on Pandas\n",
        "lfs = [lf_keyword_lookup,lf_regex_contains_what]\n",
        "applier = PandasLFApplier(lfs=lfs)\n",
        "L_train = applier.apply(df=df_train)\n",
        "\n",
        "### Evaluate Labeling Performance\n",
        "LFAnalysis(L=L_train, lfs=lfs).lf_summary()\n",
        "\n",
        "# Build Model\n",
        "label_model = LabelModel(cardinality=2, verbose=True)\n",
        "label_model.fit(L_train=L_train, n_epochs=500, log_freq=100, seed=123)\n",
        "\n",
        "# Make Prediction\n",
        "# Remove Abstain from label during prediction\n",
        "df_train2[\"new_label\"] = label_model.predict(L=L_train, tie_break_policy=\"abstain\")"
      ],
      "execution_count": null,
      "outputs": []
    },
    {
      "cell_type": "code",
      "metadata": {
        "id": "gUKndvocWRZf"
      },
      "source": [
        "#### Thanks For Watching\n",
        "#### Jesus Saves @JCharisTech\n",
        "#### Jesse E.Agbe(JCharis)"
      ],
      "execution_count": 60,
      "outputs": []
    }
  ]
}