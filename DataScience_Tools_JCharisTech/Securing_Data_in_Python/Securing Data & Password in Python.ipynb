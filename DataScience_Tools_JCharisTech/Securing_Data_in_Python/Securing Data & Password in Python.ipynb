{
 "cells": [
  {
   "cell_type": "markdown",
   "metadata": {},
   "source": [
    "## Securing Data & Passwords In Python\n",
    "### Data Protection\n",
    "+ Data protection is the process of safeguarding important information from corruption, compromise or loss.\n",
    "+ Data protection is defined as “legal control over access to and use of data”.\n",
    "+ GDPR defines it as “the protection of natural persons with regard to the processing of personal data”.\n",
    "\n",
    "    - Data Safeguarding : data is safe and secure\n",
    "    - Data Availability: data is available for usage\n",
    "    - Data Management: movement/portability,protecting and cataloging and analysis of data\n",
    "    - Data Storage: Storing data either via primary storage, backups(secondary storage) and archiving\n",
    "    \n",
    "### Data Security \n",
    "+ Data security is the process of securing data so that only authorized people can access or modify it.   \n",
    "+ It is a form of data protection against attacks,hacks,etc\n",
    "    - Identification: who are you\n",
    "    - Authentication: do you have access to the system/data/confirming identity of user\n",
    "    - Authorization: what are you allowed or permitted to do\n",
    "    - Accounting: record of what you did\n",
    "    - Auditing: tracing every activity related to one granted access\n",
    "      \n",
    "\n",
    "#### Data Security\n",
    "![](securing_data_jcharistech.png)"
   ]
  },
  {
   "cell_type": "markdown",
   "metadata": {},
   "source": [
    "### Encoding vs Hashing vs Encryption\n",
    "\n",
    "![](password_hashing_vs_encryption_jcharistech.png)\n",
    "\n",
    "#### Encoding\n",
    "+ Transforming data from one form to another form that can be used safely in a different system\n",
    "+ Uses a schema but not a private secret key\n",
    "+ Ensures data integrity\n",
    "\n",
    "\n",
    "#### Hashing\n",
    "+ Transforming a data/strings into a fixed sized form that cannot be reversed back\n",
    "+ Plaintext to Hashed Text\n",
    "+ Uses a hash function/algorithm only\n",
    "+ One Way Functional Approach\n",
    "    - MD5\n",
    "    - Secure Hash Algorithm (SHA)\n",
    "    - Blake2\n",
    "+ Usefulness of Hashing\n",
    "    - Password hashing/storage\n",
    "    - Digital Signatures/Certificates\n",
    "    - Checking for file integrity\n",
    "    \n",
    "\n",
    "\n",
    "#### Encryption\n",
    "+ Transforming plaintext data into a ciphertext that can only be read as plaintext if the user has the secret\n",
    "key\n",
    "+ Plaintext to Ciphertext\n",
    "+ Two Way Functional Approach\n",
    "+ Uses a private/public key to transform our plaintext\n",
    "+ Uses a key + an algorithm for the process\n",
    "    - Symmetric Algorithm\n",
    "    - Asymmetric Algorithm\n",
    "    - RSA \n",
    "    - AES\n",
    "\n",
    "\n",
    "#### Encoding Libraries\n",
    "+ base64\n",
    "+ unicode\n",
    "\n",
    "####  Hashing Libraries\n",
    "+ hashlib\n",
    "+ passlib\n",
    "+ bcrypt\n",
    "\n",
    "#### Encryption Libraries\n",
    "+ cryptography\n",
    "+ pycrypto"
   ]
  },
  {
   "cell_type": "code",
   "execution_count": 1,
   "metadata": {},
   "outputs": [],
   "source": [
    "#### Hashing\n",
    "import hashlib"
   ]
  },
  {
   "cell_type": "code",
   "execution_count": 2,
   "metadata": {
    "collapsed": true,
    "jupyter": {
     "outputs_hidden": true
    }
   },
   "outputs": [
    {
     "data": {
      "text/plain": [
       "['__all__',\n",
       " '__builtin_constructor_cache',\n",
       " '__builtins__',\n",
       " '__cached__',\n",
       " '__doc__',\n",
       " '__file__',\n",
       " '__get_builtin_constructor',\n",
       " '__loader__',\n",
       " '__name__',\n",
       " '__package__',\n",
       " '__spec__',\n",
       " '_hashlib',\n",
       " 'algorithms_available',\n",
       " 'algorithms_guaranteed',\n",
       " 'blake2b',\n",
       " 'blake2s',\n",
       " 'md5',\n",
       " 'new',\n",
       " 'pbkdf2_hmac',\n",
       " 'scrypt',\n",
       " 'sha1',\n",
       " 'sha224',\n",
       " 'sha256',\n",
       " 'sha384',\n",
       " 'sha3_224',\n",
       " 'sha3_256',\n",
       " 'sha3_384',\n",
       " 'sha3_512',\n",
       " 'sha512',\n",
       " 'shake_128',\n",
       " 'shake_256']"
      ]
     },
     "execution_count": 2,
     "metadata": {},
     "output_type": "execute_result"
    }
   ],
   "source": [
    "dir(hashlib)"
   ]
  },
  {
   "cell_type": "code",
   "execution_count": 3,
   "metadata": {},
   "outputs": [],
   "source": [
    "plain_text = \"This is secret\""
   ]
  },
  {
   "cell_type": "code",
   "execution_count": 4,
   "metadata": {},
   "outputs": [
    {
     "data": {
      "text/plain": [
       "6404514682537372306"
      ]
     },
     "execution_count": 4,
     "metadata": {},
     "output_type": "execute_result"
    }
   ],
   "source": [
    "hash(plain_text)"
   ]
  },
  {
   "cell_type": "code",
   "execution_count": 5,
   "metadata": {},
   "outputs": [],
   "source": [
    "# Using Hashlib to Hash A File/Text\n",
    "hashed_text = hashlib.md5(str.encode(plain_text)).hexdigest()"
   ]
  },
  {
   "cell_type": "code",
   "execution_count": 6,
   "metadata": {},
   "outputs": [
    {
     "data": {
      "text/plain": [
       "'878fb5dca64180338f690e61b16ff826'"
      ]
     },
     "execution_count": 6,
     "metadata": {},
     "output_type": "execute_result"
    }
   ],
   "source": [
    "hashed_text"
   ]
  },
  {
   "cell_type": "code",
   "execution_count": 7,
   "metadata": {},
   "outputs": [],
   "source": [
    "# Using Hashlib to Hash A File/Text\n",
    "hashed_text_02 = hashlib.md5(b'This is secret').hexdigest()"
   ]
  },
  {
   "cell_type": "code",
   "execution_count": 8,
   "metadata": {},
   "outputs": [
    {
     "name": "stdout",
     "output_type": "stream",
     "text": [
      "878fb5dca64180338f690e61b16ff826\n",
      "878fb5dca64180338f690e61b16ff826\n"
     ]
    }
   ],
   "source": [
    "print(hashed_text)\n",
    "print(hashed_text_02)"
   ]
  },
  {
   "cell_type": "code",
   "execution_count": null,
   "metadata": {},
   "outputs": [],
   "source": [
    "# Rainbow cracking (list of words + hash fxn)"
   ]
  },
  {
   "cell_type": "code",
   "execution_count": 9,
   "metadata": {},
   "outputs": [],
   "source": [
    "# Using SHA2\n",
    "hashed_text_03 = hashlib.sha256(b'This is secret').hexdigest()"
   ]
  },
  {
   "cell_type": "code",
   "execution_count": 10,
   "metadata": {},
   "outputs": [
    {
     "data": {
      "text/plain": [
       "'c231bfc93a4f4e57823d04ce8ec9a7ee5d992a76feaed2f881f20cf7e1b111d7'"
      ]
     },
     "execution_count": 10,
     "metadata": {},
     "output_type": "execute_result"
    }
   ],
   "source": [
    "hashed_text_03"
   ]
  },
  {
   "cell_type": "code",
   "execution_count": 11,
   "metadata": {},
   "outputs": [],
   "source": [
    "# Using SHA2\n",
    "hashed_text_03_long = hashlib.sha256(b'This is secret key').hexdigest()"
   ]
  },
  {
   "cell_type": "code",
   "execution_count": 12,
   "metadata": {},
   "outputs": [
    {
     "data": {
      "text/plain": [
       "'4a7d8d9801f18229ce9ba8970e4b88e83d981a8b363ab8641ca1234238ab3892'"
      ]
     },
     "execution_count": 12,
     "metadata": {},
     "output_type": "execute_result"
    }
   ],
   "source": [
    "hashed_text_03_long"
   ]
  },
  {
   "cell_type": "code",
   "execution_count": 13,
   "metadata": {},
   "outputs": [
    {
     "name": "stdout",
     "output_type": "stream",
     "text": [
      "64\n",
      "64\n"
     ]
    }
   ],
   "source": [
    "print(len(hashed_text_03))\n",
    "print(len(hashed_text_03_long))"
   ]
  },
  {
   "cell_type": "markdown",
   "metadata": {},
   "source": [
    "### BCRYPT\n",
    "+ pip install bcrypt\n",
    "+ Unicode-objects must be encoded before hashing\n",
    "+ bcrypt automatically generate a salt and stores it with the hashed result\n",
    "    - {salt}{hashed_text}\n",
    "    - useful for matching plain text against hashed text stored in database for login\n",
    "    \n",
    "+ rounds/ work-factor: the amount of time and resources required to break the system or process"
   ]
  },
  {
   "cell_type": "code",
   "execution_count": 14,
   "metadata": {},
   "outputs": [],
   "source": [
    "import bcrypt"
   ]
  },
  {
   "cell_type": "code",
   "execution_count": 15,
   "metadata": {},
   "outputs": [
    {
     "data": {
      "text/plain": [
       "['__about__',\n",
       " '__all__',\n",
       " '__author__',\n",
       " '__builtins__',\n",
       " '__cached__',\n",
       " '__copyright__',\n",
       " '__doc__',\n",
       " '__email__',\n",
       " '__file__',\n",
       " '__license__',\n",
       " '__loader__',\n",
       " '__name__',\n",
       " '__package__',\n",
       " '__path__',\n",
       " '__spec__',\n",
       " '__summary__',\n",
       " '__title__',\n",
       " '__uri__',\n",
       " '__version__',\n",
       " '_bcrypt',\n",
       " '_bcrypt_assert',\n",
       " '_normalize_re',\n",
       " 'absolute_import',\n",
       " 'checkpw',\n",
       " 'division',\n",
       " 'gensalt',\n",
       " 'hashpw',\n",
       " 'kdf',\n",
       " 'os',\n",
       " 're',\n",
       " 'six',\n",
       " 'warnings']"
      ]
     },
     "execution_count": 15,
     "metadata": {},
     "output_type": "execute_result"
    }
   ],
   "source": [
    "# Attributes and Methods\n",
    "dir(bcrypt)"
   ]
  },
  {
   "cell_type": "code",
   "execution_count": 16,
   "metadata": {},
   "outputs": [
    {
     "data": {
      "text/plain": [
       "'This is secret'"
      ]
     },
     "execution_count": 16,
     "metadata": {},
     "output_type": "execute_result"
    }
   ],
   "source": [
    "plain_text"
   ]
  },
  {
   "cell_type": "code",
   "execution_count": 17,
   "metadata": {},
   "outputs": [],
   "source": [
    "hashed_text_with_bcrypt = bcrypt.hashpw(str.encode(plain_text),bcrypt.gensalt())"
   ]
  },
  {
   "cell_type": "code",
   "execution_count": 18,
   "metadata": {},
   "outputs": [
    {
     "data": {
      "text/plain": [
       "b'$2b$12$mZe9dVvlUfPyK1STZ2ZP6e.53hpQfYIUojeSN4rCy.p.u0WK3yNtO'"
      ]
     },
     "execution_count": 18,
     "metadata": {},
     "output_type": "execute_result"
    }
   ],
   "source": [
    "hashed_text_with_bcrypt_bcrypt"
   ]
  },
  {
   "cell_type": "code",
   "execution_count": 19,
   "metadata": {},
   "outputs": [
    {
     "data": {
      "text/plain": [
       "'This is secret'"
      ]
     },
     "execution_count": 19,
     "metadata": {},
     "output_type": "execute_result"
    }
   ],
   "source": [
    "# Check/Verify the hash\n",
    "plain_text"
   ]
  },
  {
   "cell_type": "code",
   "execution_count": 21,
   "metadata": {},
   "outputs": [
    {
     "data": {
      "text/plain": [
       "True"
      ]
     },
     "execution_count": 21,
     "metadata": {},
     "output_type": "execute_result"
    }
   ],
   "source": [
    "bcrypt.checkpw(b'This is secret',hashed_text_with_bcrypt)"
   ]
  },
  {
   "cell_type": "code",
   "execution_count": 23,
   "metadata": {},
   "outputs": [
    {
     "data": {
      "text/plain": [
       "b'$2b$14$qsM/bEno49Y4qdNMZG6n7eYq0QSCH.ZweeOlfws2ckAB.0HnrM9zW'"
      ]
     },
     "execution_count": 23,
     "metadata": {},
     "output_type": "execute_result"
    }
   ],
   "source": [
    "# Setting our WorkFactor/Round\n",
    "bcrypt.hashpw(b'This is secret',bcrypt.gensalt(rounds=14))"
   ]
  },
  {
   "cell_type": "code",
   "execution_count": 24,
   "metadata": {},
   "outputs": [
    {
     "name": "stdout",
     "output_type": "stream",
     "text": [
      "1e+03 ms ± 158 ms per loop (mean ± std. dev. of 7 runs, 1 loop each)\n"
     ]
    }
   ],
   "source": [
    "%%timeit\n",
    "bcrypt.hashpw(b'This is secret',bcrypt.gensalt())"
   ]
  },
  {
   "cell_type": "markdown",
   "metadata": {},
   "source": [
    "%%timeit\n",
    "bcrypt.hashpw(b'This is secret',bcrypt.gensalt(rounds=14))"
   ]
  },
  {
   "cell_type": "code",
   "execution_count": 26,
   "metadata": {},
   "outputs": [
    {
     "data": {
      "text/plain": [
       "b'$2b$12$G2dXPFvi4l0l3HEFgdXVn.dvF4QrTUde6m/jQFotV30jI6wugmvkG'"
      ]
     },
     "execution_count": 26,
     "metadata": {},
     "output_type": "execute_result"
    }
   ],
   "source": [
    "bcrypt.hashpw(b'This is secret',bcrypt.gensalt())"
   ]
  },
  {
   "cell_type": "code",
   "execution_count": 27,
   "metadata": {},
   "outputs": [
    {
     "data": {
      "text/plain": [
       "b'$2b$12$mZe9dVvlUfPyK1STZ2ZP6e.53hpQfYIUojeSN4rCy.p.u0WK3yNtO'"
      ]
     },
     "execution_count": 27,
     "metadata": {},
     "output_type": "execute_result"
    }
   ],
   "source": [
    "hashed_text_with_bcrypt"
   ]
  },
  {
   "cell_type": "code",
   "execution_count": null,
   "metadata": {},
   "outputs": [],
   "source": []
  },
  {
   "cell_type": "code",
   "execution_count": 28,
   "metadata": {},
   "outputs": [],
   "source": [
    "### Passlib"
   ]
  },
  {
   "cell_type": "code",
   "execution_count": 31,
   "metadata": {},
   "outputs": [],
   "source": [
    "import passlib.hash"
   ]
  },
  {
   "cell_type": "code",
   "execution_count": 32,
   "metadata": {},
   "outputs": [
    {
     "data": {
      "text/plain": [
       "['__class__',\n",
       " '__delattr__',\n",
       " '__dict__',\n",
       " '__dir__',\n",
       " '__doc__',\n",
       " '__eq__',\n",
       " '__format__',\n",
       " '__ge__',\n",
       " '__getattr__',\n",
       " '__getattribute__',\n",
       " '__gt__',\n",
       " '__hash__',\n",
       " '__init__',\n",
       " '__init_subclass__',\n",
       " '__le__',\n",
       " '__lt__',\n",
       " '__module__',\n",
       " '__name__',\n",
       " '__ne__',\n",
       " '__new__',\n",
       " '__package__',\n",
       " '__reduce__',\n",
       " '__reduce_ex__',\n",
       " '__repr__',\n",
       " '__setattr__',\n",
       " '__sizeof__',\n",
       " '__str__',\n",
       " '__subclasshook__',\n",
       " '__weakref__',\n",
       " 'apr_md5_crypt',\n",
       " 'argon2',\n",
       " 'atlassian_pbkdf2_sha1',\n",
       " 'bcrypt',\n",
       " 'bcrypt_sha256',\n",
       " 'bigcrypt',\n",
       " 'bsd_nthash',\n",
       " 'bsdi_crypt',\n",
       " 'cisco_asa',\n",
       " 'cisco_pix',\n",
       " 'cisco_type7',\n",
       " 'crypt16',\n",
       " 'cta_pbkdf2_sha1',\n",
       " 'des_crypt',\n",
       " 'django_argon2',\n",
       " 'django_bcrypt',\n",
       " 'django_bcrypt_sha256',\n",
       " 'django_des_crypt',\n",
       " 'django_disabled',\n",
       " 'django_pbkdf2_sha1',\n",
       " 'django_pbkdf2_sha256',\n",
       " 'django_salted_md5',\n",
       " 'django_salted_sha1',\n",
       " 'dlitz_pbkdf2_sha1',\n",
       " 'fshp',\n",
       " 'grub_pbkdf2_sha512',\n",
       " 'hex_md4',\n",
       " 'hex_md5',\n",
       " 'hex_sha1',\n",
       " 'hex_sha256',\n",
       " 'hex_sha512',\n",
       " 'htdigest',\n",
       " 'ldap_bcrypt',\n",
       " 'ldap_bsdi_crypt',\n",
       " 'ldap_des_crypt',\n",
       " 'ldap_hex_md5',\n",
       " 'ldap_hex_sha1',\n",
       " 'ldap_md5',\n",
       " 'ldap_md5_crypt',\n",
       " 'ldap_pbkdf2_sha1',\n",
       " 'ldap_pbkdf2_sha256',\n",
       " 'ldap_pbkdf2_sha512',\n",
       " 'ldap_plaintext',\n",
       " 'ldap_salted_md5',\n",
       " 'ldap_salted_sha1',\n",
       " 'ldap_sha1',\n",
       " 'ldap_sha1_crypt',\n",
       " 'ldap_sha256_crypt',\n",
       " 'ldap_sha512_crypt',\n",
       " 'lmhash',\n",
       " 'md5_crypt',\n",
       " 'msdcc',\n",
       " 'msdcc2',\n",
       " 'mssql2000',\n",
       " 'mssql2005',\n",
       " 'mysql323',\n",
       " 'mysql41',\n",
       " 'nthash',\n",
       " 'oracle10',\n",
       " 'oracle11',\n",
       " 'pbkdf2_sha1',\n",
       " 'pbkdf2_sha256',\n",
       " 'pbkdf2_sha512',\n",
       " 'phpass',\n",
       " 'plaintext',\n",
       " 'postgres_md5',\n",
       " 'roundup_plaintext',\n",
       " 'scram',\n",
       " 'scrypt',\n",
       " 'sha1_crypt',\n",
       " 'sha256_crypt',\n",
       " 'sha512_crypt',\n",
       " 'sun_md5_crypt',\n",
       " 'unix_disabled',\n",
       " 'unix_fallback']"
      ]
     },
     "execution_count": 32,
     "metadata": {},
     "output_type": "execute_result"
    }
   ],
   "source": [
    "dir(passlib.hash)"
   ]
  },
  {
   "cell_type": "code",
   "execution_count": 33,
   "metadata": {},
   "outputs": [
    {
     "data": {
      "text/plain": [
       "'This is secret'"
      ]
     },
     "execution_count": 33,
     "metadata": {},
     "output_type": "execute_result"
    }
   ],
   "source": [
    "plain_text"
   ]
  },
  {
   "cell_type": "code",
   "execution_count": 35,
   "metadata": {},
   "outputs": [],
   "source": [
    "from passlib.hash import sha256_crypt, md5_crypt"
   ]
  },
  {
   "cell_type": "code",
   "execution_count": 40,
   "metadata": {},
   "outputs": [],
   "source": [
    "# Using Sha256\n",
    "hashed_text_with_p = md5_crypt.hash(plain_text)"
   ]
  },
  {
   "cell_type": "code",
   "execution_count": 41,
   "metadata": {},
   "outputs": [
    {
     "data": {
      "text/plain": [
       "'$1$Sf4WEPYc$M89s4tdJlPSSB7tCoSH4Z1'"
      ]
     },
     "execution_count": 41,
     "metadata": {},
     "output_type": "execute_result"
    }
   ],
   "source": [
    "hashed_text_with_p"
   ]
  },
  {
   "cell_type": "code",
   "execution_count": 38,
   "metadata": {},
   "outputs": [
    {
     "data": {
      "text/plain": [
       "'$1$rjHEWtah$lONmccrllJVzO3yVkPbgT0'"
      ]
     },
     "execution_count": 38,
     "metadata": {},
     "output_type": "execute_result"
    }
   ],
   "source": [
    "md5_crypt.hash(plain_text)"
   ]
  },
  {
   "cell_type": "code",
   "execution_count": 42,
   "metadata": {},
   "outputs": [],
   "source": [
    "hashed_text_with_p_2 = sha256_crypt.hash(plain_text)"
   ]
  },
  {
   "cell_type": "code",
   "execution_count": 43,
   "metadata": {},
   "outputs": [
    {
     "name": "stdout",
     "output_type": "stream",
     "text": [
      "Hashlib 878fb5dca64180338f690e61b16ff826\n",
      "passlib $1$Sf4WEPYc$M89s4tdJlPSSB7tCoSH4Z1\n"
     ]
    }
   ],
   "source": [
    "print(\"Hashlib\",hashed_text)\n",
    "print(\"passlib\",hashed_text_with_p)"
   ]
  },
  {
   "cell_type": "code",
   "execution_count": 44,
   "metadata": {},
   "outputs": [
    {
     "data": {
      "text/plain": [
       "True"
      ]
     },
     "execution_count": 44,
     "metadata": {},
     "output_type": "execute_result"
    }
   ],
   "source": [
    "# Verify the hashed text\n",
    "md5_crypt.verify('This is secret',hashed_text_with_p)"
   ]
  },
  {
   "cell_type": "code",
   "execution_count": 45,
   "metadata": {},
   "outputs": [],
   "source": [
    "#Salt\n",
    "s1 = sha256_crypt.using(salt='ef').hash(plain_text)"
   ]
  },
  {
   "cell_type": "code",
   "execution_count": 46,
   "metadata": {},
   "outputs": [
    {
     "data": {
      "text/plain": [
       "'$5$rounds=535000$ef$XAUPMA/nvWdc8JidD3lAOS37u5rti2jCR.4yyLrAJL5'"
      ]
     },
     "execution_count": 46,
     "metadata": {},
     "output_type": "execute_result"
    }
   ],
   "source": [
    "s1"
   ]
  },
  {
   "cell_type": "code",
   "execution_count": null,
   "metadata": {},
   "outputs": [],
   "source": []
  },
  {
   "cell_type": "code",
   "execution_count": null,
   "metadata": {},
   "outputs": [],
   "source": [
    "### Encryption\n",
    "# 2 Way fxn\n",
    "# pl to ct"
   ]
  },
  {
   "cell_type": "code",
   "execution_count": 47,
   "metadata": {},
   "outputs": [
    {
     "data": {
      "text/plain": [
       "'This is secret'"
      ]
     },
     "execution_count": 47,
     "metadata": {},
     "output_type": "execute_result"
    }
   ],
   "source": [
    "plain_text"
   ]
  },
  {
   "cell_type": "code",
   "execution_count": 48,
   "metadata": {},
   "outputs": [],
   "source": [
    "import cryptography"
   ]
  },
  {
   "cell_type": "code",
   "execution_count": 49,
   "metadata": {},
   "outputs": [
    {
     "data": {
      "text/plain": [
       "['__about__',\n",
       " '__all__',\n",
       " '__author__',\n",
       " '__builtins__',\n",
       " '__cached__',\n",
       " '__copyright__',\n",
       " '__doc__',\n",
       " '__email__',\n",
       " '__file__',\n",
       " '__license__',\n",
       " '__loader__',\n",
       " '__name__',\n",
       " '__package__',\n",
       " '__path__',\n",
       " '__spec__',\n",
       " '__summary__',\n",
       " '__title__',\n",
       " '__uri__',\n",
       " '__version__',\n",
       " 'absolute_import',\n",
       " 'division',\n",
       " 'print_function',\n",
       " 'sys',\n",
       " 'warnings']"
      ]
     },
     "execution_count": 49,
     "metadata": {},
     "output_type": "execute_result"
    }
   ],
   "source": [
    "dir(cryptography)"
   ]
  },
  {
   "cell_type": "code",
   "execution_count": 51,
   "metadata": {},
   "outputs": [],
   "source": [
    "# Symmetric Algo\n",
    "from cryptography.fernet import Fernet"
   ]
  },
  {
   "cell_type": "code",
   "execution_count": 52,
   "metadata": {},
   "outputs": [
    {
     "data": {
      "text/plain": [
       "['__class__',\n",
       " '__delattr__',\n",
       " '__dict__',\n",
       " '__dir__',\n",
       " '__doc__',\n",
       " '__eq__',\n",
       " '__format__',\n",
       " '__ge__',\n",
       " '__getattribute__',\n",
       " '__gt__',\n",
       " '__hash__',\n",
       " '__init__',\n",
       " '__init_subclass__',\n",
       " '__le__',\n",
       " '__lt__',\n",
       " '__module__',\n",
       " '__ne__',\n",
       " '__new__',\n",
       " '__reduce__',\n",
       " '__reduce_ex__',\n",
       " '__repr__',\n",
       " '__setattr__',\n",
       " '__sizeof__',\n",
       " '__str__',\n",
       " '__subclasshook__',\n",
       " '__weakref__',\n",
       " '_encrypt_from_parts',\n",
       " 'decrypt',\n",
       " 'encrypt',\n",
       " 'generate_key']"
      ]
     },
     "execution_count": 52,
     "metadata": {},
     "output_type": "execute_result"
    }
   ],
   "source": [
    "dir(Fernet)"
   ]
  },
  {
   "cell_type": "code",
   "execution_count": 53,
   "metadata": {},
   "outputs": [],
   "source": [
    "# Key + Algo ==> encrypt\n",
    "secret_key = Fernet.generate_key()"
   ]
  },
  {
   "cell_type": "code",
   "execution_count": 56,
   "metadata": {},
   "outputs": [
    {
     "data": {
      "text/plain": [
       "b'DzeIPH8sLYnMketQ3rMUbLxLdmuMVwBy0PstDiebPfU='"
      ]
     },
     "execution_count": 56,
     "metadata": {},
     "output_type": "execute_result"
    }
   ],
   "source": [
    "secret_key"
   ]
  },
  {
   "cell_type": "code",
   "execution_count": null,
   "metadata": {},
   "outputs": [],
   "source": [
    "#DzeIPH8sLYnMketQ3rMUbLxLdmuMVwBy0PstDiebPfU="
   ]
  },
  {
   "cell_type": "code",
   "execution_count": 65,
   "metadata": {},
   "outputs": [],
   "source": [
    "file = open('secret_file.key','wb')\n",
    "file.write(secret_key)\n",
    "file.close()"
   ]
  },
  {
   "cell_type": "code",
   "execution_count": 57,
   "metadata": {},
   "outputs": [],
   "source": [
    "# Encryption\n",
    "f = Fernet(secret_key)"
   ]
  },
  {
   "cell_type": "code",
   "execution_count": 58,
   "metadata": {},
   "outputs": [],
   "source": [
    "my_text = f.encrypt(str.encode(plain_text))"
   ]
  },
  {
   "cell_type": "code",
   "execution_count": 59,
   "metadata": {},
   "outputs": [
    {
     "data": {
      "text/plain": [
       "b'gAAAAABe18pvoUEbRYdnMtPPnb_cAmNfEZByQT5esIDiPNQzGdnu0kOi9THrKRzaBoXW6-RupDcrUhKZIrSnhwkjOGX1gIsR9A=='"
      ]
     },
     "execution_count": 59,
     "metadata": {},
     "output_type": "execute_result"
    }
   ],
   "source": [
    "my_text"
   ]
  },
  {
   "cell_type": "code",
   "execution_count": 60,
   "metadata": {},
   "outputs": [
    {
     "data": {
      "text/plain": [
       "b'This is secret'"
      ]
     },
     "execution_count": 60,
     "metadata": {},
     "output_type": "execute_result"
    }
   ],
   "source": [
    "# Decryption\n",
    "# First Method\n",
    "f.decrypt(my_text)"
   ]
  },
  {
   "cell_type": "code",
   "execution_count": 75,
   "metadata": {},
   "outputs": [],
   "source": [
    "# Method 2 \n",
    "key_file = open('secret_file.key','rb')\n",
    "key = key_file.read()\n",
    "key_file.close()"
   ]
  },
  {
   "cell_type": "code",
   "execution_count": 76,
   "metadata": {},
   "outputs": [],
   "source": [
    "new_f = Fernet(key)"
   ]
  },
  {
   "cell_type": "code",
   "execution_count": 77,
   "metadata": {},
   "outputs": [
    {
     "data": {
      "text/plain": [
       "b'This is secret'"
      ]
     },
     "execution_count": 77,
     "metadata": {},
     "output_type": "execute_result"
    }
   ],
   "source": [
    "new_f.decrypt(my_text)"
   ]
  },
  {
   "cell_type": "code",
   "execution_count": null,
   "metadata": {},
   "outputs": [],
   "source": []
  },
  {
   "cell_type": "code",
   "execution_count": 78,
   "metadata": {},
   "outputs": [
    {
     "data": {
      "text/plain": [
       "b'this is secret'"
      ]
     },
     "execution_count": 78,
     "metadata": {},
     "output_type": "execute_result"
    }
   ],
   "source": [
    "# Encoding\n",
    "'this is secret'.encode('ASCII')"
   ]
  },
  {
   "cell_type": "code",
   "execution_count": 79,
   "metadata": {},
   "outputs": [],
   "source": [
    "import base64\n",
    "# 26 Upper\n",
    "# 26 Lower\n",
    "# 10"
   ]
  },
  {
   "cell_type": "code",
   "execution_count": 81,
   "metadata": {},
   "outputs": [
    {
     "data": {
      "text/plain": [
       "b'dGhpcyBpcyBhIHRleHQ='"
      ]
     },
     "execution_count": 81,
     "metadata": {},
     "output_type": "execute_result"
    }
   ],
   "source": [
    "base64.b64encode(b'this is a text')"
   ]
  },
  {
   "cell_type": "code",
   "execution_count": 82,
   "metadata": {},
   "outputs": [],
   "source": [
    "ex1 = base64.b64encode(b'this is a text')"
   ]
  },
  {
   "cell_type": "code",
   "execution_count": 83,
   "metadata": {},
   "outputs": [
    {
     "data": {
      "text/plain": [
       "b'this is a text'"
      ]
     },
     "execution_count": 83,
     "metadata": {},
     "output_type": "execute_result"
    }
   ],
   "source": [
    "# Decode\n",
    "base64.b64decode(ex1)"
   ]
  },
  {
   "cell_type": "code",
   "execution_count": null,
   "metadata": {},
   "outputs": [],
   "source": []
  }
 ],
 "metadata": {
  "kernelspec": {
   "display_name": "Python 3",
   "language": "python",
   "name": "python3"
  },
  "language_info": {
   "codemirror_mode": {
    "name": "ipython",
    "version": 3
   },
   "file_extension": ".py",
   "mimetype": "text/x-python",
   "name": "python",
   "nbconvert_exporter": "python",
   "pygments_lexer": "ipython3",
   "version": "3.7.5"
  }
 },
 "nbformat": 4,
 "nbformat_minor": 4
}
