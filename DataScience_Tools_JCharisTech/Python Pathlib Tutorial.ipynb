{
 "cells": [
  {
   "cell_type": "markdown",
   "metadata": {},
   "source": [
    "### Pathlib Tutorial\n",
    "+ Object Oriented File System Navigation\n",
    "+ os.path\n",
    "+ glob\n",
    "+ shutil\n",
    "\n",
    "####  Main Class\n",
    "+ 'Path',\n",
    "+  'PosixPath',\n",
    "+  'PurePath',\n",
    "+  'PurePosixPath',\n",
    "+  'PureWindowsPath',\n"
   ]
  },
  {
   "cell_type": "code",
   "execution_count": 90,
   "metadata": {},
   "outputs": [],
   "source": [
    "# Load Pathlib\n",
    "import pathlib"
   ]
  },
  {
   "cell_type": "code",
   "execution_count": 91,
   "metadata": {
    "collapsed": true,
    "jupyter": {
     "outputs_hidden": true
    }
   },
   "outputs": [
    {
     "data": {
      "text/plain": [
       "['EBADF',\n",
       " 'EINVAL',\n",
       " 'ELOOP',\n",
       " 'ENOENT',\n",
       " 'ENOTDIR',\n",
       " 'Path',\n",
       " 'PosixPath',\n",
       " 'PurePath',\n",
       " 'PurePosixPath',\n",
       " 'PureWindowsPath',\n",
       " 'S_ISBLK',\n",
       " 'S_ISCHR',\n",
       " 'S_ISDIR',\n",
       " 'S_ISFIFO',\n",
       " 'S_ISLNK',\n",
       " 'S_ISREG',\n",
       " 'S_ISSOCK',\n",
       " 'Sequence',\n",
       " 'WindowsPath',\n",
       " '_Accessor',\n",
       " '_Flavour',\n",
       " '_IGNORED_ERROS',\n",
       " '_IGNORED_WINERRORS',\n",
       " '_NormalAccessor',\n",
       " '_PathParents',\n",
       " '_PosixFlavour',\n",
       " '_PreciseSelector',\n",
       " '_RecursiveWildcardSelector',\n",
       " '_Selector',\n",
       " '_TerminatingSelector',\n",
       " '_WildcardSelector',\n",
       " '_WindowsFlavour',\n",
       " '__all__',\n",
       " '__builtins__',\n",
       " '__cached__',\n",
       " '__doc__',\n",
       " '__file__',\n",
       " '__loader__',\n",
       " '__name__',\n",
       " '__package__',\n",
       " '__spec__',\n",
       " '_ignore_error',\n",
       " '_is_wildcard_pattern',\n",
       " '_make_selector',\n",
       " '_normal_accessor',\n",
       " '_posix_flavour',\n",
       " '_windows_flavour',\n",
       " 'attrgetter',\n",
       " 'fnmatch',\n",
       " 'functools',\n",
       " 'io',\n",
       " 'nt',\n",
       " 'ntpath',\n",
       " 'os',\n",
       " 'posixpath',\n",
       " 're',\n",
       " 'supports_symlinks',\n",
       " 'sys',\n",
       " 'urlquote_from_bytes']"
      ]
     },
     "execution_count": 91,
     "metadata": {},
     "output_type": "execute_result"
    }
   ],
   "source": [
    "# Check All Methods of Pathlib\n",
    "dir(pathlib)"
   ]
  },
  {
   "cell_type": "code",
   "execution_count": 92,
   "metadata": {},
   "outputs": [],
   "source": [
    "# Load Os\n",
    "import os"
   ]
  },
  {
   "cell_type": "code",
   "execution_count": 93,
   "metadata": {
    "collapsed": true,
    "jupyter": {
     "outputs_hidden": true
    }
   },
   "outputs": [
    {
     "data": {
      "text/plain": [
       "['__all__',\n",
       " '__builtins__',\n",
       " '__cached__',\n",
       " '__doc__',\n",
       " '__file__',\n",
       " '__loader__',\n",
       " '__name__',\n",
       " '__package__',\n",
       " '__spec__',\n",
       " '_get_sep',\n",
       " '_joinrealpath',\n",
       " '_varprog',\n",
       " '_varprogb',\n",
       " 'abspath',\n",
       " 'altsep',\n",
       " 'basename',\n",
       " 'commonpath',\n",
       " 'commonprefix',\n",
       " 'curdir',\n",
       " 'defpath',\n",
       " 'devnull',\n",
       " 'dirname',\n",
       " 'exists',\n",
       " 'expanduser',\n",
       " 'expandvars',\n",
       " 'extsep',\n",
       " 'genericpath',\n",
       " 'getatime',\n",
       " 'getctime',\n",
       " 'getmtime',\n",
       " 'getsize',\n",
       " 'isabs',\n",
       " 'isdir',\n",
       " 'isfile',\n",
       " 'islink',\n",
       " 'ismount',\n",
       " 'join',\n",
       " 'lexists',\n",
       " 'normcase',\n",
       " 'normpath',\n",
       " 'os',\n",
       " 'pardir',\n",
       " 'pathsep',\n",
       " 'realpath',\n",
       " 'relpath',\n",
       " 'samefile',\n",
       " 'sameopenfile',\n",
       " 'samestat',\n",
       " 'sep',\n",
       " 'split',\n",
       " 'splitdrive',\n",
       " 'splitext',\n",
       " 'stat',\n",
       " 'supports_unicode_filenames',\n",
       " 'sys']"
      ]
     },
     "execution_count": 93,
     "metadata": {},
     "output_type": "execute_result"
    }
   ],
   "source": [
    "# Check All Methods of Pathlib\n",
    "dir(os.path)"
   ]
  },
  {
   "cell_type": "code",
   "execution_count": 94,
   "metadata": {},
   "outputs": [
    {
     "data": {
      "text/plain": [
       "'/home/rooot/Documents/JLabs/PathTut'"
      ]
     },
     "execution_count": 94,
     "metadata": {},
     "output_type": "execute_result"
    }
   ],
   "source": [
    "# Get Current Directory Using Os\n",
    "os.getcwd()"
   ]
  },
  {
   "cell_type": "code",
   "execution_count": 95,
   "metadata": {},
   "outputs": [
    {
     "data": {
      "text/plain": [
       "PosixPath('/home/rooot/Documents/JLabs/PathTut')"
      ]
     },
     "execution_count": 95,
     "metadata": {},
     "output_type": "execute_result"
    }
   ],
   "source": [
    "# Get Current Directory Using Path\n",
    "pathlib.Path.cwd()"
   ]
  },
  {
   "cell_type": "code",
   "execution_count": 96,
   "metadata": {},
   "outputs": [],
   "source": [
    "# Simple way\n",
    "from pathlib import Path"
   ]
  },
  {
   "cell_type": "code",
   "execution_count": 97,
   "metadata": {},
   "outputs": [
    {
     "data": {
      "text/plain": [
       "PosixPath('/home/rooot/Documents/JLabs/PathTut')"
      ]
     },
     "execution_count": 97,
     "metadata": {},
     "output_type": "execute_result"
    }
   ],
   "source": [
    "Path.cwd()"
   ]
  },
  {
   "cell_type": "code",
   "execution_count": 98,
   "metadata": {},
   "outputs": [
    {
     "data": {
      "text/plain": [
       "'testfolder/example.txt'"
      ]
     },
     "execution_count": 98,
     "metadata": {},
     "output_type": "execute_result"
    }
   ],
   "source": [
    "# Creating A Path From String with os.path\n",
    "os.path.join('testfolder','example.txt')"
   ]
  },
  {
   "cell_type": "code",
   "execution_count": 99,
   "metadata": {},
   "outputs": [
    {
     "data": {
      "text/plain": [
       "PosixPath('testfolder/example.txt')"
      ]
     },
     "execution_count": 99,
     "metadata": {},
     "output_type": "execute_result"
    }
   ],
   "source": [
    "# Creating A Path From String with Path\n",
    "Path('testfolder/example.txt')"
   ]
  },
  {
   "cell_type": "code",
   "execution_count": 100,
   "metadata": {},
   "outputs": [
    {
     "data": {
      "text/plain": [
       "PosixPath('testfolder/example.txt')"
      ]
     },
     "execution_count": 100,
     "metadata": {},
     "output_type": "execute_result"
    }
   ],
   "source": [
    "# Method 2 Using Forward Slash Operator To Join Path\n",
    "Path('testfolder') / 'example.txt'"
   ]
  },
  {
   "cell_type": "code",
   "execution_count": 101,
   "metadata": {},
   "outputs": [
    {
     "data": {
      "text/plain": [
       "PosixPath('/home/rooot/testfolder/example.txt')"
      ]
     },
     "execution_count": 101,
     "metadata": {},
     "output_type": "execute_result"
    }
   ],
   "source": [
    "#  Using Forward Slash Operator To Join Full Path\n",
    "Path.home() / 'testfolder' / 'example.txt'"
   ]
  },
  {
   "cell_type": "code",
   "execution_count": 102,
   "metadata": {},
   "outputs": [
    {
     "data": {
      "text/plain": [
       "PosixPath('testfolder/example.txt')"
      ]
     },
     "execution_count": 102,
     "metadata": {},
     "output_type": "execute_result"
    }
   ],
   "source": [
    "# Method 3 Using JoinPath\n",
    "Path().joinpath('testfolder', 'example.txt')"
   ]
  },
  {
   "cell_type": "code",
   "execution_count": 103,
   "metadata": {},
   "outputs": [
    {
     "data": {
      "text/plain": [
       "PosixPath('/home/rooot/testfolder/example.txt')"
      ]
     },
     "execution_count": 103,
     "metadata": {},
     "output_type": "execute_result"
    }
   ],
   "source": [
    "#Using JoinPath For Full Path\n",
    "Path.home().joinpath('testfolder', 'example.txt')"
   ]
  },
  {
   "cell_type": "code",
   "execution_count": 104,
   "metadata": {},
   "outputs": [
    {
     "data": {
      "text/plain": [
       "'/home/rooot'"
      ]
     },
     "execution_count": 104,
     "metadata": {},
     "output_type": "execute_result"
    }
   ],
   "source": [
    "# How to Get the Home Directory with Os.path\n",
    "os.path.expanduser(\"~\")"
   ]
  },
  {
   "cell_type": "code",
   "execution_count": 105,
   "metadata": {},
   "outputs": [
    {
     "data": {
      "text/plain": [
       "'/home/rooot'"
      ]
     },
     "execution_count": 105,
     "metadata": {},
     "output_type": "execute_result"
    }
   ],
   "source": [
    "# How to Get the Home Directory with Os\n",
    "os.environ['HOME']"
   ]
  },
  {
   "cell_type": "code",
   "execution_count": 106,
   "metadata": {},
   "outputs": [
    {
     "data": {
      "text/plain": [
       "PosixPath('/home/rooot')"
      ]
     },
     "execution_count": 106,
     "metadata": {},
     "output_type": "execute_result"
    }
   ],
   "source": [
    "# How to Get the Home Directory with Path\n",
    "Path.home()"
   ]
  },
  {
   "cell_type": "code",
   "execution_count": 110,
   "metadata": {},
   "outputs": [
    {
     "data": {
      "text/plain": [
       "PosixPath('/home/rooot')"
      ]
     },
     "execution_count": 110,
     "metadata": {},
     "output_type": "execute_result"
    }
   ],
   "source": [
    "# How to Get the Home Directory with Path\n",
    "Path('~').expanduser()"
   ]
  },
  {
   "cell_type": "code",
   "execution_count": 111,
   "metadata": {},
   "outputs": [
    {
     "data": {
      "text/plain": [
       "'/home/rooot/Documents/JLabs/PathTut/testfolder/example.txt'"
      ]
     },
     "execution_count": 111,
     "metadata": {},
     "output_type": "execute_result"
    }
   ],
   "source": [
    "# How to Get Absolute Path with OS\n",
    "os.path.abspath('testfolder/example.txt')"
   ]
  },
  {
   "cell_type": "code",
   "execution_count": 112,
   "metadata": {},
   "outputs": [
    {
     "data": {
      "text/plain": [
       "PosixPath('/home/rooot/Documents/JLabs/PathTut/testfolder/example.txt')"
      ]
     },
     "execution_count": 112,
     "metadata": {},
     "output_type": "execute_result"
    }
   ],
   "source": [
    "# How to Get Absolute Path with Path\n",
    "Path('testfolder/example.txt').resolve()"
   ]
  },
  {
   "cell_type": "code",
   "execution_count": 113,
   "metadata": {},
   "outputs": [
    {
     "data": {
      "text/plain": [
       "PosixPath('/home/rooot/Documents/JLabs/PathTut/testfolder/example.txt')"
      ]
     },
     "execution_count": 113,
     "metadata": {},
     "output_type": "execute_result"
    }
   ],
   "source": [
    "# How to Get Absolute Path with Path\n",
    "Path('testfolder/example.txt').absolute()"
   ]
  },
  {
   "cell_type": "markdown",
   "metadata": {},
   "source": [
    "#### Getting The Components of a Path\n"
   ]
  },
  {
   "cell_type": "code",
   "execution_count": 114,
   "metadata": {},
   "outputs": [],
   "source": [
    "os_path = os.path.join('testfolder','example.txt')\n",
    "p_path = Path('testfolder') / 'example.txt'"
   ]
  },
  {
   "cell_type": "code",
   "execution_count": 115,
   "metadata": {
    "collapsed": true,
    "jupyter": {
     "outputs_hidden": true
    }
   },
   "outputs": [
    {
     "data": {
      "text/plain": [
       "['__add__',\n",
       " '__class__',\n",
       " '__contains__',\n",
       " '__delattr__',\n",
       " '__dir__',\n",
       " '__doc__',\n",
       " '__eq__',\n",
       " '__format__',\n",
       " '__ge__',\n",
       " '__getattribute__',\n",
       " '__getitem__',\n",
       " '__getnewargs__',\n",
       " '__gt__',\n",
       " '__hash__',\n",
       " '__init__',\n",
       " '__init_subclass__',\n",
       " '__iter__',\n",
       " '__le__',\n",
       " '__len__',\n",
       " '__lt__',\n",
       " '__mod__',\n",
       " '__mul__',\n",
       " '__ne__',\n",
       " '__new__',\n",
       " '__reduce__',\n",
       " '__reduce_ex__',\n",
       " '__repr__',\n",
       " '__rmod__',\n",
       " '__rmul__',\n",
       " '__setattr__',\n",
       " '__sizeof__',\n",
       " '__str__',\n",
       " '__subclasshook__',\n",
       " 'capitalize',\n",
       " 'casefold',\n",
       " 'center',\n",
       " 'count',\n",
       " 'encode',\n",
       " 'endswith',\n",
       " 'expandtabs',\n",
       " 'find',\n",
       " 'format',\n",
       " 'format_map',\n",
       " 'index',\n",
       " 'isalnum',\n",
       " 'isalpha',\n",
       " 'isascii',\n",
       " 'isdecimal',\n",
       " 'isdigit',\n",
       " 'isidentifier',\n",
       " 'islower',\n",
       " 'isnumeric',\n",
       " 'isprintable',\n",
       " 'isspace',\n",
       " 'istitle',\n",
       " 'isupper',\n",
       " 'join',\n",
       " 'ljust',\n",
       " 'lower',\n",
       " 'lstrip',\n",
       " 'maketrans',\n",
       " 'partition',\n",
       " 'replace',\n",
       " 'rfind',\n",
       " 'rindex',\n",
       " 'rjust',\n",
       " 'rpartition',\n",
       " 'rsplit',\n",
       " 'rstrip',\n",
       " 'split',\n",
       " 'splitlines',\n",
       " 'startswith',\n",
       " 'strip',\n",
       " 'swapcase',\n",
       " 'title',\n",
       " 'translate',\n",
       " 'upper',\n",
       " 'zfill']"
      ]
     },
     "execution_count": 115,
     "metadata": {},
     "output_type": "execute_result"
    }
   ],
   "source": [
    "dir(os_path)"
   ]
  },
  {
   "cell_type": "code",
   "execution_count": 116,
   "metadata": {
    "collapsed": true,
    "jupyter": {
     "outputs_hidden": true
    }
   },
   "outputs": [
    {
     "data": {
      "text/plain": [
       "['__bytes__',\n",
       " '__class__',\n",
       " '__delattr__',\n",
       " '__dir__',\n",
       " '__doc__',\n",
       " '__enter__',\n",
       " '__eq__',\n",
       " '__exit__',\n",
       " '__format__',\n",
       " '__fspath__',\n",
       " '__ge__',\n",
       " '__getattribute__',\n",
       " '__gt__',\n",
       " '__hash__',\n",
       " '__init__',\n",
       " '__init_subclass__',\n",
       " '__le__',\n",
       " '__lt__',\n",
       " '__module__',\n",
       " '__ne__',\n",
       " '__new__',\n",
       " '__reduce__',\n",
       " '__reduce_ex__',\n",
       " '__repr__',\n",
       " '__rtruediv__',\n",
       " '__setattr__',\n",
       " '__sizeof__',\n",
       " '__slots__',\n",
       " '__str__',\n",
       " '__subclasshook__',\n",
       " '__truediv__',\n",
       " '_accessor',\n",
       " '_cached_cparts',\n",
       " '_closed',\n",
       " '_cparts',\n",
       " '_drv',\n",
       " '_flavour',\n",
       " '_format_parsed_parts',\n",
       " '_from_parsed_parts',\n",
       " '_from_parts',\n",
       " '_hash',\n",
       " '_init',\n",
       " '_make_child',\n",
       " '_make_child_relpath',\n",
       " '_opener',\n",
       " '_parse_args',\n",
       " '_parts',\n",
       " '_pparts',\n",
       " '_raise_closed',\n",
       " '_raw_open',\n",
       " '_root',\n",
       " '_str',\n",
       " 'absolute',\n",
       " 'anchor',\n",
       " 'as_posix',\n",
       " 'as_uri',\n",
       " 'chmod',\n",
       " 'cwd',\n",
       " 'drive',\n",
       " 'exists',\n",
       " 'expanduser',\n",
       " 'glob',\n",
       " 'group',\n",
       " 'home',\n",
       " 'is_absolute',\n",
       " 'is_block_device',\n",
       " 'is_char_device',\n",
       " 'is_dir',\n",
       " 'is_fifo',\n",
       " 'is_file',\n",
       " 'is_mount',\n",
       " 'is_reserved',\n",
       " 'is_socket',\n",
       " 'is_symlink',\n",
       " 'iterdir',\n",
       " 'joinpath',\n",
       " 'lchmod',\n",
       " 'lstat',\n",
       " 'match',\n",
       " 'mkdir',\n",
       " 'name',\n",
       " 'open',\n",
       " 'owner',\n",
       " 'parent',\n",
       " 'parents',\n",
       " 'parts',\n",
       " 'read_bytes',\n",
       " 'read_text',\n",
       " 'relative_to',\n",
       " 'rename',\n",
       " 'replace',\n",
       " 'resolve',\n",
       " 'rglob',\n",
       " 'rmdir',\n",
       " 'root',\n",
       " 'samefile',\n",
       " 'stat',\n",
       " 'stem',\n",
       " 'suffix',\n",
       " 'suffixes',\n",
       " 'symlink_to',\n",
       " 'touch',\n",
       " 'unlink',\n",
       " 'with_name',\n",
       " 'with_suffix',\n",
       " 'write_bytes',\n",
       " 'write_text']"
      ]
     },
     "execution_count": 116,
     "metadata": {},
     "output_type": "execute_result"
    }
   ],
   "source": [
    "dir(p_path)"
   ]
  },
  {
   "cell_type": "code",
   "execution_count": 117,
   "metadata": {},
   "outputs": [
    {
     "data": {
      "text/plain": [
       "'example.txt'"
      ]
     },
     "execution_count": 117,
     "metadata": {},
     "output_type": "execute_result"
    }
   ],
   "source": [
    "# Get Name of File with Path\n",
    "p_path.name"
   ]
  },
  {
   "cell_type": "code",
   "execution_count": 118,
   "metadata": {},
   "outputs": [
    {
     "data": {
      "text/plain": [
       "'example.txt'"
      ]
     },
     "execution_count": 118,
     "metadata": {},
     "output_type": "execute_result"
    }
   ],
   "source": [
    "# Get Name of File with Os\n",
    "# os.path.basename('testfolder/example.txt') \n",
    "os.path.basename(os_path)"
   ]
  },
  {
   "cell_type": "code",
   "execution_count": 119,
   "metadata": {},
   "outputs": [
    {
     "data": {
      "text/plain": [
       "PosixPath('testfolder')"
      ]
     },
     "execution_count": 119,
     "metadata": {},
     "output_type": "execute_result"
    }
   ],
   "source": [
    "# Get Directory Name\n",
    "p_path.parent"
   ]
  },
  {
   "cell_type": "code",
   "execution_count": 120,
   "metadata": {},
   "outputs": [
    {
     "data": {
      "text/plain": [
       "'testfolder'"
      ]
     },
     "execution_count": 120,
     "metadata": {},
     "output_type": "execute_result"
    }
   ],
   "source": [
    "# Get Directory Name\n",
    "os.path.dirname(os_path)"
   ]
  },
  {
   "cell_type": "code",
   "execution_count": 122,
   "metadata": {},
   "outputs": [
    {
     "data": {
      "text/plain": [
       "'.txt'"
      ]
     },
     "execution_count": 122,
     "metadata": {},
     "output_type": "execute_result"
    }
   ],
   "source": [
    "# Get the File Extension/Suffix with OS\n",
    "os.path.splitext(os_path)[1]"
   ]
  },
  {
   "cell_type": "code",
   "execution_count": 123,
   "metadata": {},
   "outputs": [
    {
     "data": {
      "text/plain": [
       "'.txt'"
      ]
     },
     "execution_count": 123,
     "metadata": {},
     "output_type": "execute_result"
    }
   ],
   "source": [
    "# Get the File Extension/Suffix with Path\n",
    "p_path.suffix"
   ]
  },
  {
   "cell_type": "code",
   "execution_count": 124,
   "metadata": {},
   "outputs": [
    {
     "data": {
      "text/plain": [
       "'testfolder/example'"
      ]
     },
     "execution_count": 124,
     "metadata": {},
     "output_type": "execute_result"
    }
   ],
   "source": [
    "# Get the File Stem with OS\n",
    "os.path.splitext(os_path)[0]"
   ]
  },
  {
   "cell_type": "code",
   "execution_count": 125,
   "metadata": {},
   "outputs": [
    {
     "data": {
      "text/plain": [
       "'example'"
      ]
     },
     "execution_count": 125,
     "metadata": {},
     "output_type": "execute_result"
    }
   ],
   "source": [
    "# Get the File Stem with Path\n",
    "p_path.stem"
   ]
  },
  {
   "cell_type": "markdown",
   "metadata": {},
   "source": [
    "#### Making Directory and Files\n",
    "+ os.mkdir()\n",
    "+ os.makedirs()\n"
   ]
  },
  {
   "cell_type": "code",
   "execution_count": 126,
   "metadata": {},
   "outputs": [],
   "source": [
    "# Make Directory with Os\n",
    "os.mkdir('folder001')"
   ]
  },
  {
   "cell_type": "code",
   "execution_count": 127,
   "metadata": {},
   "outputs": [],
   "source": [
    "# Make directory with Path\n",
    "Path('folder002').mkdir()"
   ]
  },
  {
   "cell_type": "code",
   "execution_count": 128,
   "metadata": {},
   "outputs": [],
   "source": [
    "# Create A File If Folder Exist\n",
    "Path('folder002').mkdir(exist_ok=True)"
   ]
  },
  {
   "cell_type": "code",
   "execution_count": 129,
   "metadata": {},
   "outputs": [],
   "source": [
    "# Create A File inside folder\n",
    "Path('folder002/newfile.txt').touch()"
   ]
  },
  {
   "cell_type": "code",
   "execution_count": null,
   "metadata": {},
   "outputs": [],
   "source": []
  },
  {
   "cell_type": "code",
   "execution_count": null,
   "metadata": {},
   "outputs": [],
   "source": []
  },
  {
   "cell_type": "markdown",
   "metadata": {},
   "source": [
    "#### Looping Through Subdirectories"
   ]
  },
  {
   "cell_type": "code",
   "execution_count": 130,
   "metadata": {},
   "outputs": [],
   "source": [
    "import glob"
   ]
  },
  {
   "cell_type": "code",
   "execution_count": 131,
   "metadata": {},
   "outputs": [],
   "source": [
    "all_dir = glob.glob('testfolder/*.txt')"
   ]
  },
  {
   "cell_type": "code",
   "execution_count": 132,
   "metadata": {
    "collapsed": true,
    "jupyter": {
     "outputs_hidden": true
    }
   },
   "outputs": [
    {
     "data": {
      "text/plain": [
       "['testfolder/addfiles9.txt',\n",
       " 'testfolder/file1.txt',\n",
       " 'testfolder/file9.txt',\n",
       " 'testfolder/file4.txt',\n",
       " 'testfolder/file7.txt',\n",
       " 'testfolder/file2.txt',\n",
       " 'testfolder/file8.txt',\n",
       " 'testfolder/addfiles10.txt',\n",
       " 'testfolder/addfiles0.txt',\n",
       " 'testfolder/file5.txt',\n",
       " 'testfolder/file6.txt',\n",
       " 'testfolder/addfiles2.txt',\n",
       " 'testfolder/addfiles1.txt',\n",
       " 'testfolder/addfiles4.txt',\n",
       " 'testfolder/file10.txt',\n",
       " 'testfolder/addfiles6.txt',\n",
       " 'testfolder/addfiles7.txt',\n",
       " 'testfolder/file3.txt',\n",
       " 'testfolder/addfiles3.txt',\n",
       " 'testfolder/addfiles8.txt',\n",
       " 'testfolder/addfiles5.txt',\n",
       " 'testfolder/file0.txt']"
      ]
     },
     "execution_count": 132,
     "metadata": {},
     "output_type": "execute_result"
    }
   ],
   "source": [
    "all_dir"
   ]
  },
  {
   "cell_type": "code",
   "execution_count": 133,
   "metadata": {
    "collapsed": true,
    "jupyter": {
     "outputs_hidden": true
    }
   },
   "outputs": [
    {
     "name": "stdout",
     "output_type": "stream",
     "text": [
      "testfolder/addfiles9.txt\n",
      "testfolder/file1.txt\n",
      "testfolder/file9.txt\n",
      "testfolder/file4.txt\n",
      "testfolder/file7.txt\n",
      "testfolder/file2.txt\n",
      "testfolder/file8.txt\n",
      "testfolder/addfiles10.txt\n",
      "testfolder/addfiles0.txt\n",
      "testfolder/file5.txt\n",
      "testfolder/file6.txt\n",
      "testfolder/addfiles2.txt\n",
      "testfolder/addfiles1.txt\n",
      "testfolder/addfiles4.txt\n",
      "testfolder/file10.txt\n",
      "testfolder/addfiles6.txt\n",
      "testfolder/addfiles7.txt\n",
      "testfolder/file3.txt\n",
      "testfolder/addfiles3.txt\n",
      "testfolder/addfiles8.txt\n",
      "testfolder/addfiles5.txt\n",
      "testfolder/file0.txt\n"
     ]
    }
   ],
   "source": [
    "for file in all_dir:\n",
    "    print(file)"
   ]
  },
  {
   "cell_type": "code",
   "execution_count": 134,
   "metadata": {},
   "outputs": [],
   "source": [
    "# Using Path\n",
    "p = Path('testfolder')"
   ]
  },
  {
   "cell_type": "code",
   "execution_count": 135,
   "metadata": {},
   "outputs": [
    {
     "name": "stdout",
     "output_type": "stream",
     "text": [
      "testfolder/addfiles9.txt\n",
      "testfolder/file1.txt\n",
      "testfolder/file9.txt\n",
      "testfolder/file4.txt\n",
      "testfolder/file7.txt\n",
      "testfolder/file2.txt\n",
      "testfolder/file8.txt\n",
      "testfolder/addfiles10.txt\n",
      "testfolder/addfiles0.txt\n",
      "testfolder/file5.txt\n",
      "testfolder/file6.txt\n",
      "testfolder/addfiles2.txt\n",
      "testfolder/addfiles1.txt\n",
      "testfolder/addfiles4.txt\n",
      "testfolder/file10.txt\n",
      "testfolder/addfiles6.txt\n",
      "testfolder/addfiles7.txt\n",
      "testfolder/file3.txt\n",
      "testfolder/addfiles3.txt\n",
      "testfolder/addfiles8.txt\n",
      "testfolder/addfiles5.txt\n",
      "testfolder/file0.txt\n"
     ]
    }
   ],
   "source": [
    "for file in p.glob('*.txt'):\n",
    "    print(file)"
   ]
  },
  {
   "cell_type": "code",
   "execution_count": 136,
   "metadata": {},
   "outputs": [],
   "source": [
    "# Checking Subdirectory traversely\n",
    "# Method 1 with **/\n",
    "all_sub_dir = Path('testfolder').glob('**/*.txt')"
   ]
  },
  {
   "cell_type": "code",
   "execution_count": 137,
   "metadata": {
    "collapsed": true,
    "jupyter": {
     "outputs_hidden": true
    }
   },
   "outputs": [
    {
     "data": {
      "text/plain": [
       "[PosixPath('testfolder/addfiles9.txt'),\n",
       " PosixPath('testfolder/file1.txt'),\n",
       " PosixPath('testfolder/file9.txt'),\n",
       " PosixPath('testfolder/file4.txt'),\n",
       " PosixPath('testfolder/file7.txt'),\n",
       " PosixPath('testfolder/file2.txt'),\n",
       " PosixPath('testfolder/file8.txt'),\n",
       " PosixPath('testfolder/addfiles10.txt'),\n",
       " PosixPath('testfolder/addfiles0.txt'),\n",
       " PosixPath('testfolder/file5.txt'),\n",
       " PosixPath('testfolder/file6.txt'),\n",
       " PosixPath('testfolder/addfiles2.txt'),\n",
       " PosixPath('testfolder/addfiles1.txt'),\n",
       " PosixPath('testfolder/addfiles4.txt'),\n",
       " PosixPath('testfolder/file10.txt'),\n",
       " PosixPath('testfolder/addfiles6.txt'),\n",
       " PosixPath('testfolder/addfiles7.txt'),\n",
       " PosixPath('testfolder/file3.txt'),\n",
       " PosixPath('testfolder/addfiles3.txt'),\n",
       " PosixPath('testfolder/addfiles8.txt'),\n",
       " PosixPath('testfolder/addfiles5.txt'),\n",
       " PosixPath('testfolder/file0.txt'),\n",
       " PosixPath('testfolder/newfolder2/exfile0.txt'),\n",
       " PosixPath('testfolder/newfolder2/exfile7.txt'),\n",
       " PosixPath('testfolder/newfolder2/exfile3.txt'),\n",
       " PosixPath('testfolder/newfolder2/exfile4.txt'),\n",
       " PosixPath('testfolder/newfolder2/movedexample003.txt'),\n",
       " PosixPath('testfolder/newfolder2/exfile9.txt'),\n",
       " PosixPath('testfolder/newfolder2/exfile8.txt'),\n",
       " PosixPath('testfolder/newfolder2/exfile10.txt'),\n",
       " PosixPath('testfolder/newfolder2/movedexample002.txt'),\n",
       " PosixPath('testfolder/newfolder2/exfile5.txt'),\n",
       " PosixPath('testfolder/newfolder2/movedexample001.txt'),\n",
       " PosixPath('testfolder/newfolder2/exfile1.txt'),\n",
       " PosixPath('testfolder/newfolder2/exfile6.txt'),\n",
       " PosixPath('testfolder/newfolder2/exfile2.txt')]"
      ]
     },
     "execution_count": 137,
     "metadata": {},
     "output_type": "execute_result"
    }
   ],
   "source": [
    "# Show all Folders/Sub folders and their files\n",
    "list(all_sub_dir)"
   ]
  },
  {
   "cell_type": "code",
   "execution_count": 138,
   "metadata": {},
   "outputs": [],
   "source": [
    "# Checking Subdirectory traversely\n",
    "# Method 2 with rglob (recursive glob)\n",
    "all_sub_dir2 = Path('testfolder').rglob('*.txt')"
   ]
  },
  {
   "cell_type": "code",
   "execution_count": 139,
   "metadata": {
    "collapsed": true,
    "jupyter": {
     "outputs_hidden": true
    }
   },
   "outputs": [
    {
     "data": {
      "text/plain": [
       "[PosixPath('testfolder/addfiles9.txt'),\n",
       " PosixPath('testfolder/file1.txt'),\n",
       " PosixPath('testfolder/file9.txt'),\n",
       " PosixPath('testfolder/file4.txt'),\n",
       " PosixPath('testfolder/file7.txt'),\n",
       " PosixPath('testfolder/file2.txt'),\n",
       " PosixPath('testfolder/file8.txt'),\n",
       " PosixPath('testfolder/addfiles10.txt'),\n",
       " PosixPath('testfolder/addfiles0.txt'),\n",
       " PosixPath('testfolder/file5.txt'),\n",
       " PosixPath('testfolder/file6.txt'),\n",
       " PosixPath('testfolder/addfiles2.txt'),\n",
       " PosixPath('testfolder/addfiles1.txt'),\n",
       " PosixPath('testfolder/addfiles4.txt'),\n",
       " PosixPath('testfolder/file10.txt'),\n",
       " PosixPath('testfolder/addfiles6.txt'),\n",
       " PosixPath('testfolder/addfiles7.txt'),\n",
       " PosixPath('testfolder/file3.txt'),\n",
       " PosixPath('testfolder/addfiles3.txt'),\n",
       " PosixPath('testfolder/addfiles8.txt'),\n",
       " PosixPath('testfolder/addfiles5.txt'),\n",
       " PosixPath('testfolder/file0.txt'),\n",
       " PosixPath('testfolder/newfolder2/exfile0.txt'),\n",
       " PosixPath('testfolder/newfolder2/exfile7.txt'),\n",
       " PosixPath('testfolder/newfolder2/exfile3.txt'),\n",
       " PosixPath('testfolder/newfolder2/exfile4.txt'),\n",
       " PosixPath('testfolder/newfolder2/movedexample003.txt'),\n",
       " PosixPath('testfolder/newfolder2/exfile9.txt'),\n",
       " PosixPath('testfolder/newfolder2/exfile8.txt'),\n",
       " PosixPath('testfolder/newfolder2/exfile10.txt'),\n",
       " PosixPath('testfolder/newfolder2/movedexample002.txt'),\n",
       " PosixPath('testfolder/newfolder2/exfile5.txt'),\n",
       " PosixPath('testfolder/newfolder2/movedexample001.txt'),\n",
       " PosixPath('testfolder/newfolder2/exfile1.txt'),\n",
       " PosixPath('testfolder/newfolder2/exfile6.txt'),\n",
       " PosixPath('testfolder/newfolder2/exfile2.txt')]"
      ]
     },
     "execution_count": 139,
     "metadata": {},
     "output_type": "execute_result"
    }
   ],
   "source": [
    "# Show all Folders/Sub folders and their files\n",
    "list(all_sub_dir2)"
   ]
  },
  {
   "cell_type": "code",
   "execution_count": 140,
   "metadata": {
    "collapsed": true,
    "jupyter": {
     "outputs_hidden": true
    }
   },
   "outputs": [
    {
     "name": "stdout",
     "output_type": "stream",
     "text": [
      "addfiles9.txt\n",
      "file1.txt\n",
      "file9.txt\n",
      "file4.txt\n",
      "file7.txt\n",
      "file2.txt\n",
      "file8.txt\n",
      "addfiles10.txt\n",
      "addfiles0.txt\n",
      "file5.txt\n",
      "file6.txt\n",
      "addfiles2.txt\n",
      "addfiles1.txt\n",
      "addfiles4.txt\n",
      "file10.txt\n",
      "addfiles6.txt\n",
      "addfiles7.txt\n",
      "file3.txt\n",
      "addfiles3.txt\n",
      "addfiles8.txt\n",
      "addfiles5.txt\n",
      "file0.txt\n",
      "exfile0.txt\n",
      "exfile7.txt\n",
      "exfile3.txt\n",
      "exfile4.txt\n",
      "movedexample003.txt\n",
      "exfile9.txt\n",
      "exfile8.txt\n",
      "exfile10.txt\n",
      "movedexample002.txt\n",
      "exfile5.txt\n",
      "movedexample001.txt\n",
      "exfile1.txt\n",
      "exfile6.txt\n",
      "exfile2.txt\n"
     ]
    }
   ],
   "source": [
    "# Using os.walk to get all files\n",
    "for root,subdir,files in os.walk(os.path.join('testfolder')):\n",
    "    for f in files:\n",
    "        if f.endswith(\".txt\"):\n",
    "            print(f)"
   ]
  },
  {
   "cell_type": "code",
   "execution_count": 141,
   "metadata": {},
   "outputs": [
    {
     "name": "stdout",
     "output_type": "stream",
     "text": [
      "newfolder2\n"
     ]
    }
   ],
   "source": [
    "# Using os.walk to get all subdirectory\n",
    "for root,subdir,files in os.walk(os.path.join('testfolder')):\n",
    "    for s in subdir:\n",
    "        print(s)"
   ]
  },
  {
   "cell_type": "markdown",
   "metadata": {},
   "source": [
    "#### Checking Files and Directory and Path\n",
    "+ exists\n",
    "+ is_dir()/isdir()\n",
    "+ is_file()/isfile()\n"
   ]
  },
  {
   "cell_type": "code",
   "execution_count": 142,
   "metadata": {},
   "outputs": [
    {
     "name": "stdout",
     "output_type": "stream",
     "text": [
      "testfolder/example.txt\n",
      "testfolder/example.txt\n"
     ]
    }
   ],
   "source": [
    "print(os_path)\n",
    "print(p_path)"
   ]
  },
  {
   "cell_type": "code",
   "execution_count": 143,
   "metadata": {},
   "outputs": [
    {
     "data": {
      "text/plain": [
       "False"
      ]
     },
     "execution_count": 143,
     "metadata": {},
     "output_type": "execute_result"
    }
   ],
   "source": [
    "# Check if it is a directory\n",
    "os.path.isdir(os_path)"
   ]
  },
  {
   "cell_type": "code",
   "execution_count": 144,
   "metadata": {},
   "outputs": [
    {
     "data": {
      "text/plain": [
       "True"
      ]
     },
     "execution_count": 144,
     "metadata": {},
     "output_type": "execute_result"
    }
   ],
   "source": [
    "# Check if it is a directory\n",
    "os.path.isdir(os.path.join('testfolder'))"
   ]
  },
  {
   "cell_type": "code",
   "execution_count": 145,
   "metadata": {},
   "outputs": [
    {
     "data": {
      "text/plain": [
       "False"
      ]
     },
     "execution_count": 145,
     "metadata": {},
     "output_type": "execute_result"
    }
   ],
   "source": [
    "# Check if it is a directory\n",
    "p_path.is_dir()"
   ]
  },
  {
   "cell_type": "code",
   "execution_count": 146,
   "metadata": {},
   "outputs": [
    {
     "data": {
      "text/plain": [
       "PosixPath('testfolder/example.txt')"
      ]
     },
     "execution_count": 146,
     "metadata": {},
     "output_type": "execute_result"
    }
   ],
   "source": [
    "p_path"
   ]
  },
  {
   "cell_type": "code",
   "execution_count": 147,
   "metadata": {},
   "outputs": [
    {
     "data": {
      "text/plain": [
       "True"
      ]
     },
     "execution_count": 147,
     "metadata": {},
     "output_type": "execute_result"
    }
   ],
   "source": [
    "# Parent Folder is a Directory\n",
    "p_path.parent.is_dir()"
   ]
  },
  {
   "cell_type": "code",
   "execution_count": 148,
   "metadata": {},
   "outputs": [
    {
     "data": {
      "text/plain": [
       "False"
      ]
     },
     "execution_count": 148,
     "metadata": {},
     "output_type": "execute_result"
    }
   ],
   "source": [
    "# Check if it is a file with Os\n",
    "os.path.isfile('testfolder/example.txt')"
   ]
  },
  {
   "cell_type": "code",
   "execution_count": 149,
   "metadata": {},
   "outputs": [
    {
     "data": {
      "text/plain": [
       "False"
      ]
     },
     "execution_count": 149,
     "metadata": {},
     "output_type": "execute_result"
    }
   ],
   "source": [
    "# Check if it is a file\n",
    "p_path.is_file()"
   ]
  },
  {
   "cell_type": "code",
   "execution_count": 152,
   "metadata": {},
   "outputs": [
    {
     "data": {
      "text/plain": [
       "True"
      ]
     },
     "execution_count": 152,
     "metadata": {},
     "output_type": "execute_result"
    }
   ],
   "source": [
    "Path(\"example.txt\").is_file()"
   ]
  },
  {
   "cell_type": "code",
   "execution_count": 153,
   "metadata": {
    "collapsed": true,
    "jupyter": {
     "outputs_hidden": true
    }
   },
   "outputs": [
    {
     "name": "stdout",
     "output_type": "stream",
     "text": [
      "True\n",
      "True\n",
      "True\n",
      "True\n",
      "True\n",
      "True\n",
      "True\n",
      "True\n",
      "True\n",
      "True\n",
      "True\n",
      "True\n",
      "True\n",
      "True\n",
      "True\n",
      "True\n",
      "True\n",
      "True\n",
      "True\n",
      "True\n",
      "True\n",
      "True\n"
     ]
    }
   ],
   "source": [
    "for file in p.glob('*.txt'):\n",
    "    print(file.is_file())"
   ]
  },
  {
   "cell_type": "code",
   "execution_count": null,
   "metadata": {},
   "outputs": [],
   "source": [
    "# Moving Files\n",
    "+ shutil.move()\n",
    "+ os.replace()\n",
    "+ Path().replace()"
   ]
  },
  {
   "cell_type": "code",
   "execution_count": 154,
   "metadata": {},
   "outputs": [],
   "source": [
    "import shutil"
   ]
  },
  {
   "cell_type": "code",
   "execution_count": 156,
   "metadata": {},
   "outputs": [
    {
     "data": {
      "text/plain": [
       "'testfolder/newfolder2/movedexample001.txt'"
      ]
     },
     "execution_count": 156,
     "metadata": {},
     "output_type": "execute_result"
    }
   ],
   "source": [
    "shutil.move('testfolder/example001.txt','testfolder/newfolder2/movedexample001.txt')"
   ]
  },
  {
   "cell_type": "code",
   "execution_count": 157,
   "metadata": {},
   "outputs": [],
   "source": [
    "os.replace('testfolder/example002.txt','testfolder/newfolder2/movedexample002.txt')"
   ]
  },
  {
   "cell_type": "code",
   "execution_count": 158,
   "metadata": {},
   "outputs": [],
   "source": [
    "# using path\n",
    "Path('testfolder/example003.txt').replace('testfolder/newfolder2/movedexample003.txt')\n"
   ]
  },
  {
   "cell_type": "markdown",
   "metadata": {},
   "source": [
    "### File Stats\n",
    "+ os.stat()\n",
    "+ Path.stat()"
   ]
  },
  {
   "cell_type": "code",
   "execution_count": 159,
   "metadata": {},
   "outputs": [
    {
     "data": {
      "text/plain": [
       "os.stat_result(st_mode=33188, st_ino=5650645, st_dev=2055, st_nlink=1, st_uid=1000, st_gid=1000, st_size=0, st_atime=1582546033, st_mtime=1582472864, st_ctime=1582472864)"
      ]
     },
     "execution_count": 159,
     "metadata": {},
     "output_type": "execute_result"
    }
   ],
   "source": [
    "os.stat('example.txt')"
   ]
  },
  {
   "cell_type": "code",
   "execution_count": 160,
   "metadata": {},
   "outputs": [
    {
     "data": {
      "text/plain": [
       "os.stat_result(st_mode=33188, st_ino=5650645, st_dev=2055, st_nlink=1, st_uid=1000, st_gid=1000, st_size=0, st_atime=1582546033, st_mtime=1582472864, st_ctime=1582472864)"
      ]
     },
     "execution_count": 160,
     "metadata": {},
     "output_type": "execute_result"
    }
   ],
   "source": [
    "# Using Path\n",
    "Path('example.txt').stat()"
   ]
  },
  {
   "cell_type": "code",
   "execution_count": 161,
   "metadata": {},
   "outputs": [
    {
     "data": {
      "text/plain": [
       "'rooot'"
      ]
     },
     "execution_count": 161,
     "metadata": {},
     "output_type": "execute_result"
    }
   ],
   "source": [
    "# Owner of File\n",
    "Path('example.txt').owner()"
   ]
  },
  {
   "cell_type": "code",
   "execution_count": 162,
   "metadata": {},
   "outputs": [
    {
     "data": {
      "text/plain": [
       "'rooot'"
      ]
     },
     "execution_count": 162,
     "metadata": {},
     "output_type": "execute_result"
    }
   ],
   "source": [
    "# Owner/Group of File\n",
    "Path('example.txt').group()"
   ]
  },
  {
   "cell_type": "code",
   "execution_count": 165,
   "metadata": {},
   "outputs": [
    {
     "data": {
      "text/plain": [
       "1000"
      ]
     },
     "execution_count": 165,
     "metadata": {},
     "output_type": "execute_result"
    }
   ],
   "source": [
    "# Owner of File\n",
    "os.stat('example.txt').st_uid"
   ]
  },
  {
   "cell_type": "code",
   "execution_count": 164,
   "metadata": {},
   "outputs": [
    {
     "data": {
      "text/plain": [
       "1000"
      ]
     },
     "execution_count": 164,
     "metadata": {},
     "output_type": "execute_result"
    }
   ],
   "source": [
    "# Owner/Group of File\n",
    "os.stat('example.txt').st_gid"
   ]
  },
  {
   "cell_type": "code",
   "execution_count": 166,
   "metadata": {},
   "outputs": [
    {
     "data": {
      "text/plain": [
       "pwd.struct_passwd(pw_name='rooot', pw_passwd='x', pw_uid=1000, pw_gid=1000, pw_gecos='rooot,,,', pw_dir='/home/rooot', pw_shell='/bin/bash')"
      ]
     },
     "execution_count": 166,
     "metadata": {},
     "output_type": "execute_result"
    }
   ],
   "source": [
    "import pwd\n",
    "pwd.getpwuid(os.stat('example.txt').st_gid)"
   ]
  },
  {
   "cell_type": "code",
   "execution_count": null,
   "metadata": {},
   "outputs": [],
   "source": []
  },
  {
   "cell_type": "code",
   "execution_count": null,
   "metadata": {},
   "outputs": [],
   "source": []
  },
  {
   "cell_type": "markdown",
   "metadata": {},
   "source": [
    "#### Thanks For Your Time\n",
    "+ Jesus Saves @JCharisTech\n",
    "+ By Jesse E.Agbe(JCharis)"
   ]
  },
  {
   "cell_type": "code",
   "execution_count": null,
   "metadata": {},
   "outputs": [],
   "source": []
  }
 ],
 "metadata": {
  "kernelspec": {
   "display_name": "Python 3",
   "language": "python",
   "name": "python3"
  },
  "language_info": {
   "codemirror_mode": {
    "name": "ipython",
    "version": 3
   },
   "file_extension": ".py",
   "mimetype": "text/x-python",
   "name": "python",
   "nbconvert_exporter": "python",
   "pygments_lexer": "ipython3",
   "version": "3.7.5"
  }
 },
 "nbformat": 4,
 "nbformat_minor": 4
}
