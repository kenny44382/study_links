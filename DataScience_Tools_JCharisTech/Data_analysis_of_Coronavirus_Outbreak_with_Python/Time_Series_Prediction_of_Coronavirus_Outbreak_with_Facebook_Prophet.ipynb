{
  "nbformat": 4,
  "nbformat_minor": 0,
  "metadata": {
    "colab": {
      "name": "Copy of Predicting Coronavirus Outbreak and Recovering Rate with Prophet.ipynb",
      "provenance": [],
      "collapsed_sections": []
    },
    "kernelspec": {
      "name": "python3",
      "display_name": "Python 3"
    }
  },
  "cells": [
    {
      "cell_type": "markdown",
      "metadata": {
        "id": "XujaghyxTtyx",
        "colab_type": "text"
      },
      "source": [
        "### Predicting Coronavirus Outbreak and Recovering Rate with FB Prophet\n",
        "+ Lots of influencing factors hence prediction can be wrong\n",
        "  - Less Data\n",
        "  - Presence of Effective Treatment and Vaccine can influence prediction\n",
        "\n",
        "#### Installation\n",
        "+ pip install fbprophet\n",
        "\n",
        "#### Data Source\n",
        "+ https://github.com/CSSEGISandData/COVID-19\n",
        "+ https://raw.githubusercontent.com/Jcharis/DataScienceTools/master/Data_analysis_of_Coronavirus_Outbreak_with_Python/coronavirus_data_clean.csv"
      ]
    },
    {
      "cell_type": "code",
      "metadata": {
        "id": "onwEdgZFRqeB",
        "colab_type": "code",
        "colab": {}
      },
      "source": [
        "confirmed_cases_url = \"https://raw.githubusercontent.com/CSSEGISandData/COVID-19/master/csse_covid_19_data/csse_covid_19_time_series/time_series_19-covid-Confirmed.csv\"\n",
        "recovered_cases_url =\"https://raw.githubusercontent.com/CSSEGISandData/COVID-19/master/csse_covid_19_data/csse_covid_19_time_series/time_series_19-covid-Recovered.csv\"\n",
        "death_cases_url =\"https://raw.githubusercontent.com/CSSEGISandData/COVID-19/master/csse_covid_19_data/csse_covid_19_time_series/time_series_19-covid-Deaths.csv\""
      ],
      "execution_count": 0,
      "outputs": []
    },
    {
      "cell_type": "code",
      "metadata": {
        "id": "DUyDoJ1iRWr2",
        "colab_type": "code",
        "colab": {}
      },
      "source": [
        "def get_n_melt_data(data_url,case_type):\n",
        "    df = pd.read_csv(data_url)\n",
        "    melted_df = df.melt(id_vars=['Province/State', 'Country/Region', 'Lat', 'Long'])\n",
        "    melted_df.rename(columns={\"variable\":\"Date\",\"value\":case_type},inplace=True)\n",
        "    return melted_df\n",
        "\n",
        "def merge_data(confirm_df,recovered_df,deaths_df):\n",
        "\tnew_df = confirm_df.join(recovered_df['Recovered']).join(deaths_df['Deaths'])\n",
        "\treturn new_df"
      ],
      "execution_count": 0,
      "outputs": []
    },
    {
      "cell_type": "code",
      "metadata": {
        "id": "KH6CwMRQUJkw",
        "colab_type": "code",
        "colab": {}
      },
      "source": [
        "# Load EDA pkg\n",
        "import pandas as pd"
      ],
      "execution_count": 0,
      "outputs": []
    },
    {
      "cell_type": "code",
      "metadata": {
        "id": "S2Fa6ccdRZkQ",
        "colab_type": "code",
        "colab": {}
      },
      "source": [
        "confirm_df = get_n_melt_data(confirmed_cases_url,\"Confirmed\")\n",
        "recovered_df = get_n_melt_data(recovered_cases_url,\"Recovered\")\n",
        "deaths_df = get_n_melt_data(death_cases_url,\"Deaths\")"
      ],
      "execution_count": 0,
      "outputs": []
    },
    {
      "cell_type": "code",
      "metadata": {
        "id": "7j2R6VwlUSH4",
        "colab_type": "code",
        "outputId": "8a4d2731-d71f-44e6-e86f-6915decc5dce",
        "colab": {
          "base_uri": "https://localhost:8080/",
          "height": 206
        }
      },
      "source": [
        "confirm_df.tail()"
      ],
      "execution_count": 0,
      "outputs": [
        {
          "output_type": "execute_result",
          "data": {
            "text/html": [
              "<div>\n",
              "<style scoped>\n",
              "    .dataframe tbody tr th:only-of-type {\n",
              "        vertical-align: middle;\n",
              "    }\n",
              "\n",
              "    .dataframe tbody tr th {\n",
              "        vertical-align: top;\n",
              "    }\n",
              "\n",
              "    .dataframe thead th {\n",
              "        text-align: right;\n",
              "    }\n",
              "</style>\n",
              "<table border=\"1\" class=\"dataframe\">\n",
              "  <thead>\n",
              "    <tr style=\"text-align: right;\">\n",
              "      <th></th>\n",
              "      <th>Province/State</th>\n",
              "      <th>Country/Region</th>\n",
              "      <th>Lat</th>\n",
              "      <th>Long</th>\n",
              "      <th>Date</th>\n",
              "      <th>Confirmed</th>\n",
              "    </tr>\n",
              "  </thead>\n",
              "  <tbody>\n",
              "    <tr>\n",
              "      <th>20195</th>\n",
              "      <td>Socorro, NM</td>\n",
              "      <td>US</td>\n",
              "      <td>33.8837</td>\n",
              "      <td>-106.7235</td>\n",
              "      <td>3/11/20</td>\n",
              "      <td>2</td>\n",
              "    </tr>\n",
              "    <tr>\n",
              "      <th>20196</th>\n",
              "      <td>Bernalillo, NM</td>\n",
              "      <td>US</td>\n",
              "      <td>35.0178</td>\n",
              "      <td>-106.6291</td>\n",
              "      <td>3/11/20</td>\n",
              "      <td>1</td>\n",
              "    </tr>\n",
              "    <tr>\n",
              "      <th>20197</th>\n",
              "      <td>Oakland, MI</td>\n",
              "      <td>US</td>\n",
              "      <td>42.5922</td>\n",
              "      <td>-83.3362</td>\n",
              "      <td>3/11/20</td>\n",
              "      <td>1</td>\n",
              "    </tr>\n",
              "    <tr>\n",
              "      <th>20198</th>\n",
              "      <td>Wayne, MI</td>\n",
              "      <td>US</td>\n",
              "      <td>42.2791</td>\n",
              "      <td>-83.3362</td>\n",
              "      <td>3/11/20</td>\n",
              "      <td>1</td>\n",
              "    </tr>\n",
              "    <tr>\n",
              "      <th>20199</th>\n",
              "      <td>New Castle, DE</td>\n",
              "      <td>US</td>\n",
              "      <td>39.5393</td>\n",
              "      <td>-75.6674</td>\n",
              "      <td>3/11/20</td>\n",
              "      <td>1</td>\n",
              "    </tr>\n",
              "  </tbody>\n",
              "</table>\n",
              "</div>"
            ],
            "text/plain": [
              "       Province/State Country/Region      Lat      Long     Date  Confirmed\n",
              "20195     Socorro, NM             US  33.8837 -106.7235  3/11/20          2\n",
              "20196  Bernalillo, NM             US  35.0178 -106.6291  3/11/20          1\n",
              "20197     Oakland, MI             US  42.5922  -83.3362  3/11/20          1\n",
              "20198       Wayne, MI             US  42.2791  -83.3362  3/11/20          1\n",
              "20199  New Castle, DE             US  39.5393  -75.6674  3/11/20          1"
            ]
          },
          "metadata": {
            "tags": []
          },
          "execution_count": 9
        }
      ]
    },
    {
      "cell_type": "code",
      "metadata": {
        "id": "Ee4O8X4jU7Wv",
        "colab_type": "code",
        "colab": {}
      },
      "source": [
        "df = merge_data(confirm_df,recovered_df,deaths_df)"
      ],
      "execution_count": 0,
      "outputs": []
    },
    {
      "cell_type": "code",
      "metadata": {
        "id": "JkREcgvTU7N5",
        "colab_type": "code",
        "outputId": "bbc10ba0-5a55-4c9b-a5f8-c8cd6162d0fa",
        "colab": {
          "base_uri": "https://localhost:8080/",
          "height": 206
        }
      },
      "source": [
        "df.head()"
      ],
      "execution_count": 0,
      "outputs": [
        {
          "output_type": "execute_result",
          "data": {
            "text/html": [
              "<div>\n",
              "<style scoped>\n",
              "    .dataframe tbody tr th:only-of-type {\n",
              "        vertical-align: middle;\n",
              "    }\n",
              "\n",
              "    .dataframe tbody tr th {\n",
              "        vertical-align: top;\n",
              "    }\n",
              "\n",
              "    .dataframe thead th {\n",
              "        text-align: right;\n",
              "    }\n",
              "</style>\n",
              "<table border=\"1\" class=\"dataframe\">\n",
              "  <thead>\n",
              "    <tr style=\"text-align: right;\">\n",
              "      <th></th>\n",
              "      <th>Province/State</th>\n",
              "      <th>Country/Region</th>\n",
              "      <th>Lat</th>\n",
              "      <th>Long</th>\n",
              "      <th>Date</th>\n",
              "      <th>Confirmed</th>\n",
              "      <th>Recovered</th>\n",
              "      <th>Deaths</th>\n",
              "    </tr>\n",
              "  </thead>\n",
              "  <tbody>\n",
              "    <tr>\n",
              "      <th>0</th>\n",
              "      <td>NaN</td>\n",
              "      <td>Thailand</td>\n",
              "      <td>15.0000</td>\n",
              "      <td>101.0000</td>\n",
              "      <td>1/22/20</td>\n",
              "      <td>2</td>\n",
              "      <td>0</td>\n",
              "      <td>0</td>\n",
              "    </tr>\n",
              "    <tr>\n",
              "      <th>1</th>\n",
              "      <td>NaN</td>\n",
              "      <td>Japan</td>\n",
              "      <td>36.0000</td>\n",
              "      <td>138.0000</td>\n",
              "      <td>1/22/20</td>\n",
              "      <td>2</td>\n",
              "      <td>0</td>\n",
              "      <td>0</td>\n",
              "    </tr>\n",
              "    <tr>\n",
              "      <th>2</th>\n",
              "      <td>NaN</td>\n",
              "      <td>Singapore</td>\n",
              "      <td>1.2833</td>\n",
              "      <td>103.8333</td>\n",
              "      <td>1/22/20</td>\n",
              "      <td>0</td>\n",
              "      <td>0</td>\n",
              "      <td>0</td>\n",
              "    </tr>\n",
              "    <tr>\n",
              "      <th>3</th>\n",
              "      <td>NaN</td>\n",
              "      <td>Nepal</td>\n",
              "      <td>28.1667</td>\n",
              "      <td>84.2500</td>\n",
              "      <td>1/22/20</td>\n",
              "      <td>0</td>\n",
              "      <td>0</td>\n",
              "      <td>0</td>\n",
              "    </tr>\n",
              "    <tr>\n",
              "      <th>4</th>\n",
              "      <td>NaN</td>\n",
              "      <td>Malaysia</td>\n",
              "      <td>2.5000</td>\n",
              "      <td>112.5000</td>\n",
              "      <td>1/22/20</td>\n",
              "      <td>0</td>\n",
              "      <td>0</td>\n",
              "      <td>0</td>\n",
              "    </tr>\n",
              "  </tbody>\n",
              "</table>\n",
              "</div>"
            ],
            "text/plain": [
              "  Province/State Country/Region      Lat  ...  Confirmed Recovered  Deaths\n",
              "0            NaN       Thailand  15.0000  ...          2         0       0\n",
              "1            NaN          Japan  36.0000  ...          2         0       0\n",
              "2            NaN      Singapore   1.2833  ...          0         0       0\n",
              "3            NaN          Nepal  28.1667  ...          0         0       0\n",
              "4            NaN       Malaysia   2.5000  ...          0         0       0\n",
              "\n",
              "[5 rows x 8 columns]"
            ]
          },
          "metadata": {
            "tags": []
          },
          "execution_count": 11
        }
      ]
    },
    {
      "cell_type": "code",
      "metadata": {
        "id": "H-J5E5W7U7FC",
        "colab_type": "code",
        "outputId": "3179c712-08e1-4b93-82fc-eb35fc407d04",
        "colab": {
          "base_uri": "https://localhost:8080/",
          "height": 206
        }
      },
      "source": [
        "df.tail()"
      ],
      "execution_count": 0,
      "outputs": [
        {
          "output_type": "execute_result",
          "data": {
            "text/html": [
              "<div>\n",
              "<style scoped>\n",
              "    .dataframe tbody tr th:only-of-type {\n",
              "        vertical-align: middle;\n",
              "    }\n",
              "\n",
              "    .dataframe tbody tr th {\n",
              "        vertical-align: top;\n",
              "    }\n",
              "\n",
              "    .dataframe thead th {\n",
              "        text-align: right;\n",
              "    }\n",
              "</style>\n",
              "<table border=\"1\" class=\"dataframe\">\n",
              "  <thead>\n",
              "    <tr style=\"text-align: right;\">\n",
              "      <th></th>\n",
              "      <th>Province/State</th>\n",
              "      <th>Country/Region</th>\n",
              "      <th>Lat</th>\n",
              "      <th>Long</th>\n",
              "      <th>Date</th>\n",
              "      <th>Confirmed</th>\n",
              "      <th>Recovered</th>\n",
              "      <th>Deaths</th>\n",
              "    </tr>\n",
              "  </thead>\n",
              "  <tbody>\n",
              "    <tr>\n",
              "      <th>20195</th>\n",
              "      <td>Socorro, NM</td>\n",
              "      <td>US</td>\n",
              "      <td>33.8837</td>\n",
              "      <td>-106.7235</td>\n",
              "      <td>3/11/20</td>\n",
              "      <td>2</td>\n",
              "      <td>0</td>\n",
              "      <td>0</td>\n",
              "    </tr>\n",
              "    <tr>\n",
              "      <th>20196</th>\n",
              "      <td>Bernalillo, NM</td>\n",
              "      <td>US</td>\n",
              "      <td>35.0178</td>\n",
              "      <td>-106.6291</td>\n",
              "      <td>3/11/20</td>\n",
              "      <td>1</td>\n",
              "      <td>0</td>\n",
              "      <td>0</td>\n",
              "    </tr>\n",
              "    <tr>\n",
              "      <th>20197</th>\n",
              "      <td>Oakland, MI</td>\n",
              "      <td>US</td>\n",
              "      <td>42.5922</td>\n",
              "      <td>-83.3362</td>\n",
              "      <td>3/11/20</td>\n",
              "      <td>1</td>\n",
              "      <td>0</td>\n",
              "      <td>0</td>\n",
              "    </tr>\n",
              "    <tr>\n",
              "      <th>20198</th>\n",
              "      <td>Wayne, MI</td>\n",
              "      <td>US</td>\n",
              "      <td>42.2791</td>\n",
              "      <td>-83.3362</td>\n",
              "      <td>3/11/20</td>\n",
              "      <td>1</td>\n",
              "      <td>0</td>\n",
              "      <td>0</td>\n",
              "    </tr>\n",
              "    <tr>\n",
              "      <th>20199</th>\n",
              "      <td>New Castle, DE</td>\n",
              "      <td>US</td>\n",
              "      <td>39.5393</td>\n",
              "      <td>-75.6674</td>\n",
              "      <td>3/11/20</td>\n",
              "      <td>1</td>\n",
              "      <td>0</td>\n",
              "      <td>0</td>\n",
              "    </tr>\n",
              "  </tbody>\n",
              "</table>\n",
              "</div>"
            ],
            "text/plain": [
              "       Province/State Country/Region      Lat  ...  Confirmed Recovered  Deaths\n",
              "20195     Socorro, NM             US  33.8837  ...          2         0       0\n",
              "20196  Bernalillo, NM             US  35.0178  ...          1         0       0\n",
              "20197     Oakland, MI             US  42.5922  ...          1         0       0\n",
              "20198       Wayne, MI             US  42.2791  ...          1         0       0\n",
              "20199  New Castle, DE             US  39.5393  ...          1         0       0\n",
              "\n",
              "[5 rows x 8 columns]"
            ]
          },
          "metadata": {
            "tags": []
          },
          "execution_count": 12
        }
      ]
    },
    {
      "cell_type": "code",
      "metadata": {
        "id": "SxD0Cgo5VTTe",
        "colab_type": "code",
        "outputId": "e5b0553e-f03a-4931-852c-0be05c410de1",
        "colab": {
          "base_uri": "https://localhost:8080/",
          "height": 72
        }
      },
      "source": [
        "df.columns"
      ],
      "execution_count": 0,
      "outputs": [
        {
          "output_type": "execute_result",
          "data": {
            "text/plain": [
              "Index(['Province/State', 'Country/Region', 'Lat', 'Long', 'Date', 'Confirmed',\n",
              "       'Recovered', 'Deaths'],\n",
              "      dtype='object')"
            ]
          },
          "metadata": {
            "tags": []
          },
          "execution_count": 13
        }
      ]
    },
    {
      "cell_type": "code",
      "metadata": {
        "id": "vtlO89QHU62C",
        "colab_type": "code",
        "colab": {}
      },
      "source": [
        "df_per_day = df.groupby(\"Date\")[['Confirmed','Recovered', 'Deaths']].sum()"
      ],
      "execution_count": 0,
      "outputs": []
    },
    {
      "cell_type": "code",
      "metadata": {
        "id": "ehvDHMEcWM4i",
        "colab_type": "code",
        "outputId": "b0e87196-626f-42cb-8131-120070eabb6c",
        "colab": {
          "base_uri": "https://localhost:8080/",
          "height": 1000
        }
      },
      "source": [
        "df_per_day"
      ],
      "execution_count": 0,
      "outputs": [
        {
          "output_type": "execute_result",
          "data": {
            "text/html": [
              "<div>\n",
              "<style scoped>\n",
              "    .dataframe tbody tr th:only-of-type {\n",
              "        vertical-align: middle;\n",
              "    }\n",
              "\n",
              "    .dataframe tbody tr th {\n",
              "        vertical-align: top;\n",
              "    }\n",
              "\n",
              "    .dataframe thead th {\n",
              "        text-align: right;\n",
              "    }\n",
              "</style>\n",
              "<table border=\"1\" class=\"dataframe\">\n",
              "  <thead>\n",
              "    <tr style=\"text-align: right;\">\n",
              "      <th></th>\n",
              "      <th>Confirmed</th>\n",
              "      <th>Recovered</th>\n",
              "      <th>Deaths</th>\n",
              "    </tr>\n",
              "    <tr>\n",
              "      <th>Date</th>\n",
              "      <th></th>\n",
              "      <th></th>\n",
              "      <th></th>\n",
              "    </tr>\n",
              "  </thead>\n",
              "  <tbody>\n",
              "    <tr>\n",
              "      <th>1/22/20</th>\n",
              "      <td>555</td>\n",
              "      <td>28</td>\n",
              "      <td>17</td>\n",
              "    </tr>\n",
              "    <tr>\n",
              "      <th>1/23/20</th>\n",
              "      <td>653</td>\n",
              "      <td>30</td>\n",
              "      <td>18</td>\n",
              "    </tr>\n",
              "    <tr>\n",
              "      <th>1/24/20</th>\n",
              "      <td>941</td>\n",
              "      <td>36</td>\n",
              "      <td>26</td>\n",
              "    </tr>\n",
              "    <tr>\n",
              "      <th>1/25/20</th>\n",
              "      <td>1434</td>\n",
              "      <td>39</td>\n",
              "      <td>42</td>\n",
              "    </tr>\n",
              "    <tr>\n",
              "      <th>1/26/20</th>\n",
              "      <td>2118</td>\n",
              "      <td>52</td>\n",
              "      <td>56</td>\n",
              "    </tr>\n",
              "    <tr>\n",
              "      <th>1/27/20</th>\n",
              "      <td>2927</td>\n",
              "      <td>61</td>\n",
              "      <td>82</td>\n",
              "    </tr>\n",
              "    <tr>\n",
              "      <th>1/28/20</th>\n",
              "      <td>5578</td>\n",
              "      <td>107</td>\n",
              "      <td>131</td>\n",
              "    </tr>\n",
              "    <tr>\n",
              "      <th>1/29/20</th>\n",
              "      <td>6166</td>\n",
              "      <td>126</td>\n",
              "      <td>133</td>\n",
              "    </tr>\n",
              "    <tr>\n",
              "      <th>1/30/20</th>\n",
              "      <td>8234</td>\n",
              "      <td>143</td>\n",
              "      <td>171</td>\n",
              "    </tr>\n",
              "    <tr>\n",
              "      <th>1/31/20</th>\n",
              "      <td>9927</td>\n",
              "      <td>222</td>\n",
              "      <td>213</td>\n",
              "    </tr>\n",
              "    <tr>\n",
              "      <th>2/1/20</th>\n",
              "      <td>12038</td>\n",
              "      <td>284</td>\n",
              "      <td>259</td>\n",
              "    </tr>\n",
              "    <tr>\n",
              "      <th>2/10/20</th>\n",
              "      <td>42762</td>\n",
              "      <td>3946</td>\n",
              "      <td>1013</td>\n",
              "    </tr>\n",
              "    <tr>\n",
              "      <th>2/11/20</th>\n",
              "      <td>44802</td>\n",
              "      <td>4683</td>\n",
              "      <td>1113</td>\n",
              "    </tr>\n",
              "    <tr>\n",
              "      <th>2/12/20</th>\n",
              "      <td>45221</td>\n",
              "      <td>5150</td>\n",
              "      <td>1118</td>\n",
              "    </tr>\n",
              "    <tr>\n",
              "      <th>2/13/20</th>\n",
              "      <td>60368</td>\n",
              "      <td>6295</td>\n",
              "      <td>1371</td>\n",
              "    </tr>\n",
              "    <tr>\n",
              "      <th>2/14/20</th>\n",
              "      <td>66885</td>\n",
              "      <td>8058</td>\n",
              "      <td>1523</td>\n",
              "    </tr>\n",
              "    <tr>\n",
              "      <th>2/15/20</th>\n",
              "      <td>69030</td>\n",
              "      <td>9395</td>\n",
              "      <td>1666</td>\n",
              "    </tr>\n",
              "    <tr>\n",
              "      <th>2/16/20</th>\n",
              "      <td>71224</td>\n",
              "      <td>10865</td>\n",
              "      <td>1770</td>\n",
              "    </tr>\n",
              "    <tr>\n",
              "      <th>2/17/20</th>\n",
              "      <td>73258</td>\n",
              "      <td>12583</td>\n",
              "      <td>1868</td>\n",
              "    </tr>\n",
              "    <tr>\n",
              "      <th>2/18/20</th>\n",
              "      <td>75136</td>\n",
              "      <td>14352</td>\n",
              "      <td>2007</td>\n",
              "    </tr>\n",
              "    <tr>\n",
              "      <th>2/19/20</th>\n",
              "      <td>75639</td>\n",
              "      <td>16121</td>\n",
              "      <td>2122</td>\n",
              "    </tr>\n",
              "    <tr>\n",
              "      <th>2/2/20</th>\n",
              "      <td>16787</td>\n",
              "      <td>472</td>\n",
              "      <td>362</td>\n",
              "    </tr>\n",
              "    <tr>\n",
              "      <th>2/20/20</th>\n",
              "      <td>76197</td>\n",
              "      <td>18177</td>\n",
              "      <td>2247</td>\n",
              "    </tr>\n",
              "    <tr>\n",
              "      <th>2/21/20</th>\n",
              "      <td>76823</td>\n",
              "      <td>18890</td>\n",
              "      <td>2251</td>\n",
              "    </tr>\n",
              "    <tr>\n",
              "      <th>2/22/20</th>\n",
              "      <td>78579</td>\n",
              "      <td>22886</td>\n",
              "      <td>2458</td>\n",
              "    </tr>\n",
              "    <tr>\n",
              "      <th>2/23/20</th>\n",
              "      <td>78965</td>\n",
              "      <td>23394</td>\n",
              "      <td>2469</td>\n",
              "    </tr>\n",
              "    <tr>\n",
              "      <th>2/24/20</th>\n",
              "      <td>79568</td>\n",
              "      <td>25227</td>\n",
              "      <td>2629</td>\n",
              "    </tr>\n",
              "    <tr>\n",
              "      <th>2/25/20</th>\n",
              "      <td>80413</td>\n",
              "      <td>27905</td>\n",
              "      <td>2708</td>\n",
              "    </tr>\n",
              "    <tr>\n",
              "      <th>2/26/20</th>\n",
              "      <td>81395</td>\n",
              "      <td>30384</td>\n",
              "      <td>2770</td>\n",
              "    </tr>\n",
              "    <tr>\n",
              "      <th>2/27/20</th>\n",
              "      <td>82754</td>\n",
              "      <td>33277</td>\n",
              "      <td>2814</td>\n",
              "    </tr>\n",
              "    <tr>\n",
              "      <th>2/28/20</th>\n",
              "      <td>84120</td>\n",
              "      <td>36711</td>\n",
              "      <td>2872</td>\n",
              "    </tr>\n",
              "    <tr>\n",
              "      <th>2/29/20</th>\n",
              "      <td>86011</td>\n",
              "      <td>39782</td>\n",
              "      <td>2941</td>\n",
              "    </tr>\n",
              "    <tr>\n",
              "      <th>2/3/20</th>\n",
              "      <td>19881</td>\n",
              "      <td>623</td>\n",
              "      <td>426</td>\n",
              "    </tr>\n",
              "    <tr>\n",
              "      <th>2/4/20</th>\n",
              "      <td>23892</td>\n",
              "      <td>852</td>\n",
              "      <td>492</td>\n",
              "    </tr>\n",
              "    <tr>\n",
              "      <th>2/5/20</th>\n",
              "      <td>27635</td>\n",
              "      <td>1124</td>\n",
              "      <td>564</td>\n",
              "    </tr>\n",
              "    <tr>\n",
              "      <th>2/6/20</th>\n",
              "      <td>30817</td>\n",
              "      <td>1487</td>\n",
              "      <td>634</td>\n",
              "    </tr>\n",
              "    <tr>\n",
              "      <th>2/7/20</th>\n",
              "      <td>34391</td>\n",
              "      <td>2011</td>\n",
              "      <td>719</td>\n",
              "    </tr>\n",
              "    <tr>\n",
              "      <th>2/8/20</th>\n",
              "      <td>37120</td>\n",
              "      <td>2616</td>\n",
              "      <td>806</td>\n",
              "    </tr>\n",
              "    <tr>\n",
              "      <th>2/9/20</th>\n",
              "      <td>40150</td>\n",
              "      <td>3244</td>\n",
              "      <td>906</td>\n",
              "    </tr>\n",
              "    <tr>\n",
              "      <th>3/1/20</th>\n",
              "      <td>88369</td>\n",
              "      <td>42716</td>\n",
              "      <td>2996</td>\n",
              "    </tr>\n",
              "    <tr>\n",
              "      <th>3/10/20</th>\n",
              "      <td>119298</td>\n",
              "      <td>64411</td>\n",
              "      <td>4290</td>\n",
              "    </tr>\n",
              "    <tr>\n",
              "      <th>3/11/20</th>\n",
              "      <td>126968</td>\n",
              "      <td>67014</td>\n",
              "      <td>4647</td>\n",
              "    </tr>\n",
              "    <tr>\n",
              "      <th>3/2/20</th>\n",
              "      <td>90306</td>\n",
              "      <td>45602</td>\n",
              "      <td>3085</td>\n",
              "    </tr>\n",
              "    <tr>\n",
              "      <th>3/3/20</th>\n",
              "      <td>92840</td>\n",
              "      <td>48228</td>\n",
              "      <td>3160</td>\n",
              "    </tr>\n",
              "    <tr>\n",
              "      <th>3/4/20</th>\n",
              "      <td>95120</td>\n",
              "      <td>51170</td>\n",
              "      <td>3254</td>\n",
              "    </tr>\n",
              "    <tr>\n",
              "      <th>3/5/20</th>\n",
              "      <td>97882</td>\n",
              "      <td>53796</td>\n",
              "      <td>3348</td>\n",
              "    </tr>\n",
              "    <tr>\n",
              "      <th>3/6/20</th>\n",
              "      <td>101784</td>\n",
              "      <td>55865</td>\n",
              "      <td>3460</td>\n",
              "    </tr>\n",
              "    <tr>\n",
              "      <th>3/7/20</th>\n",
              "      <td>105821</td>\n",
              "      <td>58358</td>\n",
              "      <td>3558</td>\n",
              "    </tr>\n",
              "    <tr>\n",
              "      <th>3/8/20</th>\n",
              "      <td>109795</td>\n",
              "      <td>60694</td>\n",
              "      <td>3802</td>\n",
              "    </tr>\n",
              "    <tr>\n",
              "      <th>3/9/20</th>\n",
              "      <td>113561</td>\n",
              "      <td>62494</td>\n",
              "      <td>3988</td>\n",
              "    </tr>\n",
              "  </tbody>\n",
              "</table>\n",
              "</div>"
            ],
            "text/plain": [
              "         Confirmed  Recovered  Deaths\n",
              "Date                                 \n",
              "1/22/20        555         28      17\n",
              "1/23/20        653         30      18\n",
              "1/24/20        941         36      26\n",
              "1/25/20       1434         39      42\n",
              "1/26/20       2118         52      56\n",
              "1/27/20       2927         61      82\n",
              "1/28/20       5578        107     131\n",
              "1/29/20       6166        126     133\n",
              "1/30/20       8234        143     171\n",
              "1/31/20       9927        222     213\n",
              "2/1/20       12038        284     259\n",
              "2/10/20      42762       3946    1013\n",
              "2/11/20      44802       4683    1113\n",
              "2/12/20      45221       5150    1118\n",
              "2/13/20      60368       6295    1371\n",
              "2/14/20      66885       8058    1523\n",
              "2/15/20      69030       9395    1666\n",
              "2/16/20      71224      10865    1770\n",
              "2/17/20      73258      12583    1868\n",
              "2/18/20      75136      14352    2007\n",
              "2/19/20      75639      16121    2122\n",
              "2/2/20       16787        472     362\n",
              "2/20/20      76197      18177    2247\n",
              "2/21/20      76823      18890    2251\n",
              "2/22/20      78579      22886    2458\n",
              "2/23/20      78965      23394    2469\n",
              "2/24/20      79568      25227    2629\n",
              "2/25/20      80413      27905    2708\n",
              "2/26/20      81395      30384    2770\n",
              "2/27/20      82754      33277    2814\n",
              "2/28/20      84120      36711    2872\n",
              "2/29/20      86011      39782    2941\n",
              "2/3/20       19881        623     426\n",
              "2/4/20       23892        852     492\n",
              "2/5/20       27635       1124     564\n",
              "2/6/20       30817       1487     634\n",
              "2/7/20       34391       2011     719\n",
              "2/8/20       37120       2616     806\n",
              "2/9/20       40150       3244     906\n",
              "3/1/20       88369      42716    2996\n",
              "3/10/20     119298      64411    4290\n",
              "3/11/20     126968      67014    4647\n",
              "3/2/20       90306      45602    3085\n",
              "3/3/20       92840      48228    3160\n",
              "3/4/20       95120      51170    3254\n",
              "3/5/20       97882      53796    3348\n",
              "3/6/20      101784      55865    3460\n",
              "3/7/20      105821      58358    3558\n",
              "3/8/20      109795      60694    3802\n",
              "3/9/20      113561      62494    3988"
            ]
          },
          "metadata": {
            "tags": []
          },
          "execution_count": 19
        }
      ]
    },
    {
      "cell_type": "code",
      "metadata": {
        "id": "SIYFYyrHWNbA",
        "colab_type": "code",
        "outputId": "7aeecb9e-7901-4556-d97f-a4bc1d3f8660",
        "colab": {
          "base_uri": "https://localhost:8080/",
          "height": 300
        }
      },
      "source": [
        "df_per_day.describe()"
      ],
      "execution_count": 0,
      "outputs": [
        {
          "output_type": "execute_result",
          "data": {
            "text/html": [
              "<div>\n",
              "<style scoped>\n",
              "    .dataframe tbody tr th:only-of-type {\n",
              "        vertical-align: middle;\n",
              "    }\n",
              "\n",
              "    .dataframe tbody tr th {\n",
              "        vertical-align: top;\n",
              "    }\n",
              "\n",
              "    .dataframe thead th {\n",
              "        text-align: right;\n",
              "    }\n",
              "</style>\n",
              "<table border=\"1\" class=\"dataframe\">\n",
              "  <thead>\n",
              "    <tr style=\"text-align: right;\">\n",
              "      <th></th>\n",
              "      <th>Confirmed</th>\n",
              "      <th>Recovered</th>\n",
              "      <th>Deaths</th>\n",
              "    </tr>\n",
              "  </thead>\n",
              "  <tbody>\n",
              "    <tr>\n",
              "      <th>count</th>\n",
              "      <td>50.000000</td>\n",
              "      <td>50.000000</td>\n",
              "      <td>50.00000</td>\n",
              "    </tr>\n",
              "    <tr>\n",
              "      <th>mean</th>\n",
              "      <td>57042.760000</td>\n",
              "      <td>19839.720000</td>\n",
              "      <td>1747.50000</td>\n",
              "    </tr>\n",
              "    <tr>\n",
              "      <th>std</th>\n",
              "      <td>37889.240465</td>\n",
              "      <td>22120.723404</td>\n",
              "      <td>1360.22236</td>\n",
              "    </tr>\n",
              "    <tr>\n",
              "      <th>min</th>\n",
              "      <td>555.000000</td>\n",
              "      <td>28.000000</td>\n",
              "      <td>17.00000</td>\n",
              "    </tr>\n",
              "    <tr>\n",
              "      <th>25%</th>\n",
              "      <td>20883.750000</td>\n",
              "      <td>680.250000</td>\n",
              "      <td>442.50000</td>\n",
              "    </tr>\n",
              "    <tr>\n",
              "      <th>50%</th>\n",
              "      <td>70127.000000</td>\n",
              "      <td>10130.000000</td>\n",
              "      <td>1718.00000</td>\n",
              "    </tr>\n",
              "    <tr>\n",
              "      <th>75%</th>\n",
              "      <td>83778.500000</td>\n",
              "      <td>35852.500000</td>\n",
              "      <td>2857.50000</td>\n",
              "    </tr>\n",
              "    <tr>\n",
              "      <th>max</th>\n",
              "      <td>126968.000000</td>\n",
              "      <td>67014.000000</td>\n",
              "      <td>4647.00000</td>\n",
              "    </tr>\n",
              "  </tbody>\n",
              "</table>\n",
              "</div>"
            ],
            "text/plain": [
              "           Confirmed     Recovered      Deaths\n",
              "count      50.000000     50.000000    50.00000\n",
              "mean    57042.760000  19839.720000  1747.50000\n",
              "std     37889.240465  22120.723404  1360.22236\n",
              "min       555.000000     28.000000    17.00000\n",
              "25%     20883.750000    680.250000   442.50000\n",
              "50%     70127.000000  10130.000000  1718.00000\n",
              "75%     83778.500000  35852.500000  2857.50000\n",
              "max    126968.000000  67014.000000  4647.00000"
            ]
          },
          "metadata": {
            "tags": []
          },
          "execution_count": 20
        }
      ]
    },
    {
      "cell_type": "code",
      "metadata": {
        "id": "P9VPbcdWWNRZ",
        "colab_type": "code",
        "outputId": "0b26a8b4-3e67-443c-cea9-c1d2229db75a",
        "colab": {
          "base_uri": "https://localhost:8080/",
          "height": 372
        }
      },
      "source": [
        "df_per_day.plot(kind='line',figsize=(20,5))"
      ],
      "execution_count": 0,
      "outputs": [
        {
          "output_type": "execute_result",
          "data": {
            "text/plain": [
              "<matplotlib.axes._subplots.AxesSubplot at 0x7f8407d92860>"
            ]
          },
          "metadata": {
            "tags": []
          },
          "execution_count": 22
        },
        {
          "output_type": "display_data",
          "data": {
            "image/png": "[encoded data removed]",
            "text/plain": [
              "<Figure size 1440x360 with 1 Axes>"
            ]
          },
          "metadata": {
            "tags": []
          }
        }
      ]
    },
    {
      "cell_type": "code",
      "metadata": {
        "id": "nM5W2Mm1YQKr",
        "colab_type": "code",
        "colab": {}
      },
      "source": [
        "# Time Series Forecasting\n",
        "import fbprophet\n"
      ],
      "execution_count": 0,
      "outputs": []
    },
    {
      "cell_type": "code",
      "metadata": {
        "id": "yDHe_y8NYP4U",
        "colab_type": "code",
        "outputId": "828d2b4d-7652-43cc-f9c3-7af9d52ed28e",
        "colab": {
          "base_uri": "https://localhost:8080/",
          "height": 326
        }
      },
      "source": [
        "dir(fbprophet)"
      ],
      "execution_count": 0,
      "outputs": [
        {
          "output_type": "execute_result",
          "data": {
            "text/plain": [
              "['Prophet',\n",
              " '__builtins__',\n",
              " '__cached__',\n",
              " '__doc__',\n",
              " '__file__',\n",
              " '__loader__',\n",
              " '__name__',\n",
              " '__package__',\n",
              " '__path__',\n",
              " '__spec__',\n",
              " '__version__',\n",
              " 'diagnostics',\n",
              " 'forecaster',\n",
              " 'hdays',\n",
              " 'make_holidays',\n",
              " 'models',\n",
              " 'plot']"
            ]
          },
          "metadata": {
            "tags": []
          },
          "execution_count": 25
        }
      ]
    },
    {
      "cell_type": "code",
      "metadata": {
        "id": "IevP2yjgYgmd",
        "colab_type": "code",
        "colab": {}
      },
      "source": [
        "# Model Initialize\n",
        "from fbprophet import Prophet\n",
        "m = Prophet()"
      ],
      "execution_count": 0,
      "outputs": []
    },
    {
      "cell_type": "code",
      "metadata": {
        "id": "9Z47HR6IYo58",
        "colab_type": "code",
        "outputId": "78ecfe74-94be-44c5-c077-1b60d0ff3f45",
        "colab": {
          "base_uri": "https://localhost:8080/",
          "height": 35
        }
      },
      "source": [
        "m.add_seasonality(name=\"monthly\",period=30.5,fourier_order=5)"
      ],
      "execution_count": 0,
      "outputs": [
        {
          "output_type": "execute_result",
          "data": {
            "text/plain": [
              "<fbprophet.forecaster.Prophet at 0x7f83fadec5c0>"
            ]
          },
          "metadata": {
            "tags": []
          },
          "execution_count": 27
        }
      ]
    },
    {
      "cell_type": "code",
      "metadata": {
        "id": "KVdw_bgpY4Fq",
        "colab_type": "code",
        "outputId": "8c9df0b3-93d3-442d-803c-03b64df54027",
        "colab": {
          "base_uri": "https://localhost:8080/",
          "height": 1000
        }
      },
      "source": [
        "# Split Dataset\n",
        "df_per_day"
      ],
      "execution_count": 0,
      "outputs": [
        {
          "output_type": "execute_result",
          "data": {
            "text/html": [
              "<div>\n",
              "<style scoped>\n",
              "    .dataframe tbody tr th:only-of-type {\n",
              "        vertical-align: middle;\n",
              "    }\n",
              "\n",
              "    .dataframe tbody tr th {\n",
              "        vertical-align: top;\n",
              "    }\n",
              "\n",
              "    .dataframe thead th {\n",
              "        text-align: right;\n",
              "    }\n",
              "</style>\n",
              "<table border=\"1\" class=\"dataframe\">\n",
              "  <thead>\n",
              "    <tr style=\"text-align: right;\">\n",
              "      <th></th>\n",
              "      <th>Confirmed</th>\n",
              "      <th>Recovered</th>\n",
              "      <th>Deaths</th>\n",
              "    </tr>\n",
              "    <tr>\n",
              "      <th>Date</th>\n",
              "      <th></th>\n",
              "      <th></th>\n",
              "      <th></th>\n",
              "    </tr>\n",
              "  </thead>\n",
              "  <tbody>\n",
              "    <tr>\n",
              "      <th>1/22/20</th>\n",
              "      <td>555</td>\n",
              "      <td>28</td>\n",
              "      <td>17</td>\n",
              "    </tr>\n",
              "    <tr>\n",
              "      <th>1/23/20</th>\n",
              "      <td>653</td>\n",
              "      <td>30</td>\n",
              "      <td>18</td>\n",
              "    </tr>\n",
              "    <tr>\n",
              "      <th>1/24/20</th>\n",
              "      <td>941</td>\n",
              "      <td>36</td>\n",
              "      <td>26</td>\n",
              "    </tr>\n",
              "    <tr>\n",
              "      <th>1/25/20</th>\n",
              "      <td>1434</td>\n",
              "      <td>39</td>\n",
              "      <td>42</td>\n",
              "    </tr>\n",
              "    <tr>\n",
              "      <th>1/26/20</th>\n",
              "      <td>2118</td>\n",
              "      <td>52</td>\n",
              "      <td>56</td>\n",
              "    </tr>\n",
              "    <tr>\n",
              "      <th>1/27/20</th>\n",
              "      <td>2927</td>\n",
              "      <td>61</td>\n",
              "      <td>82</td>\n",
              "    </tr>\n",
              "    <tr>\n",
              "      <th>1/28/20</th>\n",
              "      <td>5578</td>\n",
              "      <td>107</td>\n",
              "      <td>131</td>\n",
              "    </tr>\n",
              "    <tr>\n",
              "      <th>1/29/20</th>\n",
              "      <td>6166</td>\n",
              "      <td>126</td>\n",
              "      <td>133</td>\n",
              "    </tr>\n",
              "    <tr>\n",
              "      <th>1/30/20</th>\n",
              "      <td>8234</td>\n",
              "      <td>143</td>\n",
              "      <td>171</td>\n",
              "    </tr>\n",
              "    <tr>\n",
              "      <th>1/31/20</th>\n",
              "      <td>9927</td>\n",
              "      <td>222</td>\n",
              "      <td>213</td>\n",
              "    </tr>\n",
              "    <tr>\n",
              "      <th>2/1/20</th>\n",
              "      <td>12038</td>\n",
              "      <td>284</td>\n",
              "      <td>259</td>\n",
              "    </tr>\n",
              "    <tr>\n",
              "      <th>2/10/20</th>\n",
              "      <td>42762</td>\n",
              "      <td>3946</td>\n",
              "      <td>1013</td>\n",
              "    </tr>\n",
              "    <tr>\n",
              "      <th>2/11/20</th>\n",
              "      <td>44802</td>\n",
              "      <td>4683</td>\n",
              "      <td>1113</td>\n",
              "    </tr>\n",
              "    <tr>\n",
              "      <th>2/12/20</th>\n",
              "      <td>45221</td>\n",
              "      <td>5150</td>\n",
              "      <td>1118</td>\n",
              "    </tr>\n",
              "    <tr>\n",
              "      <th>2/13/20</th>\n",
              "      <td>60368</td>\n",
              "      <td>6295</td>\n",
              "      <td>1371</td>\n",
              "    </tr>\n",
              "    <tr>\n",
              "      <th>2/14/20</th>\n",
              "      <td>66885</td>\n",
              "      <td>8058</td>\n",
              "      <td>1523</td>\n",
              "    </tr>\n",
              "    <tr>\n",
              "      <th>2/15/20</th>\n",
              "      <td>69030</td>\n",
              "      <td>9395</td>\n",
              "      <td>1666</td>\n",
              "    </tr>\n",
              "    <tr>\n",
              "      <th>2/16/20</th>\n",
              "      <td>71224</td>\n",
              "      <td>10865</td>\n",
              "      <td>1770</td>\n",
              "    </tr>\n",
              "    <tr>\n",
              "      <th>2/17/20</th>\n",
              "      <td>73258</td>\n",
              "      <td>12583</td>\n",
              "      <td>1868</td>\n",
              "    </tr>\n",
              "    <tr>\n",
              "      <th>2/18/20</th>\n",
              "      <td>75136</td>\n",
              "      <td>14352</td>\n",
              "      <td>2007</td>\n",
              "    </tr>\n",
              "    <tr>\n",
              "      <th>2/19/20</th>\n",
              "      <td>75639</td>\n",
              "      <td>16121</td>\n",
              "      <td>2122</td>\n",
              "    </tr>\n",
              "    <tr>\n",
              "      <th>2/2/20</th>\n",
              "      <td>16787</td>\n",
              "      <td>472</td>\n",
              "      <td>362</td>\n",
              "    </tr>\n",
              "    <tr>\n",
              "      <th>2/20/20</th>\n",
              "      <td>76197</td>\n",
              "      <td>18177</td>\n",
              "      <td>2247</td>\n",
              "    </tr>\n",
              "    <tr>\n",
              "      <th>2/21/20</th>\n",
              "      <td>76823</td>\n",
              "      <td>18890</td>\n",
              "      <td>2251</td>\n",
              "    </tr>\n",
              "    <tr>\n",
              "      <th>2/22/20</th>\n",
              "      <td>78579</td>\n",
              "      <td>22886</td>\n",
              "      <td>2458</td>\n",
              "    </tr>\n",
              "    <tr>\n",
              "      <th>2/23/20</th>\n",
              "      <td>78965</td>\n",
              "      <td>23394</td>\n",
              "      <td>2469</td>\n",
              "    </tr>\n",
              "    <tr>\n",
              "      <th>2/24/20</th>\n",
              "      <td>79568</td>\n",
              "      <td>25227</td>\n",
              "      <td>2629</td>\n",
              "    </tr>\n",
              "    <tr>\n",
              "      <th>2/25/20</th>\n",
              "      <td>80413</td>\n",
              "      <td>27905</td>\n",
              "      <td>2708</td>\n",
              "    </tr>\n",
              "    <tr>\n",
              "      <th>2/26/20</th>\n",
              "      <td>81395</td>\n",
              "      <td>30384</td>\n",
              "      <td>2770</td>\n",
              "    </tr>\n",
              "    <tr>\n",
              "      <th>2/27/20</th>\n",
              "      <td>82754</td>\n",
              "      <td>33277</td>\n",
              "      <td>2814</td>\n",
              "    </tr>\n",
              "    <tr>\n",
              "      <th>2/28/20</th>\n",
              "      <td>84120</td>\n",
              "      <td>36711</td>\n",
              "      <td>2872</td>\n",
              "    </tr>\n",
              "    <tr>\n",
              "      <th>2/29/20</th>\n",
              "      <td>86011</td>\n",
              "      <td>39782</td>\n",
              "      <td>2941</td>\n",
              "    </tr>\n",
              "    <tr>\n",
              "      <th>2/3/20</th>\n",
              "      <td>19881</td>\n",
              "      <td>623</td>\n",
              "      <td>426</td>\n",
              "    </tr>\n",
              "    <tr>\n",
              "      <th>2/4/20</th>\n",
              "      <td>23892</td>\n",
              "      <td>852</td>\n",
              "      <td>492</td>\n",
              "    </tr>\n",
              "    <tr>\n",
              "      <th>2/5/20</th>\n",
              "      <td>27635</td>\n",
              "      <td>1124</td>\n",
              "      <td>564</td>\n",
              "    </tr>\n",
              "    <tr>\n",
              "      <th>2/6/20</th>\n",
              "      <td>30817</td>\n",
              "      <td>1487</td>\n",
              "      <td>634</td>\n",
              "    </tr>\n",
              "    <tr>\n",
              "      <th>2/7/20</th>\n",
              "      <td>34391</td>\n",
              "      <td>2011</td>\n",
              "      <td>719</td>\n",
              "    </tr>\n",
              "    <tr>\n",
              "      <th>2/8/20</th>\n",
              "      <td>37120</td>\n",
              "      <td>2616</td>\n",
              "      <td>806</td>\n",
              "    </tr>\n",
              "    <tr>\n",
              "      <th>2/9/20</th>\n",
              "      <td>40150</td>\n",
              "      <td>3244</td>\n",
              "      <td>906</td>\n",
              "    </tr>\n",
              "    <tr>\n",
              "      <th>3/1/20</th>\n",
              "      <td>88369</td>\n",
              "      <td>42716</td>\n",
              "      <td>2996</td>\n",
              "    </tr>\n",
              "    <tr>\n",
              "      <th>3/10/20</th>\n",
              "      <td>119298</td>\n",
              "      <td>64411</td>\n",
              "      <td>4290</td>\n",
              "    </tr>\n",
              "    <tr>\n",
              "      <th>3/11/20</th>\n",
              "      <td>126968</td>\n",
              "      <td>67014</td>\n",
              "      <td>4647</td>\n",
              "    </tr>\n",
              "    <tr>\n",
              "      <th>3/2/20</th>\n",
              "      <td>90306</td>\n",
              "      <td>45602</td>\n",
              "      <td>3085</td>\n",
              "    </tr>\n",
              "    <tr>\n",
              "      <th>3/3/20</th>\n",
              "      <td>92840</td>\n",
              "      <td>48228</td>\n",
              "      <td>3160</td>\n",
              "    </tr>\n",
              "    <tr>\n",
              "      <th>3/4/20</th>\n",
              "      <td>95120</td>\n",
              "      <td>51170</td>\n",
              "      <td>3254</td>\n",
              "    </tr>\n",
              "    <tr>\n",
              "      <th>3/5/20</th>\n",
              "      <td>97882</td>\n",
              "      <td>53796</td>\n",
              "      <td>3348</td>\n",
              "    </tr>\n",
              "    <tr>\n",
              "      <th>3/6/20</th>\n",
              "      <td>101784</td>\n",
              "      <td>55865</td>\n",
              "      <td>3460</td>\n",
              "    </tr>\n",
              "    <tr>\n",
              "      <th>3/7/20</th>\n",
              "      <td>105821</td>\n",
              "      <td>58358</td>\n",
              "      <td>3558</td>\n",
              "    </tr>\n",
              "    <tr>\n",
              "      <th>3/8/20</th>\n",
              "      <td>109795</td>\n",
              "      <td>60694</td>\n",
              "      <td>3802</td>\n",
              "    </tr>\n",
              "    <tr>\n",
              "      <th>3/9/20</th>\n",
              "      <td>113561</td>\n",
              "      <td>62494</td>\n",
              "      <td>3988</td>\n",
              "    </tr>\n",
              "  </tbody>\n",
              "</table>\n",
              "</div>"
            ],
            "text/plain": [
              "         Confirmed  Recovered  Deaths\n",
              "Date                                 \n",
              "1/22/20        555         28      17\n",
              "1/23/20        653         30      18\n",
              "1/24/20        941         36      26\n",
              "1/25/20       1434         39      42\n",
              "1/26/20       2118         52      56\n",
              "1/27/20       2927         61      82\n",
              "1/28/20       5578        107     131\n",
              "1/29/20       6166        126     133\n",
              "1/30/20       8234        143     171\n",
              "1/31/20       9927        222     213\n",
              "2/1/20       12038        284     259\n",
              "2/10/20      42762       3946    1013\n",
              "2/11/20      44802       4683    1113\n",
              "2/12/20      45221       5150    1118\n",
              "2/13/20      60368       6295    1371\n",
              "2/14/20      66885       8058    1523\n",
              "2/15/20      69030       9395    1666\n",
              "2/16/20      71224      10865    1770\n",
              "2/17/20      73258      12583    1868\n",
              "2/18/20      75136      14352    2007\n",
              "2/19/20      75639      16121    2122\n",
              "2/2/20       16787        472     362\n",
              "2/20/20      76197      18177    2247\n",
              "2/21/20      76823      18890    2251\n",
              "2/22/20      78579      22886    2458\n",
              "2/23/20      78965      23394    2469\n",
              "2/24/20      79568      25227    2629\n",
              "2/25/20      80413      27905    2708\n",
              "2/26/20      81395      30384    2770\n",
              "2/27/20      82754      33277    2814\n",
              "2/28/20      84120      36711    2872\n",
              "2/29/20      86011      39782    2941\n",
              "2/3/20       19881        623     426\n",
              "2/4/20       23892        852     492\n",
              "2/5/20       27635       1124     564\n",
              "2/6/20       30817       1487     634\n",
              "2/7/20       34391       2011     719\n",
              "2/8/20       37120       2616     806\n",
              "2/9/20       40150       3244     906\n",
              "3/1/20       88369      42716    2996\n",
              "3/10/20     119298      64411    4290\n",
              "3/11/20     126968      67014    4647\n",
              "3/2/20       90306      45602    3085\n",
              "3/3/20       92840      48228    3160\n",
              "3/4/20       95120      51170    3254\n",
              "3/5/20       97882      53796    3348\n",
              "3/6/20      101784      55865    3460\n",
              "3/7/20      105821      58358    3558\n",
              "3/8/20      109795      60694    3802\n",
              "3/9/20      113561      62494    3988"
            ]
          },
          "metadata": {
            "tags": []
          },
          "execution_count": 32
        }
      ]
    },
    {
      "cell_type": "markdown",
      "metadata": {
        "id": "Cq3Q1VCWQ74Y",
        "colab_type": "text"
      },
      "source": [
        ""
      ]
    },
    {
      "cell_type": "code",
      "metadata": {
        "id": "g_raW6RnY4br",
        "colab_type": "code",
        "colab": {}
      },
      "source": [
        "global_cases = df_per_day.reset_index()"
      ],
      "execution_count": 0,
      "outputs": []
    },
    {
      "cell_type": "code",
      "metadata": {
        "id": "nJq5nMruZMWG",
        "colab_type": "code",
        "outputId": "754dbd21-58f6-40ea-b8b3-46649a5b0460",
        "colab": {
          "base_uri": "https://localhost:8080/",
          "height": 206
        }
      },
      "source": [
        "global_cases.head()"
      ],
      "execution_count": 0,
      "outputs": [
        {
          "output_type": "execute_result",
          "data": {
            "text/html": [
              "<div>\n",
              "<style scoped>\n",
              "    .dataframe tbody tr th:only-of-type {\n",
              "        vertical-align: middle;\n",
              "    }\n",
              "\n",
              "    .dataframe tbody tr th {\n",
              "        vertical-align: top;\n",
              "    }\n",
              "\n",
              "    .dataframe thead th {\n",
              "        text-align: right;\n",
              "    }\n",
              "</style>\n",
              "<table border=\"1\" class=\"dataframe\">\n",
              "  <thead>\n",
              "    <tr style=\"text-align: right;\">\n",
              "      <th></th>\n",
              "      <th>Date</th>\n",
              "      <th>Confirmed</th>\n",
              "      <th>Recovered</th>\n",
              "      <th>Deaths</th>\n",
              "    </tr>\n",
              "  </thead>\n",
              "  <tbody>\n",
              "    <tr>\n",
              "      <th>0</th>\n",
              "      <td>1/22/20</td>\n",
              "      <td>555</td>\n",
              "      <td>28</td>\n",
              "      <td>17</td>\n",
              "    </tr>\n",
              "    <tr>\n",
              "      <th>1</th>\n",
              "      <td>1/23/20</td>\n",
              "      <td>653</td>\n",
              "      <td>30</td>\n",
              "      <td>18</td>\n",
              "    </tr>\n",
              "    <tr>\n",
              "      <th>2</th>\n",
              "      <td>1/24/20</td>\n",
              "      <td>941</td>\n",
              "      <td>36</td>\n",
              "      <td>26</td>\n",
              "    </tr>\n",
              "    <tr>\n",
              "      <th>3</th>\n",
              "      <td>1/25/20</td>\n",
              "      <td>1434</td>\n",
              "      <td>39</td>\n",
              "      <td>42</td>\n",
              "    </tr>\n",
              "    <tr>\n",
              "      <th>4</th>\n",
              "      <td>1/26/20</td>\n",
              "      <td>2118</td>\n",
              "      <td>52</td>\n",
              "      <td>56</td>\n",
              "    </tr>\n",
              "  </tbody>\n",
              "</table>\n",
              "</div>"
            ],
            "text/plain": [
              "      Date  Confirmed  Recovered  Deaths\n",
              "0  1/22/20        555         28      17\n",
              "1  1/23/20        653         30      18\n",
              "2  1/24/20        941         36      26\n",
              "3  1/25/20       1434         39      42\n",
              "4  1/26/20       2118         52      56"
            ]
          },
          "metadata": {
            "tags": []
          },
          "execution_count": 34
        }
      ]
    },
    {
      "cell_type": "code",
      "metadata": {
        "id": "wAYdOsEhZvko",
        "colab_type": "code",
        "colab": {}
      },
      "source": [
        "confirmed_cases = global_cases[[\"Date\",\"Confirmed\"]]\n",
        "recovered_cases = global_cases[[\"Date\",\"Recovered\"]]"
      ],
      "execution_count": 0,
      "outputs": []
    },
    {
      "cell_type": "code",
      "metadata": {
        "id": "3ITMJ1zfZ7OP",
        "colab_type": "code",
        "outputId": "f7d964c1-6894-4663-efea-b56cb0cead7b",
        "colab": {
          "base_uri": "https://localhost:8080/",
          "height": 35
        }
      },
      "source": [
        "confirmed_cases.shape"
      ],
      "execution_count": 0,
      "outputs": [
        {
          "output_type": "execute_result",
          "data": {
            "text/plain": [
              "(50, 2)"
            ]
          },
          "metadata": {
            "tags": []
          },
          "execution_count": 36
        }
      ]
    },
    {
      "cell_type": "code",
      "metadata": {
        "id": "t2VSudLhaMa3",
        "colab_type": "code",
        "outputId": "0b86721b-26c9-4df6-d6ac-82169a56070d",
        "colab": {
          "base_uri": "https://localhost:8080/",
          "height": 164
        }
      },
      "source": [
        "confirmed_cases.rename(columns={\"Date\":\"ds\",\"Confirmed\":\"y\"},inplace=True)"
      ],
      "execution_count": 0,
      "outputs": [
        {
          "output_type": "stream",
          "text": [
            "/usr/local/lib/python3.6/dist-packages/pandas/core/frame.py:4238: SettingWithCopyWarning:\n",
            "\n",
            "\n",
            "A value is trying to be set on a copy of a slice from a DataFrame\n",
            "\n",
            "See the caveats in the documentation: http://pandas.pydata.org/pandas-docs/stable/user_guide/indexing.html#returning-a-view-versus-a-copy\n",
            "\n"
          ],
          "name": "stderr"
        }
      ]
    },
    {
      "cell_type": "code",
      "metadata": {
        "id": "tcb1fVyxZ-LA",
        "colab_type": "code",
        "colab": {}
      },
      "source": [
        "train = confirmed_cases[:40]\n",
        "test = confirmed_cases[40:]"
      ],
      "execution_count": 0,
      "outputs": []
    },
    {
      "cell_type": "code",
      "metadata": {
        "id": "kKyYdmdqaHWX",
        "colab_type": "code",
        "outputId": "bf0aabd2-64ef-4472-d96d-c4f642295d91",
        "colab": {
          "base_uri": "https://localhost:8080/",
          "height": 206
        }
      },
      "source": [
        "train.head()"
      ],
      "execution_count": 0,
      "outputs": [
        {
          "output_type": "execute_result",
          "data": {
            "text/html": [
              "<div>\n",
              "<style scoped>\n",
              "    .dataframe tbody tr th:only-of-type {\n",
              "        vertical-align: middle;\n",
              "    }\n",
              "\n",
              "    .dataframe tbody tr th {\n",
              "        vertical-align: top;\n",
              "    }\n",
              "\n",
              "    .dataframe thead th {\n",
              "        text-align: right;\n",
              "    }\n",
              "</style>\n",
              "<table border=\"1\" class=\"dataframe\">\n",
              "  <thead>\n",
              "    <tr style=\"text-align: right;\">\n",
              "      <th></th>\n",
              "      <th>ds</th>\n",
              "      <th>y</th>\n",
              "    </tr>\n",
              "  </thead>\n",
              "  <tbody>\n",
              "    <tr>\n",
              "      <th>0</th>\n",
              "      <td>1/22/20</td>\n",
              "      <td>555</td>\n",
              "    </tr>\n",
              "    <tr>\n",
              "      <th>1</th>\n",
              "      <td>1/23/20</td>\n",
              "      <td>653</td>\n",
              "    </tr>\n",
              "    <tr>\n",
              "      <th>2</th>\n",
              "      <td>1/24/20</td>\n",
              "      <td>941</td>\n",
              "    </tr>\n",
              "    <tr>\n",
              "      <th>3</th>\n",
              "      <td>1/25/20</td>\n",
              "      <td>1434</td>\n",
              "    </tr>\n",
              "    <tr>\n",
              "      <th>4</th>\n",
              "      <td>1/26/20</td>\n",
              "      <td>2118</td>\n",
              "    </tr>\n",
              "  </tbody>\n",
              "</table>\n",
              "</div>"
            ],
            "text/plain": [
              "        ds     y\n",
              "0  1/22/20   555\n",
              "1  1/23/20   653\n",
              "2  1/24/20   941\n",
              "3  1/25/20  1434\n",
              "4  1/26/20  2118"
            ]
          },
          "metadata": {
            "tags": []
          },
          "execution_count": 42
        }
      ]
    },
    {
      "cell_type": "code",
      "metadata": {
        "id": "WGuFaEPvaJag",
        "colab_type": "code",
        "outputId": "6887a794-8660-4a93-c7a6-ce4380f91183",
        "colab": {
          "base_uri": "https://localhost:8080/",
          "height": 90
        }
      },
      "source": [
        "# Fit Model\n",
        "m.fit(train)"
      ],
      "execution_count": 0,
      "outputs": [
        {
          "output_type": "stream",
          "text": [
            "INFO:numexpr.utils:NumExpr defaulting to 2 threads.\n",
            "INFO:fbprophet:Disabling yearly seasonality. Run prophet with yearly_seasonality=True to override this.\n",
            "INFO:fbprophet:Disabling daily seasonality. Run prophet with daily_seasonality=True to override this.\n"
          ],
          "name": "stderr"
        },
        {
          "output_type": "execute_result",
          "data": {
            "text/plain": [
              "<fbprophet.forecaster.Prophet at 0x7f83fadec5c0>"
            ]
          },
          "metadata": {
            "tags": []
          },
          "execution_count": 43
        }
      ]
    },
    {
      "cell_type": "code",
      "metadata": {
        "id": "pqNEBdGPaikl",
        "colab_type": "code",
        "colab": {}
      },
      "source": [
        "# Future Date\n",
        "future_dates = m.make_future_dataframe(periods=15)"
      ],
      "execution_count": 0,
      "outputs": []
    },
    {
      "cell_type": "code",
      "metadata": {
        "id": "8Ww0SHr4aqds",
        "colab_type": "code",
        "outputId": "45cf50a2-bccd-476b-a38b-48d58e56386c",
        "colab": {
          "base_uri": "https://localhost:8080/",
          "height": 1000
        }
      },
      "source": [
        "future_dates"
      ],
      "execution_count": 0,
      "outputs": [
        {
          "output_type": "execute_result",
          "data": {
            "text/html": [
              "<div>\n",
              "<style scoped>\n",
              "    .dataframe tbody tr th:only-of-type {\n",
              "        vertical-align: middle;\n",
              "    }\n",
              "\n",
              "    .dataframe tbody tr th {\n",
              "        vertical-align: top;\n",
              "    }\n",
              "\n",
              "    .dataframe thead th {\n",
              "        text-align: right;\n",
              "    }\n",
              "</style>\n",
              "<table border=\"1\" class=\"dataframe\">\n",
              "  <thead>\n",
              "    <tr style=\"text-align: right;\">\n",
              "      <th></th>\n",
              "      <th>ds</th>\n",
              "    </tr>\n",
              "  </thead>\n",
              "  <tbody>\n",
              "    <tr>\n",
              "      <th>0</th>\n",
              "      <td>2020-01-22</td>\n",
              "    </tr>\n",
              "    <tr>\n",
              "      <th>1</th>\n",
              "      <td>2020-01-23</td>\n",
              "    </tr>\n",
              "    <tr>\n",
              "      <th>2</th>\n",
              "      <td>2020-01-24</td>\n",
              "    </tr>\n",
              "    <tr>\n",
              "      <th>3</th>\n",
              "      <td>2020-01-25</td>\n",
              "    </tr>\n",
              "    <tr>\n",
              "      <th>4</th>\n",
              "      <td>2020-01-26</td>\n",
              "    </tr>\n",
              "    <tr>\n",
              "      <th>5</th>\n",
              "      <td>2020-01-27</td>\n",
              "    </tr>\n",
              "    <tr>\n",
              "      <th>6</th>\n",
              "      <td>2020-01-28</td>\n",
              "    </tr>\n",
              "    <tr>\n",
              "      <th>7</th>\n",
              "      <td>2020-01-29</td>\n",
              "    </tr>\n",
              "    <tr>\n",
              "      <th>8</th>\n",
              "      <td>2020-01-30</td>\n",
              "    </tr>\n",
              "    <tr>\n",
              "      <th>9</th>\n",
              "      <td>2020-01-31</td>\n",
              "    </tr>\n",
              "    <tr>\n",
              "      <th>10</th>\n",
              "      <td>2020-02-01</td>\n",
              "    </tr>\n",
              "    <tr>\n",
              "      <th>11</th>\n",
              "      <td>2020-02-02</td>\n",
              "    </tr>\n",
              "    <tr>\n",
              "      <th>12</th>\n",
              "      <td>2020-02-03</td>\n",
              "    </tr>\n",
              "    <tr>\n",
              "      <th>13</th>\n",
              "      <td>2020-02-04</td>\n",
              "    </tr>\n",
              "    <tr>\n",
              "      <th>14</th>\n",
              "      <td>2020-02-05</td>\n",
              "    </tr>\n",
              "    <tr>\n",
              "      <th>15</th>\n",
              "      <td>2020-02-06</td>\n",
              "    </tr>\n",
              "    <tr>\n",
              "      <th>16</th>\n",
              "      <td>2020-02-07</td>\n",
              "    </tr>\n",
              "    <tr>\n",
              "      <th>17</th>\n",
              "      <td>2020-02-08</td>\n",
              "    </tr>\n",
              "    <tr>\n",
              "      <th>18</th>\n",
              "      <td>2020-02-09</td>\n",
              "    </tr>\n",
              "    <tr>\n",
              "      <th>19</th>\n",
              "      <td>2020-02-10</td>\n",
              "    </tr>\n",
              "    <tr>\n",
              "      <th>20</th>\n",
              "      <td>2020-02-11</td>\n",
              "    </tr>\n",
              "    <tr>\n",
              "      <th>21</th>\n",
              "      <td>2020-02-12</td>\n",
              "    </tr>\n",
              "    <tr>\n",
              "      <th>22</th>\n",
              "      <td>2020-02-13</td>\n",
              "    </tr>\n",
              "    <tr>\n",
              "      <th>23</th>\n",
              "      <td>2020-02-14</td>\n",
              "    </tr>\n",
              "    <tr>\n",
              "      <th>24</th>\n",
              "      <td>2020-02-15</td>\n",
              "    </tr>\n",
              "    <tr>\n",
              "      <th>25</th>\n",
              "      <td>2020-02-16</td>\n",
              "    </tr>\n",
              "    <tr>\n",
              "      <th>26</th>\n",
              "      <td>2020-02-17</td>\n",
              "    </tr>\n",
              "    <tr>\n",
              "      <th>27</th>\n",
              "      <td>2020-02-18</td>\n",
              "    </tr>\n",
              "    <tr>\n",
              "      <th>28</th>\n",
              "      <td>2020-02-19</td>\n",
              "    </tr>\n",
              "    <tr>\n",
              "      <th>29</th>\n",
              "      <td>2020-02-20</td>\n",
              "    </tr>\n",
              "    <tr>\n",
              "      <th>30</th>\n",
              "      <td>2020-02-21</td>\n",
              "    </tr>\n",
              "    <tr>\n",
              "      <th>31</th>\n",
              "      <td>2020-02-22</td>\n",
              "    </tr>\n",
              "    <tr>\n",
              "      <th>32</th>\n",
              "      <td>2020-02-23</td>\n",
              "    </tr>\n",
              "    <tr>\n",
              "      <th>33</th>\n",
              "      <td>2020-02-24</td>\n",
              "    </tr>\n",
              "    <tr>\n",
              "      <th>34</th>\n",
              "      <td>2020-02-25</td>\n",
              "    </tr>\n",
              "    <tr>\n",
              "      <th>35</th>\n",
              "      <td>2020-02-26</td>\n",
              "    </tr>\n",
              "    <tr>\n",
              "      <th>36</th>\n",
              "      <td>2020-02-27</td>\n",
              "    </tr>\n",
              "    <tr>\n",
              "      <th>37</th>\n",
              "      <td>2020-02-28</td>\n",
              "    </tr>\n",
              "    <tr>\n",
              "      <th>38</th>\n",
              "      <td>2020-02-29</td>\n",
              "    </tr>\n",
              "    <tr>\n",
              "      <th>39</th>\n",
              "      <td>2020-03-01</td>\n",
              "    </tr>\n",
              "    <tr>\n",
              "      <th>40</th>\n",
              "      <td>2020-03-02</td>\n",
              "    </tr>\n",
              "    <tr>\n",
              "      <th>41</th>\n",
              "      <td>2020-03-03</td>\n",
              "    </tr>\n",
              "    <tr>\n",
              "      <th>42</th>\n",
              "      <td>2020-03-04</td>\n",
              "    </tr>\n",
              "    <tr>\n",
              "      <th>43</th>\n",
              "      <td>2020-03-05</td>\n",
              "    </tr>\n",
              "    <tr>\n",
              "      <th>44</th>\n",
              "      <td>2020-03-06</td>\n",
              "    </tr>\n",
              "    <tr>\n",
              "      <th>45</th>\n",
              "      <td>2020-03-07</td>\n",
              "    </tr>\n",
              "    <tr>\n",
              "      <th>46</th>\n",
              "      <td>2020-03-08</td>\n",
              "    </tr>\n",
              "    <tr>\n",
              "      <th>47</th>\n",
              "      <td>2020-03-09</td>\n",
              "    </tr>\n",
              "    <tr>\n",
              "      <th>48</th>\n",
              "      <td>2020-03-10</td>\n",
              "    </tr>\n",
              "    <tr>\n",
              "      <th>49</th>\n",
              "      <td>2020-03-11</td>\n",
              "    </tr>\n",
              "    <tr>\n",
              "      <th>50</th>\n",
              "      <td>2020-03-12</td>\n",
              "    </tr>\n",
              "    <tr>\n",
              "      <th>51</th>\n",
              "      <td>2020-03-13</td>\n",
              "    </tr>\n",
              "    <tr>\n",
              "      <th>52</th>\n",
              "      <td>2020-03-14</td>\n",
              "    </tr>\n",
              "    <tr>\n",
              "      <th>53</th>\n",
              "      <td>2020-03-15</td>\n",
              "    </tr>\n",
              "    <tr>\n",
              "      <th>54</th>\n",
              "      <td>2020-03-16</td>\n",
              "    </tr>\n",
              "  </tbody>\n",
              "</table>\n",
              "</div>"
            ],
            "text/plain": [
              "           ds\n",
              "0  2020-01-22\n",
              "1  2020-01-23\n",
              "2  2020-01-24\n",
              "3  2020-01-25\n",
              "4  2020-01-26\n",
              "5  2020-01-27\n",
              "6  2020-01-28\n",
              "7  2020-01-29\n",
              "8  2020-01-30\n",
              "9  2020-01-31\n",
              "10 2020-02-01\n",
              "11 2020-02-02\n",
              "12 2020-02-03\n",
              "13 2020-02-04\n",
              "14 2020-02-05\n",
              "15 2020-02-06\n",
              "16 2020-02-07\n",
              "17 2020-02-08\n",
              "18 2020-02-09\n",
              "19 2020-02-10\n",
              "20 2020-02-11\n",
              "21 2020-02-12\n",
              "22 2020-02-13\n",
              "23 2020-02-14\n",
              "24 2020-02-15\n",
              "25 2020-02-16\n",
              "26 2020-02-17\n",
              "27 2020-02-18\n",
              "28 2020-02-19\n",
              "29 2020-02-20\n",
              "30 2020-02-21\n",
              "31 2020-02-22\n",
              "32 2020-02-23\n",
              "33 2020-02-24\n",
              "34 2020-02-25\n",
              "35 2020-02-26\n",
              "36 2020-02-27\n",
              "37 2020-02-28\n",
              "38 2020-02-29\n",
              "39 2020-03-01\n",
              "40 2020-03-02\n",
              "41 2020-03-03\n",
              "42 2020-03-04\n",
              "43 2020-03-05\n",
              "44 2020-03-06\n",
              "45 2020-03-07\n",
              "46 2020-03-08\n",
              "47 2020-03-09\n",
              "48 2020-03-10\n",
              "49 2020-03-11\n",
              "50 2020-03-12\n",
              "51 2020-03-13\n",
              "52 2020-03-14\n",
              "53 2020-03-15\n",
              "54 2020-03-16"
            ]
          },
          "metadata": {
            "tags": []
          },
          "execution_count": 45
        }
      ]
    },
    {
      "cell_type": "code",
      "metadata": {
        "id": "3Q1JQxxDav3_",
        "colab_type": "code",
        "colab": {}
      },
      "source": [
        "# Prediction\n",
        "prediction =  m.predict(future_dates)"
      ],
      "execution_count": 0,
      "outputs": []
    },
    {
      "cell_type": "code",
      "metadata": {
        "id": "daw7A4f7bHqh",
        "colab_type": "code",
        "outputId": "ee20f9e5-2278-4390-b01f-84e3fc02032a",
        "colab": {
          "base_uri": "https://localhost:8080/",
          "height": 865
        }
      },
      "source": [
        "# Plot Prediction\n",
        "m.plot(prediction)"
      ],
      "execution_count": 0,
      "outputs": [
        {
          "output_type": "execute_result",
          "data": {
            "image/png": "[encoded data removed]",
            "text/plain": [
              "<Figure size 720x432 with 1 Axes>"
            ]
          },
          "metadata": {
            "tags": []
          },
          "execution_count": 47
        },
        {
          "output_type": "display_data",
          "data": {
            "image/png": "[encoded data removed]",
            "text/plain": [
              "<Figure size 720x432 with 1 Axes>"
            ]
          },
          "metadata": {
            "tags": []
          }
        }
      ]
    },
    {
      "cell_type": "code",
      "metadata": {
        "id": "Mi_bEXhtbK0J",
        "colab_type": "code",
        "outputId": "15722c1b-86d0-499c-9943-acdfcb812d99",
        "colab": {
          "base_uri": "https://localhost:8080/",
          "height": 1000
        }
      },
      "source": [
        "m.plot_components(prediction)"
      ],
      "execution_count": 0,
      "outputs": [
        {
          "output_type": "execute_result",
          "data": {
            "image/png": "[encoded data removed]",
            "text/plain": [
              "<Figure size 648x648 with 3 Axes>"
            ]
          },
          "metadata": {
            "tags": []
          },
          "execution_count": 48
        },
        {
          "output_type": "display_data",
          "data": {
            "image/png": "[encoded data removed]",
            "text/plain": [
              "<Figure size 648x648 with 3 Axes>"
            ]
          },
          "metadata": {
            "tags": []
          }
        }
      ]
    },
    {
      "cell_type": "code",
      "metadata": {
        "id": "2L1tuyzzbmyJ",
        "colab_type": "code",
        "outputId": "4715260b-15c9-42c6-9a0a-fd2f77b2a7e0",
        "colab": {
          "base_uri": "https://localhost:8080/",
          "height": 363
        }
      },
      "source": [
        "test"
      ],
      "execution_count": 0,
      "outputs": [
        {
          "output_type": "execute_result",
          "data": {
            "text/html": [
              "<div>\n",
              "<style scoped>\n",
              "    .dataframe tbody tr th:only-of-type {\n",
              "        vertical-align: middle;\n",
              "    }\n",
              "\n",
              "    .dataframe tbody tr th {\n",
              "        vertical-align: top;\n",
              "    }\n",
              "\n",
              "    .dataframe thead th {\n",
              "        text-align: right;\n",
              "    }\n",
              "</style>\n",
              "<table border=\"1\" class=\"dataframe\">\n",
              "  <thead>\n",
              "    <tr style=\"text-align: right;\">\n",
              "      <th></th>\n",
              "      <th>ds</th>\n",
              "      <th>y</th>\n",
              "    </tr>\n",
              "  </thead>\n",
              "  <tbody>\n",
              "    <tr>\n",
              "      <th>40</th>\n",
              "      <td>3/10/20</td>\n",
              "      <td>119298</td>\n",
              "    </tr>\n",
              "    <tr>\n",
              "      <th>41</th>\n",
              "      <td>3/11/20</td>\n",
              "      <td>126968</td>\n",
              "    </tr>\n",
              "    <tr>\n",
              "      <th>42</th>\n",
              "      <td>3/2/20</td>\n",
              "      <td>90306</td>\n",
              "    </tr>\n",
              "    <tr>\n",
              "      <th>43</th>\n",
              "      <td>3/3/20</td>\n",
              "      <td>92840</td>\n",
              "    </tr>\n",
              "    <tr>\n",
              "      <th>44</th>\n",
              "      <td>3/4/20</td>\n",
              "      <td>95120</td>\n",
              "    </tr>\n",
              "    <tr>\n",
              "      <th>45</th>\n",
              "      <td>3/5/20</td>\n",
              "      <td>97882</td>\n",
              "    </tr>\n",
              "    <tr>\n",
              "      <th>46</th>\n",
              "      <td>3/6/20</td>\n",
              "      <td>101784</td>\n",
              "    </tr>\n",
              "    <tr>\n",
              "      <th>47</th>\n",
              "      <td>3/7/20</td>\n",
              "      <td>105821</td>\n",
              "    </tr>\n",
              "    <tr>\n",
              "      <th>48</th>\n",
              "      <td>3/8/20</td>\n",
              "      <td>109795</td>\n",
              "    </tr>\n",
              "    <tr>\n",
              "      <th>49</th>\n",
              "      <td>3/9/20</td>\n",
              "      <td>113561</td>\n",
              "    </tr>\n",
              "  </tbody>\n",
              "</table>\n",
              "</div>"
            ],
            "text/plain": [
              "         ds       y\n",
              "40  3/10/20  119298\n",
              "41  3/11/20  126968\n",
              "42   3/2/20   90306\n",
              "43   3/3/20   92840\n",
              "44   3/4/20   95120\n",
              "45   3/5/20   97882\n",
              "46   3/6/20  101784\n",
              "47   3/7/20  105821\n",
              "48   3/8/20  109795\n",
              "49   3/9/20  113561"
            ]
          },
          "metadata": {
            "tags": []
          },
          "execution_count": 49
        }
      ]
    },
    {
      "cell_type": "code",
      "metadata": {
        "id": "zYdiNi90bpfm",
        "colab_type": "code",
        "outputId": "be06b238-109a-4eec-9483-0ac51a935817",
        "colab": {
          "base_uri": "https://localhost:8080/",
          "height": 183
        }
      },
      "source": [
        "test['dates'] = pd.to_datetime(test['ds'])"
      ],
      "execution_count": 0,
      "outputs": [
        {
          "output_type": "stream",
          "text": [
            "/usr/local/lib/python3.6/dist-packages/ipykernel_launcher.py:1: SettingWithCopyWarning:\n",
            "\n",
            "\n",
            "A value is trying to be set on a copy of a slice from a DataFrame.\n",
            "Try using .loc[row_indexer,col_indexer] = value instead\n",
            "\n",
            "See the caveats in the documentation: http://pandas.pydata.org/pandas-docs/stable/user_guide/indexing.html#returning-a-view-versus-a-copy\n",
            "\n"
          ],
          "name": "stderr"
        }
      ]
    },
    {
      "cell_type": "code",
      "metadata": {
        "id": "uiUC9xtrb-5u",
        "colab_type": "code",
        "outputId": "ef1cb7e0-3871-4429-b5b3-d28c8419f9e2",
        "colab": {
          "base_uri": "https://localhost:8080/",
          "height": 363
        }
      },
      "source": [
        "test"
      ],
      "execution_count": 0,
      "outputs": [
        {
          "output_type": "execute_result",
          "data": {
            "text/html": [
              "<div>\n",
              "<style scoped>\n",
              "    .dataframe tbody tr th:only-of-type {\n",
              "        vertical-align: middle;\n",
              "    }\n",
              "\n",
              "    .dataframe tbody tr th {\n",
              "        vertical-align: top;\n",
              "    }\n",
              "\n",
              "    .dataframe thead th {\n",
              "        text-align: right;\n",
              "    }\n",
              "</style>\n",
              "<table border=\"1\" class=\"dataframe\">\n",
              "  <thead>\n",
              "    <tr style=\"text-align: right;\">\n",
              "      <th></th>\n",
              "      <th>ds</th>\n",
              "      <th>y</th>\n",
              "      <th>dates</th>\n",
              "    </tr>\n",
              "  </thead>\n",
              "  <tbody>\n",
              "    <tr>\n",
              "      <th>40</th>\n",
              "      <td>3/10/20</td>\n",
              "      <td>119298</td>\n",
              "      <td>2020-03-10</td>\n",
              "    </tr>\n",
              "    <tr>\n",
              "      <th>41</th>\n",
              "      <td>3/11/20</td>\n",
              "      <td>126968</td>\n",
              "      <td>2020-03-11</td>\n",
              "    </tr>\n",
              "    <tr>\n",
              "      <th>42</th>\n",
              "      <td>3/2/20</td>\n",
              "      <td>90306</td>\n",
              "      <td>2020-03-02</td>\n",
              "    </tr>\n",
              "    <tr>\n",
              "      <th>43</th>\n",
              "      <td>3/3/20</td>\n",
              "      <td>92840</td>\n",
              "      <td>2020-03-03</td>\n",
              "    </tr>\n",
              "    <tr>\n",
              "      <th>44</th>\n",
              "      <td>3/4/20</td>\n",
              "      <td>95120</td>\n",
              "      <td>2020-03-04</td>\n",
              "    </tr>\n",
              "    <tr>\n",
              "      <th>45</th>\n",
              "      <td>3/5/20</td>\n",
              "      <td>97882</td>\n",
              "      <td>2020-03-05</td>\n",
              "    </tr>\n",
              "    <tr>\n",
              "      <th>46</th>\n",
              "      <td>3/6/20</td>\n",
              "      <td>101784</td>\n",
              "      <td>2020-03-06</td>\n",
              "    </tr>\n",
              "    <tr>\n",
              "      <th>47</th>\n",
              "      <td>3/7/20</td>\n",
              "      <td>105821</td>\n",
              "      <td>2020-03-07</td>\n",
              "    </tr>\n",
              "    <tr>\n",
              "      <th>48</th>\n",
              "      <td>3/8/20</td>\n",
              "      <td>109795</td>\n",
              "      <td>2020-03-08</td>\n",
              "    </tr>\n",
              "    <tr>\n",
              "      <th>49</th>\n",
              "      <td>3/9/20</td>\n",
              "      <td>113561</td>\n",
              "      <td>2020-03-09</td>\n",
              "    </tr>\n",
              "  </tbody>\n",
              "</table>\n",
              "</div>"
            ],
            "text/plain": [
              "         ds       y      dates\n",
              "40  3/10/20  119298 2020-03-10\n",
              "41  3/11/20  126968 2020-03-11\n",
              "42   3/2/20   90306 2020-03-02\n",
              "43   3/3/20   92840 2020-03-03\n",
              "44   3/4/20   95120 2020-03-04\n",
              "45   3/5/20   97882 2020-03-05\n",
              "46   3/6/20  101784 2020-03-06\n",
              "47   3/7/20  105821 2020-03-07\n",
              "48   3/8/20  109795 2020-03-08\n",
              "49   3/9/20  113561 2020-03-09"
            ]
          },
          "metadata": {
            "tags": []
          },
          "execution_count": 51
        }
      ]
    },
    {
      "cell_type": "code",
      "metadata": {
        "id": "_MCzV2c9cLcX",
        "colab_type": "code",
        "colab": {}
      },
      "source": [
        "test = test.set_index(\"dates\")"
      ],
      "execution_count": 0,
      "outputs": []
    },
    {
      "cell_type": "code",
      "metadata": {
        "id": "SysA89kKce-C",
        "colab_type": "code",
        "colab": {}
      },
      "source": [
        "test = test['y']"
      ],
      "execution_count": 0,
      "outputs": []
    },
    {
      "cell_type": "code",
      "metadata": {
        "id": "6ECTRDEQchjf",
        "colab_type": "code",
        "colab": {}
      },
      "source": [
        "import matplotlib.pyplot as plt\n"
      ],
      "execution_count": 0,
      "outputs": []
    },
    {
      "cell_type": "code",
      "metadata": {
        "id": "VkJPiEOidaA6",
        "colab_type": "code",
        "outputId": "672fc75e-4074-4e4b-9eef-dc70ef4462d5",
        "colab": {
          "base_uri": "https://localhost:8080/",
          "height": 303
        }
      },
      "source": [
        "test.plot()"
      ],
      "execution_count": 0,
      "outputs": [
        {
          "output_type": "execute_result",
          "data": {
            "text/plain": [
              "<matplotlib.axes._subplots.AxesSubplot at 0x7f83f6bcd048>"
            ]
          },
          "metadata": {
            "tags": []
          },
          "execution_count": 68
        },
        {
          "output_type": "display_data",
          "data": {
            "image/png": "[encoded data removed]",
            "text/plain": [
              "<Figure size 432x288 with 1 Axes>"
            ]
          },
          "metadata": {
            "tags": []
          }
        }
      ]
    },
    {
      "cell_type": "code",
      "metadata": {
        "id": "tv8NkzrsezlX",
        "colab_type": "code",
        "colab": {}
      },
      "source": [
        "# Find Point/Dates For Change\n",
        "from fbprophet.plot import add_changepoints_to_plot"
      ],
      "execution_count": 0,
      "outputs": []
    },
    {
      "cell_type": "code",
      "metadata": {
        "id": "oKsI1aRvflNf",
        "colab_type": "code",
        "outputId": "a959ab54-5714-45bf-ca5a-ac56a1ee82e2",
        "colab": {
          "base_uri": "https://localhost:8080/",
          "height": 441
        }
      },
      "source": [
        "fig = m.plot(prediction)\n",
        "c = add_changepoints_to_plot(fig.gca(),m,prediction)"
      ],
      "execution_count": 0,
      "outputs": [
        {
          "output_type": "display_data",
          "data": {
            "image/png": "[encoded data removed]",
            "text/plain": [
              "<Figure size 720x432 with 1 Axes>"
            ]
          },
          "metadata": {
            "tags": []
          }
        }
      ]
    },
    {
      "cell_type": "code",
      "metadata": {
        "id": "TilmKUzdfk6B",
        "colab_type": "code",
        "colab": {}
      },
      "source": [
        ""
      ],
      "execution_count": 0,
      "outputs": []
    }
  ]
}