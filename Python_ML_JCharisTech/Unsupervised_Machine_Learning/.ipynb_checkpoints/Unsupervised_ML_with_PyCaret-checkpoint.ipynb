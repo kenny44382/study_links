{
  "nbformat": 4,
  "nbformat_minor": 0,
  "metadata": {
    "colab": {
      "name": "Unsupervised ML with PyCaret.ipynb",
      "provenance": [],
      "collapsed_sections": []
    },
    "kernelspec": {
      "name": "python3",
      "display_name": "Python 3"
    },
    "widgets": {
      "application/vnd.jupyter.widget-state+json": {
        "d22adcc85ccd4f759348cab69dc57c44": {
          "model_module": "@jupyter-widgets/controls",
          "model_name": "IntProgressModel",
          "state": {
            "_view_name": "ProgressView",
            "style": "IPY_MODEL_5d5dc0ebc32b48f18e60ea618199716e",
            "_dom_classes": [],
            "description": "Processing: ",
            "_model_name": "IntProgressModel",
            "bar_style": "",
            "max": 4,
            "_view_module": "@jupyter-widgets/controls",
            "_model_module_version": "1.5.0",
            "value": 3,
            "_view_count": null,
            "_view_module_version": "1.5.0",
            "orientation": "horizontal",
            "min": 0,
            "description_tooltip": null,
            "_model_module": "@jupyter-widgets/controls",
            "layout": "IPY_MODEL_14a8cb59381f4863a92f2dd9c1597624"
          }
        },
        "5d5dc0ebc32b48f18e60ea618199716e": {
          "model_module": "@jupyter-widgets/controls",
          "model_name": "ProgressStyleModel",
          "state": {
            "_view_name": "StyleView",
            "_model_name": "ProgressStyleModel",
            "description_width": "",
            "_view_module": "@jupyter-widgets/base",
            "_model_module_version": "1.5.0",
            "_view_count": null,
            "_view_module_version": "1.2.0",
            "bar_color": null,
            "_model_module": "@jupyter-widgets/controls"
          }
        },
        "14a8cb59381f4863a92f2dd9c1597624": {
          "model_module": "@jupyter-widgets/base",
          "model_name": "LayoutModel",
          "state": {
            "_view_name": "LayoutView",
            "grid_template_rows": null,
            "right": null,
            "justify_content": null,
            "_view_module": "@jupyter-widgets/base",
            "overflow": null,
            "_model_module_version": "1.2.0",
            "_view_count": null,
            "flex_flow": null,
            "width": null,
            "min_width": null,
            "border": null,
            "align_items": null,
            "bottom": null,
            "_model_module": "@jupyter-widgets/base",
            "top": null,
            "grid_column": null,
            "overflow_y": null,
            "overflow_x": null,
            "grid_auto_flow": null,
            "grid_area": null,
            "grid_template_columns": null,
            "flex": null,
            "_model_name": "LayoutModel",
            "justify_items": null,
            "grid_row": null,
            "max_height": null,
            "align_content": null,
            "visibility": null,
            "align_self": null,
            "height": null,
            "min_height": null,
            "padding": null,
            "grid_auto_rows": null,
            "grid_gap": null,
            "max_width": null,
            "order": null,
            "_view_module_version": "1.2.0",
            "grid_template_areas": null,
            "object_position": null,
            "object_fit": null,
            "grid_auto_columns": null,
            "margin": null,
            "display": null,
            "left": null
          }
        },
        "aecfcfdde5014fb38eff8a2bcc9231f1": {
          "model_module": "@jupyter-widgets/controls",
          "model_name": "TextModel",
          "state": {
            "_view_name": "TextView",
            "style": "IPY_MODEL_112b74bf416d4d618b9643be15083c99",
            "_dom_classes": [],
            "description": "",
            "_model_name": "TextModel",
            "placeholder": "​",
            "_view_module": "@jupyter-widgets/controls",
            "_model_module_version": "1.5.0",
            "value": "Following data types have been inferred automatically, if they are correct press enter to continue or type 'quit' otherwise.",
            "_view_count": null,
            "disabled": false,
            "_view_module_version": "1.5.0",
            "continuous_update": true,
            "description_tooltip": null,
            "_model_module": "@jupyter-widgets/controls",
            "layout": "IPY_MODEL_5469c07f629f4ef38adf9a0055a738fa"
          }
        },
        "112b74bf416d4d618b9643be15083c99": {
          "model_module": "@jupyter-widgets/controls",
          "model_name": "DescriptionStyleModel",
          "state": {
            "_view_name": "StyleView",
            "_model_name": "DescriptionStyleModel",
            "description_width": "",
            "_view_module": "@jupyter-widgets/base",
            "_model_module_version": "1.5.0",
            "_view_count": null,
            "_view_module_version": "1.2.0",
            "_model_module": "@jupyter-widgets/controls"
          }
        },
        "5469c07f629f4ef38adf9a0055a738fa": {
          "model_module": "@jupyter-widgets/base",
          "model_name": "LayoutModel",
          "state": {
            "_view_name": "LayoutView",
            "grid_template_rows": null,
            "right": null,
            "justify_content": null,
            "_view_module": "@jupyter-widgets/base",
            "overflow": null,
            "_model_module_version": "1.2.0",
            "_view_count": null,
            "flex_flow": null,
            "width": "100%",
            "min_width": null,
            "border": null,
            "align_items": null,
            "bottom": null,
            "_model_module": "@jupyter-widgets/base",
            "top": null,
            "grid_column": null,
            "overflow_y": null,
            "overflow_x": null,
            "grid_auto_flow": null,
            "grid_area": null,
            "grid_template_columns": null,
            "flex": null,
            "_model_name": "LayoutModel",
            "justify_items": null,
            "grid_row": null,
            "max_height": null,
            "align_content": null,
            "visibility": null,
            "align_self": null,
            "height": null,
            "min_height": null,
            "padding": null,
            "grid_auto_rows": null,
            "grid_gap": null,
            "max_width": null,
            "order": null,
            "_view_module_version": "1.2.0",
            "grid_template_areas": null,
            "object_position": null,
            "object_fit": null,
            "grid_auto_columns": null,
            "margin": null,
            "display": null,
            "left": null
          }
        }
      }
    }
  },
  "cells": [
    {
      "cell_type": "code",
      "metadata": {
        "id": "7lvqMilfE-s1",
        "colab_type": "code",
        "colab": {}
      },
      "source": [
        ""
      ],
      "execution_count": null,
      "outputs": []
    },
    {
      "cell_type": "markdown",
      "metadata": {
        "id": "AjMg4_dbFDsu",
        "colab_type": "text"
      },
      "source": [
        "### Unsupervised Machine learning with PyCaret\n",
        "\n",
        "\n",
        "#### PyCaret\n",
        "+ PyCaret is an open source, low-code machine learning library in Python that allows you to go from preparing your data to deploying your model within seconds in your choice of notebook environment.\n",
        "+ It is a wrapper around several popular ML and Data Science libraries\n",
        "\n",
        "+ Official website:https://pycaret.org/\n",
        "\n",
        "#### Installation\n",
        "+ !pip install pycaret\n",
        "\n",
        "\n",
        "#### Workflow\n",
        "+ Prep Data\n",
        "+ Initialize Setup\n",
        "  - Define the data\n",
        "+ Create Model \n",
        "  - Select the one you want\n",
        "+ Assign Model\n",
        "  - Add the clusters to te dataset\n",
        "+ Check accuracy of a selected model\n",
        "  -predict\n",
        "+ Tune model\n",
        "+ Save model  "
      ]
    },
    {
      "cell_type": "code",
      "metadata": {
        "id": "7xkDKu0MF3nR",
        "colab_type": "code",
        "colab": {}
      },
      "source": [
        "# Load EDA\n",
        "import pandas as pd\n"
      ],
      "execution_count": 1,
      "outputs": []
    },
    {
      "cell_type": "code",
      "metadata": {
        "id": "Y2zzNf6ZF3Wx",
        "colab_type": "code",
        "colab": {
          "base_uri": "https://localhost:8080/",
          "height": 70
        },
        "outputId": "6d024377-b666-4244-a40e-979398974ae6"
      },
      "source": [
        "# Load Visualization\n",
        "import matplotlib.pyplot as plt\n",
        "import seaborn as sns\n",
        "%matplotlib inline"
      ],
      "execution_count": 2,
      "outputs": [
        {
          "output_type": "stream",
          "text": [
            "/usr/local/lib/python3.6/dist-packages/statsmodels/tools/_testing.py:19: FutureWarning: pandas.util.testing is deprecated. Use the functions in the public API at pandas.testing instead.\n",
            "  import pandas.util.testing as tm\n"
          ],
          "name": "stderr"
        }
      ]
    },
    {
      "cell_type": "code",
      "metadata": {
        "id": "QQPk0F7TGVX5",
        "colab_type": "code",
        "colab": {
          "base_uri": "https://localhost:8080/",
          "height": 1000
        },
        "outputId": "6b61a594-76d2-4c30-cf21-9e01b095737c"
      },
      "source": [
        "!pip install pycaret"
      ],
      "execution_count": 4,
      "outputs": [
        {
          "output_type": "stream",
          "text": [
            "Collecting pycaret\n",
            "\u001b[?25l  Downloading https://files.pythonhosted.org/packages/c7/41/f7fa05b6ce3cb3096a35fb5ac6dc0f2bb23e8304f068618fb2501be0a562/pycaret-1.0.0-py3-none-any.whl (188kB)\n",
            "\u001b[K     |████████████████████████████████| 194kB 3.1MB/s \n",
            "\u001b[?25hRequirement already satisfied: pandas in /usr/local/lib/python3.6/dist-packages (from pycaret) (1.0.5)\n",
            "Requirement already satisfied: IPython in /usr/local/lib/python3.6/dist-packages (from pycaret) (5.5.0)\n",
            "Requirement already satisfied: plotly==4.4.1 in /usr/local/lib/python3.6/dist-packages (from pycaret) (4.4.1)\n",
            "Requirement already satisfied: mlxtend in /usr/local/lib/python3.6/dist-packages (from pycaret) (0.14.0)\n",
            "Collecting datetime\n",
            "\u001b[?25l  Downloading https://files.pythonhosted.org/packages/73/22/a5297f3a1f92468cc737f8ce7ba6e5f245fcfafeae810ba37bd1039ea01c/DateTime-4.3-py2.py3-none-any.whl (60kB)\n",
            "\u001b[K     |████████████████████████████████| 61kB 3.6MB/s \n",
            "\u001b[?25hRequirement already satisfied: ipywidgets in /usr/local/lib/python3.6/dist-packages (from pycaret) (7.5.1)\n",
            "Requirement already satisfied: wordcloud in /usr/local/lib/python3.6/dist-packages (from pycaret) (1.5.0)\n",
            "Requirement already satisfied: nltk in /usr/local/lib/python3.6/dist-packages (from pycaret) (3.2.5)\n",
            "Collecting lightgbm==2.3.1\n",
            "\u001b[?25l  Downloading https://files.pythonhosted.org/packages/0b/9d/ddcb2f43aca194987f1a99e27edf41cf9bc39ea750c3371c2a62698c509a/lightgbm-2.3.1-py2.py3-none-manylinux1_x86_64.whl (1.2MB)\n",
            "\u001b[K     |████████████████████████████████| 1.2MB 5.2MB/s \n",
            "\u001b[?25hCollecting cufflinks==0.17.0\n",
            "\u001b[?25l  Downloading https://files.pythonhosted.org/packages/e3/79/1b8673b2723e02919307d558896dbcedcb46807c4e29acd25cfe43a36c8b/cufflinks-0.17.0.tar.gz (81kB)\n",
            "\u001b[K     |████████████████████████████████| 81kB 6.7MB/s \n",
            "\u001b[?25hRequirement already satisfied: spacy in /usr/local/lib/python3.6/dist-packages (from pycaret) (2.2.4)\n",
            "Requirement already satisfied: seaborn in /usr/local/lib/python3.6/dist-packages (from pycaret) (0.10.1)\n",
            "Collecting shap==0.32.1\n",
            "\u001b[?25l  Downloading https://files.pythonhosted.org/packages/57/43/08f152a59a1d60f0328b476bdd58c791498989981ab9c6d595ec5448a86a/shap-0.32.1.tar.gz (259kB)\n",
            "\u001b[K     |████████████████████████████████| 266kB 13.8MB/s \n",
            "\u001b[?25hCollecting kmodes==0.10.1\n",
            "  Downloading https://files.pythonhosted.org/packages/79/c0/f7d8a0eb41ac6f302b4bc100f91b6e0f2558425ccfefaa0ec0430f77ee97/kmodes-0.10.1-py2.py3-none-any.whl\n",
            "Requirement already satisfied: matplotlib in /usr/local/lib/python3.6/dist-packages (from pycaret) (3.2.2)\n",
            "Requirement already satisfied: numpy in /usr/local/lib/python3.6/dist-packages (from pycaret) (1.18.5)\n",
            "Collecting catboost==0.20.2\n",
            "\u001b[?25l  Downloading https://files.pythonhosted.org/packages/97/c4/586923de4634f88a31fd1b4966e15707a912b98b6f4566651b5ef58f36b5/catboost-0.20.2-cp36-none-manylinux1_x86_64.whl (63.9MB)\n",
            "\u001b[K     |████████████████████████████████| 63.9MB 57kB/s \n",
            "\u001b[?25hRequirement already satisfied: gensim in /usr/local/lib/python3.6/dist-packages (from pycaret) (3.6.0)\n",
            "Collecting awscli\n",
            "\u001b[?25l  Downloading https://files.pythonhosted.org/packages/1f/58/c7e54ef03333bb35c6efaf42c39d67ed9139ffaa1c13a1278d97dfa999a8/awscli-1.18.100.tar.gz (1.3MB)\n",
            "\u001b[K     |████████████████████████████████| 1.3MB 45.1MB/s \n",
            "\u001b[?25hCollecting pandas-profiling==2.3.0\n",
            "\u001b[?25l  Downloading https://files.pythonhosted.org/packages/2c/2f/aae19e2173c10a9bb7fee5f5cad35dbe53a393960fc91abc477dcc4661e8/pandas-profiling-2.3.0.tar.gz (127kB)\n",
            "\u001b[K     |████████████████████████████████| 133kB 46.4MB/s \n",
            "\u001b[?25hCollecting yellowbrick==1.0.1\n",
            "\u001b[?25l  Downloading https://files.pythonhosted.org/packages/d1/cf/6d6ab47c0759d246262f9bdb53e89be3814bf1774bc51fffff995f5859f9/yellowbrick-1.0.1-py3-none-any.whl (378kB)\n",
            "\u001b[K     |████████████████████████████████| 389kB 42.4MB/s \n",
            "\u001b[?25hCollecting datefinder==0.7.0\n",
            "  Downloading https://files.pythonhosted.org/packages/16/2b/af8efaee30c0ba4238cb4d0645a07100d33d11d20a8783c443ed8b813eb9/datefinder-0.7.0-py2.py3-none-any.whl\n",
            "Requirement already satisfied: textblob in /usr/local/lib/python3.6/dist-packages (from pycaret) (0.15.3)\n",
            "Requirement already satisfied: joblib in /usr/local/lib/python3.6/dist-packages (from pycaret) (0.16.0)\n",
            "Requirement already satisfied: xgboost==0.90 in /usr/local/lib/python3.6/dist-packages (from pycaret) (0.90)\n",
            "Collecting pyod\n",
            "\u001b[?25l  Downloading https://files.pythonhosted.org/packages/77/4e/5767edaccbfc227914ca774cb6ca9b628a08cbb59b9b4839296953a63d34/pyod-0.8.1.tar.gz (93kB)\n",
            "\u001b[K     |████████████████████████████████| 102kB 10.5MB/s \n",
            "\u001b[?25hCollecting scikit-learn==0.22\n",
            "\u001b[?25l  Downloading https://files.pythonhosted.org/packages/2e/d0/860c4f6a7027e00acff373d9f5327f4ae3ed5872234b3cbdd7bcb52e5eff/scikit_learn-0.22-cp36-cp36m-manylinux1_x86_64.whl (7.0MB)\n",
            "\u001b[K     |████████████████████████████████| 7.0MB 15.8MB/s \n",
            "\u001b[?25hRequirement already satisfied: umap-learn in /usr/local/lib/python3.6/dist-packages (from pycaret) (0.4.6)\n",
            "Collecting pyLDAvis\n",
            "\u001b[?25l  Downloading https://files.pythonhosted.org/packages/a5/3a/af82e070a8a96e13217c8f362f9a73e82d61ac8fff3a2561946a97f96266/pyLDAvis-2.1.2.tar.gz (1.6MB)\n",
            "\u001b[K     |████████████████████████████████| 1.6MB 45.7MB/s \n",
            "\u001b[?25hRequirement already satisfied: pytz>=2017.2 in /usr/local/lib/python3.6/dist-packages (from pandas->pycaret) (2018.9)\n",
            "Requirement already satisfied: python-dateutil>=2.6.1 in /usr/local/lib/python3.6/dist-packages (from pandas->pycaret) (2.8.1)\n",
            "Requirement already satisfied: pickleshare in /usr/local/lib/python3.6/dist-packages (from IPython->pycaret) (0.7.5)\n",
            "Requirement already satisfied: simplegeneric>0.8 in /usr/local/lib/python3.6/dist-packages (from IPython->pycaret) (0.8.1)\n",
            "Requirement already satisfied: prompt-toolkit<2.0.0,>=1.0.4 in /usr/local/lib/python3.6/dist-packages (from IPython->pycaret) (1.0.18)\n",
            "Requirement already satisfied: pexpect; sys_platform != \"win32\" in /usr/local/lib/python3.6/dist-packages (from IPython->pycaret) (4.8.0)\n",
            "Requirement already satisfied: traitlets>=4.2 in /usr/local/lib/python3.6/dist-packages (from IPython->pycaret) (4.3.3)\n",
            "Requirement already satisfied: decorator in /usr/local/lib/python3.6/dist-packages (from IPython->pycaret) (4.4.2)\n",
            "Requirement already satisfied: setuptools>=18.5 in /usr/local/lib/python3.6/dist-packages (from IPython->pycaret) (49.1.0)\n",
            "Requirement already satisfied: pygments in /usr/local/lib/python3.6/dist-packages (from IPython->pycaret) (2.1.3)\n",
            "Requirement already satisfied: six in /usr/local/lib/python3.6/dist-packages (from plotly==4.4.1->pycaret) (1.12.0)\n",
            "Requirement already satisfied: retrying>=1.3.3 in /usr/local/lib/python3.6/dist-packages (from plotly==4.4.1->pycaret) (1.3.3)\n",
            "Requirement already satisfied: scipy>=0.17 in /usr/local/lib/python3.6/dist-packages (from mlxtend->pycaret) (1.4.1)\n",
            "Collecting zope.interface\n",
            "\u001b[?25l  Downloading https://files.pythonhosted.org/packages/57/33/565274c28a11af60b7cfc0519d46bde4125fcd7d32ebc0a81b480d0e8da6/zope.interface-5.1.0-cp36-cp36m-manylinux2010_x86_64.whl (234kB)\n",
            "\u001b[K     |████████████████████████████████| 235kB 41.9MB/s \n",
            "\u001b[?25hRequirement already satisfied: widgetsnbextension~=3.5.0 in /usr/local/lib/python3.6/dist-packages (from ipywidgets->pycaret) (3.5.1)\n",
            "Requirement already satisfied: nbformat>=4.2.0 in /usr/local/lib/python3.6/dist-packages (from ipywidgets->pycaret) (5.0.7)\n",
            "Requirement already satisfied: ipykernel>=4.5.1 in /usr/local/lib/python3.6/dist-packages (from ipywidgets->pycaret) (4.10.1)\n",
            "Requirement already satisfied: pillow in /usr/local/lib/python3.6/dist-packages (from wordcloud->pycaret) (7.0.0)\n",
            "Collecting chart-studio>=1.0.0\n",
            "\u001b[?25l  Downloading https://files.pythonhosted.org/packages/ca/ce/330794a6b6ca4b9182c38fc69dd2a9cbff60fd49421cb8648ee5fee352dc/chart_studio-1.1.0-py3-none-any.whl (64kB)\n",
            "\u001b[K     |████████████████████████████████| 71kB 8.5MB/s \n",
            "\u001b[?25hRequirement already satisfied: colorlover>=0.2.1 in /usr/local/lib/python3.6/dist-packages (from cufflinks==0.17.0->pycaret) (0.3.0)\n",
            "Requirement already satisfied: murmurhash<1.1.0,>=0.28.0 in /usr/local/lib/python3.6/dist-packages (from spacy->pycaret) (1.0.2)\n",
            "Requirement already satisfied: plac<1.2.0,>=0.9.6 in /usr/local/lib/python3.6/dist-packages (from spacy->pycaret) (1.1.3)\n",
            "Requirement already satisfied: blis<0.5.0,>=0.4.0 in /usr/local/lib/python3.6/dist-packages (from spacy->pycaret) (0.4.1)\n",
            "Requirement already satisfied: preshed<3.1.0,>=3.0.2 in /usr/local/lib/python3.6/dist-packages (from spacy->pycaret) (3.0.2)\n",
            "Requirement already satisfied: thinc==7.4.0 in /usr/local/lib/python3.6/dist-packages (from spacy->pycaret) (7.4.0)\n",
            "Requirement already satisfied: wasabi<1.1.0,>=0.4.0 in /usr/local/lib/python3.6/dist-packages (from spacy->pycaret) (0.7.0)\n",
            "Requirement already satisfied: requests<3.0.0,>=2.13.0 in /usr/local/lib/python3.6/dist-packages (from spacy->pycaret) (2.23.0)\n",
            "Requirement already satisfied: cymem<2.1.0,>=2.0.2 in /usr/local/lib/python3.6/dist-packages (from spacy->pycaret) (2.0.3)\n",
            "Requirement already satisfied: srsly<1.1.0,>=1.0.2 in /usr/local/lib/python3.6/dist-packages (from spacy->pycaret) (1.0.2)\n",
            "Requirement already satisfied: tqdm<5.0.0,>=4.38.0 in /usr/local/lib/python3.6/dist-packages (from spacy->pycaret) (4.41.1)\n",
            "Requirement already satisfied: catalogue<1.1.0,>=0.0.7 in /usr/local/lib/python3.6/dist-packages (from spacy->pycaret) (1.0.0)\n",
            "Requirement already satisfied: pyparsing!=2.0.4,!=2.1.2,!=2.1.6,>=2.0.1 in /usr/local/lib/python3.6/dist-packages (from matplotlib->pycaret) (2.4.7)\n",
            "Requirement already satisfied: cycler>=0.10 in /usr/local/lib/python3.6/dist-packages (from matplotlib->pycaret) (0.10.0)\n",
            "Requirement already satisfied: kiwisolver>=1.0.1 in /usr/local/lib/python3.6/dist-packages (from matplotlib->pycaret) (1.2.0)\n",
            "Requirement already satisfied: graphviz in /usr/local/lib/python3.6/dist-packages (from catboost==0.20.2->pycaret) (0.10.1)\n",
            "Requirement already satisfied: smart-open>=1.2.1 in /usr/local/lib/python3.6/dist-packages (from gensim->pycaret) (2.1.0)\n",
            "Collecting botocore==1.17.23\n",
            "\u001b[?25l  Downloading https://files.pythonhosted.org/packages/77/71/5b973cd4acf3332f3c4642d9ef1f9acf859f390d9510ff12c9b20fcb1dc0/botocore-1.17.23-py2.py3-none-any.whl (6.3MB)\n",
            "\u001b[K     |████████████████████████████████| 6.3MB 43.3MB/s \n",
            "\u001b[?25hRequirement already satisfied: docutils<0.16,>=0.10 in /usr/local/lib/python3.6/dist-packages (from awscli->pycaret) (0.15.2)\n",
            "Requirement already satisfied: s3transfer<0.4.0,>=0.3.0 in /usr/local/lib/python3.6/dist-packages (from awscli->pycaret) (0.3.3)\n",
            "Requirement already satisfied: PyYAML<5.4,>=3.10 in /usr/local/lib/python3.6/dist-packages (from awscli->pycaret) (3.13)\n",
            "Collecting colorama<0.4.4,>=0.2.5\n",
            "  Downloading https://files.pythonhosted.org/packages/c9/dc/45cdef1b4d119eb96316b3117e6d5708a08029992b2fee2c143c7a0a5cc5/colorama-0.4.3-py2.py3-none-any.whl\n",
            "Collecting rsa<=4.5.0,>=3.1.2\n",
            "  Downloading https://files.pythonhosted.org/packages/26/f8/8127fdda0294f044121d20aac7785feb810e159098447967a6103dedfb96/rsa-4.5-py2.py3-none-any.whl\n",
            "Requirement already satisfied: jinja2>=2.8 in /usr/local/lib/python3.6/dist-packages (from pandas-profiling==2.3.0->pycaret) (2.11.2)\n",
            "Requirement already satisfied: missingno>=0.4.2 in /usr/local/lib/python3.6/dist-packages (from pandas-profiling==2.3.0->pycaret) (0.4.2)\n",
            "Collecting htmlmin>=0.1.12\n",
            "  Downloading https://files.pythonhosted.org/packages/b3/e7/fcd59e12169de19f0131ff2812077f964c6b960e7c09804d30a7bf2ab461/htmlmin-0.1.12.tar.gz\n",
            "Collecting phik>=0.9.8\n",
            "\u001b[?25l  Downloading https://files.pythonhosted.org/packages/01/5a/7ef1c04ce62cd72f900c06298dc2385840550d5c653a0dbc19109a5477e6/phik-0.10.0-py3-none-any.whl (599kB)\n",
            "\u001b[K     |████████████████████████████████| 604kB 36.5MB/s \n",
            "\u001b[?25hCollecting confuse>=1.0.0\n",
            "\u001b[?25l  Downloading https://files.pythonhosted.org/packages/b5/6d/bedc0d1068bd244cee05843313cbec6cebb9f01f925538269bababc6d887/confuse-1.3.0-py2.py3-none-any.whl (64kB)\n",
            "\u001b[K     |████████████████████████████████| 71kB 9.0MB/s \n",
            "\u001b[?25hRequirement already satisfied: astropy in /usr/local/lib/python3.6/dist-packages (from pandas-profiling==2.3.0->pycaret) (4.0.1.post1)\n",
            "Requirement already satisfied: regex>=2017.02.08 in /usr/local/lib/python3.6/dist-packages (from datefinder==0.7.0->pycaret) (2019.12.20)\n",
            "Collecting combo\n",
            "  Downloading https://files.pythonhosted.org/packages/0a/2a/61b6ac584e75d8df16dc27962aa5fe99d76b09da5b6710e83d4862c84001/combo-0.1.1.tar.gz\n",
            "Requirement already satisfied: numba>=0.35 in /usr/local/lib/python3.6/dist-packages (from pyod->pycaret) (0.48.0)\n",
            "Collecting suod\n",
            "\u001b[?25l  Downloading https://files.pythonhosted.org/packages/a1/87/9170cabe1b5e10a7d095c0e28f2e30e7c1886a13f063de85d3cfacc06f4b/suod-0.0.4.tar.gz (2.1MB)\n",
            "\u001b[K     |████████████████████████████████| 2.1MB 37.6MB/s \n",
            "\u001b[?25hRequirement already satisfied: wheel>=0.23.0 in /usr/local/lib/python3.6/dist-packages (from pyLDAvis->pycaret) (0.34.2)\n",
            "Requirement already satisfied: numexpr in /usr/local/lib/python3.6/dist-packages (from pyLDAvis->pycaret) (2.7.1)\n",
            "Requirement already satisfied: pytest in /usr/local/lib/python3.6/dist-packages (from pyLDAvis->pycaret) (3.6.4)\n",
            "Requirement already satisfied: future in /usr/local/lib/python3.6/dist-packages (from pyLDAvis->pycaret) (0.16.0)\n",
            "Collecting funcy\n",
            "\u001b[?25l  Downloading https://files.pythonhosted.org/packages/ce/4b/6ffa76544e46614123de31574ad95758c421aae391a1764921b8a81e1eae/funcy-1.14.tar.gz (548kB)\n",
            "\u001b[K     |████████████████████████████████| 552kB 39.5MB/s \n",
            "\u001b[?25hRequirement already satisfied: wcwidth in /usr/local/lib/python3.6/dist-packages (from prompt-toolkit<2.0.0,>=1.0.4->IPython->pycaret) (0.2.5)\n",
            "Requirement already satisfied: ptyprocess>=0.5 in /usr/local/lib/python3.6/dist-packages (from pexpect; sys_platform != \"win32\"->IPython->pycaret) (0.6.0)\n",
            "Requirement already satisfied: ipython-genutils in /usr/local/lib/python3.6/dist-packages (from traitlets>=4.2->IPython->pycaret) (0.2.0)\n",
            "Requirement already satisfied: notebook>=4.4.1 in /usr/local/lib/python3.6/dist-packages (from widgetsnbextension~=3.5.0->ipywidgets->pycaret) (5.2.2)\n",
            "Requirement already satisfied: jupyter-core in /usr/local/lib/python3.6/dist-packages (from nbformat>=4.2.0->ipywidgets->pycaret) (4.6.3)\n",
            "Requirement already satisfied: jsonschema!=2.5.0,>=2.4 in /usr/local/lib/python3.6/dist-packages (from nbformat>=4.2.0->ipywidgets->pycaret) (2.6.0)\n",
            "Requirement already satisfied: tornado>=4.0 in /usr/local/lib/python3.6/dist-packages (from ipykernel>=4.5.1->ipywidgets->pycaret) (4.5.3)\n",
            "Requirement already satisfied: jupyter-client in /usr/local/lib/python3.6/dist-packages (from ipykernel>=4.5.1->ipywidgets->pycaret) (5.3.5)\n",
            "Requirement already satisfied: idna<3,>=2.5 in /usr/local/lib/python3.6/dist-packages (from requests<3.0.0,>=2.13.0->spacy->pycaret) (2.10)\n",
            "Requirement already satisfied: urllib3!=1.25.0,!=1.25.1,<1.26,>=1.21.1 in /usr/local/lib/python3.6/dist-packages (from requests<3.0.0,>=2.13.0->spacy->pycaret) (1.24.3)\n",
            "Requirement already satisfied: chardet<4,>=3.0.2 in /usr/local/lib/python3.6/dist-packages (from requests<3.0.0,>=2.13.0->spacy->pycaret) (3.0.4)\n",
            "Requirement already satisfied: certifi>=2017.4.17 in /usr/local/lib/python3.6/dist-packages (from requests<3.0.0,>=2.13.0->spacy->pycaret) (2020.6.20)\n",
            "Requirement already satisfied: importlib-metadata>=0.20; python_version < \"3.8\" in /usr/local/lib/python3.6/dist-packages (from catalogue<1.1.0,>=0.0.7->spacy->pycaret) (1.7.0)\n",
            "Requirement already satisfied: boto in /usr/local/lib/python3.6/dist-packages (from smart-open>=1.2.1->gensim->pycaret) (2.49.0)\n",
            "Requirement already satisfied: boto3 in /usr/local/lib/python3.6/dist-packages (from smart-open>=1.2.1->gensim->pycaret) (1.14.20)\n",
            "Requirement already satisfied: jmespath<1.0.0,>=0.7.1 in /usr/local/lib/python3.6/dist-packages (from botocore==1.17.23->awscli->pycaret) (0.10.0)\n",
            "Requirement already satisfied: pyasn1>=0.1.3 in /usr/local/lib/python3.6/dist-packages (from rsa<=4.5.0,>=3.1.2->awscli->pycaret) (0.4.8)\n",
            "Requirement already satisfied: MarkupSafe>=0.23 in /usr/local/lib/python3.6/dist-packages (from jinja2>=2.8->pandas-profiling==2.3.0->pycaret) (1.1.1)\n",
            "Requirement already satisfied: llvmlite<0.32.0,>=0.31.0dev0 in /usr/local/lib/python3.6/dist-packages (from numba>=0.35->pyod->pycaret) (0.31.0)\n",
            "Requirement already satisfied: atomicwrites>=1.0 in /usr/local/lib/python3.6/dist-packages (from pytest->pyLDAvis->pycaret) (1.4.0)\n",
            "Requirement already satisfied: more-itertools>=4.0.0 in /usr/local/lib/python3.6/dist-packages (from pytest->pyLDAvis->pycaret) (8.4.0)\n",
            "Requirement already satisfied: pluggy<0.8,>=0.5 in /usr/local/lib/python3.6/dist-packages (from pytest->pyLDAvis->pycaret) (0.7.1)\n",
            "Requirement already satisfied: py>=1.5.0 in /usr/local/lib/python3.6/dist-packages (from pytest->pyLDAvis->pycaret) (1.9.0)\n",
            "Requirement already satisfied: attrs>=17.4.0 in /usr/local/lib/python3.6/dist-packages (from pytest->pyLDAvis->pycaret) (19.3.0)\n",
            "Requirement already satisfied: terminado>=0.3.3; sys_platform != \"win32\" in /usr/local/lib/python3.6/dist-packages (from notebook>=4.4.1->widgetsnbextension~=3.5.0->ipywidgets->pycaret) (0.8.3)\n",
            "Requirement already satisfied: nbconvert in /usr/local/lib/python3.6/dist-packages (from notebook>=4.4.1->widgetsnbextension~=3.5.0->ipywidgets->pycaret) (5.6.1)\n",
            "Requirement already satisfied: pyzmq>=13 in /usr/local/lib/python3.6/dist-packages (from jupyter-client->ipykernel>=4.5.1->ipywidgets->pycaret) (19.0.1)\n",
            "Requirement already satisfied: zipp>=0.5 in /usr/local/lib/python3.6/dist-packages (from importlib-metadata>=0.20; python_version < \"3.8\"->catalogue<1.1.0,>=0.0.7->spacy->pycaret) (3.1.0)\n",
            "Requirement already satisfied: testpath in /usr/local/lib/python3.6/dist-packages (from nbconvert->notebook>=4.4.1->widgetsnbextension~=3.5.0->ipywidgets->pycaret) (0.4.4)\n",
            "Requirement already satisfied: pandocfilters>=1.4.1 in /usr/local/lib/python3.6/dist-packages (from nbconvert->notebook>=4.4.1->widgetsnbextension~=3.5.0->ipywidgets->pycaret) (1.4.2)\n",
            "Requirement already satisfied: defusedxml in /usr/local/lib/python3.6/dist-packages (from nbconvert->notebook>=4.4.1->widgetsnbextension~=3.5.0->ipywidgets->pycaret) (0.6.0)\n",
            "Requirement already satisfied: mistune<2,>=0.8.1 in /usr/local/lib/python3.6/dist-packages (from nbconvert->notebook>=4.4.1->widgetsnbextension~=3.5.0->ipywidgets->pycaret) (0.8.4)\n",
            "Requirement already satisfied: bleach in /usr/local/lib/python3.6/dist-packages (from nbconvert->notebook>=4.4.1->widgetsnbextension~=3.5.0->ipywidgets->pycaret) (3.1.5)\n",
            "Requirement already satisfied: entrypoints>=0.2.2 in /usr/local/lib/python3.6/dist-packages (from nbconvert->notebook>=4.4.1->widgetsnbextension~=3.5.0->ipywidgets->pycaret) (0.3)\n",
            "Requirement already satisfied: packaging in /usr/local/lib/python3.6/dist-packages (from bleach->nbconvert->notebook>=4.4.1->widgetsnbextension~=3.5.0->ipywidgets->pycaret) (20.4)\n",
            "Requirement already satisfied: webencodings in /usr/local/lib/python3.6/dist-packages (from bleach->nbconvert->notebook>=4.4.1->widgetsnbextension~=3.5.0->ipywidgets->pycaret) (0.5.1)\n",
            "Building wheels for collected packages: cufflinks, shap, awscli, pandas-profiling, pyod, pyLDAvis, htmlmin, combo, suod, funcy\n",
            "  Building wheel for cufflinks (setup.py) ... \u001b[?25l\u001b[?25hdone\n",
            "  Created wheel for cufflinks: filename=cufflinks-0.17.0-cp36-none-any.whl size=67744 sha256=2a3b63c78f91e9818d3a422b75dec2ea56afed7b3721d060d5bda981f686aa9c\n",
            "  Stored in directory: /root/.cache/pip/wheels/44/d7/dc/e830ab00bc2dd3b2731295103baa070f8cbdda8891f71a7a8d\n",
            "  Building wheel for shap (setup.py) ... \u001b[?25l\u001b[?25hdone\n",
            "  Created wheel for shap: filename=shap-0.32.1-cp36-cp36m-linux_x86_64.whl size=376809 sha256=65ab1b3887baf44774895ef16b5f25b99389d431b8e23b7ddbd03af40b3fa38a\n",
            "  Stored in directory: /root/.cache/pip/wheels/8e/b2/50/8fadb5a59789cb5bdeb01b800223be540651ae92915172050b\n",
            "  Building wheel for awscli (setup.py) ... \u001b[?25l\u001b[?25hdone\n",
            "  Created wheel for awscli: filename=awscli-1.18.100-py2.py3-none-any.whl size=3262849 sha256=d3c8019266ff5f66c8605c99a0b1450640e87dae8cb95e4c4a576678f567d9b9\n",
            "  Stored in directory: /root/.cache/pip/wheels/3f/10/56/58e043fc34dda874d50b4e22e2577f364ff2385e7c57474cd5\n",
            "  Building wheel for pandas-profiling (setup.py) ... \u001b[?25l\u001b[?25hdone\n",
            "  Created wheel for pandas-profiling: filename=pandas_profiling-2.3.0-py2.py3-none-any.whl size=145035 sha256=ce1f2c1aae6882d7db43b6f013c987380a374ebf9697bea63a0df876db791d55\n",
            "  Stored in directory: /root/.cache/pip/wheels/ce/c7/f1/dbfef4848ebb048cb1d4a22d1ed0c62d8ff2523747235e19fe\n",
            "  Building wheel for pyod (setup.py) ... \u001b[?25l\u001b[?25hdone\n",
            "  Created wheel for pyod: filename=pyod-0.8.1-cp36-none-any.whl size=105653 sha256=c88dff67f07362da0e8ef35d4784eb0425830a69c79c622e1ab3fc4488467e24\n",
            "  Stored in directory: /root/.cache/pip/wheels/2e/ca/18/727e9d98a41f5f4385a97d5b429f3a9c8fbee13f9780c18642\n",
            "  Building wheel for pyLDAvis (setup.py) ... \u001b[?25l\u001b[?25hdone\n",
            "  Created wheel for pyLDAvis: filename=pyLDAvis-2.1.2-py2.py3-none-any.whl size=97711 sha256=9505687f1c9ad3f72d6b5952e09b344265d4b89a037613fc6987c40a6b1ca0b1\n",
            "  Stored in directory: /root/.cache/pip/wheels/98/71/24/513a99e58bb6b8465bae4d2d5e9dba8f0bef8179e3051ac414\n",
            "  Building wheel for htmlmin (setup.py) ... \u001b[?25l\u001b[?25hdone\n",
            "  Created wheel for htmlmin: filename=htmlmin-0.1.12-cp36-none-any.whl size=27084 sha256=24b2442b3dcf32b051057e0e28b53bc44bfe8384b10e8909f5024adb825f7bc7\n",
            "  Stored in directory: /root/.cache/pip/wheels/43/07/ac/7c5a9d708d65247ac1f94066cf1db075540b85716c30255459\n",
            "  Building wheel for combo (setup.py) ... \u001b[?25l\u001b[?25hdone\n",
            "  Created wheel for combo: filename=combo-0.1.1-cp36-none-any.whl size=42111 sha256=b6154f6e09fb8f6b74150735c7c79c4b998abd310969917aac761834c9508956\n",
            "  Stored in directory: /root/.cache/pip/wheels/55/ec/e5/a2331372c676c467e70c6646e646edf6997d5c4905b8c0f5e6\n",
            "  Building wheel for suod (setup.py) ... \u001b[?25l\u001b[?25hdone\n",
            "  Created wheel for suod: filename=suod-0.0.4-cp36-none-any.whl size=2167157 sha256=d77b0af0d56335e52a8a2c2845e7e3a0574c7a224113aa8e8fff99efc73da6eb\n",
            "  Stored in directory: /root/.cache/pip/wheels/57/55/e5/a4fca65bba231f6d0115059b589148774b41faea25b3f2aa27\n",
            "  Building wheel for funcy (setup.py) ... \u001b[?25l\u001b[?25hdone\n",
            "  Created wheel for funcy: filename=funcy-1.14-py2.py3-none-any.whl size=32042 sha256=8b884f55606d1bb568726bbabdab22ae093e1337386c087a074b3b952a5dd4af\n",
            "  Stored in directory: /root/.cache/pip/wheels/20/5a/d8/1d875df03deae6f178dfdf70238cca33f948ef8a6f5209f2eb\n",
            "Successfully built cufflinks shap awscli pandas-profiling pyod pyLDAvis htmlmin combo suod funcy\n",
            "Installing collected packages: zope.interface, datetime, scikit-learn, lightgbm, chart-studio, cufflinks, shap, kmodes, catboost, botocore, colorama, rsa, awscli, htmlmin, phik, confuse, pandas-profiling, yellowbrick, datefinder, combo, suod, pyod, funcy, pyLDAvis, pycaret\n",
            "  Found existing installation: scikit-learn 0.22.2.post1\n",
            "    Uninstalling scikit-learn-0.22.2.post1:\n",
            "      Successfully uninstalled scikit-learn-0.22.2.post1\n",
            "  Found existing installation: lightgbm 2.2.3\n",
            "    Uninstalling lightgbm-2.2.3:\n",
            "      Successfully uninstalled lightgbm-2.2.3\n",
            "  Found existing installation: cufflinks 0.17.3\n",
            "    Uninstalling cufflinks-0.17.3:\n",
            "      Successfully uninstalled cufflinks-0.17.3\n",
            "  Found existing installation: botocore 1.17.20\n",
            "    Uninstalling botocore-1.17.20:\n",
            "      Successfully uninstalled botocore-1.17.20\n",
            "  Found existing installation: rsa 4.6\n",
            "    Uninstalling rsa-4.6:\n",
            "      Successfully uninstalled rsa-4.6\n",
            "  Found existing installation: pandas-profiling 1.4.1\n",
            "    Uninstalling pandas-profiling-1.4.1:\n",
            "      Successfully uninstalled pandas-profiling-1.4.1\n",
            "  Found existing installation: yellowbrick 0.9.1\n",
            "    Uninstalling yellowbrick-0.9.1:\n",
            "      Successfully uninstalled yellowbrick-0.9.1\n",
            "Successfully installed awscli-1.18.100 botocore-1.17.23 catboost-0.20.2 chart-studio-1.1.0 colorama-0.4.3 combo-0.1.1 confuse-1.3.0 cufflinks-0.17.0 datefinder-0.7.0 datetime-4.3 funcy-1.14 htmlmin-0.1.12 kmodes-0.10.1 lightgbm-2.3.1 pandas-profiling-2.3.0 phik-0.10.0 pyLDAvis-2.1.2 pycaret-1.0.0 pyod-0.8.1 rsa-4.5 scikit-learn-0.22 shap-0.32.1 suod-0.0.4 yellowbrick-1.0.1 zope.interface-5.1.0\n"
          ],
          "name": "stdout"
        },
        {
          "output_type": "display_data",
          "data": {
            "application/vnd.colab-display-data+json": {
              "pip_warning": {
                "packages": [
                  "rsa"
                ]
              }
            }
          },
          "metadata": {
            "tags": []
          }
        }
      ]
    },
    {
      "cell_type": "code",
      "metadata": {
        "id": "xkeLhXchGJ8B",
        "colab_type": "code",
        "colab": {}
      },
      "source": [
        "import pycaret.clustering as pc"
      ],
      "execution_count": 5,
      "outputs": []
    },
    {
      "cell_type": "code",
      "metadata": {
        "id": "C6V8Wd5_GJ35",
        "colab_type": "code",
        "colab": {
          "resources": {
            "http://localhost:8080/nbextensions/google.colab/files.js": {
              "data": "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",
              "ok": true,
              "headers": [
                [
                  "content-type",
                  "application/javascript"
                ]
              ],
              "status": 200,
              "status_text": ""
            }
          },
          "base_uri": "https://localhost:8080/",
          "height": 110
        },
        "outputId": "cc598bac-fde3-4b04-8c70-db3b6b8b4818"
      },
      "source": [
        "from google.colab import files\n",
        "files.upload()"
      ],
      "execution_count": 6,
      "outputs": [
        {
          "output_type": "display_data",
          "data": {
            "text/html": [
              "\n",
              "     <input type=\"file\" id=\"files-5e303407-0b52-4d2f-9409-db5cd2724975\" name=\"files[]\" multiple disabled\n",
              "        style=\"border:none\" />\n",
              "     <output id=\"result-5e303407-0b52-4d2f-9409-db5cd2724975\">\n",
              "      Upload widget is only available when the cell has been executed in the\n",
              "      current browser session. Please rerun this cell to enable.\n",
              "      </output>\n",
              "      <script src=\"/nbextensions/google.colab/files.js\"></script> "
            ],
            "text/plain": [
              "<IPython.core.display.HTML object>"
            ]
          },
          "metadata": {
            "tags": []
          }
        },
        {
          "output_type": "stream",
          "text": [
            "Saving countries_coordinates_dataset.csv to countries_coordinates_dataset.csv\n"
          ],
          "name": "stdout"
        },
        {
          "output_type": "execute_result",
          "data": {
            "text/plain": [
              "{'countries_coordinates_dataset.csv': b\"country,latitude,longitude,name\\nAD,42.546245,1.6015540000000001,Andorra\\nAE,23.424076,53.847818000000004,United Arab Emirates\\nAF,33.93911,67.709953,Afghanistan\\nAG,17.060816,-61.796428000000006,Antigua and Barbuda\\nAI,18.220554,-63.068615,Anguilla\\nAL,41.153332,20.168331,Albania\\nAM,40.069099,45.038189,Armenia\\nAN,12.226078999999999,-69.060087,Netherlands Antilles\\nAO,-11.202691999999999,17.873887,Angola\\nAQ,-75.250973,-0.071389,Antarctica\\nAR,-38.416097,-63.616671999999994,Argentina\\nAS,-14.270972,-170.132217,American Samoa\\nAT,47.516231,14.550072,Austria\\nAU,-25.274398,133.775136,Australia\\nAW,12.52111,-69.968338,Aruba\\nAZ,40.143105,47.576927000000005,Azerbaijan\\nBA,43.915886,17.679076000000002,Bosnia and Herzegovina\\nBB,13.193887,-59.543198,Barbados\\nBD,23.684994,90.35633100000001,Bangladesh\\nBE,50.503887,4.469936,Belgium\\nBF,12.238333,-1.561593,Burkina Faso\\nBG,42.733883,25.48583,Bulgaria\\nBH,25.930414000000003,50.637772,Bahrain\\nBI,-3.3730559999999996,29.918885999999997,Burundi\\nBJ,9.30769,2.315834,Benin\\nBM,32.321384,-64.75737,Bermuda\\nBN,4.535277,114.72766899999999,Brunei\\nBO,-16.290154,-63.588653,Bolivia\\nBR,-14.235004,-51.92528,Brazil\\nBS,25.03428,-77.39628,Bahamas\\nBT,27.514162,90.433601,Bhutan\\nBV,-54.423199,3.4131940000000003,Bouvet Island\\nBW,-22.328474,24.684866,Botswana\\nBY,53.709807,27.953389,Belarus\\nBZ,17.189877,-88.49765,Belize\\nCA,56.130366,-106.34677099999999,Canada\\nCC,-12.164164999999999,96.870956,Cocos [Keeling] Islands\\nCD,-4.038333000000001,21.758664000000003,Congo [DRC]\\nCF,6.611111,20.939444,Central African Republic\\nCG,-0.228021,15.827658999999999,Congo [Republic]\\nCH,46.818188,8.227511999999999,Switzerland\\nCI,7.539989,-5.54708,C\\xc3\\xb4te d'Ivoire\\nCK,-21.236735999999997,-159.777671,Cook Islands\\nCL,-35.675146999999996,-71.542969,Chile\\nCM,7.369722,12.354722,Cameroon\\nCN,35.86166,104.195397,China\\nCO,4.570868,-74.297333,Colombia\\nCR,9.748917,-83.753428,Costa Rica\\nCU,21.521757,-77.78116700000001,Cuba\\nCV,16.002082,-24.013197,Cape Verde\\nCX,-10.447525,105.690449,Christmas Island\\nCY,35.126413,33.429859,Cyprus\\nCZ,49.817492,15.472961999999999,Czech Republic\\nDE,51.165690999999995,10.451526,Germany\\nDJ,11.825138,42.590275,Djibouti\\nDK,56.26392,9.501785,Denmark\\nDM,15.414999,-61.370976,Dominica\\nDO,18.735692999999998,-70.162651,Dominican Republic\\nDZ,28.033886,1.6596259999999998,Algeria\\nEC,-1.8312389999999998,-78.183406,Ecuador\\nEE,58.595271999999994,25.013607,Estonia\\nEG,26.820553000000004,30.802497999999996,Egypt\\nEH,24.215526999999998,-12.885834,Western Sahara\\nER,15.179383999999999,39.782334000000006,Eritrea\\nES,40.463667,-3.7492199999999998,Spain\\nET,9.145,40.489672999999996,Ethiopia\\nFI,61.92411,25.748151,Finland\\nFJ,-16.578193,179.414413,Fiji\\nFK,-51.796253,-59.523613,Falkland Islands [Islas Malvinas]\\nFM,7.425553999999999,150.550812,Micronesia\\nFO,61.892635,-6.9118059999999995,Faroe Islands\\nFR,46.227638,2.213749,France\\nGA,-0.803689,11.609444,Gabon\\nGB,55.378051,-3.435973,United Kingdom\\nGD,12.262775999999999,-61.604170999999994,Grenada\\nGE,42.315407,43.356891999999995,Georgia\\nGF,3.9338889999999997,-53.125781999999994,French Guiana\\nGG,49.465691,-2.5852779999999997,Guernsey\\nGH,7.946527000000001,-1.0231940000000002,Ghana\\nGI,36.137741,-5.345374,Gibraltar\\nGL,71.706936,-42.604303,Greenland\\nGM,13.443182,-15.310139000000001,Gambia\\nGN,9.945587,-9.696645,Guinea\\nGP,16.995971,-62.067641,Guadeloupe\\nGQ,1.6508009999999997,10.267895,Equatorial Guinea\\nGR,39.074208,21.824312,Greece\\nGS,-54.429579000000004,-36.587909,South Georgia and the South Sandwich Islands\\nGT,15.783470999999999,-90.23075899999999,Guatemala\\nGU,13.444304,144.793731,Guam\\nGW,11.803749,-15.180413,Guinea-Bissau\\nGY,4.860416000000001,-58.93018000000001,Guyana\\nGZ,31.354676,34.308825,Gaza Strip\\nHK,22.396428,114.10949699999999,Hong Kong\\nHM,-53.08181,73.50415799999999,Heard Island and McDonald Islands\\nHN,15.199998999999998,-86.241905,Honduras\\nHR,45.1,15.2,Croatia\\nHT,18.971187,-72.28521500000001,Haiti\\nHU,47.162494,19.503304,Hungary\\nID,-0.789275,113.921327,Indonesia\\nIE,53.41291,-8.243889999999999,Ireland\\nIL,31.046051000000002,34.851612,Israel\\nIM,54.236107,-4.548056,Isle of Man\\nIN,20.593684,78.96288,India\\nIO,-6.343194,71.87651899999999,British Indian Ocean Territory\\nIQ,33.223191,43.679291,Iraq\\nIR,32.427908,53.68804599999999,Iran\\nIS,64.96305100000001,-19.020835,Iceland\\nIT,41.87194,12.56738,Italy\\nJE,49.214439,-2.13125,Jersey\\nJM,18.109581,-77.297508,Jamaica\\nJO,30.585164000000002,36.238414,Jordan\\nJP,36.204824,138.252924,Japan\\nKE,-0.023559,37.906193,Kenya\\nKG,41.20438,74.766098,Kyrgyzstan\\nKH,12.565679,104.990963,Cambodia\\nKI,-3.3704169999999998,-168.734039,Kiribati\\nKM,-11.875001,43.872219,Comoros\\nKN,17.357822,-62.782998,Saint Kitts and Nevis\\nKP,40.339852,127.510093,North Korea\\nKR,35.907757000000004,127.766922,South Korea\\nKW,29.311659999999996,47.481766,Kuwait\\nKY,19.513469,-80.566956,Cayman Islands\\nKZ,48.019573,66.923684,Kazakhstan\\nLA,19.856270000000002,102.495496,Laos\\nLB,33.854721000000005,35.862285,Lebanon\\nLC,13.909444,-60.97889300000001,Saint Lucia\\nLI,47.166000000000004,9.555373,Liechtenstein\\nLK,7.873054,80.77179699999999,Sri Lanka\\nLR,6.4280550000000005,-9.429499,Liberia\\nLS,-29.609988,28.233608,Lesotho\\nLT,55.169438,23.881275,Lithuania\\nLU,49.815273,6.129583,Luxembourg\\nLV,56.879635,24.603189,Latvia\\nLY,26.3351,17.228331,Libya\\nMA,31.791702,-7.09262,Morocco\\nMC,43.750298,7.412841,Monaco\\nMD,47.411631,28.369884999999996,Moldova\\nME,42.708678000000006,19.37439,Montenegro\\nMG,-18.766947000000002,46.869107,Madagascar\\nMH,7.131474000000001,171.184478,Marshall Islands\\nMK,41.608635,21.745275,Macedonia [FYROM]\\nML,17.570692,-3.9961660000000006,Mali\\nMM,21.913965,95.956223,Myanmar [Burma]\\nMN,46.862496,103.84665600000001,Mongolia\\nMO,22.198745000000002,113.543873,Macau\\nMP,17.33083,145.38468999999998,Northern Mariana Islands\\nMQ,14.641528,-61.024174,Martinique\\nMR,21.00789,-10.940835,Mauritania\\nMS,16.742498,-62.187366000000004,Montserrat\\nMT,35.937496,14.375416,Malta\\nMU,-20.348404000000002,57.552152,Mauritius\\nMV,3.202778,73.22068,Maldives\\nMW,-13.254307999999998,34.301525,Malawi\\nMX,23.634501,-102.552784,Mexico\\nMY,4.210483999999999,101.97576600000001,Malaysia\\nMZ,-18.665695,35.529562,Mozambique\\n,-22.957639999999998,18.49041,Namibia\\nNC,-20.904304999999997,165.618042,New Caledonia\\nNE,17.607789,8.081666,Niger\\nNF,-29.040834999999998,167.954712,Norfolk Island\\nNG,9.081999,8.675277000000001,Nigeria\\nNI,12.865416,-85.207229,Nicaragua\\nNL,52.132633,5.291266,Netherlands\\nNO,60.472024,8.468946,Norway\\nNP,28.394857000000002,84.12400799999999,Nepal\\nNR,-0.522778,166.931503,Nauru\\nNU,-19.054445,-169.867233,Niue\\nNZ,-40.900557,174.88597099999998,New Zealand\\nOM,21.512583,55.923255000000005,Oman\\nPA,8.537981,-80.782127,Panama\\nPE,-9.189967,-75.015152,Peru\\nPF,-17.679742,-149.40684299999998,French Polynesia\\nPG,-6.314993,143.95555,Papua New Guinea\\nPH,12.879721,121.77401699999999,Philippines\\nPK,30.375321000000003,69.345116,Pakistan\\nPL,51.919438,19.145135999999997,Poland\\nPM,46.941936,-56.27111,Saint Pierre and Miquelon\\nPN,-24.703615,-127.43930800000001,Pitcairn Islands\\nPR,18.220833,-66.590149,Puerto Rico\\nPS,31.952162,35.233154,Palestinian Territories\\nPT,39.399871999999995,-8.224454,Portugal\\nPW,7.51498,134.58252,Palau\\nPY,-23.442503,-58.44383199999999,Paraguay\\nQA,25.354826,51.183884,Qatar\\nRE,-21.115141,55.536384,R\\xc3\\xa9union\\nRO,45.943160999999996,24.96676,Romania\\nRS,44.016521000000004,21.005859,Serbia\\nRU,61.52401,105.31875600000001,Russia\\nRW,-1.940278,29.873888,Rwanda\\nSA,23.885942,45.079162,Saudi Arabia\\nSB,-9.645710000000001,160.156194,Solomon Islands\\nSC,-4.679574,55.491977,Seychelles\\nSD,12.862807,30.217636,Sudan\\nSE,60.128161,18.643501,Sweden\\nSG,1.352083,103.819836,Singapore\\nSH,-24.143473999999998,-10.030696,Saint Helena\\nSI,46.151241,14.995463,Slovenia\\nSJ,77.553604,23.670272,Svalbard and Jan Mayen\\nSK,48.669026,19.699023999999998,Slovakia\\nSL,8.460555000000001,-11.779889,Sierra Leone\\nSM,43.94236,12.457777,San Marino\\nSN,14.497401000000002,-14.452361999999999,Senegal\\nSO,5.152149,46.199616,Somalia\\nSR,3.9193050000000005,-56.02778299999999,Suriname\\nST,0.18636,6.613081,S\\xc3\\xa3o Tom\\xc3\\xa9 and Pr\\xc3\\xadncipe\\nSV,13.794185,-88.89653,El Salvador\\nSY,34.802075,38.996815000000005,Syria\\nSZ,-26.522503000000004,31.465866,Swaziland\\nTC,21.694025,-71.797928,Turks and Caicos Islands\\nTD,15.454166,18.732207,Chad\\nTF,-49.280366,69.348557,French Southern Territories\\nTG,8.619543,0.824782,Togo\\nTH,15.870032,100.992541,Thailand\\nTJ,38.861034000000004,71.276093,Tajikistan\\nTK,-8.967363,-171.855881,Tokelau\\nTL,-8.874217,125.727539,Timor-Leste\\nTM,38.969719,59.556278000000006,Turkmenistan\\nTN,33.886917,9.537499,Tunisia\\nTO,-21.178986,-175.198242,Tonga\\nTR,38.963745,35.243322,Turkey\\nTT,10.691803,-61.222503,Trinidad and Tobago\\nTV,-7.109535,177.64933,Tuvalu\\nTW,23.69781,120.96051499999999,Taiwan\\nTZ,-6.369028,34.888822,Tanzania\\nUA,48.379433,31.16558,Ukraine\\nUG,1.373333,32.290275,Uganda\\nUM,,,U.S. Minor Outlying Islands\\nUS,37.09024,-95.712891,United States\\nUY,-32.522779,-55.765834999999996,Uruguay\\nUZ,41.377491,64.585262,Uzbekistan\\nVA,41.902916,12.453389,Vatican City\\nVC,12.984305,-61.287228000000006,Saint Vincent and the Grenadines\\nVE,6.42375,-66.58973,Venezuela\\nVG,18.420695000000002,-64.63996800000001,British Virgin Islands\\nVI,18.335765,-64.896335,U.S. Virgin Islands\\nVN,14.058323999999999,108.277199,Vietnam\\nVU,-15.376706,166.959158,Vanuatu\\nWF,-13.768752,-177.156097,Wallis and Futuna\\nWS,-13.759029,-172.10462900000002,Samoa\\nXK,42.602636,20.902977,Kosovo\\nYE,15.552726999999999,48.516388,Yemen\\nYT,-12.8275,45.166244,Mayotte\\nZA,-30.559482,22.937506,South Africa\\nZM,-13.133897,27.849332,Zambia\\nZW,-19.015438,29.154857,Zimbabwe\\n\"}"
            ]
          },
          "metadata": {
            "tags": []
          },
          "execution_count": 6
        }
      ]
    },
    {
      "cell_type": "code",
      "metadata": {
        "id": "5qs6pYSsGJvV",
        "colab_type": "code",
        "colab": {}
      },
      "source": [
        "# Read Dataset\n",
        "df = pd.read_csv(\"countries_coordinates_dataset.csv\")"
      ],
      "execution_count": 7,
      "outputs": []
    },
    {
      "cell_type": "code",
      "metadata": {
        "id": "zzQUf3iWHEO4",
        "colab_type": "code",
        "colab": {
          "base_uri": "https://localhost:8080/",
          "height": 195
        },
        "outputId": "51a9075b-d45a-43fa-e02a-3ab76e416ac5"
      },
      "source": [
        "df.head()"
      ],
      "execution_count": 8,
      "outputs": [
        {
          "output_type": "execute_result",
          "data": {
            "text/html": [
              "<div>\n",
              "<style scoped>\n",
              "    .dataframe tbody tr th:only-of-type {\n",
              "        vertical-align: middle;\n",
              "    }\n",
              "\n",
              "    .dataframe tbody tr th {\n",
              "        vertical-align: top;\n",
              "    }\n",
              "\n",
              "    .dataframe thead th {\n",
              "        text-align: right;\n",
              "    }\n",
              "</style>\n",
              "<table border=\"1\" class=\"dataframe\">\n",
              "  <thead>\n",
              "    <tr style=\"text-align: right;\">\n",
              "      <th></th>\n",
              "      <th>country</th>\n",
              "      <th>latitude</th>\n",
              "      <th>longitude</th>\n",
              "      <th>name</th>\n",
              "    </tr>\n",
              "  </thead>\n",
              "  <tbody>\n",
              "    <tr>\n",
              "      <th>0</th>\n",
              "      <td>AD</td>\n",
              "      <td>42.546245</td>\n",
              "      <td>1.601554</td>\n",
              "      <td>Andorra</td>\n",
              "    </tr>\n",
              "    <tr>\n",
              "      <th>1</th>\n",
              "      <td>AE</td>\n",
              "      <td>23.424076</td>\n",
              "      <td>53.847818</td>\n",
              "      <td>United Arab Emirates</td>\n",
              "    </tr>\n",
              "    <tr>\n",
              "      <th>2</th>\n",
              "      <td>AF</td>\n",
              "      <td>33.939110</td>\n",
              "      <td>67.709953</td>\n",
              "      <td>Afghanistan</td>\n",
              "    </tr>\n",
              "    <tr>\n",
              "      <th>3</th>\n",
              "      <td>AG</td>\n",
              "      <td>17.060816</td>\n",
              "      <td>-61.796428</td>\n",
              "      <td>Antigua and Barbuda</td>\n",
              "    </tr>\n",
              "    <tr>\n",
              "      <th>4</th>\n",
              "      <td>AI</td>\n",
              "      <td>18.220554</td>\n",
              "      <td>-63.068615</td>\n",
              "      <td>Anguilla</td>\n",
              "    </tr>\n",
              "  </tbody>\n",
              "</table>\n",
              "</div>"
            ],
            "text/plain": [
              "  country   latitude  longitude                  name\n",
              "0      AD  42.546245   1.601554               Andorra\n",
              "1      AE  23.424076  53.847818  United Arab Emirates\n",
              "2      AF  33.939110  67.709953           Afghanistan\n",
              "3      AG  17.060816 -61.796428   Antigua and Barbuda\n",
              "4      AI  18.220554 -63.068615              Anguilla"
            ]
          },
          "metadata": {
            "tags": []
          },
          "execution_count": 8
        }
      ]
    },
    {
      "cell_type": "code",
      "metadata": {
        "id": "a2aDkN-gHFmV",
        "colab_type": "code",
        "colab": {
          "base_uri": "https://localhost:8080/",
          "height": 1000,
          "referenced_widgets": [
            "d22adcc85ccd4f759348cab69dc57c44",
            "5d5dc0ebc32b48f18e60ea618199716e",
            "14a8cb59381f4863a92f2dd9c1597624",
            "aecfcfdde5014fb38eff8a2bcc9231f1",
            "112b74bf416d4d618b9643be15083c99",
            "5469c07f629f4ef38adf9a0055a738fa"
          ]
        },
        "outputId": "e5320cc7-ab42-446d-fbac-52e464105b78"
      },
      "source": [
        "# Prep Data\n",
        "pc.setup(df,ignore_features=['country','name'])"
      ],
      "execution_count": 9,
      "outputs": [
        {
          "output_type": "stream",
          "text": [
            "\n",
            "Setup Succesfully Completed!\n"
          ],
          "name": "stdout"
        },
        {
          "output_type": "display_data",
          "data": {
            "text/html": [
              "<style  type=\"text/css\" >\n",
              "    #T_bb95622e_c8fa_11ea_a449_0242ac1c0002row2_col1 {\n",
              "            background-color:  lightgreen;\n",
              "        }</style><table id=\"T_bb95622e_c8fa_11ea_a449_0242ac1c0002\" ><thead>    <tr>        <th class=\"blank level0\" ></th>        <th class=\"col_heading level0 col0\" >Description</th>        <th class=\"col_heading level0 col1\" >Value</th>    </tr></thead><tbody>\n",
              "                <tr>\n",
              "                        <th id=\"T_bb95622e_c8fa_11ea_a449_0242ac1c0002level0_row0\" class=\"row_heading level0 row0\" >0</th>\n",
              "                        <td id=\"T_bb95622e_c8fa_11ea_a449_0242ac1c0002row0_col0\" class=\"data row0 col0\" >session_id </td>\n",
              "                        <td id=\"T_bb95622e_c8fa_11ea_a449_0242ac1c0002row0_col1\" class=\"data row0 col1\" >4410</td>\n",
              "            </tr>\n",
              "            <tr>\n",
              "                        <th id=\"T_bb95622e_c8fa_11ea_a449_0242ac1c0002level0_row1\" class=\"row_heading level0 row1\" >1</th>\n",
              "                        <td id=\"T_bb95622e_c8fa_11ea_a449_0242ac1c0002row1_col0\" class=\"data row1 col0\" >Original Data </td>\n",
              "                        <td id=\"T_bb95622e_c8fa_11ea_a449_0242ac1c0002row1_col1\" class=\"data row1 col1\" >(245, 4)</td>\n",
              "            </tr>\n",
              "            <tr>\n",
              "                        <th id=\"T_bb95622e_c8fa_11ea_a449_0242ac1c0002level0_row2\" class=\"row_heading level0 row2\" >2</th>\n",
              "                        <td id=\"T_bb95622e_c8fa_11ea_a449_0242ac1c0002row2_col0\" class=\"data row2 col0\" >Missing Values </td>\n",
              "                        <td id=\"T_bb95622e_c8fa_11ea_a449_0242ac1c0002row2_col1\" class=\"data row2 col1\" >True</td>\n",
              "            </tr>\n",
              "            <tr>\n",
              "                        <th id=\"T_bb95622e_c8fa_11ea_a449_0242ac1c0002level0_row3\" class=\"row_heading level0 row3\" >3</th>\n",
              "                        <td id=\"T_bb95622e_c8fa_11ea_a449_0242ac1c0002row3_col0\" class=\"data row3 col0\" >Numeric Features </td>\n",
              "                        <td id=\"T_bb95622e_c8fa_11ea_a449_0242ac1c0002row3_col1\" class=\"data row3 col1\" >2</td>\n",
              "            </tr>\n",
              "            <tr>\n",
              "                        <th id=\"T_bb95622e_c8fa_11ea_a449_0242ac1c0002level0_row4\" class=\"row_heading level0 row4\" >4</th>\n",
              "                        <td id=\"T_bb95622e_c8fa_11ea_a449_0242ac1c0002row4_col0\" class=\"data row4 col0\" >Categorical Features </td>\n",
              "                        <td id=\"T_bb95622e_c8fa_11ea_a449_0242ac1c0002row4_col1\" class=\"data row4 col1\" >2</td>\n",
              "            </tr>\n",
              "            <tr>\n",
              "                        <th id=\"T_bb95622e_c8fa_11ea_a449_0242ac1c0002level0_row5\" class=\"row_heading level0 row5\" >5</th>\n",
              "                        <td id=\"T_bb95622e_c8fa_11ea_a449_0242ac1c0002row5_col0\" class=\"data row5 col0\" >Ordinal Features </td>\n",
              "                        <td id=\"T_bb95622e_c8fa_11ea_a449_0242ac1c0002row5_col1\" class=\"data row5 col1\" >False</td>\n",
              "            </tr>\n",
              "            <tr>\n",
              "                        <th id=\"T_bb95622e_c8fa_11ea_a449_0242ac1c0002level0_row6\" class=\"row_heading level0 row6\" >6</th>\n",
              "                        <td id=\"T_bb95622e_c8fa_11ea_a449_0242ac1c0002row6_col0\" class=\"data row6 col0\" >High Cardinality Features </td>\n",
              "                        <td id=\"T_bb95622e_c8fa_11ea_a449_0242ac1c0002row6_col1\" class=\"data row6 col1\" >False</td>\n",
              "            </tr>\n",
              "            <tr>\n",
              "                        <th id=\"T_bb95622e_c8fa_11ea_a449_0242ac1c0002level0_row7\" class=\"row_heading level0 row7\" >7</th>\n",
              "                        <td id=\"T_bb95622e_c8fa_11ea_a449_0242ac1c0002row7_col0\" class=\"data row7 col0\" >Transformed Data </td>\n",
              "                        <td id=\"T_bb95622e_c8fa_11ea_a449_0242ac1c0002row7_col1\" class=\"data row7 col1\" >(245, 2)</td>\n",
              "            </tr>\n",
              "            <tr>\n",
              "                        <th id=\"T_bb95622e_c8fa_11ea_a449_0242ac1c0002level0_row8\" class=\"row_heading level0 row8\" >8</th>\n",
              "                        <td id=\"T_bb95622e_c8fa_11ea_a449_0242ac1c0002row8_col0\" class=\"data row8 col0\" >Numeric Imputer </td>\n",
              "                        <td id=\"T_bb95622e_c8fa_11ea_a449_0242ac1c0002row8_col1\" class=\"data row8 col1\" >mean</td>\n",
              "            </tr>\n",
              "            <tr>\n",
              "                        <th id=\"T_bb95622e_c8fa_11ea_a449_0242ac1c0002level0_row9\" class=\"row_heading level0 row9\" >9</th>\n",
              "                        <td id=\"T_bb95622e_c8fa_11ea_a449_0242ac1c0002row9_col0\" class=\"data row9 col0\" >Categorical Imputer </td>\n",
              "                        <td id=\"T_bb95622e_c8fa_11ea_a449_0242ac1c0002row9_col1\" class=\"data row9 col1\" >constant</td>\n",
              "            </tr>\n",
              "            <tr>\n",
              "                        <th id=\"T_bb95622e_c8fa_11ea_a449_0242ac1c0002level0_row10\" class=\"row_heading level0 row10\" >10</th>\n",
              "                        <td id=\"T_bb95622e_c8fa_11ea_a449_0242ac1c0002row10_col0\" class=\"data row10 col0\" >Normalize </td>\n",
              "                        <td id=\"T_bb95622e_c8fa_11ea_a449_0242ac1c0002row10_col1\" class=\"data row10 col1\" >False</td>\n",
              "            </tr>\n",
              "            <tr>\n",
              "                        <th id=\"T_bb95622e_c8fa_11ea_a449_0242ac1c0002level0_row11\" class=\"row_heading level0 row11\" >11</th>\n",
              "                        <td id=\"T_bb95622e_c8fa_11ea_a449_0242ac1c0002row11_col0\" class=\"data row11 col0\" >Normalize Method </td>\n",
              "                        <td id=\"T_bb95622e_c8fa_11ea_a449_0242ac1c0002row11_col1\" class=\"data row11 col1\" >None</td>\n",
              "            </tr>\n",
              "            <tr>\n",
              "                        <th id=\"T_bb95622e_c8fa_11ea_a449_0242ac1c0002level0_row12\" class=\"row_heading level0 row12\" >12</th>\n",
              "                        <td id=\"T_bb95622e_c8fa_11ea_a449_0242ac1c0002row12_col0\" class=\"data row12 col0\" >Transformation </td>\n",
              "                        <td id=\"T_bb95622e_c8fa_11ea_a449_0242ac1c0002row12_col1\" class=\"data row12 col1\" >False</td>\n",
              "            </tr>\n",
              "            <tr>\n",
              "                        <th id=\"T_bb95622e_c8fa_11ea_a449_0242ac1c0002level0_row13\" class=\"row_heading level0 row13\" >13</th>\n",
              "                        <td id=\"T_bb95622e_c8fa_11ea_a449_0242ac1c0002row13_col0\" class=\"data row13 col0\" >Transformation Method </td>\n",
              "                        <td id=\"T_bb95622e_c8fa_11ea_a449_0242ac1c0002row13_col1\" class=\"data row13 col1\" >None</td>\n",
              "            </tr>\n",
              "            <tr>\n",
              "                        <th id=\"T_bb95622e_c8fa_11ea_a449_0242ac1c0002level0_row14\" class=\"row_heading level0 row14\" >14</th>\n",
              "                        <td id=\"T_bb95622e_c8fa_11ea_a449_0242ac1c0002row14_col0\" class=\"data row14 col0\" >PCA </td>\n",
              "                        <td id=\"T_bb95622e_c8fa_11ea_a449_0242ac1c0002row14_col1\" class=\"data row14 col1\" >False</td>\n",
              "            </tr>\n",
              "            <tr>\n",
              "                        <th id=\"T_bb95622e_c8fa_11ea_a449_0242ac1c0002level0_row15\" class=\"row_heading level0 row15\" >15</th>\n",
              "                        <td id=\"T_bb95622e_c8fa_11ea_a449_0242ac1c0002row15_col0\" class=\"data row15 col0\" >PCA Method </td>\n",
              "                        <td id=\"T_bb95622e_c8fa_11ea_a449_0242ac1c0002row15_col1\" class=\"data row15 col1\" >None</td>\n",
              "            </tr>\n",
              "            <tr>\n",
              "                        <th id=\"T_bb95622e_c8fa_11ea_a449_0242ac1c0002level0_row16\" class=\"row_heading level0 row16\" >16</th>\n",
              "                        <td id=\"T_bb95622e_c8fa_11ea_a449_0242ac1c0002row16_col0\" class=\"data row16 col0\" >PCA components </td>\n",
              "                        <td id=\"T_bb95622e_c8fa_11ea_a449_0242ac1c0002row16_col1\" class=\"data row16 col1\" >None</td>\n",
              "            </tr>\n",
              "            <tr>\n",
              "                        <th id=\"T_bb95622e_c8fa_11ea_a449_0242ac1c0002level0_row17\" class=\"row_heading level0 row17\" >17</th>\n",
              "                        <td id=\"T_bb95622e_c8fa_11ea_a449_0242ac1c0002row17_col0\" class=\"data row17 col0\" >Ignore Low Variance </td>\n",
              "                        <td id=\"T_bb95622e_c8fa_11ea_a449_0242ac1c0002row17_col1\" class=\"data row17 col1\" >False</td>\n",
              "            </tr>\n",
              "            <tr>\n",
              "                        <th id=\"T_bb95622e_c8fa_11ea_a449_0242ac1c0002level0_row18\" class=\"row_heading level0 row18\" >18</th>\n",
              "                        <td id=\"T_bb95622e_c8fa_11ea_a449_0242ac1c0002row18_col0\" class=\"data row18 col0\" >Combine Rare Levels </td>\n",
              "                        <td id=\"T_bb95622e_c8fa_11ea_a449_0242ac1c0002row18_col1\" class=\"data row18 col1\" >False</td>\n",
              "            </tr>\n",
              "            <tr>\n",
              "                        <th id=\"T_bb95622e_c8fa_11ea_a449_0242ac1c0002level0_row19\" class=\"row_heading level0 row19\" >19</th>\n",
              "                        <td id=\"T_bb95622e_c8fa_11ea_a449_0242ac1c0002row19_col0\" class=\"data row19 col0\" >Rare Level Threshold </td>\n",
              "                        <td id=\"T_bb95622e_c8fa_11ea_a449_0242ac1c0002row19_col1\" class=\"data row19 col1\" >None</td>\n",
              "            </tr>\n",
              "            <tr>\n",
              "                        <th id=\"T_bb95622e_c8fa_11ea_a449_0242ac1c0002level0_row20\" class=\"row_heading level0 row20\" >20</th>\n",
              "                        <td id=\"T_bb95622e_c8fa_11ea_a449_0242ac1c0002row20_col0\" class=\"data row20 col0\" >Numeric Binning </td>\n",
              "                        <td id=\"T_bb95622e_c8fa_11ea_a449_0242ac1c0002row20_col1\" class=\"data row20 col1\" >False</td>\n",
              "            </tr>\n",
              "            <tr>\n",
              "                        <th id=\"T_bb95622e_c8fa_11ea_a449_0242ac1c0002level0_row21\" class=\"row_heading level0 row21\" >21</th>\n",
              "                        <td id=\"T_bb95622e_c8fa_11ea_a449_0242ac1c0002row21_col0\" class=\"data row21 col0\" >Remove Multicollinearity </td>\n",
              "                        <td id=\"T_bb95622e_c8fa_11ea_a449_0242ac1c0002row21_col1\" class=\"data row21 col1\" >False</td>\n",
              "            </tr>\n",
              "            <tr>\n",
              "                        <th id=\"T_bb95622e_c8fa_11ea_a449_0242ac1c0002level0_row22\" class=\"row_heading level0 row22\" >22</th>\n",
              "                        <td id=\"T_bb95622e_c8fa_11ea_a449_0242ac1c0002row22_col0\" class=\"data row22 col0\" >Multicollinearity Threshold </td>\n",
              "                        <td id=\"T_bb95622e_c8fa_11ea_a449_0242ac1c0002row22_col1\" class=\"data row22 col1\" >None</td>\n",
              "            </tr>\n",
              "            <tr>\n",
              "                        <th id=\"T_bb95622e_c8fa_11ea_a449_0242ac1c0002level0_row23\" class=\"row_heading level0 row23\" >23</th>\n",
              "                        <td id=\"T_bb95622e_c8fa_11ea_a449_0242ac1c0002row23_col0\" class=\"data row23 col0\" >Group Features </td>\n",
              "                        <td id=\"T_bb95622e_c8fa_11ea_a449_0242ac1c0002row23_col1\" class=\"data row23 col1\" >False</td>\n",
              "            </tr>\n",
              "    </tbody></table>"
            ],
            "text/plain": [
              "<pandas.io.formats.style.Styler at 0x7f4ce6897710>"
            ]
          },
          "metadata": {
            "tags": []
          }
        },
        {
          "output_type": "execute_result",
          "data": {
            "text/plain": [
              "(      latitude  longitude\n",
              " 0    42.546245   1.601554\n",
              " 1    23.424076  53.847818\n",
              " 2    33.939110  67.709953\n",
              " 3    17.060816 -61.796428\n",
              " 4    18.220554 -63.068615\n",
              " ..         ...        ...\n",
              " 240  15.552727  48.516388\n",
              " 241 -12.827500  45.166244\n",
              " 242 -30.559482  22.937506\n",
              " 243 -13.133897  27.849332\n",
              " 244 -19.015438  29.154857\n",
              " \n",
              " [245 rows x 2 columns],\n",
              "     country   latitude  longitude                  name\n",
              " 0        AD  42.546245   1.601554               Andorra\n",
              " 1        AE  23.424076  53.847818  United Arab Emirates\n",
              " 2        AF  33.939110  67.709953           Afghanistan\n",
              " 3        AG  17.060816 -61.796428   Antigua and Barbuda\n",
              " 4        AI  18.220554 -63.068615              Anguilla\n",
              " ..      ...        ...        ...                   ...\n",
              " 240      YE  15.552727  48.516388                 Yemen\n",
              " 241      YT -12.827500  45.166244               Mayotte\n",
              " 242      ZA -30.559482  22.937506          South Africa\n",
              " 243      ZM -13.133897  27.849332                Zambia\n",
              " 244      ZW -19.015438  29.154857              Zimbabwe\n",
              " \n",
              " [245 rows x 4 columns],\n",
              " 4410,\n",
              " Pipeline(memory=None,\n",
              "          steps=[('dtypes',\n",
              "                  DataTypes_Auto_infer(categorical_features=[],\n",
              "                                       display_types=True,\n",
              "                                       features_todrop=['country', 'name'],\n",
              "                                       ml_usecase='regression',\n",
              "                                       numerical_features=[],\n",
              "                                       target='dummy_target',\n",
              "                                       time_features=[])),\n",
              "                 ('imputer',\n",
              "                  Simple_Imputer(categorical_strategy='not_available',\n",
              "                                 numeric_strategy='mean',\n",
              "                                 target_variable=None)),\n",
              "                 ('new_levels1',\n",
              "                  N...\n",
              "                                                     target='dummy_target')),\n",
              "                 ('feature_time',\n",
              "                  Make_Time_Features(list_of_features=None, time_feature=[])),\n",
              "                 ('group', Empty()), ('scaling', Empty()),\n",
              "                 ('P_transform', Empty()), ('binn', Empty()),\n",
              "                 ('fix_perfect', Empty()), ('rem_outliers', Empty()),\n",
              "                 ('dummy', Dummify(target='dummy_target')),\n",
              "                 ('clean_names', Clean_Colum_Names()), ('fix_multi', Empty()),\n",
              "                 ('pca', Empty())],\n",
              "          verbose=False),\n",
              " <module 'pycaret.preprocess' from '/usr/local/lib/python3.6/dist-packages/pycaret/preprocess.py'>,\n",
              " [('Clustering Setup Config',                      Description     Value\n",
              "   0                    session_id       4410\n",
              "   1                 Original Data   (245, 4)\n",
              "   2                Missing Values       True\n",
              "   3              Numeric Features          2\n",
              "   4          Categorical Features          2\n",
              "   5              Ordinal Features      False\n",
              "   6     High Cardinality Features      False\n",
              "   7              Transformed Data   (245, 2)\n",
              "   8               Numeric Imputer       mean\n",
              "   9           Categorical Imputer   constant\n",
              "   10                    Normalize      False\n",
              "   11             Normalize Method       None\n",
              "   12               Transformation      False\n",
              "   13        Transformation Method       None\n",
              "   14                          PCA      False\n",
              "   15                   PCA Method       None\n",
              "   16               PCA components       None\n",
              "   17          Ignore Low Variance      False\n",
              "   18          Combine Rare Levels      False\n",
              "   19         Rare Level Threshold       None\n",
              "   20              Numeric Binning      False\n",
              "   21     Remove Multicollinearity      False\n",
              "   22  Multicollinearity Threshold       None\n",
              "   23               Group Features      False),\n",
              "  ('Orignal Dataset',     country   latitude  longitude                  name\n",
              "   0        AD  42.546245   1.601554               Andorra\n",
              "   1        AE  23.424076  53.847818  United Arab Emirates\n",
              "   2        AF  33.939110  67.709953           Afghanistan\n",
              "   3        AG  17.060816 -61.796428   Antigua and Barbuda\n",
              "   4        AI  18.220554 -63.068615              Anguilla\n",
              "   ..      ...        ...        ...                   ...\n",
              "   240      YE  15.552727  48.516388                 Yemen\n",
              "   241      YT -12.827500  45.166244               Mayotte\n",
              "   242      ZA -30.559482  22.937506          South Africa\n",
              "   243      ZM -13.133897  27.849332                Zambia\n",
              "   244      ZW -19.015438  29.154857              Zimbabwe\n",
              "   \n",
              "   [245 rows x 4 columns]),\n",
              "  ('Transformed Dataset',       latitude  longitude\n",
              "   0    42.546245   1.601554\n",
              "   1    23.424076  53.847818\n",
              "   2    33.939110  67.709953\n",
              "   3    17.060816 -61.796428\n",
              "   4    18.220554 -63.068615\n",
              "   ..         ...        ...\n",
              "   240  15.552727  48.516388\n",
              "   241 -12.827500  45.166244\n",
              "   242 -30.559482  22.937506\n",
              "   243 -13.133897  27.849332\n",
              "   244 -19.015438  29.154857\n",
              "   \n",
              "   [245 rows x 2 columns]),\n",
              "  ('Transformation Pipeline', Pipeline(memory=None,\n",
              "            steps=[('dtypes',\n",
              "                    DataTypes_Auto_infer(categorical_features=[],\n",
              "                                         display_types=True,\n",
              "                                         features_todrop=['country', 'name'],\n",
              "                                         ml_usecase='regression',\n",
              "                                         numerical_features=[],\n",
              "                                         target='dummy_target',\n",
              "                                         time_features=[])),\n",
              "                   ('imputer',\n",
              "                    Simple_Imputer(categorical_strategy='not_available',\n",
              "                                   numeric_strategy='mean',\n",
              "                                   target_variable=None)),\n",
              "                   ('new_levels1',\n",
              "                    N...\n",
              "                                                       target='dummy_target')),\n",
              "                   ('feature_time',\n",
              "                    Make_Time_Features(list_of_features=None, time_feature=[])),\n",
              "                   ('group', Empty()), ('scaling', Empty()),\n",
              "                   ('P_transform', Empty()), ('binn', Empty()),\n",
              "                   ('fix_perfect', Empty()), ('rem_outliers', Empty()),\n",
              "                   ('dummy', Dummify(target='dummy_target')),\n",
              "                   ('clean_names', Clean_Colum_Names()), ('fix_multi', Empty()),\n",
              "                   ('pca', Empty())],\n",
              "            verbose=False))])"
            ]
          },
          "metadata": {
            "tags": []
          },
          "execution_count": 9
        }
      ]
    },
    {
      "cell_type": "code",
      "metadata": {
        "id": "r9wUQEYkHY3p",
        "colab_type": "code",
        "colab": {}
      },
      "source": [
        "# Create Model\n",
        "km = pc.create_model('kmeans',num_clusters=7)"
      ],
      "execution_count": 39,
      "outputs": []
    },
    {
      "cell_type": "code",
      "metadata": {
        "id": "XykANgJ4HnaS",
        "colab_type": "code",
        "colab": {
          "base_uri": "https://localhost:8080/",
          "height": 67
        },
        "outputId": "460b907b-1469-48e5-9c3b-eaa8daed1c37"
      },
      "source": [
        "km"
      ],
      "execution_count": 40,
      "outputs": [
        {
          "output_type": "execute_result",
          "data": {
            "text/plain": [
              "KMeans(algorithm='auto', copy_x=True, init='k-means++', max_iter=300,\n",
              "       n_clusters=7, n_init=10, n_jobs=None, precompute_distances='auto',\n",
              "       random_state=4410, tol=0.0001, verbose=0)"
            ]
          },
          "metadata": {
            "tags": []
          },
          "execution_count": 40
        }
      ]
    },
    {
      "cell_type": "code",
      "metadata": {
        "id": "6EzJzCTKHolf",
        "colab_type": "code",
        "colab": {}
      },
      "source": [
        "# Assign Model\n",
        "# Assign Clusters to Datapoint\n",
        "km_df = pc.assign_model(km)"
      ],
      "execution_count": 41,
      "outputs": []
    },
    {
      "cell_type": "code",
      "metadata": {
        "id": "AJpF2TNwH1Aj",
        "colab_type": "code",
        "colab": {
          "base_uri": "https://localhost:8080/",
          "height": 402
        },
        "outputId": "7c19afb7-b95d-42fd-b7a9-82d19e6399be"
      },
      "source": [
        "km_df"
      ],
      "execution_count": 42,
      "outputs": [
        {
          "output_type": "execute_result",
          "data": {
            "text/html": [
              "<div>\n",
              "<style scoped>\n",
              "    .dataframe tbody tr th:only-of-type {\n",
              "        vertical-align: middle;\n",
              "    }\n",
              "\n",
              "    .dataframe tbody tr th {\n",
              "        vertical-align: top;\n",
              "    }\n",
              "\n",
              "    .dataframe thead th {\n",
              "        text-align: right;\n",
              "    }\n",
              "</style>\n",
              "<table border=\"1\" class=\"dataframe\">\n",
              "  <thead>\n",
              "    <tr style=\"text-align: right;\">\n",
              "      <th></th>\n",
              "      <th>country</th>\n",
              "      <th>latitude</th>\n",
              "      <th>longitude</th>\n",
              "      <th>name</th>\n",
              "      <th>Cluster</th>\n",
              "    </tr>\n",
              "  </thead>\n",
              "  <tbody>\n",
              "    <tr>\n",
              "      <th>0</th>\n",
              "      <td>AD</td>\n",
              "      <td>42.546245</td>\n",
              "      <td>1.601554</td>\n",
              "      <td>Andorra</td>\n",
              "      <td>Cluster 4</td>\n",
              "    </tr>\n",
              "    <tr>\n",
              "      <th>1</th>\n",
              "      <td>AE</td>\n",
              "      <td>23.424076</td>\n",
              "      <td>53.847818</td>\n",
              "      <td>United Arab Emirates</td>\n",
              "      <td>Cluster 6</td>\n",
              "    </tr>\n",
              "    <tr>\n",
              "      <th>2</th>\n",
              "      <td>AF</td>\n",
              "      <td>33.939110</td>\n",
              "      <td>67.709953</td>\n",
              "      <td>Afghanistan</td>\n",
              "      <td>Cluster 6</td>\n",
              "    </tr>\n",
              "    <tr>\n",
              "      <th>3</th>\n",
              "      <td>AG</td>\n",
              "      <td>17.060816</td>\n",
              "      <td>-61.796428</td>\n",
              "      <td>Antigua and Barbuda</td>\n",
              "      <td>Cluster 3</td>\n",
              "    </tr>\n",
              "    <tr>\n",
              "      <th>4</th>\n",
              "      <td>AI</td>\n",
              "      <td>18.220554</td>\n",
              "      <td>-63.068615</td>\n",
              "      <td>Anguilla</td>\n",
              "      <td>Cluster 3</td>\n",
              "    </tr>\n",
              "    <tr>\n",
              "      <th>...</th>\n",
              "      <td>...</td>\n",
              "      <td>...</td>\n",
              "      <td>...</td>\n",
              "      <td>...</td>\n",
              "      <td>...</td>\n",
              "    </tr>\n",
              "    <tr>\n",
              "      <th>240</th>\n",
              "      <td>YE</td>\n",
              "      <td>15.552727</td>\n",
              "      <td>48.516388</td>\n",
              "      <td>Yemen</td>\n",
              "      <td>Cluster 6</td>\n",
              "    </tr>\n",
              "    <tr>\n",
              "      <th>241</th>\n",
              "      <td>YT</td>\n",
              "      <td>-12.827500</td>\n",
              "      <td>45.166244</td>\n",
              "      <td>Mayotte</td>\n",
              "      <td>Cluster 0</td>\n",
              "    </tr>\n",
              "    <tr>\n",
              "      <th>242</th>\n",
              "      <td>ZA</td>\n",
              "      <td>-30.559482</td>\n",
              "      <td>22.937506</td>\n",
              "      <td>South Africa</td>\n",
              "      <td>Cluster 0</td>\n",
              "    </tr>\n",
              "    <tr>\n",
              "      <th>243</th>\n",
              "      <td>ZM</td>\n",
              "      <td>-13.133897</td>\n",
              "      <td>27.849332</td>\n",
              "      <td>Zambia</td>\n",
              "      <td>Cluster 0</td>\n",
              "    </tr>\n",
              "    <tr>\n",
              "      <th>244</th>\n",
              "      <td>ZW</td>\n",
              "      <td>-19.015438</td>\n",
              "      <td>29.154857</td>\n",
              "      <td>Zimbabwe</td>\n",
              "      <td>Cluster 0</td>\n",
              "    </tr>\n",
              "  </tbody>\n",
              "</table>\n",
              "<p>245 rows × 5 columns</p>\n",
              "</div>"
            ],
            "text/plain": [
              "    country   latitude  longitude                  name    Cluster\n",
              "0        AD  42.546245   1.601554               Andorra  Cluster 4\n",
              "1        AE  23.424076  53.847818  United Arab Emirates  Cluster 6\n",
              "2        AF  33.939110  67.709953           Afghanistan  Cluster 6\n",
              "3        AG  17.060816 -61.796428   Antigua and Barbuda  Cluster 3\n",
              "4        AI  18.220554 -63.068615              Anguilla  Cluster 3\n",
              "..      ...        ...        ...                   ...        ...\n",
              "240      YE  15.552727  48.516388                 Yemen  Cluster 6\n",
              "241      YT -12.827500  45.166244               Mayotte  Cluster 0\n",
              "242      ZA -30.559482  22.937506          South Africa  Cluster 0\n",
              "243      ZM -13.133897  27.849332                Zambia  Cluster 0\n",
              "244      ZW -19.015438  29.154857              Zimbabwe  Cluster 0\n",
              "\n",
              "[245 rows x 5 columns]"
            ]
          },
          "metadata": {
            "tags": []
          },
          "execution_count": 42
        }
      ]
    },
    {
      "cell_type": "code",
      "metadata": {
        "id": "FskJ_hVsH6Mf",
        "colab_type": "code",
        "colab": {
          "base_uri": "https://localhost:8080/",
          "height": 376
        },
        "outputId": "68da641b-315d-4047-d4f8-4c86f7171df0"
      },
      "source": [
        "# Plot Elbow Plot For Clusters\n",
        "pc.plot_model(km,plot='elbow')"
      ],
      "execution_count": 43,
      "outputs": [
        {
          "output_type": "display_data",
          "data": {
            "text/html": [
              "        <script type=\"text/javascript\">\n",
              "        window.PlotlyConfig = {MathJaxConfig: 'local'};\n",
              "        if (window.MathJax) {MathJax.Hub.Config({SVG: {font: \"STIX-Web\"}});}\n",
              "        if (typeof require !== 'undefined') {\n",
              "        require.undef(\"plotly\");\n",
              "        requirejs.config({\n",
              "            paths: {\n",
              "                'plotly': ['https://cdn.plot.ly/plotly-latest.min']\n",
              "            }\n",
              "        });\n",
              "        require(['plotly'], function(Plotly) {\n",
              "            window._Plotly = Plotly;\n",
              "        });\n",
              "        }\n",
              "        </script>\n",
              "        "
            ]
          },
          "metadata": {
            "tags": []
          }
        },
        {
          "output_type": "display_data",
          "data": {
            "image/png": "[encoded data removed]",
            "text/plain": [
              "<Figure size 576x396 with 1 Axes>"
            ]
          },
          "metadata": {
            "tags": []
          }
        }
      ]
    },
    {
      "cell_type": "code",
      "metadata": {
        "id": "sDPBYhjAIF9m",
        "colab_type": "code",
        "colab": {
          "base_uri": "https://localhost:8080/",
          "height": 376
        },
        "outputId": "fc873a2c-b34a-439c-9152-ff12f2067854"
      },
      "source": [
        "# Plot Silhoutte Plot\n",
        "pc.plot_model(km,plot='silhouette')"
      ],
      "execution_count": 44,
      "outputs": [
        {
          "output_type": "display_data",
          "data": {
            "text/html": [
              "        <script type=\"text/javascript\">\n",
              "        window.PlotlyConfig = {MathJaxConfig: 'local'};\n",
              "        if (window.MathJax) {MathJax.Hub.Config({SVG: {font: \"STIX-Web\"}});}\n",
              "        if (typeof require !== 'undefined') {\n",
              "        require.undef(\"plotly\");\n",
              "        requirejs.config({\n",
              "            paths: {\n",
              "                'plotly': ['https://cdn.plot.ly/plotly-latest.min']\n",
              "            }\n",
              "        });\n",
              "        require(['plotly'], function(Plotly) {\n",
              "            window._Plotly = Plotly;\n",
              "        });\n",
              "        }\n",
              "        </script>\n",
              "        "
            ]
          },
          "metadata": {
            "tags": []
          }
        },
        {
          "output_type": "display_data",
          "data": {
            "image/png": "[encoded data removed]",
            "text/plain": [
              "<Figure size 576x396 with 1 Axes>"
            ]
          },
          "metadata": {
            "tags": []
          }
        }
      ]
    },
    {
      "cell_type": "code",
      "metadata": {
        "id": "AzN4JyPcI2cW",
        "colab_type": "code",
        "colab": {
          "base_uri": "https://localhost:8080/",
          "height": 366
        },
        "outputId": "0cbda217-b070-43af-a23e-fb4878b40d70"
      },
      "source": [
        "# Plot Distance Plot\n",
        "pc.plot_model(km,plot='distance')"
      ],
      "execution_count": 45,
      "outputs": [
        {
          "output_type": "display_data",
          "data": {
            "text/html": [
              "        <script type=\"text/javascript\">\n",
              "        window.PlotlyConfig = {MathJaxConfig: 'local'};\n",
              "        if (window.MathJax) {MathJax.Hub.Config({SVG: {font: \"STIX-Web\"}});}\n",
              "        if (typeof require !== 'undefined') {\n",
              "        require.undef(\"plotly\");\n",
              "        requirejs.config({\n",
              "            paths: {\n",
              "                'plotly': ['https://cdn.plot.ly/plotly-latest.min']\n",
              "            }\n",
              "        });\n",
              "        require(['plotly'], function(Plotly) {\n",
              "            window._Plotly = Plotly;\n",
              "        });\n",
              "        }\n",
              "        </script>\n",
              "        "
            ]
          },
          "metadata": {
            "tags": []
          }
        },
        {
          "output_type": "display_data",
          "data": {
            "image/png": "[encoded data removed]",
            "text/plain": [
              "<Figure size 576x396 with 2 Axes>"
            ]
          },
          "metadata": {
            "tags": []
          }
        }
      ]
    },
    {
      "cell_type": "code",
      "metadata": {
        "id": "qdX-BOEbUr7S",
        "colab_type": "code",
        "colab": {
          "base_uri": "https://localhost:8080/",
          "height": 617
        },
        "outputId": "706bf827-13c1-4491-ddf8-98e24a24ba3a"
      },
      "source": [
        "# Plot Distance Plot\n",
        "pc.plot_model(km,plot='cluster')"
      ],
      "execution_count": 46,
      "outputs": [
        {
          "output_type": "display_data",
          "data": {
            "text/html": [
              "        <script type=\"text/javascript\">\n",
              "        window.PlotlyConfig = {MathJaxConfig: 'local'};\n",
              "        if (window.MathJax) {MathJax.Hub.Config({SVG: {font: \"STIX-Web\"}});}\n",
              "        if (typeof require !== 'undefined') {\n",
              "        require.undef(\"plotly\");\n",
              "        requirejs.config({\n",
              "            paths: {\n",
              "                'plotly': ['https://cdn.plot.ly/plotly-latest.min']\n",
              "            }\n",
              "        });\n",
              "        require(['plotly'], function(Plotly) {\n",
              "            window._Plotly = Plotly;\n",
              "        });\n",
              "        }\n",
              "        </script>\n",
              "        "
            ]
          },
          "metadata": {
            "tags": []
          }
        },
        {
          "output_type": "display_data",
          "data": {
            "text/html": [
              "<div>\n",
              "        \n",
              "        \n",
              "            <div id=\"d89e9163-bf67-4ffc-bd12-a0fb5a170af8\" class=\"plotly-graph-div\" style=\"height:600px; width:100%;\"></div>\n",
              "            <script type=\"text/javascript\">\n",
              "                require([\"plotly\"], function(Plotly) {\n",
              "                    window.PLOTLYENV=window.PLOTLYENV || {};\n",
              "                    \n",
              "                if (document.getElementById(\"d89e9163-bf67-4ffc-bd12-a0fb5a170af8\")) {\n",
              "                    Plotly.newPlot(\n",
              "                        'd89e9163-bf67-4ffc-bd12-a0fb5a170af8',\n",
              "                        [{\"customdata\": [[\"AD\"], [\"AE\"], [\"AF\"], [\"AG\"], [\"AI\"], [\"AL\"], [\"AM\"], [\"AN\"], [\"AO\"], [\"AQ\"], [\"AR\"], [\"AS\"], [\"AT\"], [\"AU\"], [\"AW\"], [\"AZ\"], [\"BA\"], [\"BB\"], [\"BD\"], [\"BE\"], [\"BF\"], [\"BG\"], [\"BH\"], [\"BI\"], [\"BJ\"], [\"BM\"], [\"BN\"], [\"BO\"], [\"BR\"], [\"BS\"], [\"BT\"], [\"BV\"], [\"BW\"]], \"hoverlabel\": {\"namelength\": 0}, \"hovertemplate\": \"Cluster=Cluster 0<br>PCA1=%{x}<br>PCA2=%{y}<br>Feature=%{customdata[0]}\", \"legendgroup\": \"Cluster=Cluster 0\", \"marker\": {\"color\": \"#636efa\", \"opacity\": 0.5, \"symbol\": \"circle\"}, \"mode\": \"markers\", \"name\": \"Cluster=Cluster 0\", \"showlegend\": true, \"textposition\": \"top center\", \"type\": \"scatter\", \"x\": [-15.083918307179148, -8.01747232142192, -7.431653694557531, -2.1713289877044377, -18.665064264065578, -21.093443445947006, 1.1343974092853109, -54.6052289190815, -17.22998102676895, 7.031965137095862, 24.20453348726019, -41.7286540756337, -10.542449276703351, -16.176694194083165, -41.41313913045892, -58.67658818355766, -24.249045996811777, -29.954114699119458, -13.907502231768166, -13.930887379546837, -4.33570101029554, -21.464753456311, -20.35551121703127, -43.44521400720362, -32.799362019379835, 3.345958753506969, 11.42694238197548, 2.058480658971045, -3.9767394570545793, 15.366783038093955, -8.61526304571815, -31.22697126849494, -16.1903059733548], \"xaxis\": \"x\", \"y\": [35.60739837188527, 20.471920638934428, 9.807090801850535, 16.532643297974545, 15.292176921931967, 23.089585139701178, 8.860670729706126, 66.74524341698617, 43.16327041393919, 15.916577892630853, 39.87610692707182, 21.851710735487924, 38.821754625103964, 18.552078513683732, 38.284308975343656, 70.63677652052017, 16.81171311786306, 28.790959121430625, 29.698678943970176, 46.17923402622759, 39.31512157670856, 35.397334565680424, 29.960353253248343, 37.56189776813823, 35.746879264590056, 14.532522345617325, 70.44296953928432, 17.015801434964942, 27.549491559768203, 91.1894425909469, 47.012524607026606, 29.771566687903416, 19.985498318469848], \"yaxis\": \"y\"}, {\"customdata\": [[\"BY\"], [\"BZ\"], [\"CA\"], [\"CC\"], [\"CD\"], [\"CF\"], [\"CG\"], [\"CH\"], [\"CI\"], [\"CK\"]], \"hoverlabel\": {\"namelength\": 0}, \"hovertemplate\": \"Cluster=Cluster 1<br>PCA1=%{x}<br>PCA2=%{y}<br>Feature=%{customdata[0]}\", \"legendgroup\": \"Cluster=Cluster 1\", \"marker\": {\"color\": \"#EF553B\", \"opacity\": 0.5, \"symbol\": \"circle\"}, \"mode\": \"markers\", \"name\": \"Cluster=Cluster 1\", \"showlegend\": true, \"textposition\": \"top center\", \"type\": \"scatter\", \"x\": [184.05147142847943, 185.65858197499062, 189.26755550848125, 182.41492487172266, 183.89130099066963, 163.40571364431682, 186.01219975874605, 173.8519469423019, 141.59725740691133, 191.06266934949335], \"xaxis\": \"x\", \"y\": [26.500018071601087, 21.15993551595931, 33.29543811712971, 15.632694739921075, 31.288146713652882, 30.361821519533926, 25.9450053259069, 33.69085885871891, 37.865062315184886, 25.844107334404548], \"yaxis\": \"y\"}, {\"customdata\": [[\"CL\"], [\"CM\"], [\"CN\"], [\"CO\"], [\"CR\"], [\"CU\"], [\"CV\"], [\"CX\"], [\"CY\"], [\"CZ\"], [\"DE\"], [\"DJ\"], [\"DK\"], [\"DM\"], [\"DO\"], [\"DZ\"], [\"EC\"], [\"EE\"], [\"EG\"], [\"EH\"], [\"ER\"], [\"ES\"], [\"ET\"], [\"FI\"], [\"FJ\"], [\"FK\"], [\"FM\"], [\"FO\"]], \"hoverlabel\": {\"namelength\": 0}, \"hovertemplate\": \"Cluster=Cluster 2<br>PCA1=%{x}<br>PCA2=%{y}<br>Feature=%{customdata[0]}\", \"legendgroup\": \"Cluster=Cluster 2\", \"marker\": {\"color\": \"#00cc96\", \"opacity\": 0.5, \"symbol\": \"circle\"}, \"mode\": \"markers\", \"name\": \"Cluster=Cluster 2\", \"showlegend\": true, \"textposition\": \"top center\", \"type\": \"scatter\", \"x\": [-108.37931889592159, -77.20578408105929, -91.20042248514224, -65.74737070194412, -90.17700735431043, -71.07809365763858, -125.36505486100928, -100.22918390605041, -91.59341242902319, -94.91154681669357, -92.99323199725018, -100.92503671443077, -58.0728366302531, -114.87506210422839, -100.3552194238562, -88.39597373488442, -82.76555068524728, -77.36688789604169, -101.1519312883246, -82.93381055805851, -59.625716048865776, -91.30818003716698, -67.27729350981892, -114.71535012318272, -89.25819552509425, -107.80290993998193, -87.66830901598858, -91.78878020164942], \"xaxis\": \"x\", \"y\": [5.748091686582587, -5.742584766337642, -28.619113425743024, -2.9015134826815685, 16.879799003159643, -10.587795755532659, -17.210557655214167, 19.241849188886896, 5.694537702426747, 4.27421367986003, -43.244875123360394, -3.9341733435102086, 23.873725739249927, -17.14318771252609, -3.748923962331126, 13.981701405048906, -3.849352229785036, -9.569142460391415, 13.936231534911618, 30.240637054070575, 14.35947770117807, -17.613278550825147, 9.855678391384348, -21.57984403315499, -1.6489515696410328, -5.0852174953542795, 2.303418353940609, 28.717540774207617], \"yaxis\": \"y\"}, {\"customdata\": [[\"FR\"], [\"GA\"], [\"GB\"], [\"GD\"], [\"GE\"], [\"GF\"], [\"GG\"], [\"GH\"], [\"GI\"], [\"GL\"], [\"GM\"], [\"GN\"], [\"GP\"], [\"GQ\"], [\"GR\"], [\"GS\"], [\"GT\"], [\"GU\"], [\"GW\"], [\"GY\"], [\"GZ\"], [\"HK\"], [\"HM\"], [\"HN\"], [\"HR\"], [\"HT\"], [\"HU\"], [\"ID\"], [\"IE\"], [\"IL\"], [\"IM\"], [\"IN\"], [\"IO\"], [\"IQ\"], [\"IR\"], [\"IS\"], [\"IT\"], [\"JE\"], [\"JM\"], [\"JO\"], [\"JP\"], [\"KE\"], [\"KG\"], [\"KH\"], [\"KI\"], [\"KM\"], [\"KN\"], [\"KP\"], [\"KR\"], [\"KW\"], [\"KY\"]], \"hoverlabel\": {\"namelength\": 0}, \"hovertemplate\": \"Cluster=Cluster 3<br>PCA1=%{x}<br>PCA2=%{y}<br>Feature=%{customdata[0]}\", \"legendgroup\": \"Cluster=Cluster 3\", \"marker\": {\"color\": \"#ab63fa\", \"opacity\": 0.5, \"symbol\": \"circle\"}, \"mode\": \"markers\", \"name\": \"Cluster=Cluster 3\", \"showlegend\": true, \"textposition\": \"top center\", \"type\": \"scatter\", \"x\": [76.03537700879916, 78.09020619157113, 99.53591133185269, 85.49998542399723, 82.42333732956095, 74.33645704316031, 79.82271657503921, 75.45336240105269, 90.52994421485823, 68.87720816064751, 75.05554751754146, 115.65817761363891, 93.76786542330773, 76.30203313777815, 88.84594973981375, 94.22332956830465, 98.55260688831743, 74.30721831070238, 72.59071007808895, 65.87209245252855, 91.85230022568061, 84.95318969759771, 72.45715509168654, 83.38308733120834, 74.66623816605542, 74.62123082426187, 90.93876631483748, 97.16740059602951, 87.8269637098877, 80.08063396762903, 85.95458029103924, 74.63573836226807, 70.11219803814234, 108.52526672804854, 118.73964999455144, 101.74754042697374, 77.68159869962868, 90.47705325883535, 72.88753708175344, 102.22068472493746, 51.418592950811124, 69.57606282694705, 78.12679192881694, 74.96840563283837, 83.32490985065682, 75.32811547801634, 77.86862658057038, 66.67443835284102, 74.29113162501194, 77.57767294249018, 103.51103176058858], \"xaxis\": \"x\", \"y\": [-2.770423949713024, 52.971864575126595, -1.1268290285234492, -4.591484653060372, 2.2226307738347297, -0.016266018917154082, -3.716598211101833, -2.142204162719884, -3.8398460568422776, -32.20484436579887, -2.4518849458255434, -9.916489299536458, -5.31499282551354, -3.639203601518331, 23.503135355634665, 5.653151402659575, 1.2298518111722425, 0.7166340073765066, 38.1151377000632, 29.05259196427715, 16.076792517963614, -7.30299895842633, 9.808355449809605, -4.30956653927744, -0.797145923913457, 3.9281687772815514, -7.261795146736168, 4.377439282936605, 9.761319191648129, 8.077665059787522, 50.057999262809616, 1.6347991435395317, 47.25187991137817, -23.219219492462887, -42.4876438295814, -3.1656268864591066, -17.773633161973926, -10.765047475960424, 1.4634587267344144, 0.2205160352983932, 69.57339107752416, 10.812798390940848, -3.7944109706976543, 2.349214604025448, 1.907781350829297, -2.3929946043717365, -3.873706598280307, 10.861766833082442, 66.43844316805584, 30.8518408777569, -1.7975103128505574], \"yaxis\": \"y\"}, {\"customdata\": [[\"KZ\"], [\"LA\"], [\"LB\"], [\"LC\"], [\"LI\"], [\"LK\"], [\"LR\"], [\"LS\"], [\"LT\"], [\"LU\"], [\"LV\"], [\"LY\"], [\"MA\"], [\"MC\"], [\"MD\"], [\"ME\"], [\"MG\"], [\"MH\"], [\"MK\"], [\"ML\"], [\"MM\"], [\"MN\"], [\"MO\"], [\"MP\"], [\"MQ\"], [\"MR\"], [\"MS\"], [\"MT\"], [\"MU\"], [\"MV\"], [\"MW\"], [\"MX\"], [\"MY\"], [\"MZ\"], [null], [\"NC\"], [\"NE\"], [\"NF\"], [\"NG\"], [\"NI\"], [\"NL\"], [\"NO\"], [\"NP\"], [\"NR\"], [\"NU\"], [\"NZ\"], [\"OM\"], [\"PA\"], [\"PE\"], [\"PF\"], [\"PG\"], [\"PH\"], [\"PK\"], [\"PL\"], [\"PM\"], [\"PN\"], [\"PR\"], [\"PS\"], [\"PT\"], [\"PW\"], [\"PY\"], [\"QA\"], [\"RE\"], [\"RO\"], [\"RS\"], [\"RU\"], [\"RW\"], [\"SA\"], [\"SB\"], [\"SC\"], [\"SD\"], [\"SE\"], [\"SG\"]], \"hoverlabel\": {\"namelength\": 0}, \"hovertemplate\": \"Cluster=Cluster 4<br>PCA1=%{x}<br>PCA2=%{y}<br>Feature=%{customdata[0]}\", \"legendgroup\": \"Cluster=Cluster 4\", \"marker\": {\"color\": \"#FFA15A\", \"opacity\": 0.5, \"symbol\": \"circle\"}, \"mode\": \"markers\", \"name\": \"Cluster=Cluster 4\", \"showlegend\": true, \"textposition\": \"top center\", \"type\": \"scatter\", \"x\": [-1.5113982754933346, 0.0, 24.125715246219436, 0.2795351554820212, -6.308194711617251, -8.183349351183857, -8.317168385790076, 21.007232128935726, 5.18223228177618, 4.775464100868262, -2.354960440907917, -11.71534822464564, 3.37026284077213, -7.1125288015692805, 7.215927089489222, 25.239333593709553, 12.634203585341464, 0.2304878114981741, -5.418594026561069, 27.778968960658922, 3.8563904393186568, -6.629952182542446, -12.319309752001924, 11.114680094608056, 17.257980416472794, 28.5658318282344, -9.02719677436102, 23.12406944413425, 28.659625892784188, 54.671366538079035, 18.200277710261176, 14.496474365698587, 15.870004124093262, 10.422015577165194, 19.202345188428442, -13.450469303144274, 16.509775953653904, 26.00000598168771, -12.643205486632061, 11.374418293454903, 2.9159495166311125, 2.0780789088973672, -2.9126296736874595, 37.304561316390576, 19.02817805063236, 4.396762606631228, -15.475299062645808, 11.12843987222664, -12.767977485751183, 14.940760920454801, 8.072726937272668, -4.988979400824462, -1.939567231377049, -7.417142195080503, -2.5364279823222464, -6.883865215630074, 15.148983866143277, 14.700566737230789, -6.657451043273359, -15.753775718174095, 0.16624981251928592, 31.241233529809897, 5.278419886269436, 20.04227567636699, -4.153352820085922, 6.428557404909023, -12.195316336529498, -9.003678419261744, 3.0616035253626492, 17.00682710448948, -11.436125009075063, 20.719801485649995, 22.934015544342305], \"xaxis\": \"x\", \"y\": [-19.656003002535492, 0.0, -5.284360428179239, -25.66208167425998, -43.747403266111675, -26.17660210629222, -27.587895118081786, -23.612447908129283, -1.4685139583838251, 7.068230666496428, -29.853720790369934, -61.05858986089007, -17.71185797706238, -32.26790195187791, -36.04618407673358, 7.241591886645944, 7.35866312360629, -27.700940531986067, 0.9178215585279998, 1.1476708364201578, -44.313989464467475, -35.52966372936206, -29.427336040279876, -26.542893355380002, -1.6959100775334608, 3.8247338135157456, -22.628844524409505, 5.802535535392987, 2.182853163157678, -56.66462568881463, -20.288052143626437, 7.991050167638728, -39.48193570294057, -30.209997526895943, -46.07107242696524, -45.387341707739445, -24.57798770958774, -8.533820456046612, -42.07538723209667, -12.032742695578953, -40.084277116603666, -34.96647292454845, -33.50863620892795, -0.5660155647082908, 8.298425180282386, -30.668714611535933, -37.12671746634642, 6.703332672170029, -26.207460854674647, 3.688483296328086, -34.43581439176857, -27.560135206923313, -31.228136784331237, -24.743733157759937, -28.79825285818865, -30.76601715273736, -33.55236467796323, -33.291230477242834, -26.31609216417767, -30.820931187275605, -25.62861689087781, -49.405919535851446, -27.6194002080016, -15.981317061583537, -9.99343558376176, -33.711022039123954, -40.36914910108641, -25.164394554022696, -30.987365282916116, -38.36461828641647, -38.67517090449621, -37.62255124011225, 9.325074090400422], \"yaxis\": \"y\"}, {\"customdata\": [[\"SH\"], [\"SI\"], [\"SJ\"], [\"SK\"], [\"SL\"], [\"SM\"], [\"SN\"], [\"SO\"], [\"SR\"], [\"ST\"], [\"SV\"], [\"SY\"], [\"SZ\"], [\"TC\"], [\"TD\"], [\"TF\"]], \"hoverlabel\": {\"namelength\": 0}, \"hovertemplate\": \"Cluster=Cluster 5<br>PCA1=%{x}<br>PCA2=%{y}<br>Feature=%{customdata[0]}\", \"legendgroup\": \"Cluster=Cluster 5\", \"marker\": {\"color\": \"#19d3f3\", \"opacity\": 0.5, \"symbol\": \"circle\"}, \"mode\": \"markers\", \"name\": \"Cluster=Cluster 5\", \"showlegend\": true, \"textposition\": \"top center\", \"type\": \"scatter\", \"x\": [-165.36081409373173, -111.85551816978496, -153.2324840640362, -151.4730168388466, -153.6309501793542, -163.80350205289827, -160.30083910364866, -121.06727164379949, -131.4058762576355, -137.02977621698744, -157.65205446905708, -146.2590228832019, -130.13520085306374, -152.93485637201687, -119.54204897800072, -132.0818019353701], \"xaxis\": \"x\", \"y\": [36.46116957353733, 27.583388646338353, 20.136249862215326, 40.48412684566827, 48.66987487671135, 26.95612977744348, 60.67853587533808, 11.392030928433682, 5.687737122688222, 11.831114243642334, 12.576966333653054, 29.108626330102858, 25.423941148264834, 34.9872215336297, 44.155865782889805, 1.8150841087279024], \"yaxis\": \"y\"}, {\"customdata\": [[\"TG\"], [\"TH\"], [\"TJ\"], [\"TK\"], [\"TL\"], [\"TM\"], [\"TN\"], [\"TO\"], [\"TR\"], [\"TT\"], [\"TV\"], [\"TW\"], [\"TZ\"], [\"UA\"], [\"UG\"], [\"UM\"], [\"US\"], [\"UY\"], [\"UZ\"], [\"VA\"], [\"VC\"], [\"VE\"], [\"VG\"], [\"VI\"], [\"VN\"], [\"VU\"], [\"WF\"], [\"WS\"], [\"XK\"], [\"YE\"], [\"YT\"], [\"ZA\"], [\"ZM\"], [\"ZW\"]], \"hoverlabel\": {\"namelength\": 0}, \"hovertemplate\": \"Cluster=Cluster 6<br>PCA1=%{x}<br>PCA2=%{y}<br>Feature=%{customdata[0]}\", \"legendgroup\": \"Cluster=Cluster 6\", \"marker\": {\"color\": \"#FF6692\", \"opacity\": 0.5, \"symbol\": \"circle\"}, \"mode\": \"markers\", \"name\": \"Cluster=Cluster 6\", \"showlegend\": true, \"textposition\": \"top center\", \"type\": \"scatter\", \"x\": [-51.82833085594749, -32.25729359842601, -18.569993556404285, -35.19779119110226, -54.789384521249644, -34.7970434238294, -40.700312045362516, -37.54592039477264, -22.2768625365171, -22.94750551757791, -22.440569982647546, -21.87556972098913, -21.339671248495826, -38.07929702888569, -56.34611442417647, -30.74880757770905, -31.94387283152637, -40.73774714761281, -16.844522448540584, -30.62559013848401, -42.73339287756192, -32.653819566447545, -27.032682520071152, -23.251946519344667, -26.102029327372893, -26.45765600632239, -62.00293468256153, -17.734895381130787, -34.464714800429206, -58.46245123582092, -29.1914713202159, -46.74782663054624, -20.543510723568854, -54.311642542937825], \"xaxis\": \"x\", \"y\": [-23.995182261078824, -23.115152058359072, -31.727280089113677, 1.4715077032565784, -16.49015948044433, -23.133546216221642, -6.281204414004829, -8.857236014558064, -15.214875263734845, -17.103201124277962, -22.224554245413994, -14.31733667498747, -14.637773790773627, -8.269827103772537, -12.891417744445004, -16.300643268712562, -6.934978490184532, -15.286376060860183, 3.7600707518118717, -25.39773897935164, -4.324721201768785, 11.818858263038521, 7.7019265806681645, -13.826191561073532, -17.981687012413122, 1.6535000721568007, -23.599169573569984, -10.181520728376853, -12.306782429659437, -21.33281074516334, 5.068430923216347, -21.698113935599594, -18.427854218003766, -30.584463998117023], \"yaxis\": \"y\"}],\n",
              "                        {\"height\": 600, \"legend\": {\"tracegroupgap\": 0}, \"margin\": {\"t\": 60}, \"plot_bgcolor\": \"rgb(240,240,240)\", \"template\": {\"data\": {\"bar\": [{\"error_x\": {\"color\": \"#2a3f5f\"}, \"error_y\": {\"color\": \"#2a3f5f\"}, \"marker\": {\"line\": {\"color\": \"#E5ECF6\", \"width\": 0.5}}, \"type\": \"bar\"}], \"barpolar\": [{\"marker\": {\"line\": {\"color\": \"#E5ECF6\", \"width\": 0.5}}, \"type\": \"barpolar\"}], \"carpet\": [{\"aaxis\": {\"endlinecolor\": \"#2a3f5f\", \"gridcolor\": \"white\", \"linecolor\": \"white\", \"minorgridcolor\": \"white\", \"startlinecolor\": \"#2a3f5f\"}, \"baxis\": {\"endlinecolor\": \"#2a3f5f\", \"gridcolor\": \"white\", \"linecolor\": \"white\", \"minorgridcolor\": \"white\", \"startlinecolor\": \"#2a3f5f\"}, \"type\": \"carpet\"}], \"choropleth\": [{\"colorbar\": {\"outlinewidth\": 0, \"ticks\": \"\"}, \"type\": \"choropleth\"}], \"contour\": [{\"colorbar\": {\"outlinewidth\": 0, \"ticks\": \"\"}, \"colorscale\": [[0.0, \"#0d0887\"], [0.1111111111111111, \"#46039f\"], [0.2222222222222222, \"#7201a8\"], [0.3333333333333333, \"#9c179e\"], [0.4444444444444444, \"#bd3786\"], [0.5555555555555556, \"#d8576b\"], [0.6666666666666666, \"#ed7953\"], [0.7777777777777778, \"#fb9f3a\"], [0.8888888888888888, \"#fdca26\"], [1.0, \"#f0f921\"]], \"type\": \"contour\"}], \"contourcarpet\": [{\"colorbar\": {\"outlinewidth\": 0, \"ticks\": \"\"}, \"type\": \"contourcarpet\"}], \"heatmap\": [{\"colorbar\": {\"outlinewidth\": 0, \"ticks\": \"\"}, \"colorscale\": [[0.0, \"#0d0887\"], [0.1111111111111111, \"#46039f\"], [0.2222222222222222, \"#7201a8\"], [0.3333333333333333, \"#9c179e\"], [0.4444444444444444, \"#bd3786\"], [0.5555555555555556, \"#d8576b\"], [0.6666666666666666, \"#ed7953\"], [0.7777777777777778, \"#fb9f3a\"], [0.8888888888888888, \"#fdca26\"], [1.0, \"#f0f921\"]], \"type\": \"heatmap\"}], \"heatmapgl\": [{\"colorbar\": {\"outlinewidth\": 0, \"ticks\": \"\"}, \"colorscale\": [[0.0, \"#0d0887\"], [0.1111111111111111, \"#46039f\"], [0.2222222222222222, \"#7201a8\"], [0.3333333333333333, \"#9c179e\"], [0.4444444444444444, \"#bd3786\"], [0.5555555555555556, \"#d8576b\"], [0.6666666666666666, \"#ed7953\"], [0.7777777777777778, \"#fb9f3a\"], [0.8888888888888888, \"#fdca26\"], [1.0, \"#f0f921\"]], \"type\": \"heatmapgl\"}], \"histogram\": [{\"marker\": {\"colorbar\": {\"outlinewidth\": 0, \"ticks\": \"\"}}, \"type\": \"histogram\"}], \"histogram2d\": [{\"colorbar\": {\"outlinewidth\": 0, \"ticks\": \"\"}, \"colorscale\": [[0.0, \"#0d0887\"], [0.1111111111111111, \"#46039f\"], [0.2222222222222222, \"#7201a8\"], [0.3333333333333333, \"#9c179e\"], [0.4444444444444444, \"#bd3786\"], [0.5555555555555556, \"#d8576b\"], [0.6666666666666666, \"#ed7953\"], [0.7777777777777778, \"#fb9f3a\"], [0.8888888888888888, \"#fdca26\"], [1.0, \"#f0f921\"]], \"type\": \"histogram2d\"}], \"histogram2dcontour\": [{\"colorbar\": {\"outlinewidth\": 0, \"ticks\": \"\"}, \"colorscale\": [[0.0, \"#0d0887\"], [0.1111111111111111, \"#46039f\"], [0.2222222222222222, \"#7201a8\"], [0.3333333333333333, \"#9c179e\"], [0.4444444444444444, \"#bd3786\"], [0.5555555555555556, \"#d8576b\"], [0.6666666666666666, \"#ed7953\"], [0.7777777777777778, \"#fb9f3a\"], [0.8888888888888888, \"#fdca26\"], [1.0, \"#f0f921\"]], \"type\": \"histogram2dcontour\"}], \"mesh3d\": [{\"colorbar\": {\"outlinewidth\": 0, \"ticks\": \"\"}, \"type\": \"mesh3d\"}], \"parcoords\": [{\"line\": {\"colorbar\": {\"outlinewidth\": 0, \"ticks\": \"\"}}, \"type\": \"parcoords\"}], \"pie\": [{\"automargin\": true, \"type\": \"pie\"}], \"scatter\": [{\"marker\": {\"colorbar\": {\"outlinewidth\": 0, \"ticks\": \"\"}}, \"type\": \"scatter\"}], \"scatter3d\": [{\"line\": {\"colorbar\": {\"outlinewidth\": 0, \"ticks\": \"\"}}, \"marker\": {\"colorbar\": {\"outlinewidth\": 0, \"ticks\": \"\"}}, \"type\": \"scatter3d\"}], \"scattercarpet\": [{\"marker\": {\"colorbar\": {\"outlinewidth\": 0, \"ticks\": \"\"}}, \"type\": \"scattercarpet\"}], \"scattergeo\": [{\"marker\": {\"colorbar\": {\"outlinewidth\": 0, \"ticks\": \"\"}}, \"type\": \"scattergeo\"}], \"scattergl\": [{\"marker\": {\"colorbar\": {\"outlinewidth\": 0, \"ticks\": \"\"}}, \"type\": \"scattergl\"}], \"scattermapbox\": [{\"marker\": {\"colorbar\": {\"outlinewidth\": 0, \"ticks\": \"\"}}, \"type\": \"scattermapbox\"}], \"scatterpolar\": [{\"marker\": {\"colorbar\": {\"outlinewidth\": 0, \"ticks\": \"\"}}, \"type\": \"scatterpolar\"}], \"scatterpolargl\": [{\"marker\": {\"colorbar\": {\"outlinewidth\": 0, \"ticks\": \"\"}}, \"type\": \"scatterpolargl\"}], \"scatterternary\": [{\"marker\": {\"colorbar\": {\"outlinewidth\": 0, \"ticks\": \"\"}}, \"type\": \"scatterternary\"}], \"surface\": [{\"colorbar\": {\"outlinewidth\": 0, \"ticks\": \"\"}, \"colorscale\": [[0.0, \"#0d0887\"], [0.1111111111111111, \"#46039f\"], [0.2222222222222222, \"#7201a8\"], [0.3333333333333333, \"#9c179e\"], [0.4444444444444444, \"#bd3786\"], [0.5555555555555556, \"#d8576b\"], [0.6666666666666666, \"#ed7953\"], [0.7777777777777778, \"#fb9f3a\"], [0.8888888888888888, \"#fdca26\"], [1.0, \"#f0f921\"]], \"type\": \"surface\"}], \"table\": [{\"cells\": {\"fill\": {\"color\": \"#EBF0F8\"}, \"line\": {\"color\": \"white\"}}, \"header\": {\"fill\": {\"color\": \"#C8D4E3\"}, \"line\": {\"color\": \"white\"}}, \"type\": \"table\"}]}, \"layout\": {\"annotationdefaults\": {\"arrowcolor\": \"#2a3f5f\", \"arrowhead\": 0, \"arrowwidth\": 1}, \"coloraxis\": {\"colorbar\": {\"outlinewidth\": 0, \"ticks\": \"\"}}, \"colorscale\": {\"diverging\": [[0, \"#8e0152\"], [0.1, \"#c51b7d\"], [0.2, \"#de77ae\"], [0.3, \"#f1b6da\"], [0.4, \"#fde0ef\"], [0.5, \"#f7f7f7\"], [0.6, \"#e6f5d0\"], [0.7, \"#b8e186\"], [0.8, \"#7fbc41\"], [0.9, \"#4d9221\"], [1, \"#276419\"]], \"sequential\": [[0.0, \"#0d0887\"], [0.1111111111111111, \"#46039f\"], [0.2222222222222222, \"#7201a8\"], [0.3333333333333333, \"#9c179e\"], [0.4444444444444444, \"#bd3786\"], [0.5555555555555556, \"#d8576b\"], [0.6666666666666666, \"#ed7953\"], [0.7777777777777778, \"#fb9f3a\"], [0.8888888888888888, \"#fdca26\"], [1.0, \"#f0f921\"]], \"sequentialminus\": [[0.0, \"#0d0887\"], [0.1111111111111111, \"#46039f\"], [0.2222222222222222, \"#7201a8\"], [0.3333333333333333, \"#9c179e\"], [0.4444444444444444, \"#bd3786\"], [0.5555555555555556, \"#d8576b\"], [0.6666666666666666, \"#ed7953\"], [0.7777777777777778, \"#fb9f3a\"], [0.8888888888888888, \"#fdca26\"], [1.0, \"#f0f921\"]]}, \"colorway\": [\"#636efa\", \"#EF553B\", \"#00cc96\", \"#ab63fa\", \"#FFA15A\", \"#19d3f3\", \"#FF6692\", \"#B6E880\", \"#FF97FF\", \"#FECB52\"], \"font\": {\"color\": \"#2a3f5f\"}, \"geo\": {\"bgcolor\": \"white\", \"lakecolor\": \"white\", \"landcolor\": \"#E5ECF6\", \"showlakes\": true, \"showland\": true, \"subunitcolor\": \"white\"}, \"hoverlabel\": {\"align\": \"left\"}, \"hovermode\": \"closest\", \"mapbox\": {\"style\": \"light\"}, \"paper_bgcolor\": \"white\", \"plot_bgcolor\": \"#E5ECF6\", \"polar\": {\"angularaxis\": {\"gridcolor\": \"white\", \"linecolor\": \"white\", \"ticks\": \"\"}, \"bgcolor\": \"#E5ECF6\", \"radialaxis\": {\"gridcolor\": \"white\", \"linecolor\": \"white\", \"ticks\": \"\"}}, \"scene\": {\"xaxis\": {\"backgroundcolor\": \"#E5ECF6\", \"gridcolor\": \"white\", \"gridwidth\": 2, \"linecolor\": \"white\", \"showbackground\": true, \"ticks\": \"\", \"zerolinecolor\": \"white\"}, \"yaxis\": {\"backgroundcolor\": \"#E5ECF6\", \"gridcolor\": \"white\", \"gridwidth\": 2, \"linecolor\": \"white\", \"showbackground\": true, \"ticks\": \"\", \"zerolinecolor\": \"white\"}, \"zaxis\": {\"backgroundcolor\": \"#E5ECF6\", \"gridcolor\": \"white\", \"gridwidth\": 2, \"linecolor\": \"white\", \"showbackground\": true, \"ticks\": \"\", \"zerolinecolor\": \"white\"}}, \"shapedefaults\": {\"line\": {\"color\": \"#2a3f5f\"}}, \"ternary\": {\"aaxis\": {\"gridcolor\": \"white\", \"linecolor\": \"white\", \"ticks\": \"\"}, \"baxis\": {\"gridcolor\": \"white\", \"linecolor\": \"white\", \"ticks\": \"\"}, \"bgcolor\": \"#E5ECF6\", \"caxis\": {\"gridcolor\": \"white\", \"linecolor\": \"white\", \"ticks\": \"\"}}, \"title\": {\"x\": 0.05}, \"xaxis\": {\"automargin\": true, \"gridcolor\": \"white\", \"linecolor\": \"white\", \"ticks\": \"\", \"title\": {\"standoff\": 15}, \"zerolinecolor\": \"white\", \"zerolinewidth\": 2}, \"yaxis\": {\"automargin\": true, \"gridcolor\": \"white\", \"linecolor\": \"white\", \"ticks\": \"\", \"title\": {\"standoff\": 15}, \"zerolinecolor\": \"white\", \"zerolinewidth\": 2}}}, \"title\": {\"text\": \"2D Cluster PCA Plot\"}, \"xaxis\": {\"anchor\": \"y\", \"domain\": [0.0, 1.0], \"title\": {\"text\": \"PCA1\"}}, \"yaxis\": {\"anchor\": \"x\", \"domain\": [0.0, 1.0], \"title\": {\"text\": \"PCA2\"}}},\n",
              "                        {\"responsive\": true}\n",
              "                    ).then(function(){\n",
              "                            \n",
              "var gd = document.getElementById('d89e9163-bf67-4ffc-bd12-a0fb5a170af8');\n",
              "var x = new MutationObserver(function (mutations, observer) {{\n",
              "        var display = window.getComputedStyle(gd).display;\n",
              "        if (!display || display === 'none') {{\n",
              "            console.log([gd, 'removed!']);\n",
              "            Plotly.purge(gd);\n",
              "            observer.disconnect();\n",
              "        }}\n",
              "}});\n",
              "\n",
              "// Listen for the removal of the full notebook cells\n",
              "var notebookContainer = gd.closest('#notebook-container');\n",
              "if (notebookContainer) {{\n",
              "    x.observe(notebookContainer, {childList: true});\n",
              "}}\n",
              "\n",
              "// Listen for the clearing of the current output cell\n",
              "var outputEl = gd.closest('.output');\n",
              "if (outputEl) {{\n",
              "    x.observe(outputEl, {childList: true});\n",
              "}}\n",
              "\n",
              "                        })\n",
              "                };\n",
              "                });\n",
              "            </script>\n",
              "        </div>"
            ],
            "application/vnd.plotly.v1+json": {
              "data": [
                {
                  "textposition": "top center",
                  "hovertemplate": "Cluster=Cluster 0<br>PCA1=%{x}<br>PCA2=%{y}<br>Feature=%{customdata[0]}",
                  "showlegend": true,
                  "legendgroup": "Cluster=Cluster 0",
                  "name": "Cluster=Cluster 0",
                  "yaxis": "y",
                  "customdata": [
                    [
                      "AD"
                    ],
                    [
                      "AE"
                    ],
                    [
                      "AF"
                    ],
                    [
                      "AG"
                    ],
                    [
                      "AI"
                    ],
                    [
                      "AL"
                    ],
                    [
                      "AM"
                    ],
                    [
                      "AN"
                    ],
                    [
                      "AO"
                    ],
                    [
                      "AQ"
                    ],
                    [
                      "AR"
                    ],
                    [
                      "AS"
                    ],
                    [
                      "AT"
                    ],
                    [
                      "AU"
                    ],
                    [
                      "AW"
                    ],
                    [
                      "AZ"
                    ],
                    [
                      "BA"
                    ],
                    [
                      "BB"
                    ],
                    [
                      "BD"
                    ],
                    [
                      "BE"
                    ],
                    [
                      "BF"
                    ],
                    [
                      "BG"
                    ],
                    [
                      "BH"
                    ],
                    [
                      "BI"
                    ],
                    [
                      "BJ"
                    ],
                    [
                      "BM"
                    ],
                    [
                      "BN"
                    ],
                    [
                      "BO"
                    ],
                    [
                      "BR"
                    ],
                    [
                      "BS"
                    ],
                    [
                      "BT"
                    ],
                    [
                      "BV"
                    ],
                    [
                      "BW"
                    ]
                  ],
                  "y": [
                    35.60739837188527,
                    20.471920638934428,
                    9.807090801850535,
                    16.532643297974545,
                    15.292176921931967,
                    23.089585139701178,
                    8.860670729706126,
                    66.74524341698617,
                    43.16327041393919,
                    15.916577892630853,
                    39.87610692707182,
                    21.851710735487924,
                    38.821754625103964,
                    18.552078513683732,
                    38.284308975343656,
                    70.63677652052017,
                    16.81171311786306,
                    28.790959121430625,
                    29.698678943970176,
                    46.17923402622759,
                    39.31512157670856,
                    35.397334565680424,
                    29.960353253248343,
                    37.56189776813823,
                    35.746879264590056,
                    14.532522345617325,
                    70.44296953928432,
                    17.015801434964942,
                    27.549491559768203,
                    91.1894425909469,
                    47.012524607026606,
                    29.771566687903416,
                    19.985498318469848
                  ],
                  "hoverlabel": {
                    "namelength": 0
                  },
                  "mode": "markers",
                  "xaxis": "x",
                  "marker": {
                    "color": "#636efa",
                    "opacity": 0.5,
                    "symbol": "circle"
                  },
                  "x": [
                    -15.083918307179148,
                    -8.01747232142192,
                    -7.431653694557531,
                    -2.1713289877044377,
                    -18.665064264065578,
                    -21.093443445947006,
                    1.1343974092853109,
                    -54.6052289190815,
                    -17.22998102676895,
                    7.031965137095862,
                    24.20453348726019,
                    -41.7286540756337,
                    -10.542449276703351,
                    -16.176694194083165,
                    -41.41313913045892,
                    -58.67658818355766,
                    -24.249045996811777,
                    -29.954114699119458,
                    -13.907502231768166,
                    -13.930887379546837,
                    -4.33570101029554,
                    -21.464753456311,
                    -20.35551121703127,
                    -43.44521400720362,
                    -32.799362019379835,
                    3.345958753506969,
                    11.42694238197548,
                    2.058480658971045,
                    -3.9767394570545793,
                    15.366783038093955,
                    -8.61526304571815,
                    -31.22697126849494,
                    -16.1903059733548
                  ],
                  "type": "scatter"
                },
                {
                  "textposition": "top center",
                  "hovertemplate": "Cluster=Cluster 1<br>PCA1=%{x}<br>PCA2=%{y}<br>Feature=%{customdata[0]}",
                  "showlegend": true,
                  "legendgroup": "Cluster=Cluster 1",
                  "name": "Cluster=Cluster 1",
                  "yaxis": "y",
                  "customdata": [
                    [
                      "BY"
                    ],
                    [
                      "BZ"
                    ],
                    [
                      "CA"
                    ],
                    [
                      "CC"
                    ],
                    [
                      "CD"
                    ],
                    [
                      "CF"
                    ],
                    [
                      "CG"
                    ],
                    [
                      "CH"
                    ],
                    [
                      "CI"
                    ],
                    [
                      "CK"
                    ]
                  ],
                  "y": [
                    26.500018071601087,
                    21.15993551595931,
                    33.29543811712971,
                    15.632694739921075,
                    31.288146713652882,
                    30.361821519533926,
                    25.9450053259069,
                    33.69085885871891,
                    37.865062315184886,
                    25.844107334404548
                  ],
                  "hoverlabel": {
                    "namelength": 0
                  },
                  "mode": "markers",
                  "xaxis": "x",
                  "marker": {
                    "color": "#EF553B",
                    "opacity": 0.5,
                    "symbol": "circle"
                  },
                  "x": [
                    184.05147142847943,
                    185.65858197499062,
                    189.26755550848125,
                    182.41492487172266,
                    183.89130099066963,
                    163.40571364431682,
                    186.01219975874605,
                    173.8519469423019,
                    141.59725740691133,
                    191.06266934949335
                  ],
                  "type": "scatter"
                },
                {
                  "textposition": "top center",
                  "hovertemplate": "Cluster=Cluster 2<br>PCA1=%{x}<br>PCA2=%{y}<br>Feature=%{customdata[0]}",
                  "showlegend": true,
                  "legendgroup": "Cluster=Cluster 2",
                  "name": "Cluster=Cluster 2",
                  "yaxis": "y",
                  "customdata": [
                    [
                      "CL"
                    ],
                    [
                      "CM"
                    ],
                    [
                      "CN"
                    ],
                    [
                      "CO"
                    ],
                    [
                      "CR"
                    ],
                    [
                      "CU"
                    ],
                    [
                      "CV"
                    ],
                    [
                      "CX"
                    ],
                    [
                      "CY"
                    ],
                    [
                      "CZ"
                    ],
                    [
                      "DE"
                    ],
                    [
                      "DJ"
                    ],
                    [
                      "DK"
                    ],
                    [
                      "DM"
                    ],
                    [
                      "DO"
                    ],
                    [
                      "DZ"
                    ],
                    [
                      "EC"
                    ],
                    [
                      "EE"
                    ],
                    [
                      "EG"
                    ],
                    [
                      "EH"
                    ],
                    [
                      "ER"
                    ],
                    [
                      "ES"
                    ],
                    [
                      "ET"
                    ],
                    [
                      "FI"
                    ],
                    [
                      "FJ"
                    ],
                    [
                      "FK"
                    ],
                    [
                      "FM"
                    ],
                    [
                      "FO"
                    ]
                  ],
                  "y": [
                    5.748091686582587,
                    -5.742584766337642,
                    -28.619113425743024,
                    -2.9015134826815685,
                    16.879799003159643,
                    -10.587795755532659,
                    -17.210557655214167,
                    19.241849188886896,
                    5.694537702426747,
                    4.27421367986003,
                    -43.244875123360394,
                    -3.9341733435102086,
                    23.873725739249927,
                    -17.14318771252609,
                    -3.748923962331126,
                    13.981701405048906,
                    -3.849352229785036,
                    -9.569142460391415,
                    13.936231534911618,
                    30.240637054070575,
                    14.35947770117807,
                    -17.613278550825147,
                    9.855678391384348,
                    -21.57984403315499,
                    -1.6489515696410328,
                    -5.0852174953542795,
                    2.303418353940609,
                    28.717540774207617
                  ],
                  "hoverlabel": {
                    "namelength": 0
                  },
                  "mode": "markers",
                  "xaxis": "x",
                  "marker": {
                    "color": "#00cc96",
                    "opacity": 0.5,
                    "symbol": "circle"
                  },
                  "x": [
                    -108.37931889592159,
                    -77.20578408105929,
                    -91.20042248514224,
                    -65.74737070194412,
                    -90.17700735431043,
                    -71.07809365763858,
                    -125.36505486100928,
                    -100.22918390605041,
                    -91.59341242902319,
                    -94.91154681669357,
                    -92.99323199725018,
                    -100.92503671443077,
                    -58.0728366302531,
                    -114.87506210422839,
                    -100.3552194238562,
                    -88.39597373488442,
                    -82.76555068524728,
                    -77.36688789604169,
                    -101.1519312883246,
                    -82.93381055805851,
                    -59.625716048865776,
                    -91.30818003716698,
                    -67.27729350981892,
                    -114.71535012318272,
                    -89.25819552509425,
                    -107.80290993998193,
                    -87.66830901598858,
                    -91.78878020164942
                  ],
                  "type": "scatter"
                },
                {
                  "textposition": "top center",
                  "hovertemplate": "Cluster=Cluster 3<br>PCA1=%{x}<br>PCA2=%{y}<br>Feature=%{customdata[0]}",
                  "showlegend": true,
                  "legendgroup": "Cluster=Cluster 3",
                  "name": "Cluster=Cluster 3",
                  "yaxis": "y",
                  "customdata": [
                    [
                      "FR"
                    ],
                    [
                      "GA"
                    ],
                    [
                      "GB"
                    ],
                    [
                      "GD"
                    ],
                    [
                      "GE"
                    ],
                    [
                      "GF"
                    ],
                    [
                      "GG"
                    ],
                    [
                      "GH"
                    ],
                    [
                      "GI"
                    ],
                    [
                      "GL"
                    ],
                    [
                      "GM"
                    ],
                    [
                      "GN"
                    ],
                    [
                      "GP"
                    ],
                    [
                      "GQ"
                    ],
                    [
                      "GR"
                    ],
                    [
                      "GS"
                    ],
                    [
                      "GT"
                    ],
                    [
                      "GU"
                    ],
                    [
                      "GW"
                    ],
                    [
                      "GY"
                    ],
                    [
                      "GZ"
                    ],
                    [
                      "HK"
                    ],
                    [
                      "HM"
                    ],
                    [
                      "HN"
                    ],
                    [
                      "HR"
                    ],
                    [
                      "HT"
                    ],
                    [
                      "HU"
                    ],
                    [
                      "ID"
                    ],
                    [
                      "IE"
                    ],
                    [
                      "IL"
                    ],
                    [
                      "IM"
                    ],
                    [
                      "IN"
                    ],
                    [
                      "IO"
                    ],
                    [
                      "IQ"
                    ],
                    [
                      "IR"
                    ],
                    [
                      "IS"
                    ],
                    [
                      "IT"
                    ],
                    [
                      "JE"
                    ],
                    [
                      "JM"
                    ],
                    [
                      "JO"
                    ],
                    [
                      "JP"
                    ],
                    [
                      "KE"
                    ],
                    [
                      "KG"
                    ],
                    [
                      "KH"
                    ],
                    [
                      "KI"
                    ],
                    [
                      "KM"
                    ],
                    [
                      "KN"
                    ],
                    [
                      "KP"
                    ],
                    [
                      "KR"
                    ],
                    [
                      "KW"
                    ],
                    [
                      "KY"
                    ]
                  ],
                  "y": [
                    -2.770423949713024,
                    52.971864575126595,
                    -1.1268290285234492,
                    -4.591484653060372,
                    2.2226307738347297,
                    -0.016266018917154082,
                    -3.716598211101833,
                    -2.142204162719884,
                    -3.8398460568422776,
                    -32.20484436579887,
                    -2.4518849458255434,
                    -9.916489299536458,
                    -5.31499282551354,
                    -3.639203601518331,
                    23.503135355634665,
                    5.653151402659575,
                    1.2298518111722425,
                    0.7166340073765066,
                    38.1151377000632,
                    29.05259196427715,
                    16.076792517963614,
                    -7.30299895842633,
                    9.808355449809605,
                    -4.30956653927744,
                    -0.797145923913457,
                    3.9281687772815514,
                    -7.261795146736168,
                    4.377439282936605,
                    9.761319191648129,
                    8.077665059787522,
                    50.057999262809616,
                    1.6347991435395317,
                    47.25187991137817,
                    -23.219219492462887,
                    -42.4876438295814,
                    -3.1656268864591066,
                    -17.773633161973926,
                    -10.765047475960424,
                    1.4634587267344144,
                    0.2205160352983932,
                    69.57339107752416,
                    10.812798390940848,
                    -3.7944109706976543,
                    2.349214604025448,
                    1.907781350829297,
                    -2.3929946043717365,
                    -3.873706598280307,
                    10.861766833082442,
                    66.43844316805584,
                    30.8518408777569,
                    -1.7975103128505574
                  ],
                  "hoverlabel": {
                    "namelength": 0
                  },
                  "mode": "markers",
                  "xaxis": "x",
                  "marker": {
                    "color": "#ab63fa",
                    "opacity": 0.5,
                    "symbol": "circle"
                  },
                  "x": [
                    76.03537700879916,
                    78.09020619157113,
                    99.53591133185269,
                    85.49998542399723,
                    82.42333732956095,
                    74.33645704316031,
                    79.82271657503921,
                    75.45336240105269,
                    90.52994421485823,
                    68.87720816064751,
                    75.05554751754146,
                    115.65817761363891,
                    93.76786542330773,
                    76.30203313777815,
                    88.84594973981375,
                    94.22332956830465,
                    98.55260688831743,
                    74.30721831070238,
                    72.59071007808895,
                    65.87209245252855,
                    91.85230022568061,
                    84.95318969759771,
                    72.45715509168654,
                    83.38308733120834,
                    74.66623816605542,
                    74.62123082426187,
                    90.93876631483748,
                    97.16740059602951,
                    87.8269637098877,
                    80.08063396762903,
                    85.95458029103924,
                    74.63573836226807,
                    70.11219803814234,
                    108.52526672804854,
                    118.73964999455144,
                    101.74754042697374,
                    77.68159869962868,
                    90.47705325883535,
                    72.88753708175344,
                    102.22068472493746,
                    51.418592950811124,
                    69.57606282694705,
                    78.12679192881694,
                    74.96840563283837,
                    83.32490985065682,
                    75.32811547801634,
                    77.86862658057038,
                    66.67443835284102,
                    74.29113162501194,
                    77.57767294249018,
                    103.51103176058858
                  ],
                  "type": "scatter"
                },
                {
                  "textposition": "top center",
                  "hovertemplate": "Cluster=Cluster 4<br>PCA1=%{x}<br>PCA2=%{y}<br>Feature=%{customdata[0]}",
                  "showlegend": true,
                  "legendgroup": "Cluster=Cluster 4",
                  "name": "Cluster=Cluster 4",
                  "yaxis": "y",
                  "customdata": [
                    [
                      "KZ"
                    ],
                    [
                      "LA"
                    ],
                    [
                      "LB"
                    ],
                    [
                      "LC"
                    ],
                    [
                      "LI"
                    ],
                    [
                      "LK"
                    ],
                    [
                      "LR"
                    ],
                    [
                      "LS"
                    ],
                    [
                      "LT"
                    ],
                    [
                      "LU"
                    ],
                    [
                      "LV"
                    ],
                    [
                      "LY"
                    ],
                    [
                      "MA"
                    ],
                    [
                      "MC"
                    ],
                    [
                      "MD"
                    ],
                    [
                      "ME"
                    ],
                    [
                      "MG"
                    ],
                    [
                      "MH"
                    ],
                    [
                      "MK"
                    ],
                    [
                      "ML"
                    ],
                    [
                      "MM"
                    ],
                    [
                      "MN"
                    ],
                    [
                      "MO"
                    ],
                    [
                      "MP"
                    ],
                    [
                      "MQ"
                    ],
                    [
                      "MR"
                    ],
                    [
                      "MS"
                    ],
                    [
                      "MT"
                    ],
                    [
                      "MU"
                    ],
                    [
                      "MV"
                    ],
                    [
                      "MW"
                    ],
                    [
                      "MX"
                    ],
                    [
                      "MY"
                    ],
                    [
                      "MZ"
                    ],
                    [
                      null
                    ],
                    [
                      "NC"
                    ],
                    [
                      "NE"
                    ],
                    [
                      "NF"
                    ],
                    [
                      "NG"
                    ],
                    [
                      "NI"
                    ],
                    [
                      "NL"
                    ],
                    [
                      "NO"
                    ],
                    [
                      "NP"
                    ],
                    [
                      "NR"
                    ],
                    [
                      "NU"
                    ],
                    [
                      "NZ"
                    ],
                    [
                      "OM"
                    ],
                    [
                      "PA"
                    ],
                    [
                      "PE"
                    ],
                    [
                      "PF"
                    ],
                    [
                      "PG"
                    ],
                    [
                      "PH"
                    ],
                    [
                      "PK"
                    ],
                    [
                      "PL"
                    ],
                    [
                      "PM"
                    ],
                    [
                      "PN"
                    ],
                    [
                      "PR"
                    ],
                    [
                      "PS"
                    ],
                    [
                      "PT"
                    ],
                    [
                      "PW"
                    ],
                    [
                      "PY"
                    ],
                    [
                      "QA"
                    ],
                    [
                      "RE"
                    ],
                    [
                      "RO"
                    ],
                    [
                      "RS"
                    ],
                    [
                      "RU"
                    ],
                    [
                      "RW"
                    ],
                    [
                      "SA"
                    ],
                    [
                      "SB"
                    ],
                    [
                      "SC"
                    ],
                    [
                      "SD"
                    ],
                    [
                      "SE"
                    ],
                    [
                      "SG"
                    ]
                  ],
                  "y": [
                    -19.656003002535492,
                    0,
                    -5.284360428179239,
                    -25.66208167425998,
                    -43.747403266111675,
                    -26.17660210629222,
                    -27.587895118081786,
                    -23.612447908129283,
                    -1.4685139583838251,
                    7.068230666496428,
                    -29.853720790369934,
                    -61.05858986089007,
                    -17.71185797706238,
                    -32.26790195187791,
                    -36.04618407673358,
                    7.241591886645944,
                    7.35866312360629,
                    -27.700940531986067,
                    0.9178215585279998,
                    1.1476708364201578,
                    -44.313989464467475,
                    -35.52966372936206,
                    -29.427336040279876,
                    -26.542893355380002,
                    -1.6959100775334608,
                    3.8247338135157456,
                    -22.628844524409505,
                    5.802535535392987,
                    2.182853163157678,
                    -56.66462568881463,
                    -20.288052143626437,
                    7.991050167638728,
                    -39.48193570294057,
                    -30.209997526895943,
                    -46.07107242696524,
                    -45.387341707739445,
                    -24.57798770958774,
                    -8.533820456046612,
                    -42.07538723209667,
                    -12.032742695578953,
                    -40.084277116603666,
                    -34.96647292454845,
                    -33.50863620892795,
                    -0.5660155647082908,
                    8.298425180282386,
                    -30.668714611535933,
                    -37.12671746634642,
                    6.703332672170029,
                    -26.207460854674647,
                    3.688483296328086,
                    -34.43581439176857,
                    -27.560135206923313,
                    -31.228136784331237,
                    -24.743733157759937,
                    -28.79825285818865,
                    -30.76601715273736,
                    -33.55236467796323,
                    -33.291230477242834,
                    -26.31609216417767,
                    -30.820931187275605,
                    -25.62861689087781,
                    -49.405919535851446,
                    -27.6194002080016,
                    -15.981317061583537,
                    -9.99343558376176,
                    -33.711022039123954,
                    -40.36914910108641,
                    -25.164394554022696,
                    -30.987365282916116,
                    -38.36461828641647,
                    -38.67517090449621,
                    -37.62255124011225,
                    9.325074090400422
                  ],
                  "hoverlabel": {
                    "namelength": 0
                  },
                  "mode": "markers",
                  "xaxis": "x",
                  "marker": {
                    "color": "#FFA15A",
                    "opacity": 0.5,
                    "symbol": "circle"
                  },
                  "x": [
                    -1.5113982754933346,
                    0,
                    24.125715246219436,
                    0.2795351554820212,
                    -6.308194711617251,
                    -8.183349351183857,
                    -8.317168385790076,
                    21.007232128935726,
                    5.18223228177618,
                    4.775464100868262,
                    -2.354960440907917,
                    -11.71534822464564,
                    3.37026284077213,
                    -7.1125288015692805,
                    7.215927089489222,
                    25.239333593709553,
                    12.634203585341464,
                    0.2304878114981741,
                    -5.418594026561069,
                    27.778968960658922,
                    3.8563904393186568,
                    -6.629952182542446,
                    -12.319309752001924,
                    11.114680094608056,
                    17.257980416472794,
                    28.5658318282344,
                    -9.02719677436102,
                    23.12406944413425,
                    28.659625892784188,
                    54.671366538079035,
                    18.200277710261176,
                    14.496474365698587,
                    15.870004124093262,
                    10.422015577165194,
                    19.202345188428442,
                    -13.450469303144274,
                    16.509775953653904,
                    26.00000598168771,
                    -12.643205486632061,
                    11.374418293454903,
                    2.9159495166311125,
                    2.0780789088973672,
                    -2.9126296736874595,
                    37.304561316390576,
                    19.02817805063236,
                    4.396762606631228,
                    -15.475299062645808,
                    11.12843987222664,
                    -12.767977485751183,
                    14.940760920454801,
                    8.072726937272668,
                    -4.988979400824462,
                    -1.939567231377049,
                    -7.417142195080503,
                    -2.5364279823222464,
                    -6.883865215630074,
                    15.148983866143277,
                    14.700566737230789,
                    -6.657451043273359,
                    -15.753775718174095,
                    0.16624981251928592,
                    31.241233529809897,
                    5.278419886269436,
                    20.04227567636699,
                    -4.153352820085922,
                    6.428557404909023,
                    -12.195316336529498,
                    -9.003678419261744,
                    3.0616035253626492,
                    17.00682710448948,
                    -11.436125009075063,
                    20.719801485649995,
                    22.934015544342305
                  ],
                  "type": "scatter"
                },
                {
                  "textposition": "top center",
                  "hovertemplate": "Cluster=Cluster 5<br>PCA1=%{x}<br>PCA2=%{y}<br>Feature=%{customdata[0]}",
                  "showlegend": true,
                  "legendgroup": "Cluster=Cluster 5",
                  "name": "Cluster=Cluster 5",
                  "yaxis": "y",
                  "customdata": [
                    [
                      "SH"
                    ],
                    [
                      "SI"
                    ],
                    [
                      "SJ"
                    ],
                    [
                      "SK"
                    ],
                    [
                      "SL"
                    ],
                    [
                      "SM"
                    ],
                    [
                      "SN"
                    ],
                    [
                      "SO"
                    ],
                    [
                      "SR"
                    ],
                    [
                      "ST"
                    ],
                    [
                      "SV"
                    ],
                    [
                      "SY"
                    ],
                    [
                      "SZ"
                    ],
                    [
                      "TC"
                    ],
                    [
                      "TD"
                    ],
                    [
                      "TF"
                    ]
                  ],
                  "y": [
                    36.46116957353733,
                    27.583388646338353,
                    20.136249862215326,
                    40.48412684566827,
                    48.66987487671135,
                    26.95612977744348,
                    60.67853587533808,
                    11.392030928433682,
                    5.687737122688222,
                    11.831114243642334,
                    12.576966333653054,
                    29.108626330102858,
                    25.423941148264834,
                    34.9872215336297,
                    44.155865782889805,
                    1.8150841087279024
                  ],
                  "hoverlabel": {
                    "namelength": 0
                  },
                  "mode": "markers",
                  "xaxis": "x",
                  "marker": {
                    "color": "#19d3f3",
                    "opacity": 0.5,
                    "symbol": "circle"
                  },
                  "x": [
                    -165.36081409373173,
                    -111.85551816978496,
                    -153.2324840640362,
                    -151.4730168388466,
                    -153.6309501793542,
                    -163.80350205289827,
                    -160.30083910364866,
                    -121.06727164379949,
                    -131.4058762576355,
                    -137.02977621698744,
                    -157.65205446905708,
                    -146.2590228832019,
                    -130.13520085306374,
                    -152.93485637201687,
                    -119.54204897800072,
                    -132.0818019353701
                  ],
                  "type": "scatter"
                },
                {
                  "textposition": "top center",
                  "hovertemplate": "Cluster=Cluster 6<br>PCA1=%{x}<br>PCA2=%{y}<br>Feature=%{customdata[0]}",
                  "showlegend": true,
                  "legendgroup": "Cluster=Cluster 6",
                  "name": "Cluster=Cluster 6",
                  "yaxis": "y",
                  "customdata": [
                    [
                      "TG"
                    ],
                    [
                      "TH"
                    ],
                    [
                      "TJ"
                    ],
                    [
                      "TK"
                    ],
                    [
                      "TL"
                    ],
                    [
                      "TM"
                    ],
                    [
                      "TN"
                    ],
                    [
                      "TO"
                    ],
                    [
                      "TR"
                    ],
                    [
                      "TT"
                    ],
                    [
                      "TV"
                    ],
                    [
                      "TW"
                    ],
                    [
                      "TZ"
                    ],
                    [
                      "UA"
                    ],
                    [
                      "UG"
                    ],
                    [
                      "UM"
                    ],
                    [
                      "US"
                    ],
                    [
                      "UY"
                    ],
                    [
                      "UZ"
                    ],
                    [
                      "VA"
                    ],
                    [
                      "VC"
                    ],
                    [
                      "VE"
                    ],
                    [
                      "VG"
                    ],
                    [
                      "VI"
                    ],
                    [
                      "VN"
                    ],
                    [
                      "VU"
                    ],
                    [
                      "WF"
                    ],
                    [
                      "WS"
                    ],
                    [
                      "XK"
                    ],
                    [
                      "YE"
                    ],
                    [
                      "YT"
                    ],
                    [
                      "ZA"
                    ],
                    [
                      "ZM"
                    ],
                    [
                      "ZW"
                    ]
                  ],
                  "y": [
                    -23.995182261078824,
                    -23.115152058359072,
                    -31.727280089113677,
                    1.4715077032565784,
                    -16.49015948044433,
                    -23.133546216221642,
                    -6.281204414004829,
                    -8.857236014558064,
                    -15.214875263734845,
                    -17.103201124277962,
                    -22.224554245413994,
                    -14.31733667498747,
                    -14.637773790773627,
                    -8.269827103772537,
                    -12.891417744445004,
                    -16.300643268712562,
                    -6.934978490184532,
                    -15.286376060860183,
                    3.7600707518118717,
                    -25.39773897935164,
                    -4.324721201768785,
                    11.818858263038521,
                    7.7019265806681645,
                    -13.826191561073532,
                    -17.981687012413122,
                    1.6535000721568007,
                    -23.599169573569984,
                    -10.181520728376853,
                    -12.306782429659437,
                    -21.33281074516334,
                    5.068430923216347,
                    -21.698113935599594,
                    -18.427854218003766,
                    -30.584463998117023
                  ],
                  "hoverlabel": {
                    "namelength": 0
                  },
                  "mode": "markers",
                  "xaxis": "x",
                  "marker": {
                    "color": "#FF6692",
                    "opacity": 0.5,
                    "symbol": "circle"
                  },
                  "x": [
                    -51.82833085594749,
                    -32.25729359842601,
                    -18.569993556404285,
                    -35.19779119110226,
                    -54.789384521249644,
                    -34.7970434238294,
                    -40.700312045362516,
                    -37.54592039477264,
                    -22.2768625365171,
                    -22.94750551757791,
                    -22.440569982647546,
                    -21.87556972098913,
                    -21.339671248495826,
                    -38.07929702888569,
                    -56.34611442417647,
                    -30.74880757770905,
                    -31.94387283152637,
                    -40.73774714761281,
                    -16.844522448540584,
                    -30.62559013848401,
                    -42.73339287756192,
                    -32.653819566447545,
                    -27.032682520071152,
                    -23.251946519344667,
                    -26.102029327372893,
                    -26.45765600632239,
                    -62.00293468256153,
                    -17.734895381130787,
                    -34.464714800429206,
                    -58.46245123582092,
                    -29.1914713202159,
                    -46.74782663054624,
                    -20.543510723568854,
                    -54.311642542937825
                  ],
                  "type": "scatter"
                }
              ],
              "config": {
                "plotlyServerURL": "https://plot.ly"
              },
              "layout": {
                "xaxis": {
                  "domain": [
                    0,
                    1
                  ],
                  "anchor": "y",
                  "title": {
                    "text": "PCA1"
                  }
                },
                "title": {
                  "text": "2D Cluster PCA Plot"
                },
                "plot_bgcolor": "rgb(240,240,240)",
                "yaxis": {
                  "domain": [
                    0,
                    1
                  ],
                  "anchor": "x",
                  "title": {
                    "text": "PCA2"
                  }
                },
                "height": 600,
                "template": {
                  "layout": {
                    "shapedefaults": {
                      "line": {
                        "color": "#2a3f5f"
                      }
                    },
                    "polar": {
                      "radialaxis": {
                        "ticks": "",
                        "gridcolor": "white",
                        "linecolor": "white"
                      },
                      "bgcolor": "#E5ECF6",
                      "angularaxis": {
                        "ticks": "",
                        "gridcolor": "white",
                        "linecolor": "white"
                      }
                    },
                    "colorway": [
                      "#636efa",
                      "#EF553B",
                      "#00cc96",
                      "#ab63fa",
                      "#FFA15A",
                      "#19d3f3",
                      "#FF6692",
                      "#B6E880",
                      "#FF97FF",
                      "#FECB52"
                    ],
                    "xaxis": {
                      "automargin": true,
                      "title": {
                        "standoff": 15
                      },
                      "zerolinewidth": 2,
                      "ticks": "",
                      "zerolinecolor": "white",
                      "gridcolor": "white",
                      "linecolor": "white"
                    },
                    "colorscale": {
                      "diverging": [
                        [
                          0,
                          "#8e0152"
                        ],
                        [
                          0.1,
                          "#c51b7d"
                        ],
                        [
                          0.2,
                          "#de77ae"
                        ],
                        [
                          0.3,
                          "#f1b6da"
                        ],
                        [
                          0.4,
                          "#fde0ef"
                        ],
                        [
                          0.5,
                          "#f7f7f7"
                        ],
                        [
                          0.6,
                          "#e6f5d0"
                        ],
                        [
                          0.7,
                          "#b8e186"
                        ],
                        [
                          0.8,
                          "#7fbc41"
                        ],
                        [
                          0.9,
                          "#4d9221"
                        ],
                        [
                          1,
                          "#276419"
                        ]
                      ],
                      "sequential": [
                        [
                          0,
                          "#0d0887"
                        ],
                        [
                          0.1111111111111111,
                          "#46039f"
                        ],
                        [
                          0.2222222222222222,
                          "#7201a8"
                        ],
                        [
                          0.3333333333333333,
                          "#9c179e"
                        ],
                        [
                          0.4444444444444444,
                          "#bd3786"
                        ],
                        [
                          0.5555555555555556,
                          "#d8576b"
                        ],
                        [
                          0.6666666666666666,
                          "#ed7953"
                        ],
                        [
                          0.7777777777777778,
                          "#fb9f3a"
                        ],
                        [
                          0.8888888888888888,
                          "#fdca26"
                        ],
                        [
                          1,
                          "#f0f921"
                        ]
                      ],
                      "sequentialminus": [
                        [
                          0,
                          "#0d0887"
                        ],
                        [
                          0.1111111111111111,
                          "#46039f"
                        ],
                        [
                          0.2222222222222222,
                          "#7201a8"
                        ],
                        [
                          0.3333333333333333,
                          "#9c179e"
                        ],
                        [
                          0.4444444444444444,
                          "#bd3786"
                        ],
                        [
                          0.5555555555555556,
                          "#d8576b"
                        ],
                        [
                          0.6666666666666666,
                          "#ed7953"
                        ],
                        [
                          0.7777777777777778,
                          "#fb9f3a"
                        ],
                        [
                          0.8888888888888888,
                          "#fdca26"
                        ],
                        [
                          1,
                          "#f0f921"
                        ]
                      ]
                    },
                    "paper_bgcolor": "white",
                    "plot_bgcolor": "#E5ECF6",
                    "title": {
                      "x": 0.05
                    },
                    "scene": {
                      "zaxis": {
                        "backgroundcolor": "#E5ECF6",
                        "ticks": "",
                        "gridwidth": 2,
                        "showbackground": true,
                        "zerolinecolor": "white",
                        "gridcolor": "white",
                        "linecolor": "white"
                      },
                      "xaxis": {
                        "backgroundcolor": "#E5ECF6",
                        "ticks": "",
                        "gridwidth": 2,
                        "showbackground": true,
                        "zerolinecolor": "white",
                        "gridcolor": "white",
                        "linecolor": "white"
                      },
                      "yaxis": {
                        "backgroundcolor": "#E5ECF6",
                        "ticks": "",
                        "gridwidth": 2,
                        "showbackground": true,
                        "zerolinecolor": "white",
                        "gridcolor": "white",
                        "linecolor": "white"
                      }
                    },
                    "yaxis": {
                      "automargin": true,
                      "title": {
                        "standoff": 15
                      },
                      "zerolinewidth": 2,
                      "ticks": "",
                      "zerolinecolor": "white",
                      "gridcolor": "white",
                      "linecolor": "white"
                    },
                    "annotationdefaults": {
                      "arrowwidth": 1,
                      "arrowhead": 0,
                      "arrowcolor": "#2a3f5f"
                    },
                    "hoverlabel": {
                      "align": "left"
                    },
                    "ternary": {
                      "bgcolor": "#E5ECF6",
                      "baxis": {
                        "ticks": "",
                        "gridcolor": "white",
                        "linecolor": "white"
                      },
                      "caxis": {
                        "ticks": "",
                        "gridcolor": "white",
                        "linecolor": "white"
                      },
                      "aaxis": {
                        "ticks": "",
                        "gridcolor": "white",
                        "linecolor": "white"
                      }
                    },
                    "mapbox": {
                      "style": "light"
                    },
                    "hovermode": "closest",
                    "font": {
                      "color": "#2a3f5f"
                    },
                    "geo": {
                      "showland": true,
                      "landcolor": "#E5ECF6",
                      "showlakes": true,
                      "bgcolor": "white",
                      "subunitcolor": "white",
                      "lakecolor": "white"
                    },
                    "coloraxis": {
                      "colorbar": {
                        "outlinewidth": 0,
                        "ticks": ""
                      }
                    }
                  },
                  "data": {
                    "mesh3d": [
                      {
                        "colorbar": {
                          "outlinewidth": 0,
                          "ticks": ""
                        },
                        "type": "mesh3d"
                      }
                    ],
                    "scattercarpet": [
                      {
                        "marker": {
                          "colorbar": {
                            "outlinewidth": 0,
                            "ticks": ""
                          }
                        },
                        "type": "scattercarpet"
                      }
                    ],
                    "pie": [
                      {
                        "automargin": true,
                        "type": "pie"
                      }
                    ],
                    "surface": [
                      {
                        "colorbar": {
                          "outlinewidth": 0,
                          "ticks": ""
                        },
                        "type": "surface",
                        "colorscale": [
                          [
                            0,
                            "#0d0887"
                          ],
                          [
                            0.1111111111111111,
                            "#46039f"
                          ],
                          [
                            0.2222222222222222,
                            "#7201a8"
                          ],
                          [
                            0.3333333333333333,
                            "#9c179e"
                          ],
                          [
                            0.4444444444444444,
                            "#bd3786"
                          ],
                          [
                            0.5555555555555556,
                            "#d8576b"
                          ],
                          [
                            0.6666666666666666,
                            "#ed7953"
                          ],
                          [
                            0.7777777777777778,
                            "#fb9f3a"
                          ],
                          [
                            0.8888888888888888,
                            "#fdca26"
                          ],
                          [
                            1,
                            "#f0f921"
                          ]
                        ]
                      }
                    ],
                    "table": [
                      {
                        "header": {
                          "line": {
                            "color": "white"
                          },
                          "fill": {
                            "color": "#C8D4E3"
                          }
                        },
                        "cells": {
                          "line": {
                            "color": "white"
                          },
                          "fill": {
                            "color": "#EBF0F8"
                          }
                        },
                        "type": "table"
                      }
                    ],
                    "scatterpolargl": [
                      {
                        "marker": {
                          "colorbar": {
                            "outlinewidth": 0,
                            "ticks": ""
                          }
                        },
                        "type": "scatterpolargl"
                      }
                    ],
                    "contour": [
                      {
                        "colorbar": {
                          "outlinewidth": 0,
                          "ticks": ""
                        },
                        "type": "contour",
                        "colorscale": [
                          [
                            0,
                            "#0d0887"
                          ],
                          [
                            0.1111111111111111,
                            "#46039f"
                          ],
                          [
                            0.2222222222222222,
                            "#7201a8"
                          ],
                          [
                            0.3333333333333333,
                            "#9c179e"
                          ],
                          [
                            0.4444444444444444,
                            "#bd3786"
                          ],
                          [
                            0.5555555555555556,
                            "#d8576b"
                          ],
                          [
                            0.6666666666666666,
                            "#ed7953"
                          ],
                          [
                            0.7777777777777778,
                            "#fb9f3a"
                          ],
                          [
                            0.8888888888888888,
                            "#fdca26"
                          ],
                          [
                            1,
                            "#f0f921"
                          ]
                        ]
                      }
                    ],
                    "carpet": [
                      {
                        "type": "carpet",
                        "baxis": {
                          "minorgridcolor": "white",
                          "gridcolor": "white",
                          "linecolor": "white",
                          "endlinecolor": "#2a3f5f",
                          "startlinecolor": "#2a3f5f"
                        },
                        "aaxis": {
                          "minorgridcolor": "white",
                          "gridcolor": "white",
                          "linecolor": "white",
                          "endlinecolor": "#2a3f5f",
                          "startlinecolor": "#2a3f5f"
                        }
                      }
                    ],
                    "contourcarpet": [
                      {
                        "colorbar": {
                          "outlinewidth": 0,
                          "ticks": ""
                        },
                        "type": "contourcarpet"
                      }
                    ],
                    "heatmap": [
                      {
                        "colorbar": {
                          "outlinewidth": 0,
                          "ticks": ""
                        },
                        "type": "heatmap",
                        "colorscale": [
                          [
                            0,
                            "#0d0887"
                          ],
                          [
                            0.1111111111111111,
                            "#46039f"
                          ],
                          [
                            0.2222222222222222,
                            "#7201a8"
                          ],
                          [
                            0.3333333333333333,
                            "#9c179e"
                          ],
                          [
                            0.4444444444444444,
                            "#bd3786"
                          ],
                          [
                            0.5555555555555556,
                            "#d8576b"
                          ],
                          [
                            0.6666666666666666,
                            "#ed7953"
                          ],
                          [
                            0.7777777777777778,
                            "#fb9f3a"
                          ],
                          [
                            0.8888888888888888,
                            "#fdca26"
                          ],
                          [
                            1,
                            "#f0f921"
                          ]
                        ]
                      }
                    ],
                    "scattermapbox": [
                      {
                        "marker": {
                          "colorbar": {
                            "outlinewidth": 0,
                            "ticks": ""
                          }
                        },
                        "type": "scattermapbox"
                      }
                    ],
                    "scatter3d": [
                      {
                        "marker": {
                          "colorbar": {
                            "outlinewidth": 0,
                            "ticks": ""
                          }
                        },
                        "line": {
                          "colorbar": {
                            "outlinewidth": 0,
                            "ticks": ""
                          }
                        },
                        "type": "scatter3d"
                      }
                    ],
                    "scattergl": [
                      {
                        "marker": {
                          "colorbar": {
                            "outlinewidth": 0,
                            "ticks": ""
                          }
                        },
                        "type": "scattergl"
                      }
                    ],
                    "scatterternary": [
                      {
                        "marker": {
                          "colorbar": {
                            "outlinewidth": 0,
                            "ticks": ""
                          }
                        },
                        "type": "scatterternary"
                      }
                    ],
                    "histogram": [
                      {
                        "marker": {
                          "colorbar": {
                            "outlinewidth": 0,
                            "ticks": ""
                          }
                        },
                        "type": "histogram"
                      }
                    ],
                    "heatmapgl": [
                      {
                        "colorbar": {
                          "outlinewidth": 0,
                          "ticks": ""
                        },
                        "type": "heatmapgl",
                        "colorscale": [
                          [
                            0,
                            "#0d0887"
                          ],
                          [
                            0.1111111111111111,
                            "#46039f"
                          ],
                          [
                            0.2222222222222222,
                            "#7201a8"
                          ],
                          [
                            0.3333333333333333,
                            "#9c179e"
                          ],
                          [
                            0.4444444444444444,
                            "#bd3786"
                          ],
                          [
                            0.5555555555555556,
                            "#d8576b"
                          ],
                          [
                            0.6666666666666666,
                            "#ed7953"
                          ],
                          [
                            0.7777777777777778,
                            "#fb9f3a"
                          ],
                          [
                            0.8888888888888888,
                            "#fdca26"
                          ],
                          [
                            1,
                            "#f0f921"
                          ]
                        ]
                      }
                    ],
                    "scatterpolar": [
                      {
                        "marker": {
                          "colorbar": {
                            "outlinewidth": 0,
                            "ticks": ""
                          }
                        },
                        "type": "scatterpolar"
                      }
                    ],
                    "histogram2d": [
                      {
                        "colorbar": {
                          "outlinewidth": 0,
                          "ticks": ""
                        },
                        "type": "histogram2d",
                        "colorscale": [
                          [
                            0,
                            "#0d0887"
                          ],
                          [
                            0.1111111111111111,
                            "#46039f"
                          ],
                          [
                            0.2222222222222222,
                            "#7201a8"
                          ],
                          [
                            0.3333333333333333,
                            "#9c179e"
                          ],
                          [
                            0.4444444444444444,
                            "#bd3786"
                          ],
                          [
                            0.5555555555555556,
                            "#d8576b"
                          ],
                          [
                            0.6666666666666666,
                            "#ed7953"
                          ],
                          [
                            0.7777777777777778,
                            "#fb9f3a"
                          ],
                          [
                            0.8888888888888888,
                            "#fdca26"
                          ],
                          [
                            1,
                            "#f0f921"
                          ]
                        ]
                      }
                    ],
                    "scattergeo": [
                      {
                        "marker": {
                          "colorbar": {
                            "outlinewidth": 0,
                            "ticks": ""
                          }
                        },
                        "type": "scattergeo"
                      }
                    ],
                    "bar": [
                      {
                        "marker": {
                          "line": {
                            "color": "#E5ECF6",
                            "width": 0.5
                          }
                        },
                        "type": "bar",
                        "error_x": {
                          "color": "#2a3f5f"
                        },
                        "error_y": {
                          "color": "#2a3f5f"
                        }
                      }
                    ],
                    "choropleth": [
                      {
                        "colorbar": {
                          "outlinewidth": 0,
                          "ticks": ""
                        },
                        "type": "choropleth"
                      }
                    ],
                    "parcoords": [
                      {
                        "line": {
                          "colorbar": {
                            "outlinewidth": 0,
                            "ticks": ""
                          }
                        },
                        "type": "parcoords"
                      }
                    ],
                    "barpolar": [
                      {
                        "marker": {
                          "line": {
                            "color": "#E5ECF6",
                            "width": 0.5
                          }
                        },
                        "type": "barpolar"
                      }
                    ],
                    "histogram2dcontour": [
                      {
                        "colorbar": {
                          "outlinewidth": 0,
                          "ticks": ""
                        },
                        "type": "histogram2dcontour",
                        "colorscale": [
                          [
                            0,
                            "#0d0887"
                          ],
                          [
                            0.1111111111111111,
                            "#46039f"
                          ],
                          [
                            0.2222222222222222,
                            "#7201a8"
                          ],
                          [
                            0.3333333333333333,
                            "#9c179e"
                          ],
                          [
                            0.4444444444444444,
                            "#bd3786"
                          ],
                          [
                            0.5555555555555556,
                            "#d8576b"
                          ],
                          [
                            0.6666666666666666,
                            "#ed7953"
                          ],
                          [
                            0.7777777777777778,
                            "#fb9f3a"
                          ],
                          [
                            0.8888888888888888,
                            "#fdca26"
                          ],
                          [
                            1,
                            "#f0f921"
                          ]
                        ]
                      }
                    ],
                    "scatter": [
                      {
                        "marker": {
                          "colorbar": {
                            "outlinewidth": 0,
                            "ticks": ""
                          }
                        },
                        "type": "scatter"
                      }
                    ]
                  }
                },
                "margin": {
                  "t": 60
                },
                "legend": {
                  "tracegroupgap": 0
                }
              }
            }
          },
          "metadata": {
            "tags": []
          }
        }
      ]
    },
    {
      "cell_type": "code",
      "metadata": {
        "id": "IYnX7sDBJE-H",
        "colab_type": "code",
        "colab": {
          "base_uri": "https://localhost:8080/",
          "height": 50
        },
        "outputId": "27a94478-69f8-40b7-e004-588e6b8f79fb"
      },
      "source": [
        "km_df['Cluster'].unique()"
      ],
      "execution_count": 47,
      "outputs": [
        {
          "output_type": "execute_result",
          "data": {
            "text/plain": [
              "array(['Cluster 4', 'Cluster 6', 'Cluster 3', 'Cluster 0', 'Cluster 1',\n",
              "       'Cluster 5', 'Cluster 2'], dtype=object)"
            ]
          },
          "metadata": {
            "tags": []
          },
          "execution_count": 47
        }
      ]
    },
    {
      "cell_type": "code",
      "metadata": {
        "id": "6yNA8xAsU6HZ",
        "colab_type": "code",
        "colab": {}
      },
      "source": [
        "km_df2 = km_df"
      ],
      "execution_count": 49,
      "outputs": []
    },
    {
      "cell_type": "code",
      "metadata": {
        "id": "XQgo68YWVBx_",
        "colab_type": "code",
        "colab": {}
      },
      "source": [
        "km_df2['Cluster'] = km_df2['Cluster'].str.replace('Cluster','').apply(int)"
      ],
      "execution_count": 50,
      "outputs": []
    },
    {
      "cell_type": "code",
      "metadata": {
        "id": "fM2803T7VBrK",
        "colab_type": "code",
        "colab": {
          "base_uri": "https://localhost:8080/",
          "height": 402
        },
        "outputId": "846ca013-6453-4216-deea-51ecf362d7f2"
      },
      "source": [
        "km_df2"
      ],
      "execution_count": 51,
      "outputs": [
        {
          "output_type": "execute_result",
          "data": {
            "text/html": [
              "<div>\n",
              "<style scoped>\n",
              "    .dataframe tbody tr th:only-of-type {\n",
              "        vertical-align: middle;\n",
              "    }\n",
              "\n",
              "    .dataframe tbody tr th {\n",
              "        vertical-align: top;\n",
              "    }\n",
              "\n",
              "    .dataframe thead th {\n",
              "        text-align: right;\n",
              "    }\n",
              "</style>\n",
              "<table border=\"1\" class=\"dataframe\">\n",
              "  <thead>\n",
              "    <tr style=\"text-align: right;\">\n",
              "      <th></th>\n",
              "      <th>country</th>\n",
              "      <th>latitude</th>\n",
              "      <th>longitude</th>\n",
              "      <th>name</th>\n",
              "      <th>Cluster</th>\n",
              "    </tr>\n",
              "  </thead>\n",
              "  <tbody>\n",
              "    <tr>\n",
              "      <th>0</th>\n",
              "      <td>AD</td>\n",
              "      <td>42.546245</td>\n",
              "      <td>1.601554</td>\n",
              "      <td>Andorra</td>\n",
              "      <td>4</td>\n",
              "    </tr>\n",
              "    <tr>\n",
              "      <th>1</th>\n",
              "      <td>AE</td>\n",
              "      <td>23.424076</td>\n",
              "      <td>53.847818</td>\n",
              "      <td>United Arab Emirates</td>\n",
              "      <td>6</td>\n",
              "    </tr>\n",
              "    <tr>\n",
              "      <th>2</th>\n",
              "      <td>AF</td>\n",
              "      <td>33.939110</td>\n",
              "      <td>67.709953</td>\n",
              "      <td>Afghanistan</td>\n",
              "      <td>6</td>\n",
              "    </tr>\n",
              "    <tr>\n",
              "      <th>3</th>\n",
              "      <td>AG</td>\n",
              "      <td>17.060816</td>\n",
              "      <td>-61.796428</td>\n",
              "      <td>Antigua and Barbuda</td>\n",
              "      <td>3</td>\n",
              "    </tr>\n",
              "    <tr>\n",
              "      <th>4</th>\n",
              "      <td>AI</td>\n",
              "      <td>18.220554</td>\n",
              "      <td>-63.068615</td>\n",
              "      <td>Anguilla</td>\n",
              "      <td>3</td>\n",
              "    </tr>\n",
              "    <tr>\n",
              "      <th>...</th>\n",
              "      <td>...</td>\n",
              "      <td>...</td>\n",
              "      <td>...</td>\n",
              "      <td>...</td>\n",
              "      <td>...</td>\n",
              "    </tr>\n",
              "    <tr>\n",
              "      <th>240</th>\n",
              "      <td>YE</td>\n",
              "      <td>15.552727</td>\n",
              "      <td>48.516388</td>\n",
              "      <td>Yemen</td>\n",
              "      <td>6</td>\n",
              "    </tr>\n",
              "    <tr>\n",
              "      <th>241</th>\n",
              "      <td>YT</td>\n",
              "      <td>-12.827500</td>\n",
              "      <td>45.166244</td>\n",
              "      <td>Mayotte</td>\n",
              "      <td>0</td>\n",
              "    </tr>\n",
              "    <tr>\n",
              "      <th>242</th>\n",
              "      <td>ZA</td>\n",
              "      <td>-30.559482</td>\n",
              "      <td>22.937506</td>\n",
              "      <td>South Africa</td>\n",
              "      <td>0</td>\n",
              "    </tr>\n",
              "    <tr>\n",
              "      <th>243</th>\n",
              "      <td>ZM</td>\n",
              "      <td>-13.133897</td>\n",
              "      <td>27.849332</td>\n",
              "      <td>Zambia</td>\n",
              "      <td>0</td>\n",
              "    </tr>\n",
              "    <tr>\n",
              "      <th>244</th>\n",
              "      <td>ZW</td>\n",
              "      <td>-19.015438</td>\n",
              "      <td>29.154857</td>\n",
              "      <td>Zimbabwe</td>\n",
              "      <td>0</td>\n",
              "    </tr>\n",
              "  </tbody>\n",
              "</table>\n",
              "<p>245 rows × 5 columns</p>\n",
              "</div>"
            ],
            "text/plain": [
              "    country   latitude  longitude                  name  Cluster\n",
              "0        AD  42.546245   1.601554               Andorra        4\n",
              "1        AE  23.424076  53.847818  United Arab Emirates        6\n",
              "2        AF  33.939110  67.709953           Afghanistan        6\n",
              "3        AG  17.060816 -61.796428   Antigua and Barbuda        3\n",
              "4        AI  18.220554 -63.068615              Anguilla        3\n",
              "..      ...        ...        ...                   ...      ...\n",
              "240      YE  15.552727  48.516388                 Yemen        6\n",
              "241      YT -12.827500  45.166244               Mayotte        0\n",
              "242      ZA -30.559482  22.937506          South Africa        0\n",
              "243      ZM -13.133897  27.849332                Zambia        0\n",
              "244      ZW -19.015438  29.154857              Zimbabwe        0\n",
              "\n",
              "[245 rows x 5 columns]"
            ]
          },
          "metadata": {
            "tags": []
          },
          "execution_count": 51
        }
      ]
    },
    {
      "cell_type": "code",
      "metadata": {
        "id": "6bmJ0H6nKXE0",
        "colab_type": "code",
        "colab": {
          "base_uri": "https://localhost:8080/",
          "height": 364
        },
        "outputId": "3e55f220-a038-452d-bcf6-23b6ab210f38"
      },
      "source": [
        "# Plot Scatter Plot\n",
        "# pc.plot_model(km,plot='cluster')\n",
        "plt.scatter(km_df['longitude'],km_df['latitude'],c=km_df['Cluster'],cmap='rainbow')"
      ],
      "execution_count": 52,
      "outputs": [
        {
          "output_type": "execute_result",
          "data": {
            "text/plain": [
              "<matplotlib.collections.PathCollection at 0x7f4cded15128>"
            ]
          },
          "metadata": {
            "tags": []
          },
          "execution_count": 52
        },
        {
          "output_type": "display_data",
          "data": {
            "image/png": "[encoded data removed]",
            "text/plain": [
              "<Figure size 576x396 with 1 Axes>"
            ]
          },
          "metadata": {
            "tags": []
          }
        }
      ]
    },
    {
      "cell_type": "code",
      "metadata": {
        "id": "rSMZYNKrMW3m",
        "colab_type": "code",
        "colab": {
          "base_uri": "https://localhost:8080/",
          "height": 541
        },
        "outputId": "daf44bd0-3984-44de-ea8c-5cf405d061a7"
      },
      "source": [
        "!pip install geopandas descartes"
      ],
      "execution_count": 32,
      "outputs": [
        {
          "output_type": "stream",
          "text": [
            "Collecting geopandas\n",
            "\u001b[?25l  Downloading https://files.pythonhosted.org/packages/f7/a4/e66aafbefcbb717813bf3a355c8c4fc3ed04ea1dd7feb2920f2f4f868921/geopandas-0.8.1-py2.py3-none-any.whl (962kB)\n",
            "\r\u001b[K     |▍                               | 10kB 17.1MB/s eta 0:00:01\r\u001b[K     |▊                               | 20kB 2.2MB/s eta 0:00:01\r\u001b[K     |█                               | 30kB 2.8MB/s eta 0:00:01\r\u001b[K     |█▍                              | 40kB 3.1MB/s eta 0:00:01\r\u001b[K     |█▊                              | 51kB 2.5MB/s eta 0:00:01\r\u001b[K     |██                              | 61kB 2.8MB/s eta 0:00:01\r\u001b[K     |██▍                             | 71kB 3.0MB/s eta 0:00:01\r\u001b[K     |██▊                             | 81kB 3.3MB/s eta 0:00:01\r\u001b[K     |███                             | 92kB 3.5MB/s eta 0:00:01\r\u001b[K     |███▍                            | 102kB 3.4MB/s eta 0:00:01\r\u001b[K     |███▊                            | 112kB 3.4MB/s eta 0:00:01\r\u001b[K     |████                            | 122kB 3.4MB/s eta 0:00:01\r\u001b[K     |████▍                           | 133kB 3.4MB/s eta 0:00:01\r\u001b[K     |████▊                           | 143kB 3.4MB/s eta 0:00:01\r\u001b[K     |█████                           | 153kB 3.4MB/s eta 0:00:01\r\u001b[K     |█████▌                          | 163kB 3.4MB/s eta 0:00:01\r\u001b[K     |█████▉                          | 174kB 3.4MB/s eta 0:00:01\r\u001b[K     |██████▏                         | 184kB 3.4MB/s eta 0:00:01\r\u001b[K     |██████▌                         | 194kB 3.4MB/s eta 0:00:01\r\u001b[K     |██████▉                         | 204kB 3.4MB/s eta 0:00:01\r\u001b[K     |███████▏                        | 215kB 3.4MB/s eta 0:00:01\r\u001b[K     |███████▌                        | 225kB 3.4MB/s eta 0:00:01\r\u001b[K     |███████▉                        | 235kB 3.4MB/s eta 0:00:01\r\u001b[K     |████████▏                       | 245kB 3.4MB/s eta 0:00:01\r\u001b[K     |████████▌                       | 256kB 3.4MB/s eta 0:00:01\r\u001b[K     |████████▉                       | 266kB 3.4MB/s eta 0:00:01\r\u001b[K     |█████████▏                      | 276kB 3.4MB/s eta 0:00:01\r\u001b[K     |█████████▌                      | 286kB 3.4MB/s eta 0:00:01\r\u001b[K     |█████████▉                      | 296kB 3.4MB/s eta 0:00:01\r\u001b[K     |██████████▏                     | 307kB 3.4MB/s eta 0:00:01\r\u001b[K     |██████████▌                     | 317kB 3.4MB/s eta 0:00:01\r\u001b[K     |███████████                     | 327kB 3.4MB/s eta 0:00:01\r\u001b[K     |███████████▎                    | 337kB 3.4MB/s eta 0:00:01\r\u001b[K     |███████████▋                    | 348kB 3.4MB/s eta 0:00:01\r\u001b[K     |████████████                    | 358kB 3.4MB/s eta 0:00:01\r\u001b[K     |████████████▎                   | 368kB 3.4MB/s eta 0:00:01\r\u001b[K     |████████████▋                   | 378kB 3.4MB/s eta 0:00:01\r\u001b[K     |█████████████                   | 389kB 3.4MB/s eta 0:00:01\r\u001b[K     |█████████████▎                  | 399kB 3.4MB/s eta 0:00:01\r\u001b[K     |█████████████▋                  | 409kB 3.4MB/s eta 0:00:01\r\u001b[K     |██████████████                  | 419kB 3.4MB/s eta 0:00:01\r\u001b[K     |██████████████▎                 | 430kB 3.4MB/s eta 0:00:01\r\u001b[K     |██████████████▋                 | 440kB 3.4MB/s eta 0:00:01\r\u001b[K     |███████████████                 | 450kB 3.4MB/s eta 0:00:01\r\u001b[K     |███████████████▎                | 460kB 3.4MB/s eta 0:00:01\r\u001b[K     |███████████████▋                | 471kB 3.4MB/s eta 0:00:01\r\u001b[K     |████████████████                | 481kB 3.4MB/s eta 0:00:01\r\u001b[K     |████████████████▍               | 491kB 3.4MB/s eta 0:00:01\r\u001b[K     |████████████████▊               | 501kB 3.4MB/s eta 0:00:01\r\u001b[K     |█████████████████               | 512kB 3.4MB/s eta 0:00:01\r\u001b[K     |█████████████████▍              | 522kB 3.4MB/s eta 0:00:01\r\u001b[K     |█████████████████▊              | 532kB 3.4MB/s eta 0:00:01\r\u001b[K     |██████████████████              | 542kB 3.4MB/s eta 0:00:01\r\u001b[K     |██████████████████▍             | 552kB 3.4MB/s eta 0:00:01\r\u001b[K     |██████████████████▊             | 563kB 3.4MB/s eta 0:00:01\r\u001b[K     |███████████████████             | 573kB 3.4MB/s eta 0:00:01\r\u001b[K     |███████████████████▍            | 583kB 3.4MB/s eta 0:00:01\r\u001b[K     |███████████████████▊            | 593kB 3.4MB/s eta 0:00:01\r\u001b[K     |████████████████████            | 604kB 3.4MB/s eta 0:00:01\r\u001b[K     |████████████████████▍           | 614kB 3.4MB/s eta 0:00:01\r\u001b[K     |████████████████████▊           | 624kB 3.4MB/s eta 0:00:01\r\u001b[K     |█████████████████████           | 634kB 3.4MB/s eta 0:00:01\r\u001b[K     |█████████████████████▍          | 645kB 3.4MB/s eta 0:00:01\r\u001b[K     |█████████████████████▉          | 655kB 3.4MB/s eta 0:00:01\r\u001b[K     |██████████████████████▏         | 665kB 3.4MB/s eta 0:00:01\r\u001b[K     |██████████████████████▌         | 675kB 3.4MB/s eta 0:00:01\r\u001b[K     |██████████████████████▉         | 686kB 3.4MB/s eta 0:00:01\r\u001b[K     |███████████████████████▏        | 696kB 3.4MB/s eta 0:00:01\r\u001b[K     |███████████████████████▌        | 706kB 3.4MB/s eta 0:00:01\r\u001b[K     |███████████████████████▉        | 716kB 3.4MB/s eta 0:00:01\r\u001b[K     |████████████████████████▏       | 727kB 3.4MB/s eta 0:00:01\r\u001b[K     |████████████████████████▌       | 737kB 3.4MB/s eta 0:00:01\r\u001b[K     |████████████████████████▉       | 747kB 3.4MB/s eta 0:00:01\r\u001b[K     |█████████████████████████▏      | 757kB 3.4MB/s eta 0:00:01\r\u001b[K     |█████████████████████████▌      | 768kB 3.4MB/s eta 0:00:01\r\u001b[K     |█████████████████████████▉      | 778kB 3.4MB/s eta 0:00:01\r\u001b[K     |██████████████████████████▏     | 788kB 3.4MB/s eta 0:00:01\r\u001b[K     |██████████████████████████▌     | 798kB 3.4MB/s eta 0:00:01\r\u001b[K     |██████████████████████████▉     | 808kB 3.4MB/s eta 0:00:01\r\u001b[K     |███████████████████████████▎    | 819kB 3.4MB/s eta 0:00:01\r\u001b[K     |███████████████████████████▋    | 829kB 3.4MB/s eta 0:00:01\r\u001b[K     |████████████████████████████    | 839kB 3.4MB/s eta 0:00:01\r\u001b[K     |████████████████████████████▎   | 849kB 3.4MB/s eta 0:00:01\r\u001b[K     |████████████████████████████▋   | 860kB 3.4MB/s eta 0:00:01\r\u001b[K     |█████████████████████████████   | 870kB 3.4MB/s eta 0:00:01\r\u001b[K     |█████████████████████████████▎  | 880kB 3.4MB/s eta 0:00:01\r\u001b[K     |█████████████████████████████▋  | 890kB 3.4MB/s eta 0:00:01\r\u001b[K     |██████████████████████████████  | 901kB 3.4MB/s eta 0:00:01\r\u001b[K     |██████████████████████████████▎ | 911kB 3.4MB/s eta 0:00:01\r\u001b[K     |██████████████████████████████▋ | 921kB 3.4MB/s eta 0:00:01\r\u001b[K     |███████████████████████████████ | 931kB 3.4MB/s eta 0:00:01\r\u001b[K     |███████████████████████████████▎| 942kB 3.4MB/s eta 0:00:01\r\u001b[K     |███████████████████████████████▋| 952kB 3.4MB/s eta 0:00:01\r\u001b[K     |████████████████████████████████| 962kB 3.4MB/s eta 0:00:01\r\u001b[K     |████████████████████████████████| 972kB 3.4MB/s \n",
            "\u001b[?25hRequirement already satisfied: descartes in /usr/local/lib/python3.6/dist-packages (1.1.0)\n",
            "Collecting fiona\n",
            "\u001b[?25l  Downloading https://files.pythonhosted.org/packages/ec/20/4e63bc5c6e62df889297b382c3ccd4a7a488b00946aaaf81a118158c6f09/Fiona-1.8.13.post1-cp36-cp36m-manylinux1_x86_64.whl (14.7MB)\n",
            "\u001b[K     |████████████████████████████████| 14.7MB 310kB/s \n",
            "\u001b[?25hCollecting pyproj>=2.2.0\n",
            "\u001b[?25l  Downloading https://files.pythonhosted.org/packages/e5/c3/071e080230ac4b6c64f1a2e2f9161c9737a2bc7b683d2c90b024825000c0/pyproj-2.6.1.post1-cp36-cp36m-manylinux2010_x86_64.whl (10.9MB)\n",
            "\u001b[K     |████████████████████████████████| 10.9MB 45.9MB/s \n",
            "\u001b[?25hRequirement already satisfied: shapely in /usr/local/lib/python3.6/dist-packages (from geopandas) (1.7.0)\n",
            "Requirement already satisfied: pandas>=0.23.0 in /usr/local/lib/python3.6/dist-packages (from geopandas) (1.0.5)\n",
            "Requirement already satisfied: matplotlib in /usr/local/lib/python3.6/dist-packages (from descartes) (3.2.2)\n",
            "Requirement already satisfied: click<8,>=4.0 in /usr/local/lib/python3.6/dist-packages (from fiona->geopandas) (7.1.2)\n",
            "Requirement already satisfied: attrs>=17 in /usr/local/lib/python3.6/dist-packages (from fiona->geopandas) (19.3.0)\n",
            "Collecting munch\n",
            "  Downloading https://files.pythonhosted.org/packages/cc/ab/85d8da5c9a45e072301beb37ad7f833cd344e04c817d97e0cc75681d248f/munch-2.5.0-py2.py3-none-any.whl\n",
            "Collecting cligj>=0.5\n",
            "  Downloading https://files.pythonhosted.org/packages/e4/be/30a58b4b0733850280d01f8bd132591b4668ed5c7046761098d665ac2174/cligj-0.5.0-py3-none-any.whl\n",
            "Requirement already satisfied: six>=1.7 in /usr/local/lib/python3.6/dist-packages (from fiona->geopandas) (1.12.0)\n",
            "Collecting click-plugins>=1.0\n",
            "  Downloading https://files.pythonhosted.org/packages/e9/da/824b92d9942f4e472702488857914bdd50f73021efea15b4cad9aca8ecef/click_plugins-1.1.1-py2.py3-none-any.whl\n",
            "Requirement already satisfied: python-dateutil>=2.6.1 in /usr/local/lib/python3.6/dist-packages (from pandas>=0.23.0->geopandas) (2.8.1)\n",
            "Requirement already satisfied: numpy>=1.13.3 in /usr/local/lib/python3.6/dist-packages (from pandas>=0.23.0->geopandas) (1.18.5)\n",
            "Requirement already satisfied: pytz>=2017.2 in /usr/local/lib/python3.6/dist-packages (from pandas>=0.23.0->geopandas) (2018.9)\n",
            "Requirement already satisfied: pyparsing!=2.0.4,!=2.1.2,!=2.1.6,>=2.0.1 in /usr/local/lib/python3.6/dist-packages (from matplotlib->descartes) (2.4.7)\n",
            "Requirement already satisfied: kiwisolver>=1.0.1 in /usr/local/lib/python3.6/dist-packages (from matplotlib->descartes) (1.2.0)\n",
            "Requirement already satisfied: cycler>=0.10 in /usr/local/lib/python3.6/dist-packages (from matplotlib->descartes) (0.10.0)\n",
            "Installing collected packages: munch, cligj, click-plugins, fiona, pyproj, geopandas\n",
            "Successfully installed click-plugins-1.1.1 cligj-0.5.0 fiona-1.8.13.post1 geopandas-0.8.1 munch-2.5.0 pyproj-2.6.1.post1\n"
          ],
          "name": "stdout"
        }
      ]
    },
    {
      "cell_type": "code",
      "metadata": {
        "id": "VEn1IZkyMUTr",
        "colab_type": "code",
        "colab": {}
      },
      "source": [
        "# Map our scatter plot over worldmap\n",
        "import geopandas as gpd\n",
        "# from shapely.geometry import Point,Polygon\n",
        "import descartes"
      ],
      "execution_count": 33,
      "outputs": []
    },
    {
      "cell_type": "code",
      "metadata": {
        "id": "6uVv7NJxMKiJ",
        "colab_type": "code",
        "colab": {
          "base_uri": "https://localhost:8080/",
          "height": 482
        },
        "outputId": "fccd4e6d-7223-43f9-c646-e56074379973"
      },
      "source": [
        "# World Map\n",
        "world = gpd.read_file(gpd.datasets.get_path('naturalearth_lowres'))\n",
        "ax = world.plot(figsize=(20,10))\n",
        "ax.axis('off')"
      ],
      "execution_count": 34,
      "outputs": [
        {
          "output_type": "execute_result",
          "data": {
            "text/plain": [
              "(-198.0, 198.00000000000006, -98.6822565, 92.32738650000002)"
            ]
          },
          "metadata": {
            "tags": []
          },
          "execution_count": 34
        },
        {
          "output_type": "display_data",
          "data": {
            "image/png": "[encoded data removed]",
            "text/plain": [
              "<Figure size 1440x720 with 1 Axes>"
            ]
          },
          "metadata": {
            "tags": []
          }
        }
      ]
    },
    {
      "cell_type": "code",
      "metadata": {
        "id": "_9uMwBbsKxyB",
        "colab_type": "code",
        "colab": {}
      },
      "source": [
        "# Overlap our clusters\n",
        "g01 = gpd.GeoDataFrame(km_df,geometry=gpd.points_from_xy(df['longitude'],df['latitude']))"
      ],
      "execution_count": 36,
      "outputs": []
    },
    {
      "cell_type": "code",
      "metadata": {
        "id": "Hv4X0i1cMIZA",
        "colab_type": "code",
        "colab": {
          "base_uri": "https://localhost:8080/",
          "height": 487
        },
        "outputId": "18aa80d2-3571-4305-c959-17d43f87d2ed"
      },
      "source": [
        "fig,ax = plt.subplots(figsize=(20,10))\n",
        "g01.plot(cmap='rainbow',ax=ax)\n",
        "world.geometry.boundary.plot(color=None,edgecolor='k',linewidth=2,ax=ax)"
      ],
      "execution_count": 53,
      "outputs": [
        {
          "output_type": "execute_result",
          "data": {
            "text/plain": [
              "<matplotlib.axes._subplots.AxesSubplot at 0x7f4cd689ba90>"
            ]
          },
          "metadata": {
            "tags": []
          },
          "execution_count": 53
        },
        {
          "output_type": "display_data",
          "data": {
            "image/png": "[encoded data removed]",
            "text/plain": [
              "<Figure size 1440x720 with 1 Axes>"
            ]
          },
          "metadata": {
            "tags": []
          }
        }
      ]
    },
    {
      "cell_type": "code",
      "metadata": {
        "id": "qCT85wJzMIOo",
        "colab_type": "code",
        "colab": {}
      },
      "source": [
        ""
      ],
      "execution_count": null,
      "outputs": []
    },
    {
      "cell_type": "code",
      "metadata": {
        "id": "7VOjMIdJWA1E",
        "colab_type": "code",
        "colab": {
          "base_uri": "https://localhost:8080/",
          "height": 77
        },
        "outputId": "9f964e3b-7b05-43c6-b168-f0e8a07869d2"
      },
      "source": [
        "km_df[km_df['name'] == 'Ghana']"
      ],
      "execution_count": 54,
      "outputs": [
        {
          "output_type": "execute_result",
          "data": {
            "text/html": [
              "<div>\n",
              "<style scoped>\n",
              "    .dataframe tbody tr th:only-of-type {\n",
              "        vertical-align: middle;\n",
              "    }\n",
              "\n",
              "    .dataframe tbody tr th {\n",
              "        vertical-align: top;\n",
              "    }\n",
              "\n",
              "    .dataframe thead th {\n",
              "        text-align: right;\n",
              "    }\n",
              "</style>\n",
              "<table border=\"1\" class=\"dataframe\">\n",
              "  <thead>\n",
              "    <tr style=\"text-align: right;\">\n",
              "      <th></th>\n",
              "      <th>country</th>\n",
              "      <th>latitude</th>\n",
              "      <th>longitude</th>\n",
              "      <th>name</th>\n",
              "      <th>Cluster</th>\n",
              "    </tr>\n",
              "  </thead>\n",
              "  <tbody>\n",
              "    <tr>\n",
              "      <th>78</th>\n",
              "      <td>GH</td>\n",
              "      <td>7.946527</td>\n",
              "      <td>-1.023194</td>\n",
              "      <td>Ghana</td>\n",
              "      <td>4</td>\n",
              "    </tr>\n",
              "  </tbody>\n",
              "</table>\n",
              "</div>"
            ],
            "text/plain": [
              "   country  latitude  longitude   name  Cluster\n",
              "78      GH  7.946527  -1.023194  Ghana        4"
            ]
          },
          "metadata": {
            "tags": []
          },
          "execution_count": 54
        }
      ]
    },
    {
      "cell_type": "code",
      "metadata": {
        "id": "sAfBUvc9WuGc",
        "colab_type": "code",
        "colab": {}
      },
      "source": [
        "unknown_data = pd.DataFrame([{'latitude':7.946527,'longitude':-1.023194}])"
      ],
      "execution_count": 58,
      "outputs": []
    },
    {
      "cell_type": "code",
      "metadata": {
        "id": "9wlZf0lCXLyg",
        "colab_type": "code",
        "colab": {
          "base_uri": "https://localhost:8080/",
          "height": 77
        },
        "outputId": "c75cb7d2-a2f7-45b7-e1a3-51963b440b3f"
      },
      "source": [
        "unknown_data"
      ],
      "execution_count": 59,
      "outputs": [
        {
          "output_type": "execute_result",
          "data": {
            "text/html": [
              "<div>\n",
              "<style scoped>\n",
              "    .dataframe tbody tr th:only-of-type {\n",
              "        vertical-align: middle;\n",
              "    }\n",
              "\n",
              "    .dataframe tbody tr th {\n",
              "        vertical-align: top;\n",
              "    }\n",
              "\n",
              "    .dataframe thead th {\n",
              "        text-align: right;\n",
              "    }\n",
              "</style>\n",
              "<table border=\"1\" class=\"dataframe\">\n",
              "  <thead>\n",
              "    <tr style=\"text-align: right;\">\n",
              "      <th></th>\n",
              "      <th>latitude</th>\n",
              "      <th>longitude</th>\n",
              "    </tr>\n",
              "  </thead>\n",
              "  <tbody>\n",
              "    <tr>\n",
              "      <th>0</th>\n",
              "      <td>7.946527</td>\n",
              "      <td>-1.023194</td>\n",
              "    </tr>\n",
              "  </tbody>\n",
              "</table>\n",
              "</div>"
            ],
            "text/plain": [
              "   latitude  longitude\n",
              "0  7.946527  -1.023194"
            ]
          },
          "metadata": {
            "tags": []
          },
          "execution_count": 59
        }
      ]
    },
    {
      "cell_type": "code",
      "metadata": {
        "id": "F8CTt6raWif5",
        "colab_type": "code",
        "colab": {}
      },
      "source": [
        "# Predict Continent\n",
        "km_pred = pc.predict_model(km,data=unknown_data)"
      ],
      "execution_count": 60,
      "outputs": []
    },
    {
      "cell_type": "code",
      "metadata": {
        "id": "9uFCBMOuWiSO",
        "colab_type": "code",
        "colab": {
          "base_uri": "https://localhost:8080/",
          "height": 77
        },
        "outputId": "bef99ee7-5b11-4e8a-972e-522ede2218e3"
      },
      "source": [
        "km_pred"
      ],
      "execution_count": 61,
      "outputs": [
        {
          "output_type": "execute_result",
          "data": {
            "text/html": [
              "<div>\n",
              "<style scoped>\n",
              "    .dataframe tbody tr th:only-of-type {\n",
              "        vertical-align: middle;\n",
              "    }\n",
              "\n",
              "    .dataframe tbody tr th {\n",
              "        vertical-align: top;\n",
              "    }\n",
              "\n",
              "    .dataframe thead th {\n",
              "        text-align: right;\n",
              "    }\n",
              "</style>\n",
              "<table border=\"1\" class=\"dataframe\">\n",
              "  <thead>\n",
              "    <tr style=\"text-align: right;\">\n",
              "      <th></th>\n",
              "      <th>latitude</th>\n",
              "      <th>longitude</th>\n",
              "      <th>Cluster</th>\n",
              "    </tr>\n",
              "  </thead>\n",
              "  <tbody>\n",
              "    <tr>\n",
              "      <th>0</th>\n",
              "      <td>7.946527</td>\n",
              "      <td>-1.023194</td>\n",
              "      <td>Cluster 4</td>\n",
              "    </tr>\n",
              "  </tbody>\n",
              "</table>\n",
              "</div>"
            ],
            "text/plain": [
              "   latitude  longitude    Cluster\n",
              "0  7.946527  -1.023194  Cluster 4"
            ]
          },
          "metadata": {
            "tags": []
          },
          "execution_count": 61
        }
      ]
    },
    {
      "cell_type": "code",
      "metadata": {
        "id": "hfm1tE2qWAqV",
        "colab_type": "code",
        "colab": {}
      },
      "source": [
        ""
      ],
      "execution_count": null,
      "outputs": []
    },
    {
      "cell_type": "code",
      "metadata": {
        "id": "D-5wc4yELWnI",
        "colab_type": "code",
        "colab": {}
      },
      "source": [
        "#### Thanks For Watching\n",
        "### Jesus Saves @JCharisTech\n",
        "### By Jesse E.Agbe(JCharis)"
      ],
      "execution_count": null,
      "outputs": []
    }
  ]
}