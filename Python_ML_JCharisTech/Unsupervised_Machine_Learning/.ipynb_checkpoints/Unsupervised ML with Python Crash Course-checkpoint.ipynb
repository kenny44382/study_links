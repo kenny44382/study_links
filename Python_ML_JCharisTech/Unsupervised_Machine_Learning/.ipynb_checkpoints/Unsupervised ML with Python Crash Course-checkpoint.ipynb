{
 "cells": [
  {
   "cell_type": "markdown",
   "metadata": {},
   "source": [
    "### Unsupervised Machine Learning with Scikit-learn\n",
    "\n",
    "\n",
    "#### Types of ML\n",
    "\n",
    "![](ml_types2.png)\n",
    "\n",
    "+ Source: tdsc\n",
    "\n",
    "\n",
    "Unsupervised ML:  use of unlabeled data for training \n",
    "+ The systems tries to learn without a teacher\n",
    "+ You are not given a target value/label that you are to predict the outcome as\n",
    "+ We only have the independent variables(x) and no target/dependent variable(y) in these problems.\n",
    "\n",
    "\n",
    "#### Libraries\n",
    "+ pandas\n",
    "+ scikit-learn\n",
    "+ pycaret\n",
    "+ hdbscan\n",
    "\n",
    "#### Types of UML Algorithms\n",
    "+ Clustering\n",
    "+ Anomaly Detection:outlier detection\n",
    "+ Novelty Detection:\n",
    "+ Visualization\n",
    "+ Dimensionality Reduction:simplify data without losing too much info by merging correlated features into one\n",
    "+ Association Rule Learning:discovering interesting relations btwn attributes\n",
    "\n",
    "    \n",
    "#### Clustering Unsupervised ML Task\n",
    "+ Clustering:\n",
    "    - The process of grouping dataset in to groups in such a way that similar datapoints are in the same group\n",
    "    - Usefulness\n",
    "        - EDA\n",
    "        - Pattern Recognition\n",
    "        - Image Analysis\n",
    "        + For working with unlabelled data\n",
    "        + Search engines image search\n",
    "        + Customer segmentation\n",
    "        + Market segmentation\n",
    "        + Outlier Detection\n",
    "        + clustering similar documents together, \n",
    "        + recommending similar songs or movies,\n",
    "\n",
    "\n",
    "#### Types of Clustering\n",
    "+ Flat vs Hierarchical\n",
    "+ Centroid Based vs Density Based\n",
    "\n",
    "\n",
    "![](mlclassifiers.png)\n",
    "\n",
    "\n",
    "#### Basic Principle Behind Clustering\n",
    "All are based on different distance measures. \n",
    " \n",
    " + K-Means (distance between points), \n",
    " + Affinity propagation (graph distance), \n",
    " + Mean-shift (distance between points), \n",
    " + DBSCAN (distance between nearest points), \n",
    " + Gaussian mixtures (Mahalanobis distance to centers), \n",
    " + Spectral clustering (graph distance), etc.\n",
    "\n",
    "#### Terms\n",
    "+ Centroid: a data point at the center of a group/cluster\n",
    "\n",
    "\n",
    "#### Data Source\n",
    "+ https://archive.ics.uci.edu/ml/datasets\n",
    "    "
   ]
  },
  {
   "cell_type": "markdown",
   "metadata": {},
   "source": [
    "### Clustering using KMeans Algorithm\n",
    "+ Kmeans(Lloyd Forgy Algorithm)\n",
    "+ MiniBatchKmeans\n",
    "\n",
    "#### Benefits\n",
    "+ Fast and Scalable\n",
    "\n",
    "\n",
    "#### Demerits\n",
    "+ Need to know th number of clusters\n",
    "+ problem of having to pre-define the number of clusters.\n",
    "    - Elbow Method/Silhoutte Method\n",
    "    - Hierarchical Clustering:\n",
    "+ Varying sizes and different densities may affect performance\n",
    "    - scaling\n",
    "\n",
    "\n",
    "#### Terms\n",
    "+ k = number of clusters\n",
    "+ .label_: index of cluster \n",
    "+ .cluster_centers_: centroid\n",
    "+ .inertia_: performance metric of mean sq distance btwn each instance and its closest centroid\n",
    "+ .score:\n",
    "\n"
   ]
  },
  {
   "cell_type": "code",
   "execution_count": 1,
   "metadata": {},
   "outputs": [],
   "source": [
    "# Load EDA Pkgs\n",
    "import pandas as pd\n",
    "import numpy as np"
   ]
  },
  {
   "cell_type": "code",
   "execution_count": 2,
   "metadata": {
    "collapsed": true,
    "jupyter": {
     "outputs_hidden": true
    }
   },
   "outputs": [
    {
     "name": "stderr",
     "output_type": "stream",
     "text": [
      "/usr/local/lib/python3.7/dist-packages/statsmodels/tools/_testing.py:19: FutureWarning: pandas.util.testing is deprecated. Use the functions in the public API at pandas.testing instead.\n",
      "  import pandas.util.testing as tm\n"
     ]
    }
   ],
   "source": [
    "# Load Visualization\n",
    "import matplotlib.pyplot as plt\n",
    "import seaborn as sns\n",
    "%matplotlib inline"
   ]
  },
  {
   "cell_type": "markdown",
   "metadata": {},
   "source": [
    "#### Task\n",
    "+ Find the different clusters\n",
    "+ Customer segmentation\n",
    "    - Different types of customer/buyers in a market"
   ]
  },
  {
   "cell_type": "code",
   "execution_count": null,
   "metadata": {},
   "outputs": [],
   "source": []
  },
  {
   "cell_type": "code",
   "execution_count": null,
   "metadata": {},
   "outputs": [],
   "source": []
  },
  {
   "cell_type": "code",
   "execution_count": null,
   "metadata": {},
   "outputs": [],
   "source": []
  },
  {
   "cell_type": "markdown",
   "metadata": {},
   "source": [
    "### Working with Kmeans"
   ]
  },
  {
   "cell_type": "code",
   "execution_count": null,
   "metadata": {},
   "outputs": [],
   "source": []
  },
  {
   "cell_type": "code",
   "execution_count": null,
   "metadata": {},
   "outputs": [],
   "source": []
  },
  {
   "cell_type": "code",
   "execution_count": null,
   "metadata": {},
   "outputs": [],
   "source": []
  },
  {
   "cell_type": "code",
   "execution_count": null,
   "metadata": {},
   "outputs": [],
   "source": []
  },
  {
   "cell_type": "markdown",
   "metadata": {},
   "source": [
    "#### How to Find the Optimal K for the cluster\n",
    "+ Elbow Method\n",
    "+ Silhouetter Method\n",
    "\n",
    "\n",
    "#### How to choose the best k - number for your cluster\n",
    "+ Elbow method\n",
    "+ Silhoutte score\n",
    "    - +1 : close to 1 means that datapoint is inside it own cluster\n",
    "    - 0 : close to 0 means it is close to a cluster boundary\n",
    "    - -1 : close to 1 means it is in a wrong cluster\n"
   ]
  },
  {
   "cell_type": "code",
   "execution_count": 30,
   "metadata": {},
   "outputs": [],
   "source": [
    "# Elbow Method\n",
    "# Use the sum of squared distance and find where there is a bent\n",
    "\n",
    "sum_of_sqr_distance = []\n",
    "k_range = range(1,15)\n",
    "for k in k_range:\n",
    "    km_model2 = KMeans(n_clusters=k)\n",
    "    km_model2.fit(df)\n",
    "    sum_of_sqr_distance.append(km_model2.inertia_)"
   ]
  },
  {
   "cell_type": "code",
   "execution_count": null,
   "metadata": {},
   "outputs": [],
   "source": []
  },
  {
   "cell_type": "code",
   "execution_count": null,
   "metadata": {},
   "outputs": [],
   "source": []
  },
  {
   "cell_type": "markdown",
   "metadata": {},
   "source": [
    "#### Using Silhouette Method for finding Optimal K\n"
   ]
  },
  {
   "cell_type": "code",
   "execution_count": 34,
   "metadata": {
    "collapsed": true,
    "jupyter": {
     "outputs_hidden": true
    }
   },
   "outputs": [
    {
     "name": "stdout",
     "output_type": "stream",
     "text": [
      "For n_clusters = 2, silhouette score is 0.6547312337772452)\n",
      "For n_clusters = 3, silhouette score is 0.7393168523275077)\n",
      "For n_clusters = 4, silhouette score is 0.7207226008574878)\n",
      "For n_clusters = 5, silhouette score is 0.6382039175207864)\n",
      "For n_clusters = 6, silhouette score is 0.5801124274809953)\n"
     ]
    }
   ],
   "source": [
    "range_n_clusters = [2, 3, 4, 5, 6]\n",
    "for n_clusters in range_n_clusters:\n",
    "    km_models3 = KMeans(n_clusters=n_clusters)\n",
    "    preds = km_models3.fit_predict(df)\n",
    "    centers = km_models3.cluster_centers_\n",
    "\n",
    "    score = silhouette_score(df, preds)\n",
    "    print(\"For n_clusters = {}, silhouette score is {})\".format(n_clusters, score))"
   ]
  },
  {
   "cell_type": "markdown",
   "metadata": {},
   "source": [
    "### Plotting the Clusters"
   ]
  },
  {
   "cell_type": "markdown",
   "metadata": {},
   "source": [
    "#### Scatter Plot with Centroids"
   ]
  },
  {
   "cell_type": "code",
   "execution_count": 43,
   "metadata": {
    "jupyter": {
     "source_hidden": true
    }
   },
   "outputs": [
    {
     "data": {
      "text/plain": [
       "<matplotlib.legend.Legend at 0x7fc935896950>"
      ]
     },
     "execution_count": 43,
     "metadata": {},
     "output_type": "execute_result"
    },
    {
     "data": {
      "image/png": "[encoded data removed]",
      "text/plain": [
       "<Figure size 432x288 with 1 Axes>"
      ]
     },
     "metadata": {
      "needs_background": "light"
     },
     "output_type": "display_data"
    }
   ],
   "source": [
    "plt.scatter(df0['Age'],df0['Savings'],color='black')\n",
    "plt.scatter(df1['Age'],df1['Savings'],color='green')\n",
    "plt.scatter(df2['Age'],df2['Savings'],color='red')\n",
    "plt.scatter(df3['Age'],df3['Savings'],color='yellow')\n",
    "plt.scatter(km_model.cluster_centers_\n",
    "           [:,0],km_model.\n",
    "            cluster_centers_[:,3],\n",
    "           color='purple',marker='*',\n",
    "           label='centroid')\n",
    "\n",
    "plt.xlabel('Features')\n",
    "plt.ylabel('Cluster')\n",
    "plt.legend()"
   ]
  },
  {
   "cell_type": "markdown",
   "metadata": {},
   "source": [
    "#### Using Silhouette Plot\n",
    "+ The silhouette score is a measure of how similar an object is to its own cluster (cohesion) compared to other clusters (separation)."
   ]
  },
  {
   "cell_type": "code",
   "execution_count": 56,
   "metadata": {
    "jupyter": {
     "source_hidden": true
    }
   },
   "outputs": [],
   "source": [
    "from sklearn.metrics import silhouette_samples, silhouette_score\n",
    "\n",
    "def silhoutte_kmeans_plot(X,range_n_clusters):\n",
    "#     range_n_clusters = [2, 3, 4, 5, 6]\n",
    "    for n_clusters in range_n_clusters:\n",
    "        # Create a subplot with 1 row and 2 columns\n",
    "        fig, (ax1, ax2) = plt.subplots(1, 2)\n",
    "        fig.set_size_inches(18, 7)\n",
    "\n",
    "        # The 1st subplot is the silhouette plot\n",
    "        # The silhouette coefficient can range from -1, 1 but in this example all\n",
    "        # lie within [-0.1, 1]\n",
    "        ax1.set_xlim([-0.1, 1])\n",
    "        # The (n_clusters+1)*10 is for inserting blank space between silhouette\n",
    "        # plots of individual clusters, to demarcate them clearly.\n",
    "        ax1.set_ylim([0, len(X) + (n_clusters + 1) * 10])\n",
    "\n",
    "        # Initialize the clusterer with n_clusters value and a random generator\n",
    "        # seed of 10 for reproducibility.\n",
    "        clusterer = KMeans(n_clusters=n_clusters, random_state=10)\n",
    "        cluster_labels = clusterer.fit_predict(X)\n",
    "\n",
    "        # The silhouette_score gives the average value for all the samples.\n",
    "        # This gives a perspective into the density and separation of the formed\n",
    "        # clusters\n",
    "        silhouette_avg = silhouette_score(X, cluster_labels)\n",
    "        print(\"For n_clusters =\", n_clusters,\n",
    "              \"The average silhouette_score is :\", silhouette_avg)\n",
    "\n",
    "        # Compute the silhouette scores for each sample\n",
    "        sample_silhouette_values = silhouette_samples(X, cluster_labels)\n",
    "\n",
    "        y_lower = 10\n",
    "        for i in range(n_clusters):\n",
    "            # Aggregate the silhouette scores for samples belonging to\n",
    "            # cluster i, and sort them\n",
    "            ith_cluster_silhouette_values = \\\n",
    "                sample_silhouette_values[cluster_labels == i]\n",
    "\n",
    "            ith_cluster_silhouette_values.sort()\n",
    "\n",
    "            size_cluster_i = ith_cluster_silhouette_values.shape[0]\n",
    "            y_upper = y_lower + size_cluster_i\n",
    "\n",
    "            color = cm.nipy_spectral(float(i) / n_clusters)\n",
    "            ax1.fill_betweenx(np.arange(y_lower, y_upper),\n",
    "                              0, ith_cluster_silhouette_values,\n",
    "                              facecolor=color, edgecolor=color, alpha=0.7)\n",
    "\n",
    "            # Label the silhouette plots with their cluster numbers at the middle\n",
    "            ax1.text(-0.05, y_lower + 0.5 * size_cluster_i, str(i))\n",
    "\n",
    "            # Compute the new y_lower for next plot\n",
    "            y_lower = y_upper + 10  # 10 for the 0 samples\n",
    "\n",
    "        ax1.set_title(\"The silhouette plot for the various clusters.\")\n",
    "        ax1.set_xlabel(\"The silhouette coefficient values\")\n",
    "        ax1.set_ylabel(\"Cluster label\")\n",
    "\n",
    "        # The vertical line for average silhouette score of all the values\n",
    "        ax1.axvline(x=silhouette_avg, color=\"red\", linestyle=\"--\")\n",
    "\n",
    "        ax1.set_yticks([])  # Clear the yaxis labels / ticks\n",
    "        ax1.set_xticks([-0.1, 0, 0.2, 0.4, 0.6, 0.8, 1])\n",
    "\n",
    "        # 2nd Plot showing the actual clusters formed\n",
    "        colors = cm.nipy_spectral(cluster_labels.astype(float) / n_clusters)\n",
    "        ax2.scatter(X[:, 0], X[:, 1], marker='.', s=30, lw=0, alpha=0.7,\n",
    "                    c=colors, edgecolor='k')\n",
    "\n",
    "        # Labeling the clusters\n",
    "        centers = clusterer.cluster_centers_\n",
    "        # Draw white circles at cluster centers\n",
    "        ax2.scatter(centers[:, 0], centers[:, 1], marker='o',\n",
    "                    c=\"white\", alpha=1, s=200, edgecolor='k')\n",
    "\n",
    "        for i, c in enumerate(centers):\n",
    "            ax2.scatter(c[0], c[1], marker='$%d$' % i, alpha=1,\n",
    "                        s=50, edgecolor='k')\n",
    "\n",
    "        ax2.set_title(\"The visualization of the clustered data.\")\n",
    "        ax2.set_xlabel(\"Feature space for the 1st feature\")\n",
    "        ax2.set_ylabel(\"Feature space for the 2nd feature\")\n",
    "\n",
    "        plt.suptitle((\"Silhouette analysis for KMeans clustering on sample data \"\n",
    "                      \"with n_clusters = %d\" % n_clusters),\n",
    "                     fontsize=14, fontweight='bold')\n",
    "\n",
    "    plt.show()"
   ]
  },
  {
   "cell_type": "markdown",
   "metadata": {},
   "source": [
    "+ DBSCAN stands for Density-Based Spatial Clustering of Applications with Noise\n",
    "+ It refers to an unsupervised learning methods that identify distinctive groups/clusters in the data, based on the idea that a cluster in data space is a contiguous region of high point density, separated from other such clusters by contiguous regions of low point density.(kdnuggets)\n",
    "+ \n",
    "\n",
    "+ DBSCAN is a base algorithm for density-based clustering. \n",
    "+ It can discover clusters of different shapes and sizes from a large amount of data\n",
    "\n",
    "#### Usefulness\n",
    "+ Unsupervised ML\n",
    "+ Outlier Detection\n",
    "+ Noise detection\n",
    "\n",
    "\n",
    "#### Terms\n",
    "The DBSCAN algorithm uses two parameters:\n",
    "+ eps (ε): A distance measure that will be used to locate the points in the neighborhood of any point.\n",
    "\n",
    "+ minPts: The minimum number of points (a threshold) clustered together for a region to be considered dense.\n",
    "    - minPt >= Dimensions of dataset + 1\n",
    "\n",
    "+ Core point — This is a point that has at least m points within distance n from itself.\n",
    "+ Border — This is a point that has at least one Core point at a distance n.\n",
    "+ Noise — This is a point that is neither a Core nor a Border. And it has less than m points within distance n from itself.\n",
    "\n",
    "These parameters can be understood if we explore two concepts called Density Reachability and Density Connectivity.\n",
    "\n",
    "Reachability in terms of density establishes a point to be reachable from another if it lies within a particular distance (eps) from it.\n",
    "\n",
    "Connectivity, on the other hand, involves a transitivity based chaining-approach to determine whether points are located in a particular cluster. For example, p and q points could be connected if p->r->s->t->q, where a->b means b is in the neighborhood of a.\n",
    "\n",
    "\n",
    "\n",
    "\n",
    "\n"
   ]
  },
  {
   "cell_type": "markdown",
   "metadata": {},
   "source": [
    "![](dbscan_graph.png)\n",
    "\n",
    "![](dbscan_terms.png)"
   ]
  },
  {
   "cell_type": "markdown",
   "metadata": {},
   "source": [
    "#### Scaling Dataset\n",
    "+ StandardScaler\n",
    "+ MinMaxScaler"
   ]
  },
  {
   "cell_type": "code",
   "execution_count": null,
   "metadata": {},
   "outputs": [],
   "source": []
  },
  {
   "cell_type": "code",
   "execution_count": null,
   "metadata": {},
   "outputs": [],
   "source": []
  },
  {
   "cell_type": "markdown",
   "metadata": {},
   "source": [
    "### Clustering using BIRCH"
   ]
  },
  {
   "cell_type": "markdown",
   "metadata": {},
   "source": [
    "+ BIRCH stands for Balanced Iterative Reducing and Clustering using Hierarchies\n",
    "+ It is a hierarchical clustering algorithm. \n",
    "+ It provides a memory-efficient clustering method for large datasets.\n",
    "+ Very good for large dataset\n",
    "+ Clustering is conducted without scanning all points in a dataset. \n",
    "+ The BIRCH algorithm creates Clustering Features (CF) Tree for a given dataset and CF contains the number of sub-clusters that holds only a necessary part of the data. Thus the method does not require to memorize the entire dataset.\n",
    "\n",
    "\n",
    "#### Terms\n",
    "+  branching_factor: it defines the number of sub-clusters and \n",
    "+ threshold: it sets the limit between the sample and sub-cluster.\n",
    "\n",
    "\n",
    "#### Benefit\n",
    "+ Useful for large dataset\n",
    "+ BIRCH can work with any given amount of memory, and the I/O complexity is a little more than one scan of data."
   ]
  },
  {
   "cell_type": "code",
   "execution_count": null,
   "metadata": {},
   "outputs": [],
   "source": []
  },
  {
   "cell_type": "markdown",
   "metadata": {},
   "source": [
    "### Clustering using Hierarchical Clustering\n",
    "+ Hierarchical Clustering: the process of building a hierarchy or ordering of clusters till only one cluster is left\n",
    "    \n",
    "#### Types of Hierarchical Clustering\n",
    "+ Additive(Agglomerative) hierarchical clustering\n",
    "    - Agglomerate (merge or join)\n",
    "    - Assign each point to a cluster\n",
    "    - Merge/Join closes pairs of clusters into one\n",
    "    - Repeat until you have a single cluster\n",
    "    - You keep on adding or joining clusters \n",
    "\n",
    "+ Divisive hierarchical clustering\n",
    "    - Opposite of Additive\n",
    "    - Start with a single large cluster\n",
    "    - Divide/Split the farthest point in the cluster\n",
    "    - Repeat until each cluster only contains a single data point\n",
    "    \n",
    "    \n",
    "#### Terms\n",
    "+ Similarity Distance\n",
    "+ Proximity Matrix: it stores the distances between each point\n",
    "+ Dendogram: used to find the number of clusters\n",
    "    - A dendrogram is a tree-like diagram that records the sequences of merges or splits.\n",
    "    - The number of clusters will be the number of vertical lines which are being intersected by the line drawn using the threshold."
   ]
  },
  {
   "cell_type": "markdown",
   "metadata": {},
   "source": [
    "#### Agglomerative Hierarchical Clustering\n",
    "+ Merging clusters\n",
    "+ Dendogram to detect n_clusters to use and end at"
   ]
  },
  {
   "cell_type": "code",
   "execution_count": 40,
   "metadata": {},
   "outputs": [],
   "source": [
    "#### Thanks For Watching\n",
    "### Jesus Saves @JCharisTech\n",
    "### By Jesse E.Agbe(JCharis)"
   ]
  },
  {
   "cell_type": "code",
   "execution_count": null,
   "metadata": {},
   "outputs": [],
   "source": []
  }
 ],
 "metadata": {
  "kernelspec": {
   "display_name": "Python 3",
   "language": "python",
   "name": "python3"
  },
  "language_info": {
   "codemirror_mode": {
    "name": "ipython",
    "version": 3
   },
   "file_extension": ".py",
   "mimetype": "text/x-python",
   "name": "python",
   "nbconvert_exporter": "python",
   "pygments_lexer": "ipython3",
   "version": "3.7.5"
  }
 },
 "nbformat": 4,
 "nbformat_minor": 4
}
