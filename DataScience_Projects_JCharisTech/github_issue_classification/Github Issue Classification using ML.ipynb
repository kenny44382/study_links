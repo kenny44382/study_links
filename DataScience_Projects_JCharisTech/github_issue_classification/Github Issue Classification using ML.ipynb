{
 "cells": [
  {
   "cell_type": "markdown",
   "id": "94f784e0-0551-4836-a2d5-29bf7c668f7f",
   "metadata": {},
   "source": [
    "### Machine Learning Project on Github Issues\n",
    "####  Github Issue Classification \n",
    "+ Predicting if Github Issue is a Bug,Enhancement,Question or Docs,etc.\n",
    "\n",
    "#### Data Source\n",
    "+ https://tickettagger.blob.core.windows.net/datasets/dataset-labels-top3-30k-real.txt\n",
    "+ https://gist.githubusercontent.com/rafaelkallis/6aa281b00d73d77fc843bd34f8184854/raw/8c10ebf2fd6f937f8\n",
    "+ + https://github.com/dotnet/samples/tree/main/machine-learning/tutorials/GitHubIssueClassification/Data\n",
    "\n",
    "#### Credits & Derivative Work\n",
    "+ BEE, Yang Song and Oscar Chaparro\n",
    "+ Tim Moser, David Steiger, Christian Birchler, Lara Fried, Sebastiano Panichella, Rafael Kallis\n",
    "    \n"
   ]
  },
  {
   "cell_type": "code",
   "execution_count": 1,
   "id": "ccb35f95-bd1e-46e1-9147-a8ba23b3ea59",
   "metadata": {},
   "outputs": [],
   "source": [
    "# Load EDA Pkgs\n",
    "import pandas as pd\n",
    "import numpy as np\n",
    "\n",
    "# Load Data Viz\n",
    "import matplotlib.pyplot as plt\n",
    "import seaborn as sns"
   ]
  },
  {
   "cell_type": "code",
   "execution_count": 42,
   "id": "62ab3fda-631f-4ce0-ac9a-be25b074db1c",
   "metadata": {},
   "outputs": [],
   "source": [
    "# Load ML Pkgs\n",
    "from sklearn.linear_model import LogisticRegression\n",
    "from sklearn.naive_bayes import MultinomialNB\n",
    "from sklearn.tree import DecisionTreeClassifier\n",
    "from sklearn.pipeline import Pipeline\n",
    "from sklearn.model_selection import train_test_split\n",
    "from sklearn.metrics import accuracy_score,classification_report,confusion_matrix,plot_confusion_matrix\n",
    "from sklearn.feature_extraction.text import CountVectorizer,TfidfVectorizer\n",
    "from sklearn.dummy import DummyClassifier"
   ]
  },
  {
   "cell_type": "code",
   "execution_count": 3,
   "id": "9be6a035-350c-4c19-853f-e75496c0647f",
   "metadata": {},
   "outputs": [
    {
     "name": "stdout",
     "output_type": "stream",
     "text": [
      "--2021-11-27 11:05:41--  https://tickettagger.blob.core.windows.net/datasets/dataset-labels-top3-30k-real.txt\n",
      "Resolving tickettagger.blob.core.windows.net (tickettagger.blob.core.windows.net)... 52.239.251.68\n",
      "Connecting to tickettagger.blob.core.windows.net (tickettagger.blob.core.windows.net)|52.239.251.68|:443... connected.\n",
      "HTTP request sent, awaiting response... 200 OK\n",
      "Length: 22598414 (22M) [text/plain]\n",
      "Saving to: ‘dataset-labels-top3-30k-real.txt’\n",
      "\n",
      "dataset-labels-top3 100%[===================>]  21.55M  2.41MB/s    in 10s     \n",
      "\n",
      "2021-11-27 11:05:52 (2.15 MB/s) - ‘dataset-labels-top3-30k-real.txt’ saved [22598414/22598414]\n",
      "\n"
     ]
    }
   ],
   "source": [
    "### Data Collection\n",
    "!wget https://tickettagger.blob.core.windows.net/datasets/dataset-labels-top3-30k-real.txt"
   ]
  },
  {
   "cell_type": "code",
   "execution_count": 4,
   "id": "fbea7a19-7e37-4dda-945b-71de87174ad9",
   "metadata": {},
   "outputs": [
    {
     "name": "stdout",
     "output_type": "stream",
     "text": [
      " dataset-labels-top3-30k-real.txt  'Github Issue Classification using ML.ipynb'\n"
     ]
    }
   ],
   "source": [
    "!ls"
   ]
  },
  {
   "cell_type": "code",
   "execution_count": 8,
   "id": "3117321c-f78d-4b9f-a9ce-840e850a358e",
   "metadata": {},
   "outputs": [],
   "source": [
    "# Load Dataset\n",
    "df = pd.read_csv(\"dataset-labels-top3-30k-real.txt\",header=None)"
   ]
  },
  {
   "cell_type": "code",
   "execution_count": 9,
   "id": "9c4fbdd5-0cd7-4863-ac68-cea371914a6b",
   "metadata": {},
   "outputs": [
    {
     "data": {
      "text/html": [
       "<div>\n",
       "<style scoped>\n",
       "    .dataframe tbody tr th:only-of-type {\n",
       "        vertical-align: middle;\n",
       "    }\n",
       "\n",
       "    .dataframe tbody tr th {\n",
       "        vertical-align: top;\n",
       "    }\n",
       "\n",
       "    .dataframe thead th {\n",
       "        text-align: right;\n",
       "    }\n",
       "</style>\n",
       "<table border=\"1\" class=\"dataframe\">\n",
       "  <thead>\n",
       "    <tr style=\"text-align: right;\">\n",
       "      <th></th>\n",
       "      <th>0</th>\n",
       "    </tr>\n",
       "  </thead>\n",
       "  <tbody>\n",
       "    <tr>\n",
       "      <th>0</th>\n",
       "      <td>__label__enhancement Exception handling # Desc...</td>\n",
       "    </tr>\n",
       "    <tr>\n",
       "      <th>1</th>\n",
       "      <td>__label__enhancement Subpasses in MSL and HLSL...</td>\n",
       "    </tr>\n",
       "    <tr>\n",
       "      <th>2</th>\n",
       "      <td>__label__enhancement Collect new discovered no...</td>\n",
       "    </tr>\n",
       "    <tr>\n",
       "      <th>3</th>\n",
       "      <td>__label__enhancement Lock property : several p...</td>\n",
       "    </tr>\n",
       "    <tr>\n",
       "      <th>4</th>\n",
       "      <td>__label__bug Return default location type labe...</td>\n",
       "    </tr>\n",
       "  </tbody>\n",
       "</table>\n",
       "</div>"
      ],
      "text/plain": [
       "                                                   0\n",
       "0  __label__enhancement Exception handling # Desc...\n",
       "1  __label__enhancement Subpasses in MSL and HLSL...\n",
       "2  __label__enhancement Collect new discovered no...\n",
       "3  __label__enhancement Lock property : several p...\n",
       "4  __label__bug Return default location type labe..."
      ]
     },
     "execution_count": 9,
     "metadata": {},
     "output_type": "execute_result"
    }
   ],
   "source": [
    "df.head()"
   ]
  },
  {
   "cell_type": "markdown",
   "id": "c425c1a9-3abe-46c3-9b24-5a77468daf2f",
   "metadata": {},
   "source": [
    "#### Text Cleaning\n",
    "+ extract the labels from the text\n",
    "    - Originally in FastText format \n",
    "    - __label__enhancement|bug|question"
   ]
  },
  {
   "cell_type": "code",
   "execution_count": 14,
   "id": "82ce15be-06e1-443d-b4c7-0d110b0ee019",
   "metadata": {},
   "outputs": [],
   "source": [
    "df_new = df[0].str.split(r'(__label__enhancement)|(__label__bug)|(__label__question)',expand=True)"
   ]
  },
  {
   "cell_type": "code",
   "execution_count": 15,
   "id": "ba0b8545-d725-4fbb-ad34-8cbc5ccf7426",
   "metadata": {
    "collapsed": true,
    "jupyter": {
     "outputs_hidden": true
    },
    "tags": []
   },
   "outputs": [
    {
     "data": {
      "text/html": [
       "<div>\n",
       "<style scoped>\n",
       "    .dataframe tbody tr th:only-of-type {\n",
       "        vertical-align: middle;\n",
       "    }\n",
       "\n",
       "    .dataframe tbody tr th {\n",
       "        vertical-align: top;\n",
       "    }\n",
       "\n",
       "    .dataframe thead th {\n",
       "        text-align: right;\n",
       "    }\n",
       "</style>\n",
       "<table border=\"1\" class=\"dataframe\">\n",
       "  <thead>\n",
       "    <tr style=\"text-align: right;\">\n",
       "      <th></th>\n",
       "      <th>0</th>\n",
       "      <th>1</th>\n",
       "      <th>2</th>\n",
       "      <th>3</th>\n",
       "      <th>4</th>\n",
       "    </tr>\n",
       "  </thead>\n",
       "  <tbody>\n",
       "    <tr>\n",
       "      <th>0</th>\n",
       "      <td></td>\n",
       "      <td>__label__enhancement</td>\n",
       "      <td>None</td>\n",
       "      <td>None</td>\n",
       "      <td>Exception handling # Description  The methods...</td>\n",
       "    </tr>\n",
       "    <tr>\n",
       "      <th>1</th>\n",
       "      <td></td>\n",
       "      <td>__label__enhancement</td>\n",
       "      <td>None</td>\n",
       "      <td>None</td>\n",
       "      <td>Subpasses in MSL and HLSL Sorry for all the i...</td>\n",
       "    </tr>\n",
       "    <tr>\n",
       "      <th>2</th>\n",
       "      <td></td>\n",
       "      <td>__label__enhancement</td>\n",
       "      <td>None</td>\n",
       "      <td>None</td>\n",
       "      <td>Collect new discovered nodes Collect new adde...</td>\n",
       "    </tr>\n",
       "    <tr>\n",
       "      <th>3</th>\n",
       "      <td></td>\n",
       "      <td>__label__enhancement</td>\n",
       "      <td>None</td>\n",
       "      <td>None</td>\n",
       "      <td>Lock property : several properties at once</td>\n",
       "    </tr>\n",
       "    <tr>\n",
       "      <th>4</th>\n",
       "      <td></td>\n",
       "      <td>None</td>\n",
       "      <td>__label__bug</td>\n",
       "      <td>None</td>\n",
       "      <td>Return default location type label if custom ...</td>\n",
       "    </tr>\n",
       "  </tbody>\n",
       "</table>\n",
       "</div>"
      ],
      "text/plain": [
       "  0                     1             2     3  \\\n",
       "0    __label__enhancement          None  None   \n",
       "1    __label__enhancement          None  None   \n",
       "2    __label__enhancement          None  None   \n",
       "3    __label__enhancement          None  None   \n",
       "4                    None  __label__bug  None   \n",
       "\n",
       "                                                   4  \n",
       "0   Exception handling # Description  The methods...  \n",
       "1   Subpasses in MSL and HLSL Sorry for all the i...  \n",
       "2   Collect new discovered nodes Collect new adde...  \n",
       "3        Lock property : several properties at once   \n",
       "4   Return default location type label if custom ...  "
      ]
     },
     "execution_count": 15,
     "metadata": {},
     "output_type": "execute_result"
    }
   ],
   "source": [
    "df_new.head()"
   ]
  },
  {
   "cell_type": "code",
   "execution_count": 19,
   "id": "999add82-2f68-4f77-8bef-86866f88098f",
   "metadata": {},
   "outputs": [],
   "source": [
    "enh_df = df_new[df_new[1] == '__label__enhancement'][[1,4]]"
   ]
  },
  {
   "cell_type": "code",
   "execution_count": 20,
   "id": "eaa41c0d-4bc9-4259-bbb6-609d1415165b",
   "metadata": {},
   "outputs": [],
   "source": [
    "bug_df = df_new[df_new[2] == '__label__bug'][[2,4]]\n",
    "question_df = df_new[df_new[3] == '__label__question'][[3,4]]"
   ]
  },
  {
   "cell_type": "code",
   "execution_count": 21,
   "id": "5b197ef2-44b2-411a-bac6-ddea970d8be8",
   "metadata": {},
   "outputs": [
    {
     "data": {
      "text/html": [
       "<div>\n",
       "<style scoped>\n",
       "    .dataframe tbody tr th:only-of-type {\n",
       "        vertical-align: middle;\n",
       "    }\n",
       "\n",
       "    .dataframe tbody tr th {\n",
       "        vertical-align: top;\n",
       "    }\n",
       "\n",
       "    .dataframe thead th {\n",
       "        text-align: right;\n",
       "    }\n",
       "</style>\n",
       "<table border=\"1\" class=\"dataframe\">\n",
       "  <thead>\n",
       "    <tr style=\"text-align: right;\">\n",
       "      <th></th>\n",
       "      <th>2</th>\n",
       "      <th>4</th>\n",
       "    </tr>\n",
       "  </thead>\n",
       "  <tbody>\n",
       "    <tr>\n",
       "      <th>4</th>\n",
       "      <td>__label__bug</td>\n",
       "      <td>Return default location type label if custom ...</td>\n",
       "    </tr>\n",
       "    <tr>\n",
       "      <th>6</th>\n",
       "      <td>__label__bug</td>\n",
       "      <td>[TW-417] JSON export has extra commas (on 2.1...</td>\n",
       "    </tr>\n",
       "    <tr>\n",
       "      <th>7</th>\n",
       "      <td>__label__bug</td>\n",
       "      <td>System.AccessViolationException: my program t...</td>\n",
       "    </tr>\n",
       "    <tr>\n",
       "      <th>8</th>\n",
       "      <td>__label__bug</td>\n",
       "      <td>Topic mining fails with UnicodeEncodeError ``...</td>\n",
       "    </tr>\n",
       "    <tr>\n",
       "      <th>10</th>\n",
       "      <td>__label__bug</td>\n",
       "      <td>Preflight and non-batching requests throw an ...</td>\n",
       "    </tr>\n",
       "  </tbody>\n",
       "</table>\n",
       "</div>"
      ],
      "text/plain": [
       "               2                                                  4\n",
       "4   __label__bug   Return default location type label if custom ...\n",
       "6   __label__bug   [TW-417] JSON export has extra commas (on 2.1...\n",
       "7   __label__bug   System.AccessViolationException: my program t...\n",
       "8   __label__bug   Topic mining fails with UnicodeEncodeError ``...\n",
       "10  __label__bug   Preflight and non-batching requests throw an ..."
      ]
     },
     "execution_count": 21,
     "metadata": {},
     "output_type": "execute_result"
    }
   ],
   "source": [
    "bug_df.head()"
   ]
  },
  {
   "cell_type": "code",
   "execution_count": 22,
   "id": "2689f4a2-fc7b-4f43-bf46-58f2db6db710",
   "metadata": {},
   "outputs": [
    {
     "data": {
      "text/html": [
       "<div>\n",
       "<style scoped>\n",
       "    .dataframe tbody tr th:only-of-type {\n",
       "        vertical-align: middle;\n",
       "    }\n",
       "\n",
       "    .dataframe tbody tr th {\n",
       "        vertical-align: top;\n",
       "    }\n",
       "\n",
       "    .dataframe thead th {\n",
       "        text-align: right;\n",
       "    }\n",
       "</style>\n",
       "<table border=\"1\" class=\"dataframe\">\n",
       "  <thead>\n",
       "    <tr style=\"text-align: right;\">\n",
       "      <th></th>\n",
       "      <th>3</th>\n",
       "      <th>4</th>\n",
       "    </tr>\n",
       "  </thead>\n",
       "  <tbody>\n",
       "    <tr>\n",
       "      <th>12</th>\n",
       "      <td>__label__question</td>\n",
       "      <td>Avoiding the default NotEmpty::IS_EMPTY valid...</td>\n",
       "    </tr>\n",
       "    <tr>\n",
       "      <th>30</th>\n",
       "      <td>__label__question</td>\n",
       "      <td>Is there a way to authenticate the video stre...</td>\n",
       "    </tr>\n",
       "    <tr>\n",
       "      <th>68</th>\n",
       "      <td>__label__question</td>\n",
       "      <td>Disable rotation of the plugin Hi,  I disable...</td>\n",
       "    </tr>\n",
       "    <tr>\n",
       "      <th>112</th>\n",
       "      <td>__label__question</td>\n",
       "      <td>Question: Rule and Strategy over certain time...</td>\n",
       "    </tr>\n",
       "    <tr>\n",
       "      <th>124</th>\n",
       "      <td>__label__question</td>\n",
       "      <td>Is the .postcssrc file still necessary?</td>\n",
       "    </tr>\n",
       "  </tbody>\n",
       "</table>\n",
       "</div>"
      ],
      "text/plain": [
       "                     3                                                  4\n",
       "12   __label__question   Avoiding the default NotEmpty::IS_EMPTY valid...\n",
       "30   __label__question   Is there a way to authenticate the video stre...\n",
       "68   __label__question   Disable rotation of the plugin Hi,  I disable...\n",
       "112  __label__question   Question: Rule and Strategy over certain time...\n",
       "124  __label__question           Is the .postcssrc file still necessary? "
      ]
     },
     "execution_count": 22,
     "metadata": {},
     "output_type": "execute_result"
    }
   ],
   "source": [
    "question_df.head()"
   ]
  },
  {
   "cell_type": "code",
   "execution_count": 24,
   "id": "8779bf09-5b72-4f34-bd7a-e9ec55cdc274",
   "metadata": {},
   "outputs": [],
   "source": [
    "enh_df.columns = ['label','description']\n",
    "bug_df.columns = ['label','description']\n",
    "question_df.columns = ['label','description']"
   ]
  },
  {
   "cell_type": "code",
   "execution_count": 25,
   "id": "57e937d8-c3ca-4bc9-9aa7-4913e45951df",
   "metadata": {},
   "outputs": [],
   "source": [
    "# Concat Dataframes\n",
    "df = pd.concat([enh_df,bug_df,question_df])"
   ]
  },
  {
   "cell_type": "code",
   "execution_count": 26,
   "id": "341d1a83-9f30-4a25-8307-f01eba0aac79",
   "metadata": {},
   "outputs": [
    {
     "data": {
      "text/html": [
       "<div>\n",
       "<style scoped>\n",
       "    .dataframe tbody tr th:only-of-type {\n",
       "        vertical-align: middle;\n",
       "    }\n",
       "\n",
       "    .dataframe tbody tr th {\n",
       "        vertical-align: top;\n",
       "    }\n",
       "\n",
       "    .dataframe thead th {\n",
       "        text-align: right;\n",
       "    }\n",
       "</style>\n",
       "<table border=\"1\" class=\"dataframe\">\n",
       "  <thead>\n",
       "    <tr style=\"text-align: right;\">\n",
       "      <th></th>\n",
       "      <th>label</th>\n",
       "      <th>description</th>\n",
       "    </tr>\n",
       "  </thead>\n",
       "  <tbody>\n",
       "    <tr>\n",
       "      <th>0</th>\n",
       "      <td>__label__enhancement</td>\n",
       "      <td>Exception handling # Description  The methods...</td>\n",
       "    </tr>\n",
       "    <tr>\n",
       "      <th>1</th>\n",
       "      <td>__label__enhancement</td>\n",
       "      <td>Subpasses in MSL and HLSL Sorry for all the i...</td>\n",
       "    </tr>\n",
       "    <tr>\n",
       "      <th>2</th>\n",
       "      <td>__label__enhancement</td>\n",
       "      <td>Collect new discovered nodes Collect new adde...</td>\n",
       "    </tr>\n",
       "    <tr>\n",
       "      <th>3</th>\n",
       "      <td>__label__enhancement</td>\n",
       "      <td>Lock property : several properties at once</td>\n",
       "    </tr>\n",
       "    <tr>\n",
       "      <th>5</th>\n",
       "      <td>__label__enhancement</td>\n",
       "      <td>Randomize: remove sliders</td>\n",
       "    </tr>\n",
       "  </tbody>\n",
       "</table>\n",
       "</div>"
      ],
      "text/plain": [
       "                  label                                        description\n",
       "0  __label__enhancement   Exception handling # Description  The methods...\n",
       "1  __label__enhancement   Subpasses in MSL and HLSL Sorry for all the i...\n",
       "2  __label__enhancement   Collect new discovered nodes Collect new adde...\n",
       "3  __label__enhancement        Lock property : several properties at once \n",
       "5  __label__enhancement                         Randomize: remove sliders "
      ]
     },
     "execution_count": 26,
     "metadata": {},
     "output_type": "execute_result"
    }
   ],
   "source": [
    "df.head()"
   ]
  },
  {
   "cell_type": "code",
   "execution_count": 27,
   "id": "2785c503-85a3-40a3-ac89-268eb8dae6af",
   "metadata": {},
   "outputs": [
    {
     "data": {
      "text/plain": [
       "(30000, 2)"
      ]
     },
     "execution_count": 27,
     "metadata": {},
     "output_type": "execute_result"
    }
   ],
   "source": [
    "# Shape\n",
    "df.shape"
   ]
  },
  {
   "cell_type": "code",
   "execution_count": 28,
   "id": "8fcdaa21-d839-4acc-a574-c9da5c315d54",
   "metadata": {},
   "outputs": [],
   "source": [
    "# Save Dataset\n",
    "df.to_csv(\"github-issues-dataset-labels-top3-30k-real.csv\")"
   ]
  },
  {
   "cell_type": "code",
   "execution_count": 29,
   "id": "e43b4859-9eea-444f-bd1c-53192c45c974",
   "metadata": {},
   "outputs": [
    {
     "data": {
      "text/html": [
       "<div>\n",
       "<style scoped>\n",
       "    .dataframe tbody tr th:only-of-type {\n",
       "        vertical-align: middle;\n",
       "    }\n",
       "\n",
       "    .dataframe tbody tr th {\n",
       "        vertical-align: top;\n",
       "    }\n",
       "\n",
       "    .dataframe thead th {\n",
       "        text-align: right;\n",
       "    }\n",
       "</style>\n",
       "<table border=\"1\" class=\"dataframe\">\n",
       "  <thead>\n",
       "    <tr style=\"text-align: right;\">\n",
       "      <th></th>\n",
       "      <th>label</th>\n",
       "      <th>description</th>\n",
       "    </tr>\n",
       "  </thead>\n",
       "  <tbody>\n",
       "    <tr>\n",
       "      <th>0</th>\n",
       "      <td>__label__enhancement</td>\n",
       "      <td>Exception handling # Description  The methods...</td>\n",
       "    </tr>\n",
       "    <tr>\n",
       "      <th>1</th>\n",
       "      <td>__label__enhancement</td>\n",
       "      <td>Subpasses in MSL and HLSL Sorry for all the i...</td>\n",
       "    </tr>\n",
       "    <tr>\n",
       "      <th>2</th>\n",
       "      <td>__label__enhancement</td>\n",
       "      <td>Collect new discovered nodes Collect new adde...</td>\n",
       "    </tr>\n",
       "    <tr>\n",
       "      <th>3</th>\n",
       "      <td>__label__enhancement</td>\n",
       "      <td>Lock property : several properties at once</td>\n",
       "    </tr>\n",
       "    <tr>\n",
       "      <th>5</th>\n",
       "      <td>__label__enhancement</td>\n",
       "      <td>Randomize: remove sliders</td>\n",
       "    </tr>\n",
       "  </tbody>\n",
       "</table>\n",
       "</div>"
      ],
      "text/plain": [
       "                  label                                        description\n",
       "0  __label__enhancement   Exception handling # Description  The methods...\n",
       "1  __label__enhancement   Subpasses in MSL and HLSL Sorry for all the i...\n",
       "2  __label__enhancement   Collect new discovered nodes Collect new adde...\n",
       "3  __label__enhancement        Lock property : several properties at once \n",
       "5  __label__enhancement                         Randomize: remove sliders "
      ]
     },
     "execution_count": 29,
     "metadata": {},
     "output_type": "execute_result"
    }
   ],
   "source": [
    "df.head()"
   ]
  },
  {
   "cell_type": "code",
   "execution_count": 31,
   "id": "5ae61b67-2268-43ca-af0e-daac6618cbda",
   "metadata": {},
   "outputs": [],
   "source": [
    "df['label'] = df['label'].str.replace('__label__','')"
   ]
  },
  {
   "cell_type": "code",
   "execution_count": 32,
   "id": "05c266d4-a046-4fe0-99d4-4777b280fd84",
   "metadata": {},
   "outputs": [
    {
     "data": {
      "text/html": [
       "<div>\n",
       "<style scoped>\n",
       "    .dataframe tbody tr th:only-of-type {\n",
       "        vertical-align: middle;\n",
       "    }\n",
       "\n",
       "    .dataframe tbody tr th {\n",
       "        vertical-align: top;\n",
       "    }\n",
       "\n",
       "    .dataframe thead th {\n",
       "        text-align: right;\n",
       "    }\n",
       "</style>\n",
       "<table border=\"1\" class=\"dataframe\">\n",
       "  <thead>\n",
       "    <tr style=\"text-align: right;\">\n",
       "      <th></th>\n",
       "      <th>label</th>\n",
       "      <th>description</th>\n",
       "    </tr>\n",
       "  </thead>\n",
       "  <tbody>\n",
       "    <tr>\n",
       "      <th>0</th>\n",
       "      <td>enhancement</td>\n",
       "      <td>Exception handling # Description  The methods...</td>\n",
       "    </tr>\n",
       "    <tr>\n",
       "      <th>1</th>\n",
       "      <td>enhancement</td>\n",
       "      <td>Subpasses in MSL and HLSL Sorry for all the i...</td>\n",
       "    </tr>\n",
       "    <tr>\n",
       "      <th>2</th>\n",
       "      <td>enhancement</td>\n",
       "      <td>Collect new discovered nodes Collect new adde...</td>\n",
       "    </tr>\n",
       "    <tr>\n",
       "      <th>3</th>\n",
       "      <td>enhancement</td>\n",
       "      <td>Lock property : several properties at once</td>\n",
       "    </tr>\n",
       "    <tr>\n",
       "      <th>5</th>\n",
       "      <td>enhancement</td>\n",
       "      <td>Randomize: remove sliders</td>\n",
       "    </tr>\n",
       "  </tbody>\n",
       "</table>\n",
       "</div>"
      ],
      "text/plain": [
       "         label                                        description\n",
       "0  enhancement   Exception handling # Description  The methods...\n",
       "1  enhancement   Subpasses in MSL and HLSL Sorry for all the i...\n",
       "2  enhancement   Collect new discovered nodes Collect new adde...\n",
       "3  enhancement        Lock property : several properties at once \n",
       "5  enhancement                         Randomize: remove sliders "
      ]
     },
     "execution_count": 32,
     "metadata": {},
     "output_type": "execute_result"
    }
   ],
   "source": [
    "df.head()"
   ]
  },
  {
   "cell_type": "code",
   "execution_count": 33,
   "id": "fec2b877-f1e2-4a80-8b6d-9ba28360f3ae",
   "metadata": {},
   "outputs": [],
   "source": [
    "# Save Dataset\n",
    "df.to_csv(\"github-issues-dataset-labels.csv\")"
   ]
  },
  {
   "cell_type": "markdown",
   "id": "f920efd3-b54b-4ac0-8b56-a581bd046add",
   "metadata": {},
   "source": [
    "### Class Distribution Analysis"
   ]
  },
  {
   "cell_type": "code",
   "execution_count": 34,
   "id": "63b340c2-a9ac-4120-9220-c9f557c24a9d",
   "metadata": {},
   "outputs": [
    {
     "data": {
      "text/plain": [
       "bug            15286\n",
       "enhancement    12193\n",
       "question        2521\n",
       "Name: label, dtype: int64"
      ]
     },
     "execution_count": 34,
     "metadata": {},
     "output_type": "execute_result"
    }
   ],
   "source": [
    "df['label'].value_counts()"
   ]
  },
  {
   "cell_type": "code",
   "execution_count": 35,
   "id": "27a500e3-f876-4942-b809-6804fbd2146c",
   "metadata": {},
   "outputs": [
    {
     "data": {
      "text/plain": [
       "<AxesSubplot:xlabel='label', ylabel='count'>"
      ]
     },
     "execution_count": 35,
     "metadata": {},
     "output_type": "execute_result"
    },
    {
     "data": {
      "image/png": "[encoded data removed]",
      "text/plain": [
       "<Figure size 432x288 with 1 Axes>"
      ]
     },
     "metadata": {
      "needs_background": "light"
     },
     "output_type": "display_data"
    }
   ],
   "source": [
    "sns.countplot(x='label',data=df)"
   ]
  },
  {
   "cell_type": "markdown",
   "id": "045d035d-5af3-49bd-b647-1829ee34e78f",
   "metadata": {},
   "source": [
    "### Text Cleaning using NeatText\n",
    "+ pip install neattext"
   ]
  },
  {
   "cell_type": "code",
   "execution_count": 37,
   "id": "4b5f3931-5957-414d-a527-5417d25af33d",
   "metadata": {},
   "outputs": [
    {
     "data": {
      "text/plain": [
       "' Exception handling # Description  The methods that use try/catch blocks are quite limiting. Simply throw the exceptions and let users handle them. New idea: an exception handler wrapper class?    # Technical Information  | Information | Value |  |--|--|  | Operating System | Irrelevant |  |Architecture | Irrelevant |  | JavaEssentials Version| 1.2.2 Beta 1 |  '"
      ]
     },
     "execution_count": 37,
     "metadata": {},
     "output_type": "execute_result"
    }
   ],
   "source": [
    "df.iloc[0].description"
   ]
  },
  {
   "cell_type": "code",
   "execution_count": 38,
   "id": "69e085b1-4d2b-40b1-8a47-ee89c2913c5a",
   "metadata": {},
   "outputs": [],
   "source": [
    "import neattext.functions as nfx"
   ]
  },
  {
   "cell_type": "code",
   "execution_count": 39,
   "id": "d01584e1-9b1d-48bf-a8d2-54f027fad356",
   "metadata": {},
   "outputs": [],
   "source": [
    "df['description_clean'] = df['description'].apply(lambda x: nfx.remove_stopwords(str(x).lower()))"
   ]
  },
  {
   "cell_type": "code",
   "execution_count": 40,
   "id": "d08150ca-856c-4d56-afda-f95bd14b3dca",
   "metadata": {},
   "outputs": [
    {
     "data": {
      "text/plain": [
       "'exception handling # description methods use try/catch blocks limiting. simply throw exceptions let users handle them. new idea: exception handler wrapper class? # technical information | information | value | |--|--| | operating system | irrelevant | |architecture | irrelevant | | javaessentials version| 1.2.2 beta 1 |'"
      ]
     },
     "execution_count": 40,
     "metadata": {},
     "output_type": "execute_result"
    }
   ],
   "source": [
    "df.iloc[0].description_clean"
   ]
  },
  {
   "cell_type": "markdown",
   "id": "d81545b1-803d-437c-a0a2-51989df84aeb",
   "metadata": {},
   "source": [
    "### Building our Model using Pipeline Approach"
   ]
  },
  {
   "cell_type": "code",
   "execution_count": 48,
   "id": "62e8f752-8364-431b-993d-ae443a6f8acc",
   "metadata": {},
   "outputs": [],
   "source": [
    "# Make a Pipeline\n",
    "pipe_base = Pipeline(steps=[('cv',CountVectorizer()),('dummy',DummyClassifier())])\n",
    "pipe_nb = Pipeline(steps=[('cv',CountVectorizer()),('nb',MultinomialNB())])\n",
    "pipe_lr = Pipeline(steps=[('cv',CountVectorizer()),('lr',LogisticRegression())])\n",
    "pipe_dt = Pipeline(steps=[('cv',CountVectorizer()),('dt',DecisionTreeClassifier())])"
   ]
  },
  {
   "cell_type": "code",
   "execution_count": 49,
   "id": "7d75a19e-2d83-4e22-a3cf-8a43fd8e8b29",
   "metadata": {},
   "outputs": [],
   "source": [
    "# Features & Labels\n",
    "Xfeatures = df['description_clean']\n",
    "ylabels = df['label']"
   ]
  },
  {
   "cell_type": "code",
   "execution_count": 50,
   "id": "83b14b7b-8948-4677-83ac-a311473c10a3",
   "metadata": {},
   "outputs": [],
   "source": [
    "#Split Dataset\n",
    "x_train,x_test,y_train,y_test = train_test_split(Xfeatures,ylabels,test_size=0.3,random_state=42)"
   ]
  },
  {
   "cell_type": "code",
   "execution_count": 51,
   "id": "8c514081-56e6-4c5e-9c7b-1af05c02e438",
   "metadata": {},
   "outputs": [
    {
     "data": {
      "text/plain": [
       "Pipeline(steps=[('cv', CountVectorizer()), ('dummy', DummyClassifier())])"
      ]
     },
     "execution_count": 51,
     "metadata": {},
     "output_type": "execute_result"
    }
   ],
   "source": [
    "# Base Model: accuracy\n",
    "pipe_base.fit(x_train,y_train)"
   ]
  },
  {
   "cell_type": "code",
   "execution_count": 52,
   "id": "63d81d61-8f5b-45ec-933e-7870e3b25fd1",
   "metadata": {},
   "outputs": [
    {
     "data": {
      "text/plain": [
       "0.5091111111111111"
      ]
     },
     "execution_count": 52,
     "metadata": {},
     "output_type": "execute_result"
    }
   ],
   "source": [
    "# Accuracy\n",
    "pipe_base.score(x_test,y_test)"
   ]
  },
  {
   "cell_type": "code",
   "execution_count": 53,
   "id": "bdf6bd86-6e48-421b-a1c9-24137096c91e",
   "metadata": {},
   "outputs": [
    {
     "data": {
      "text/plain": [
       "Pipeline(steps=[('cv', CountVectorizer()), ('nb', MultinomialNB())])"
      ]
     },
     "execution_count": 53,
     "metadata": {},
     "output_type": "execute_result"
    }
   ],
   "source": [
    "# Build our Actual Models\n",
    "pipe_nb.fit(x_train,y_train)"
   ]
  },
  {
   "cell_type": "code",
   "execution_count": 55,
   "id": "b4f6e316-896a-4d19-9e55-fb039608238a",
   "metadata": {},
   "outputs": [
    {
     "data": {
      "text/plain": [
       "0.6584444444444445"
      ]
     },
     "execution_count": 55,
     "metadata": {},
     "output_type": "execute_result"
    }
   ],
   "source": [
    "# Accuracy\n",
    "pipe_nb.score(x_test,y_test)"
   ]
  },
  {
   "cell_type": "code",
   "execution_count": null,
   "id": "22f0c960-1cd0-4e9d-a179-0620782b3454",
   "metadata": {},
   "outputs": [],
   "source": [
    "#### Evaluate"
   ]
  },
  {
   "cell_type": "code",
   "execution_count": 56,
   "id": "2a5f3538-95e5-4494-ad96-dc7386864460",
   "metadata": {},
   "outputs": [],
   "source": [
    "y_pred = pipe_nb.predict(x_test)"
   ]
  },
  {
   "cell_type": "code",
   "execution_count": 57,
   "id": "7efa0f64-3e52-4b3d-aebd-1ec6848bef3c",
   "metadata": {},
   "outputs": [
    {
     "name": "stdout",
     "output_type": "stream",
     "text": [
      "              precision    recall  f1-score   support\n",
      "\n",
      "         bug       0.76      0.62      0.68      4582\n",
      " enhancement       0.59      0.81      0.69      3679\n",
      "    question       0.39      0.10      0.16       739\n",
      "\n",
      "    accuracy                           0.66      9000\n",
      "   macro avg       0.58      0.51      0.51      9000\n",
      "weighted avg       0.66      0.66      0.64      9000\n",
      "\n"
     ]
    }
   ],
   "source": [
    "# Report\n",
    "print(classification_report(y_test,y_pred))"
   ]
  },
  {
   "cell_type": "code",
   "execution_count": null,
   "id": "32d7f408-7201-4e15-9716-e419fe54dcec",
   "metadata": {},
   "outputs": [],
   "source": []
  },
  {
   "cell_type": "code",
   "execution_count": 54,
   "id": "5fd579c7-3406-4e31-a9de-9273a3acf4b2",
   "metadata": {},
   "outputs": [
    {
     "data": {
      "text/plain": [
       "Pipeline(steps=[('cv', CountVectorizer()), ('dt', DecisionTreeClassifier())])"
      ]
     },
     "execution_count": 54,
     "metadata": {},
     "output_type": "execute_result"
    }
   ],
   "source": [
    "# Build our Actual Models\n",
    "pipe_dt.fit(x_train,y_train)"
   ]
  },
  {
   "cell_type": "code",
   "execution_count": null,
   "id": "1a0d580e-a20c-4ec2-858a-4febca021877",
   "metadata": {},
   "outputs": [],
   "source": [
    "# Accuracy"
   ]
  },
  {
   "cell_type": "code",
   "execution_count": 58,
   "id": "82e7732c-2ca2-4cee-b3ec-b94bab357de4",
   "metadata": {},
   "outputs": [
    {
     "data": {
      "text/plain": [
       "0.666"
      ]
     },
     "execution_count": 58,
     "metadata": {},
     "output_type": "execute_result"
    }
   ],
   "source": [
    "pipe_dt.score(x_test,y_test)"
   ]
  },
  {
   "cell_type": "code",
   "execution_count": 59,
   "id": "13794caf-b5ec-49a5-aad8-48327d8d05aa",
   "metadata": {},
   "outputs": [],
   "source": [
    "y_pred_dt = pipe_dt.predict(x_test)"
   ]
  },
  {
   "cell_type": "code",
   "execution_count": 60,
   "id": "c13f2181-1769-41c7-ac51-79139ffa0685",
   "metadata": {},
   "outputs": [
    {
     "name": "stdout",
     "output_type": "stream",
     "text": [
      "              precision    recall  f1-score   support\n",
      "\n",
      "         bug       0.72      0.75      0.74      4582\n",
      " enhancement       0.68      0.65      0.67      3679\n",
      "    question       0.23      0.24      0.24       739\n",
      "\n",
      "    accuracy                           0.67      9000\n",
      "   macro avg       0.55      0.55      0.55      9000\n",
      "weighted avg       0.67      0.67      0.67      9000\n",
      "\n"
     ]
    }
   ],
   "source": [
    "# Report\n",
    "print(classification_report(y_test,y_pred_dt))"
   ]
  },
  {
   "cell_type": "code",
   "execution_count": null,
   "id": "f329fba7-ba80-4456-abb6-bec1c46fb409",
   "metadata": {},
   "outputs": [],
   "source": [
    "# Build our Actual Models\n",
    "pipe_lr.fit(x_train,y_train)"
   ]
  },
  {
   "cell_type": "code",
   "execution_count": null,
   "id": "a15e21bd-b38f-4e20-8f2d-16dd26480720",
   "metadata": {},
   "outputs": [],
   "source": [
    "# Accuracy"
   ]
  },
  {
   "cell_type": "code",
   "execution_count": 61,
   "id": "48d1b40e-f670-4796-bf82-2682822c62ec",
   "metadata": {},
   "outputs": [],
   "source": [
    "### Saving Model\n",
    "import joblib"
   ]
  },
  {
   "cell_type": "code",
   "execution_count": 62,
   "id": "528fa565-420d-44e6-b667-14797b325d12",
   "metadata": {},
   "outputs": [],
   "source": [
    "model_file = open(\"pipe_nb_cv_gh_issue_classifier_27_nov_2021.pkl\",\"wb\")\n",
    "joblib.dump(pipe_nb,model_file)\n",
    "model_file.close()"
   ]
  },
  {
   "cell_type": "code",
   "execution_count": 63,
   "id": "f949baf3-c417-41bb-8167-a5ca4f1bc72e",
   "metadata": {},
   "outputs": [],
   "source": [
    "model_file = open(\"pipe_dt_cv_gh_issue_classifier_27_nov_2021.pkl\",\"wb\")\n",
    "joblib.dump(pipe_dt,model_file)\n",
    "model_file.close()"
   ]
  },
  {
   "cell_type": "markdown",
   "id": "7b6cfcad-2646-47fb-ba0d-c39b206da8a4",
   "metadata": {},
   "source": [
    "### Make Individual Prediction\n",
    "+ ex1: bug\n",
    "+ ex2: enh"
   ]
  },
  {
   "cell_type": "code",
   "execution_count": 64,
   "id": "3d0b32f9-3f6b-4b39-9461-7af650c617a1",
   "metadata": {},
   "outputs": [],
   "source": [
    "ex1 = \"Keras load_img is not working if i display any image on the top of the page \"\n",
    "ex2 = \"Feature request: Slider: negative space and histograms\""
   ]
  },
  {
   "cell_type": "code",
   "execution_count": 65,
   "id": "7c482981-688f-4838-8df0-cb9a02d48671",
   "metadata": {},
   "outputs": [
    {
     "data": {
      "text/plain": [
       "array(['enhancement'], dtype='<U11')"
      ]
     },
     "execution_count": 65,
     "metadata": {},
     "output_type": "execute_result"
    }
   ],
   "source": [
    "# Using NB\n",
    "pipe_nb.predict([ex1])"
   ]
  },
  {
   "cell_type": "code",
   "execution_count": 70,
   "id": "7a7911e4-8390-47e2-bc69-bb455614b57a",
   "metadata": {},
   "outputs": [
    {
     "name": "stdout",
     "output_type": "stream",
     "text": [
      "['bug' 'enhancement' 'question']\n"
     ]
    },
    {
     "data": {
      "text/plain": [
       "array([[0.35455005, 0.62288926, 0.02256069]])"
      ]
     },
     "execution_count": 70,
     "metadata": {},
     "output_type": "execute_result"
    }
   ],
   "source": [
    "# Using NB\n",
    "print(pipe_nb.classes_)\n",
    "pipe_nb.predict_proba([ex1])"
   ]
  },
  {
   "cell_type": "code",
   "execution_count": 66,
   "id": "3f3efff4-c2a4-4843-8446-93d188725940",
   "metadata": {},
   "outputs": [
    {
     "data": {
      "text/plain": [
       "array(['enhancement'], dtype='<U11')"
      ]
     },
     "execution_count": 66,
     "metadata": {},
     "output_type": "execute_result"
    }
   ],
   "source": [
    "# Using NB\n",
    "pipe_nb.predict([ex2])"
   ]
  },
  {
   "cell_type": "code",
   "execution_count": 67,
   "id": "9ffe57a9-1e87-4a1b-ba09-e6a042d6754f",
   "metadata": {},
   "outputs": [
    {
     "data": {
      "text/plain": [
       "array(['bug'], dtype=object)"
      ]
     },
     "execution_count": 67,
     "metadata": {},
     "output_type": "execute_result"
    }
   ],
   "source": [
    "# Using DT\n",
    "pipe_dt.predict([ex1])"
   ]
  },
  {
   "cell_type": "code",
   "execution_count": 71,
   "id": "456c7428-7f44-46e4-83c5-66339a9aecab",
   "metadata": {},
   "outputs": [
    {
     "name": "stdout",
     "output_type": "stream",
     "text": [
      "['bug' 'enhancement' 'question']\n"
     ]
    },
    {
     "data": {
      "text/plain": [
       "array([[1., 0., 0.]])"
      ]
     },
     "execution_count": 71,
     "metadata": {},
     "output_type": "execute_result"
    }
   ],
   "source": [
    "# Using DT\n",
    "print(pipe_dt.classes_)\n",
    "pipe_dt.predict_proba([ex1])"
   ]
  },
  {
   "cell_type": "code",
   "execution_count": 68,
   "id": "c4e89959-662e-42f6-9699-1e146fa000d5",
   "metadata": {},
   "outputs": [
    {
     "data": {
      "text/plain": [
       "array(['enhancement'], dtype=object)"
      ]
     },
     "execution_count": 68,
     "metadata": {},
     "output_type": "execute_result"
    }
   ],
   "source": [
    "# Using DT\n",
    "pipe_dt.predict([ex2])"
   ]
  },
  {
   "cell_type": "markdown",
   "id": "ff8ff9a0-aa60-4eea-9d13-a93ae4d6f879",
   "metadata": {},
   "source": [
    "#### Narrative\n",
    "+ It appears that the DecisitionTree Classifier Does a little bit better than the Naive Bayes Model\n"
   ]
  },
  {
   "cell_type": "code",
   "execution_count": 72,
   "id": "ae09d5c7-6ebc-4469-bba4-8008716bd67a",
   "metadata": {},
   "outputs": [],
   "source": [
    "#### Thanks For Your Time\n",
    "#### Jesus Saves @JCharisTech\n",
    "#### Jesse E.Agbe(JCharis)"
   ]
  },
  {
   "cell_type": "code",
   "execution_count": null,
   "id": "739f354a-e971-4f96-a05b-c3183cb9935a",
   "metadata": {},
   "outputs": [],
   "source": []
  }
 ],
 "metadata": {
  "kernelspec": {
   "display_name": "Python 3",
   "language": "python",
   "name": "python3"
  },
  "language_info": {
   "codemirror_mode": {
    "name": "ipython",
    "version": 3
   },
   "file_extension": ".py",
   "mimetype": "text/x-python",
   "name": "python",
   "nbconvert_exporter": "python",
   "pygments_lexer": "ipython3",
   "version": "3.9.1+"
  }
 },
 "nbformat": 4,
 "nbformat_minor": 5
}
